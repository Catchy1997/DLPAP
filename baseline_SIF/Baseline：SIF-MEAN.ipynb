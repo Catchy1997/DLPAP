{
 "cells": [
  {
   "cell_type": "code",
   "execution_count": 1,
   "metadata": {},
   "outputs": [],
   "source": [
    "import pandas as pd\n",
    "import numpy as np\n",
    "import os,re\n",
    "from tqdm import tqdm\n",
    "import matplotlib.pyplot as plt\n",
    "from sklearn.decomposition import PCA"
   ]
  },
  {
   "cell_type": "code",
   "execution_count": 2,
   "metadata": {},
   "outputs": [],
   "source": [
    "import xgboost\n",
    "from sklearn import preprocessing,linear_model, ensemble, metrics\n",
    "from sklearn.metrics import accuracy_score,average_precision_score\n",
    "from sklearn.metrics import precision_recall_curve,roc_curve,auc\n",
    "from sklearn.metrics import classification_report\n",
    "from sklearn.utils import class_weight"
   ]
  },
  {
   "cell_type": "code",
   "execution_count": 3,
   "metadata": {},
   "outputs": [
    {
     "name": "stderr",
     "output_type": "stream",
     "text": [
      "Using TensorFlow backend.\n"
     ]
    }
   ],
   "source": [
    "import keras\n",
    "import tensorflow as tf\n",
    "from keras import backend as K\n",
    "from keras.preprocessing import text, sequence\n",
    "from keras.callbacks import EarlyStopping\n",
    "from keras import layers, models, optimizers\n",
    "from keras.layers import LSTM\n",
    "from keras.layers.merge import concatenate\n",
    "from keras.utils import to_categorical\n",
    "from keras.utils import np_utils"
   ]
  },
  {
   "cell_type": "markdown",
   "metadata": {},
   "source": [
    "# 准备数据"
   ]
  },
  {
   "cell_type": "markdown",
   "metadata": {
    "heading_collapsed": true
   },
   "source": [
    "## abstract"
   ]
  },
  {
   "cell_type": "code",
   "execution_count": 4,
   "metadata": {
    "hidden": true
   },
   "outputs": [
    {
     "name": "stdout",
     "output_type": "stream",
     "text": [
      "number of docs:7769\n"
     ]
    }
   ],
   "source": [
    "abs_filepath = \"/home/hxjiang/Pythonworkspace/patent/sample3_G-06-F-17/textual/SIF/abstract/\"\n",
    "docLabels = [f for f in os.listdir(abs_filepath) if f.endswith('.xlsx')]\n",
    "print(\"number of docs:{}\".format(len(docLabels)))"
   ]
  },
  {
   "cell_type": "code",
   "execution_count": 5,
   "metadata": {
    "hidden": true
   },
   "outputs": [
    {
     "name": "stderr",
     "output_type": "stream",
     "text": [
      "100%|█████████████████████████████| 7769/7769 [05:12<00:00, 24.83it/s]\n"
     ]
    }
   ],
   "source": [
    "abstract_vextor = []\n",
    "for doc in tqdm(docLabels, ncols=70):\n",
    "    data = pd.read_excel(abs_filepath+doc,encoding='utf-8')\n",
    "    text_embedding = data.mean(axis=0)\n",
    "    abstract_vextor.append(text_embedding)"
   ]
  },
  {
   "cell_type": "code",
   "execution_count": 6,
   "metadata": {
    "hidden": true
   },
   "outputs": [
    {
     "data": {
      "text/plain": [
       "(7769, 300)"
      ]
     },
     "execution_count": 6,
     "metadata": {},
     "output_type": "execute_result"
    }
   ],
   "source": [
    "abstract_vextor = np.array(abstract_vextor)\n",
    "abstract_vextor.shape"
   ]
  },
  {
   "cell_type": "code",
   "execution_count": 7,
   "metadata": {
    "hidden": true
   },
   "outputs": [
    {
     "data": {
      "text/plain": [
       "136.33412445300365"
      ]
     },
     "execution_count": 7,
     "metadata": {},
     "output_type": "execute_result"
    }
   ],
   "source": [
    "x_abs = abstract_vextor\n",
    "# 条件数在1附近是理想的，有文献表明超过15就说明存在共线性\n",
    "c = np.linalg.cond(x_abs, p=None)\n",
    "c"
   ]
  },
  {
   "cell_type": "markdown",
   "metadata": {
    "heading_collapsed": true
   },
   "source": [
    "## claims"
   ]
  },
  {
   "cell_type": "code",
   "execution_count": 8,
   "metadata": {
    "hidden": true
   },
   "outputs": [
    {
     "name": "stdout",
     "output_type": "stream",
     "text": [
      "number of docs:7769\n"
     ]
    }
   ],
   "source": [
    "claim_filepath = \"/home/hxjiang/Pythonworkspace/patent/sample3_G-06-F-17/textual/SIF/claims/\"\n",
    "docLabels = [f for f in os.listdir(claim_filepath) if f.endswith('.xlsx')]\n",
    "print(\"number of docs:{}\".format(len(docLabels)))"
   ]
  },
  {
   "cell_type": "code",
   "execution_count": 9,
   "metadata": {
    "hidden": true
   },
   "outputs": [
    {
     "name": "stderr",
     "output_type": "stream",
     "text": [
      "100%|█████████████████████████████| 7769/7769 [20:13<00:00,  6.40it/s]\n"
     ]
    }
   ],
   "source": [
    "claim_vextor = []\n",
    "for doc in tqdm(docLabels, ncols=70):\n",
    "    data = pd.read_excel(claim_filepath+doc,encoding='utf-8')\n",
    "    text_embedding = data.mean(axis=0)\n",
    "    claim_vextor.append(text_embedding)"
   ]
  },
  {
   "cell_type": "code",
   "execution_count": 10,
   "metadata": {
    "hidden": true
   },
   "outputs": [
    {
     "data": {
      "text/plain": [
       "(7769, 300)"
      ]
     },
     "execution_count": 10,
     "metadata": {},
     "output_type": "execute_result"
    }
   ],
   "source": [
    "claim_vextor = np.array(claim_vextor)\n",
    "claim_vextor.shape"
   ]
  },
  {
   "cell_type": "code",
   "execution_count": 11,
   "metadata": {
    "hidden": true
   },
   "outputs": [
    {
     "data": {
      "text/plain": [
       "597.9343227714086"
      ]
     },
     "execution_count": 11,
     "metadata": {},
     "output_type": "execute_result"
    }
   ],
   "source": [
    "x_claims = claim_vextor\n",
    "# 条件数在1附近是理想的，有文献表明超过15就说明存在共线性\n",
    "c = np.linalg.cond(x_claims, p=None)\n",
    "c"
   ]
  },
  {
   "cell_type": "markdown",
   "metadata": {
    "heading_collapsed": true
   },
   "source": [
    "## text_sum"
   ]
  },
  {
   "cell_type": "code",
   "execution_count": 12,
   "metadata": {
    "hidden": true
   },
   "outputs": [
    {
     "data": {
      "text/plain": [
       "(7769, 600)"
      ]
     },
     "execution_count": 12,
     "metadata": {},
     "output_type": "execute_result"
    }
   ],
   "source": [
    "sum_feature = np.concatenate((abstract_vextor,claim_vextor), axis=1)\n",
    "sum_feature.shape"
   ]
  },
  {
   "cell_type": "code",
   "execution_count": 13,
   "metadata": {
    "hidden": true
   },
   "outputs": [
    {
     "data": {
      "text/plain": [
       "2500.283419083083"
      ]
     },
     "execution_count": 13,
     "metadata": {},
     "output_type": "execute_result"
    }
   ],
   "source": [
    "x_text = sum_feature\n",
    "# 条件数在1附近是理想的，有文献表明超过15就说明存在共线性\n",
    "c = np.linalg.cond(x_text, p=None)\n",
    "c"
   ]
  },
  {
   "cell_type": "markdown",
   "metadata": {
    "heading_collapsed": true
   },
   "source": [
    "## result"
   ]
  },
  {
   "cell_type": "code",
   "execution_count": 15,
   "metadata": {
    "hidden": true
   },
   "outputs": [],
   "source": [
    "result = pd.read_excel(\"/home/hxjiang/Pythonworkspace/patent/sample3_G-06-F-17/textual/result_2010.xlsx\", encoding='utf-8')"
   ]
  },
  {
   "cell_type": "code",
   "execution_count": 16,
   "metadata": {
    "hidden": true
   },
   "outputs": [],
   "source": [
    "y_binary = result"
   ]
  },
  {
   "cell_type": "code",
   "execution_count": 17,
   "metadata": {
    "hidden": true
   },
   "outputs": [
    {
     "data": {
      "text/plain": [
       "(7769, 2)"
      ]
     },
     "execution_count": 17,
     "metadata": {},
     "output_type": "execute_result"
    }
   ],
   "source": [
    "train_target = np_utils.to_categorical(result, 2)\n",
    "train_target.shape"
   ]
  },
  {
   "cell_type": "code",
   "execution_count": 18,
   "metadata": {
    "hidden": true
   },
   "outputs": [],
   "source": [
    "y_category = train_target"
   ]
  },
  {
   "cell_type": "markdown",
   "metadata": {
    "heading_collapsed": true
   },
   "source": [
    "# 划分训练集"
   ]
  },
  {
   "cell_type": "code",
   "execution_count": 19,
   "metadata": {
    "hidden": true
   },
   "outputs": [],
   "source": [
    "x_abs_train = x_abs[:6215]\n",
    "x_abs_valid = x_abs[6215:6992]\n",
    "x_abs_test = x_abs[6992:]\n",
    "\n",
    "x_claims_train = x_claims[:6215]\n",
    "x_claims_valid = x_claims[6215:6992]\n",
    "x_claims_test = x_claims[6992:]\n",
    "\n",
    "x_text_train = x_text[:6215]\n",
    "x_text_valid = x_text[6215:6992]\n",
    "x_text_test = x_text[6992:]"
   ]
  },
  {
   "cell_type": "code",
   "execution_count": 52,
   "metadata": {
    "hidden": true
   },
   "outputs": [],
   "source": [
    "y_binary_train = y_binary[:6215].values.ravel()\n",
    "y_binary_valid = y_binary[6215:6992].values.ravel()\n",
    "y_binary_test = y_binary[6992:].values.ravel()\n",
    "\n",
    "y_category_train = y_category[:6215]\n",
    "y_category_valid = y_category[6215:6992]\n",
    "y_category_test = y_category[6992:]"
   ]
  },
  {
   "cell_type": "markdown",
   "metadata": {},
   "source": [
    "# 机器学习"
   ]
  },
  {
   "cell_type": "code",
   "execution_count": 21,
   "metadata": {
    "code_folding": [
     0
    ]
   },
   "outputs": [],
   "source": [
    "def train_model(classifier, x_train, y_train, x_test, y_test):\n",
    "    classifier.fit(x_train, y_train)\n",
    "    \n",
    "    y_predict = classifier.predict(x_test)# 每一个x的预测值\n",
    "    y_predict_proba = classifier.predict_proba(x_test) # 预测分类的概率\n",
    "    \n",
    "    precision = metrics.precision_score(y_test, y_predict) # 精确率\n",
    "    recall = metrics.recall_score(y_test, y_predict) # 召回率\n",
    "    f1 = metrics.f1_score(y_test, y_predict) # f1\n",
    "    accuracy = metrics.accuracy_score(y_test, y_predict, normalize = True) # 准确率\n",
    "    \n",
    "    # print(\"accuracy: {:.4f} precision: {:.4f} recall: {:.4f} f1: {:.4f}\".format(accuracy,precision,recall,f1))\n",
    "    \n",
    "    return y_predict,y_predict_proba"
   ]
  },
  {
   "cell_type": "markdown",
   "metadata": {
    "heading_collapsed": true
   },
   "source": [
    "## abstract"
   ]
  },
  {
   "cell_type": "code",
   "execution_count": 369,
   "metadata": {
    "code_folding": [
     7
    ],
    "hidden": true,
    "scrolled": true
   },
   "outputs": [],
   "source": [
    "def marchine_learn(x_train, y_train, x_test, y_test):\n",
    "    classifier_list = [linear_model.LogisticRegression(random_state=0, penalty='l2', class_weight=\"balanced\", C=1, fit_intercept=True),\n",
    "                       ensemble.RandomForestClassifier(random_state=0, class_weight=\"balanced\", n_estimators=10, criterion='entropy'), \n",
    "                      xgboost.XGBClassifier(random_state=0, scale_pos_weight=0.75/1.49, learning_rate=0.1, n_estimators=20)]\n",
    "\n",
    "    y_predict_proba_dic = {}\n",
    "    y_predict_list = []\n",
    "    for i, classifier in enumerate(tqdm(classifier_list, ncols=50)):\n",
    "        y_predict, y_predict_proba = train_model(\n",
    "            classifier, x_train, y_train, x_test, y_test)\n",
    "        # print(\"predictions:\", y_predict)\n",
    "        y_predict_proba_dic[i] = y_predict_proba\n",
    "        y_predict_list.append(y_predict)\n",
    "\n",
    "    return y_predict_list, y_predict_proba_dic"
   ]
  },
  {
   "cell_type": "code",
   "execution_count": 370,
   "metadata": {
    "hidden": true
   },
   "outputs": [
    {
     "name": "stderr",
     "output_type": "stream",
     "text": [
      "100%|███████████████| 3/3 [00:08<00:00,  2.79s/it]\n"
     ]
    }
   ],
   "source": [
    "iter_dic = {}\n",
    "for i in range(1):\n",
    "    y_predict_list, y_predict_proba_dic = marchine_learn(x_abs_train, y_binary_train, x_abs_test, y_binary_test)\n",
    "    iter_dic[i] = y_predict_list"
   ]
  },
  {
   "cell_type": "code",
   "execution_count": 371,
   "metadata": {
    "code_folding": [
     5
    ],
    "hidden": true
   },
   "outputs": [],
   "source": [
    "LR_metrics_list = []\n",
    "RF_metrics_list = []\n",
    "XGB_metrics_list = []\n",
    "\n",
    "for key, value in iter_dic.items():\n",
    "    for i in range(3):\n",
    "        report = classification_report(y_binary_test, iter_dic[key][i], digits=4)\n",
    "        p = re.compile('  |\\n', re.S)\n",
    "        report = p.sub(' ', report)\n",
    "        metrics_content = re.findall(\"([\\d]{1}\\.[\\d]{4})    777\", report)\n",
    "        if i == 0:\n",
    "            LR_metrics_list.append(metrics_content)\n",
    "        if i == 1:\n",
    "            RF_metrics_list.append(metrics_content)\n",
    "        if i == 2:\n",
    "            XGB_metrics_list.append(metrics_content)"
   ]
  },
  {
   "cell_type": "code",
   "execution_count": 372,
   "metadata": {
    "cell_style": "split",
    "code_folding": [
     0
    ],
    "hidden": true
   },
   "outputs": [
    {
     "name": "stdout",
     "output_type": "stream",
     "text": [
      "LR acc:  0.5457\n",
      "LR macro:  0.5021\n",
      "LR weighted:  0.5493\n",
      "[0.5457]\n",
      "[0.5021]\n",
      "[0.5493]\n"
     ]
    }
   ],
   "source": [
    "# LR\n",
    "LR_metrics_arrat = np.array(LR_metrics_list,dtype=float)\n",
    "acc = np.mean(LR_metrics_arrat[:,0])\n",
    "print(\"LR acc:  {:.4f}\".format(acc))\n",
    "f1 = np.mean(LR_metrics_arrat[:,1])\n",
    "print(\"LR macro:  {:.4f}\".format(f1))\n",
    "weighted = np.mean(LR_metrics_arrat[:,2])\n",
    "print(\"LR weighted:  {:.4f}\".format(weighted))\n",
    "\n",
    "print(LR_metrics_arrat[:,0].tolist())\n",
    "print(LR_metrics_arrat[:,1].tolist())\n",
    "print(LR_metrics_arrat[:,2].tolist())"
   ]
  },
  {
   "cell_type": "code",
   "execution_count": 373,
   "metadata": {
    "cell_style": "split",
    "hidden": true
   },
   "outputs": [
    {
     "name": "stdout",
     "output_type": "stream",
     "text": [
      "              precision    recall  f1-score   support\n",
      "\n",
      "           0     0.3428    0.3674    0.3547       264\n",
      "           1     0.6619    0.6374    0.6495       513\n",
      "\n",
      "    accuracy                         0.5457       777\n",
      "   macro avg     0.5023    0.5024    0.5021       777\n",
      "weighted avg     0.5535    0.5457    0.5493       777\n",
      "\n"
     ]
    }
   ],
   "source": [
    "print(classification_report(y_binary_test, iter_dic[0][0], digits=4))"
   ]
  },
  {
   "cell_type": "code",
   "execution_count": 374,
   "metadata": {
    "cell_style": "split",
    "code_folding": [
     0
    ],
    "hidden": true
   },
   "outputs": [
    {
     "name": "stdout",
     "output_type": "stream",
     "text": [
      "acc:  0.5997\n",
      "macro:  0.4774\n",
      "weighted:  0.5584\n",
      "[0.5997]\n",
      "[0.4774]\n",
      "[0.5584]\n"
     ]
    }
   ],
   "source": [
    "# RF\n",
    "RF_metrics_arrat = np.array(RF_metrics_list,dtype=float)\n",
    "acc = np.mean(RF_metrics_arrat[:,0])\n",
    "print(\"acc:  {:.4f}\".format(acc))\n",
    "f1 = np.mean(RF_metrics_arrat[:,1])\n",
    "print(\"macro:  {:.4f}\".format(f1))\n",
    "weighted = np.mean(RF_metrics_arrat[:,2])\n",
    "print(\"weighted:  {:.4f}\".format(weighted))\n",
    "\n",
    "print(RF_metrics_arrat[:,0].tolist())\n",
    "print(RF_metrics_arrat[:,1].tolist())\n",
    "print(RF_metrics_arrat[:,2].tolist())"
   ]
  },
  {
   "cell_type": "code",
   "execution_count": 375,
   "metadata": {
    "cell_style": "split",
    "hidden": true
   },
   "outputs": [
    {
     "name": "stdout",
     "output_type": "stream",
     "text": [
      "              precision    recall  f1-score   support\n",
      "\n",
      "           0     0.3285    0.1705    0.2244       264\n",
      "           1     0.6578    0.8207    0.7303       513\n",
      "\n",
      "    accuracy                         0.5997       777\n",
      "   macro avg     0.4931    0.4956    0.4774       777\n",
      "weighted avg     0.5459    0.5997    0.5584       777\n",
      "\n"
     ]
    }
   ],
   "source": [
    "print(classification_report(y_binary_test, iter_dic[0][1], digits=4))"
   ]
  },
  {
   "cell_type": "code",
   "execution_count": 376,
   "metadata": {
    "cell_style": "split",
    "code_folding": [
     0
    ],
    "hidden": true
   },
   "outputs": [
    {
     "name": "stdout",
     "output_type": "stream",
     "text": [
      "acc:  0.5573\n",
      "macro:  0.5269\n",
      "weighted:  0.5653\n",
      "[0.5997]\n",
      "[0.4774]\n",
      "[0.5584]\n"
     ]
    }
   ],
   "source": [
    "# XGB\n",
    "XGB_metrics_arrat = np.array(XGB_metrics_list,dtype=float)\n",
    "acc = np.mean(XGB_metrics_arrat[:,0])\n",
    "print(\"acc:  {:.4f}\".format(acc))\n",
    "f1 = np.mean(XGB_metrics_arrat[:,1])\n",
    "print(\"macro:  {:.4f}\".format(f1))\n",
    "weighted = np.mean(XGB_metrics_arrat[:,2])\n",
    "print(\"weighted:  {:.4f}\".format(weighted))\n",
    "\n",
    "print(RF_metrics_arrat[:,0].tolist())\n",
    "print(RF_metrics_arrat[:,1].tolist())\n",
    "print(RF_metrics_arrat[:,2].tolist())"
   ]
  },
  {
   "cell_type": "code",
   "execution_count": 377,
   "metadata": {
    "cell_style": "split",
    "hidden": true
   },
   "outputs": [
    {
     "name": "stdout",
     "output_type": "stream",
     "text": [
      "              precision    recall  f1-score   support\n",
      "\n",
      "           0     0.3734    0.4470    0.4069       264\n",
      "           1     0.6833    0.6140    0.6468       513\n",
      "\n",
      "    accuracy                         0.5573       777\n",
      "   macro avg     0.5284    0.5305    0.5269       777\n",
      "weighted avg     0.5780    0.5573    0.5653       777\n",
      "\n"
     ]
    }
   ],
   "source": [
    "print(classification_report(y_binary_test, iter_dic[0][2], digits=4))"
   ]
  },
  {
   "cell_type": "markdown",
   "metadata": {
    "heading_collapsed": true
   },
   "source": [
    "## claims"
   ]
  },
  {
   "cell_type": "code",
   "execution_count": 379,
   "metadata": {
    "code_folding": [
     7
    ],
    "hidden": true
   },
   "outputs": [],
   "source": [
    "def marchine_learn(x_train, y_train, x_test, y_test):\n",
    "    classifier_list = [linear_model.LogisticRegression(random_state=0, penalty='l2', class_weight=\"balanced\", C=1, fit_intercept=False),\n",
    "                       ensemble.RandomForestClassifier(random_state=0, class_weight=\"balanced\", n_estimators=10, criterion='entropy'), \n",
    "                      xgboost.XGBClassifier(random_state=0, scale_pos_weight=0.75/1.49, learning_rate=0.1, n_estimators=20)]\n",
    "\n",
    "    y_predict_proba_dic = {}\n",
    "    y_predict_list = []\n",
    "    for i, classifier in enumerate(tqdm(classifier_list, ncols=50)):\n",
    "        y_predict, y_predict_proba = train_model(\n",
    "            classifier, x_train, y_train, x_test, y_test)\n",
    "        # print(\"predictions:\", y_predict)\n",
    "        y_predict_proba_dic[i] = y_predict_proba\n",
    "        y_predict_list.append(y_predict)\n",
    "\n",
    "    return y_predict_list, y_predict_proba_dic"
   ]
  },
  {
   "cell_type": "code",
   "execution_count": 380,
   "metadata": {
    "hidden": true
   },
   "outputs": [
    {
     "name": "stderr",
     "output_type": "stream",
     "text": [
      "100%|███████████████| 3/3 [00:04<00:00,  1.55s/it]\n"
     ]
    }
   ],
   "source": [
    "iter_dic = {}\n",
    "for i in range(1):\n",
    "    y_predict_list, y_predict_proba_dic = marchine_learn(x_claims_train, y_binary_train, x_claims_test, y_binary_test)\n",
    "    iter_dic[i] = y_predict_list"
   ]
  },
  {
   "cell_type": "code",
   "execution_count": 381,
   "metadata": {
    "code_folding": [
     4
    ],
    "hidden": true
   },
   "outputs": [],
   "source": [
    "LR_metrics_list = []\n",
    "RF_metrics_list = []\n",
    "XGB_metrics_list = []\n",
    "\n",
    "for key, value in iter_dic.items():\n",
    "    for i in range(3):\n",
    "        report = classification_report(y_binary_test, iter_dic[key][i], digits=4)\n",
    "        p = re.compile('  |\\n', re.S)\n",
    "        report = p.sub(' ', report)\n",
    "        metrics_content = re.findall(\"([\\d]{1}\\.[\\d]{4})    777\", report)\n",
    "        if i == 0:\n",
    "            LR_metrics_list.append(metrics_content)\n",
    "        if i == 1:\n",
    "            RF_metrics_list.append(metrics_content)\n",
    "        if i == 2:\n",
    "            XGB_metrics_list.append(metrics_content)"
   ]
  },
  {
   "cell_type": "code",
   "execution_count": 382,
   "metadata": {
    "cell_style": "split",
    "code_folding": [
     0
    ],
    "hidden": true
   },
   "outputs": [
    {
     "name": "stdout",
     "output_type": "stream",
     "text": [
      "LR acc:  0.5341\n",
      "LR macro:  0.5192\n",
      "LR weighted:  0.5463\n",
      "[0.5341]\n",
      "[0.5192]\n",
      "[0.5463]\n"
     ]
    }
   ],
   "source": [
    "# LR\n",
    "LR_metrics_arrat = np.array(LR_metrics_list,dtype=float)\n",
    "acc = np.mean(LR_metrics_arrat[:,0])\n",
    "print(\"LR acc:  {:.4f}\".format(acc))\n",
    "f1 = np.mean(LR_metrics_arrat[:,1])\n",
    "print(\"LR macro:  {:.4f}\".format(f1))\n",
    "weighted = np.mean(LR_metrics_arrat[:,2])\n",
    "print(\"LR weighted:  {:.4f}\".format(weighted))\n",
    "\n",
    "print(LR_metrics_arrat[:,0].tolist())\n",
    "print(LR_metrics_arrat[:,1].tolist())\n",
    "print(LR_metrics_arrat[:,2].tolist())"
   ]
  },
  {
   "cell_type": "code",
   "execution_count": 383,
   "metadata": {
    "cell_style": "split",
    "hidden": true
   },
   "outputs": [
    {
     "name": "stdout",
     "output_type": "stream",
     "text": [
      "              precision    recall  f1-score   support\n",
      "\n",
      "           0     0.3697    0.5265    0.4344       264\n",
      "           1     0.6883    0.5380    0.6039       513\n",
      "\n",
      "    accuracy                         0.5341       777\n",
      "   macro avg     0.5290    0.5323    0.5192       777\n",
      "weighted avg     0.5800    0.5341    0.5463       777\n",
      "\n"
     ]
    }
   ],
   "source": [
    "print(classification_report(y_binary_test, iter_dic[0][0], digits=4))"
   ]
  },
  {
   "cell_type": "code",
   "execution_count": 384,
   "metadata": {
    "cell_style": "split",
    "code_folding": [
     0
    ],
    "hidden": true
   },
   "outputs": [
    {
     "name": "stdout",
     "output_type": "stream",
     "text": [
      "acc:  0.6088\n",
      "macro:  0.5099\n",
      "weighted:  0.5804\n",
      "[0.6088]\n",
      "[0.5099]\n",
      "[0.5804]\n"
     ]
    }
   ],
   "source": [
    "# RF\n",
    "RF_metrics_arrat = np.array(RF_metrics_list,dtype=float)\n",
    "acc = np.mean(RF_metrics_arrat[:,0])\n",
    "print(\"acc:  {:.4f}\".format(acc))\n",
    "f1 = np.mean(RF_metrics_arrat[:,1])\n",
    "print(\"macro:  {:.4f}\".format(f1))\n",
    "weighted = np.mean(RF_metrics_arrat[:,2])\n",
    "print(\"weighted:  {:.4f}\".format(weighted))\n",
    "\n",
    "print(RF_metrics_arrat[:,0].tolist())\n",
    "print(RF_metrics_arrat[:,1].tolist())\n",
    "print(RF_metrics_arrat[:,2].tolist())"
   ]
  },
  {
   "cell_type": "code",
   "execution_count": 385,
   "metadata": {
    "cell_style": "split",
    "hidden": true
   },
   "outputs": [
    {
     "name": "stdout",
     "output_type": "stream",
     "text": [
      "              precision    recall  f1-score   support\n",
      "\n",
      "           0     0.3780    0.2348    0.2897       264\n",
      "           1     0.6705    0.8012    0.7300       513\n",
      "\n",
      "    accuracy                         0.6088       777\n",
      "   macro avg     0.5243    0.5180    0.5099       777\n",
      "weighted avg     0.5711    0.6088    0.5804       777\n",
      "\n"
     ]
    }
   ],
   "source": [
    "print(classification_report(y_binary_test, iter_dic[0][1], digits=4))"
   ]
  },
  {
   "cell_type": "code",
   "execution_count": 386,
   "metadata": {
    "cell_style": "split",
    "code_folding": [
     0
    ],
    "hidden": true
   },
   "outputs": [
    {
     "name": "stdout",
     "output_type": "stream",
     "text": [
      "acc:  0.5637\n",
      "macro:  0.5314\n",
      "weighted:  0.5708\n",
      "[0.6088]\n",
      "[0.5099]\n",
      "[0.5804]\n"
     ]
    }
   ],
   "source": [
    "# XGB\n",
    "XGB_metrics_arrat = np.array(XGB_metrics_list,dtype=float)\n",
    "acc = np.mean(XGB_metrics_arrat[:,0])\n",
    "print(\"acc:  {:.4f}\".format(acc))\n",
    "f1 = np.mean(XGB_metrics_arrat[:,1])\n",
    "print(\"macro:  {:.4f}\".format(f1))\n",
    "weighted = np.mean(XGB_metrics_arrat[:,2])\n",
    "print(\"weighted:  {:.4f}\".format(weighted))\n",
    "\n",
    "print(RF_metrics_arrat[:,0].tolist())\n",
    "print(RF_metrics_arrat[:,1].tolist())\n",
    "print(RF_metrics_arrat[:,2].tolist())"
   ]
  },
  {
   "cell_type": "code",
   "execution_count": 387,
   "metadata": {
    "cell_style": "split",
    "hidden": true
   },
   "outputs": [
    {
     "name": "stdout",
     "output_type": "stream",
     "text": [
      "              precision    recall  f1-score   support\n",
      "\n",
      "           0     0.3786    0.4432    0.4084       264\n",
      "           1     0.6859    0.6257    0.6544       513\n",
      "\n",
      "    accuracy                         0.5637       777\n",
      "   macro avg     0.5323    0.5345    0.5314       777\n",
      "weighted avg     0.5815    0.5637    0.5708       777\n",
      "\n"
     ]
    }
   ],
   "source": [
    "print(classification_report(y_binary_test, iter_dic[0][2], digits=4))"
   ]
  },
  {
   "cell_type": "markdown",
   "metadata": {},
   "source": [
    "## text_sum"
   ]
  },
  {
   "cell_type": "code",
   "execution_count": 516,
   "metadata": {
    "code_folding": []
   },
   "outputs": [],
   "source": [
    "def marchine_learn(x_train, y_train, x_test, y_test):\n",
    "    classifier_list = [linear_model.LogisticRegression(random_state=0, penalty='l2', class_weight=\"balanced\", C=0.003, fit_intercept=False),\n",
    "                       ensemble.RandomForestClassifier(random_state=0, class_weight=\"balanced\", n_estimators=8), \n",
    "                      xgboost.XGBClassifier(random_state=0, scale_pos_weight=0.75/1.49, learning_rate=0.1, n_estimators=20)]\n",
    "\n",
    "    y_predict_proba_dic = {}\n",
    "    y_predict_list = []\n",
    "    for i, classifier in enumerate(tqdm(classifier_list, ncols=50)):\n",
    "        y_predict, y_predict_proba = train_model(\n",
    "            classifier, x_train, y_train, x_test, y_test)\n",
    "        # print(\"predictions:\", y_predict)\n",
    "        y_predict_proba_dic[i] = y_predict_proba\n",
    "        y_predict_list.append(y_predict)\n",
    "\n",
    "    return y_predict_list, y_predict_proba_dic"
   ]
  },
  {
   "cell_type": "code",
   "execution_count": 517,
   "metadata": {},
   "outputs": [
    {
     "name": "stderr",
     "output_type": "stream",
     "text": [
      "100%|███████████████| 3/3 [00:05<00:00,  1.95s/it]\n"
     ]
    }
   ],
   "source": [
    "iter_dic = {}\n",
    "for i in range(1):\n",
    "    y_predict_list, y_predict_proba_dic = marchine_learn(x_text_train, y_binary_train, x_text_test, y_binary_test)\n",
    "    iter_dic[i] = y_predict_list"
   ]
  },
  {
   "cell_type": "code",
   "execution_count": 518,
   "metadata": {
    "code_folding": [
     4
    ]
   },
   "outputs": [],
   "source": [
    "LR_metrics_list = []\n",
    "RF_metrics_list = []\n",
    "XGB_metrics_list = []\n",
    "\n",
    "for key, value in iter_dic.items():\n",
    "    for i in range(3):\n",
    "        report = classification_report(y_binary_test, iter_dic[key][i], digits=4)\n",
    "        p = re.compile('  |\\n', re.S)\n",
    "        report = p.sub(' ', report)\n",
    "        metrics_content = re.findall(\"([\\d]{1}\\.[\\d]{4})    777\", report)\n",
    "        if i == 0:\n",
    "            LR_metrics_list.append(metrics_content)\n",
    "        if i == 1:\n",
    "            RF_metrics_list.append(metrics_content)\n",
    "        if i == 2:\n",
    "            XGB_metrics_list.append(metrics_content)"
   ]
  },
  {
   "cell_type": "code",
   "execution_count": 423,
   "metadata": {
    "cell_style": "split",
    "code_folding": [
     0
    ],
    "scrolled": false
   },
   "outputs": [
    {
     "name": "stdout",
     "output_type": "stream",
     "text": [
      "LR acc:  0.5714\n",
      "LR macro:  0.5116\n",
      "LR weighted:  0.5664\n",
      "[0.5714]\n",
      "[0.5116]\n",
      "[0.5664]\n"
     ]
    }
   ],
   "source": [
    "# LR\n",
    "LR_metrics_arrat = np.array(LR_metrics_list,dtype=float)\n",
    "acc = np.mean(LR_metrics_arrat[:,0])\n",
    "print(\"LR acc:  {:.4f}\".format(acc))\n",
    "f1 = np.mean(LR_metrics_arrat[:,1])\n",
    "print(\"LR macro:  {:.4f}\".format(f1))\n",
    "weighted = np.mean(LR_metrics_arrat[:,2])\n",
    "print(\"LR weighted:  {:.4f}\".format(weighted))\n",
    "\n",
    "print(LR_metrics_arrat[:,0].tolist())\n",
    "print(LR_metrics_arrat[:,1].tolist())\n",
    "print(LR_metrics_arrat[:,2].tolist())"
   ]
  },
  {
   "cell_type": "code",
   "execution_count": 424,
   "metadata": {
    "cell_style": "split"
   },
   "outputs": [
    {
     "name": "stdout",
     "output_type": "stream",
     "text": [
      "              precision    recall  f1-score   support\n",
      "\n",
      "           0     0.3568    0.3258    0.3406       264\n",
      "           1     0.6679    0.6979    0.6826       513\n",
      "\n",
      "    accuracy                         0.5714       777\n",
      "   macro avg     0.5124    0.5118    0.5116       777\n",
      "weighted avg     0.5622    0.5714    0.5664       777\n",
      "\n"
     ]
    }
   ],
   "source": [
    "print(classification_report(y_binary_test, iter_dic[0][0], digits=4))"
   ]
  },
  {
   "cell_type": "code",
   "execution_count": 519,
   "metadata": {
    "cell_style": "split",
    "code_folding": [
     0
    ],
    "scrolled": true
   },
   "outputs": [
    {
     "name": "stdout",
     "output_type": "stream",
     "text": [
      "acc:  0.5843\n",
      "macro:  0.5148\n",
      "weighted:  0.5737\n",
      "[0.5843]\n",
      "[0.5148]\n",
      "[0.5737]\n"
     ]
    }
   ],
   "source": [
    "# RF\n",
    "RF_metrics_arrat = np.array(RF_metrics_list,dtype=float)\n",
    "acc = np.mean(RF_metrics_arrat[:,0])\n",
    "print(\"acc:  {:.4f}\".format(acc))\n",
    "f1 = np.mean(RF_metrics_arrat[:,1])\n",
    "print(\"macro:  {:.4f}\".format(f1))\n",
    "weighted = np.mean(RF_metrics_arrat[:,2])\n",
    "print(\"weighted:  {:.4f}\".format(weighted))\n",
    "\n",
    "print(RF_metrics_arrat[:,0].tolist())\n",
    "print(RF_metrics_arrat[:,1].tolist())\n",
    "print(RF_metrics_arrat[:,2].tolist())"
   ]
  },
  {
   "cell_type": "code",
   "execution_count": 520,
   "metadata": {
    "cell_style": "split"
   },
   "outputs": [
    {
     "name": "stdout",
     "output_type": "stream",
     "text": [
      "              precision    recall  f1-score   support\n",
      "\n",
      "           0     0.3653    0.3030    0.3313       264\n",
      "           1     0.6703    0.7290    0.6984       513\n",
      "\n",
      "    accuracy                         0.5843       777\n",
      "   macro avg     0.5178    0.5160    0.5148       777\n",
      "weighted avg     0.5666    0.5843    0.5737       777\n",
      "\n"
     ]
    }
   ],
   "source": [
    "print(classification_report(y_binary_test, iter_dic[0][1], digits=4))"
   ]
  },
  {
   "cell_type": "code",
   "execution_count": 396,
   "metadata": {
    "cell_style": "split",
    "code_folding": [
     0
    ]
   },
   "outputs": [
    {
     "name": "stdout",
     "output_type": "stream",
     "text": [
      "acc:  0.5457\n",
      "macro:  0.5076\n",
      "weighted:  0.5515\n",
      "[0.5907]\n",
      "[0.4986]\n",
      "[0.5675]\n"
     ]
    }
   ],
   "source": [
    "# XGB\n",
    "XGB_metrics_arrat = np.array(XGB_metrics_list,dtype=float)\n",
    "acc = np.mean(XGB_metrics_arrat[:,0])\n",
    "print(\"acc:  {:.4f}\".format(acc))\n",
    "f1 = np.mean(XGB_metrics_arrat[:,1])\n",
    "print(\"macro:  {:.4f}\".format(f1))\n",
    "weighted = np.mean(XGB_metrics_arrat[:,2])\n",
    "print(\"weighted:  {:.4f}\".format(weighted))\n",
    "\n",
    "print(RF_metrics_arrat[:,0].tolist())\n",
    "print(RF_metrics_arrat[:,1].tolist())\n",
    "print(RF_metrics_arrat[:,2].tolist())"
   ]
  },
  {
   "cell_type": "code",
   "execution_count": 397,
   "metadata": {
    "cell_style": "split"
   },
   "outputs": [
    {
     "name": "stdout",
     "output_type": "stream",
     "text": [
      "              precision    recall  f1-score   support\n",
      "\n",
      "           0     0.3502    0.3939    0.3708       264\n",
      "           1     0.6667    0.6238    0.6445       513\n",
      "\n",
      "    accuracy                         0.5457       777\n",
      "   macro avg     0.5084    0.5089    0.5076       777\n",
      "weighted avg     0.5591    0.5457    0.5515       777\n",
      "\n"
     ]
    }
   ],
   "source": [
    "print(classification_report(y_binary_test, iter_dic[0][2], digits=4))"
   ]
  },
  {
   "cell_type": "markdown",
   "metadata": {},
   "source": [
    "## 绘图"
   ]
  },
  {
   "cell_type": "code",
   "execution_count": 378,
   "metadata": {
    "cell_style": "split",
    "code_folding": [
     2
    ]
   },
   "outputs": [
    {
     "name": "stderr",
     "output_type": "stream",
     "text": [
      "100%|█| 3/3 [00:00<0\n"
     ]
    },
    {
     "data": {
      "image/png": "[encoded data removed]",
      "text/plain": [
       "<Figure size 360x216 with 1 Axes>"
      ]
     },
     "metadata": {
      "needs_background": "light"
     },
     "output_type": "display_data"
    }
   ],
   "source": [
    "plt.figure(figsize=(5,3))\n",
    "plt.plot([0, 1], [0, 1], linestyle='--')\n",
    "for key in tqdm(y_predict_proba_dic.keys(), ncols=20):\n",
    "    y_scores = [y_predict_proba_1[1] for y_predict_proba_1 in y_predict_proba_dic[key]]\n",
    "    fpr, tpr, _  =  roc_curve(y_binary_test, y_scores)\n",
    "    roc_auc = auc(fpr,tpr)\n",
    "    plt.plot(fpr, tpr, label=str(key) + ':node ROC curve (%0.4f)' % roc_auc)\n",
    "plt.xlabel('False Positive Rate')\n",
    "plt.ylabel('True Positive Rate')\n",
    "plt.title('Receiver operating characteristic example')\n",
    "plt.legend(loc=\"lower right\")\n",
    "plt.show()"
   ]
  },
  {
   "cell_type": "code",
   "execution_count": 388,
   "metadata": {
    "cell_style": "split",
    "code_folding": [
     2
    ]
   },
   "outputs": [
    {
     "name": "stderr",
     "output_type": "stream",
     "text": [
      "100%|█| 3/3 [00:00<0\n"
     ]
    },
    {
     "data": {
      "image/png": "[encoded data removed]",
      "text/plain": [
       "<Figure size 360x216 with 1 Axes>"
      ]
     },
     "metadata": {
      "needs_background": "light"
     },
     "output_type": "display_data"
    }
   ],
   "source": [
    "plt.figure(figsize=(5,3))\n",
    "plt.plot([0, 1], [0, 1], linestyle='--')\n",
    "for key in tqdm(y_predict_proba_dic.keys(), ncols=20):\n",
    "    y_scores = [y_predict_proba_1[1] for y_predict_proba_1 in y_predict_proba_dic[key]]\n",
    "    fpr, tpr, _  =  roc_curve(y_binary_test, y_scores)\n",
    "    roc_auc = auc(fpr,tpr)\n",
    "    plt.plot(fpr, tpr, label=str(key) + ':node ROC curve (%0.4f)' % roc_auc)\n",
    "plt.xlabel('False Positive Rate')\n",
    "plt.ylabel('True Positive Rate')\n",
    "plt.title('Receiver operating characteristic example')\n",
    "plt.legend(loc=\"lower right\")\n",
    "plt.show()"
   ]
  },
  {
   "cell_type": "code",
   "execution_count": 491,
   "metadata": {
    "cell_style": "split",
    "code_folding": [
     2
    ]
   },
   "outputs": [
    {
     "name": "stderr",
     "output_type": "stream",
     "text": [
      "100%|█| 3/3 [00:00<0\n"
     ]
    },
    {
     "data": {
      "image/png": "[encoded data removed]",
      "text/plain": [
       "<Figure size 360x216 with 1 Axes>"
      ]
     },
     "metadata": {
      "needs_background": "light"
     },
     "output_type": "display_data"
    }
   ],
   "source": [
    "plt.figure(figsize=(5,3))\n",
    "plt.plot([0, 1], [0, 1], linestyle='--')\n",
    "for key in tqdm(y_predict_proba_dic.keys(), ncols=20):\n",
    "    y_scores = [y_predict_proba_1[1] for y_predict_proba_1 in y_predict_proba_dic[key]]\n",
    "    fpr, tpr, _  =  roc_curve(y_binary_test, y_scores)\n",
    "    roc_auc = auc(fpr,tpr)\n",
    "    plt.plot(fpr, tpr, label=str(key) + ':node ROC curve (%0.4f)' % roc_auc)\n",
    "plt.xlabel('False Positive Rate')\n",
    "plt.ylabel('True Positive Rate')\n",
    "plt.title('Receiver operating characteristic example')\n",
    "plt.legend(loc=\"lower right\")\n",
    "plt.show()"
   ]
  },
  {
   "cell_type": "markdown",
   "metadata": {
    "collapsed": true,
    "heading_collapsed": true
   },
   "source": [
    "# 神经网络"
   ]
  },
  {
   "cell_type": "code",
   "execution_count": 40,
   "metadata": {
    "collapsed": true,
    "hidden": true
   },
   "outputs": [],
   "source": [
    "def plot_history(history):\n",
    "    acc = history.history['acc']\n",
    "    val_acc = history.history['val_acc']\n",
    "    loss = history.history['loss']\n",
    "    val_loss = history.history['val_loss']\n",
    "    x = range(1, len(acc) + 1)\n",
    "\n",
    "    plt.figure(figsize=(12, 5))\n",
    "    plt.subplot(1, 2, 1)\n",
    "    plt.plot(x, acc, 'b', label='Training acc')\n",
    "    plt.plot(x, val_acc, 'r', label='Validation acc')\n",
    "    plt.title('Training and validation accuracy')\n",
    "    plt.legend()\n",
    "    plt.subplot(1, 2, 2)\n",
    "    plt.plot(x, loss, 'b', label='Training loss')\n",
    "    plt.plot(x, val_loss, 'r', label='Validation loss')\n",
    "    plt.title('Training and validation loss')\n",
    "    plt.legend()\n",
    "    plt.show()"
   ]
  },
  {
   "cell_type": "code",
   "execution_count": 349,
   "metadata": {
    "collapsed": true,
    "hidden": true
   },
   "outputs": [],
   "source": [
    "def full_connect_network(n_cols):\n",
    "    # Add an Input Layer\n",
    "    input_layer = layers.Input((n_cols, ))\n",
    "    \n",
    "    Dense_layer_1 = layers.Dense(360, activation=\"relu\")(input_layer)\n",
    "    Dense_layer_2 = layers.Dense(480, activation=\"relu\")(Dense_layer_1)\n",
    "    Dense_layer_2 = layers.Dropout(0.3)(Dense_layer_2)\n",
    "    Dense_layer_3 = layers.Dense(128, activation=\"relu\")(Dense_layer_2)\n",
    "    Dense_layer_3 = layers.Dropout(0.5)(Dense_layer_3)\n",
    "    Dense_layer_4 = layers.Dense(2, activation='softmax')(Dense_layer_3)\n",
    "    \n",
    "    model = models.Model(inputs=input_layer, outputs=Dense_layer_4)\n",
    "    model.compile(optimizer=optimizers.Adam(), loss='binary_crossentropy', metrics=['accuracy'])    \n",
    "    # model.summary()\n",
    "    \n",
    "    return model"
   ]
  },
  {
   "cell_type": "code",
   "execution_count": 350,
   "metadata": {
    "collapsed": true,
    "hidden": true
   },
   "outputs": [],
   "source": [
    "# 提前停止监视器设置为3，这意味着在连续3次运行后，模型的性能没有改进的话，训练将会被停止\n",
    "my_callbacks = [\n",
    "    EarlyStopping(monitor='val_loss', mode='min', patience=5)\n",
    "]\n",
    "cw = [1.49346405, 0.75164474]"
   ]
  },
  {
   "cell_type": "code",
   "execution_count": 351,
   "metadata": {
    "hidden": true
   },
   "outputs": [
    {
     "name": "stderr",
     "output_type": "stream",
     "text": [
      "100%|███████████████████████████████████| 5/5 [01:12<00:00, 14.46s/it]\n"
     ]
    }
   ],
   "source": [
    "history_list = []\n",
    "model_list = []\n",
    "\n",
    "for i in tqdm(range(10), ncols=70):\n",
    "    model = full_connect_network(x_sum_train.shape[1])\n",
    "    history = model.fit(x_sum_train, y_category_train, \n",
    "                        validation_data=(x_sum_valid, y_category_valid), \n",
    "                        verbose=0, epochs=100, batch_size=128, shuffle=False,\n",
    "                        callbacks=my_callbacks,\n",
    "                        class_weight=cw)\n",
    "    history_list.append(history)\n",
    "    model_list.append(model)"
   ]
  },
  {
   "cell_type": "code",
   "execution_count": 332,
   "metadata": {
    "collapsed": true,
    "hidden": true
   },
   "outputs": [],
   "source": [
    "# loss, acc = model.evaluate(x_abs_test, y_category_test, batch_size=128, verbose=1)\n",
    "# print(\"accuracy: {:.4f} loss: {:.4f}\".format(acc,loss))"
   ]
  },
  {
   "cell_type": "code",
   "execution_count": 352,
   "metadata": {
    "hidden": true
   },
   "outputs": [
    {
     "name": "stderr",
     "output_type": "stream",
     "text": [
      "100%|███████████████████████████████████| 5/5 [00:08<00:00,  1.77s/it]\n"
     ]
    }
   ],
   "source": [
    "metrics_list = []\n",
    "for model in tqdm(model_list, ncols=70):\n",
    "    y_pred = model.predict(x_sum_test, batch_size=64, verbose=0)\n",
    "    y_pred_1 = np.rint(y_pred) #四舍五入取整\n",
    "    for i in range(len(y_pred)):\n",
    "        max_value=max(y_pred[i])\n",
    "        for j in range(len(y_pred[i])):\n",
    "            if max_value==y_pred[i][j]:\n",
    "                y_pred[i][j]=1\n",
    "            else:\n",
    "                y_pred[i][j]=0\n",
    "    report = classification_report(y_category_test, y_pred, digits=4)\n",
    "    p = re.compile('  |\\n', re.S)\n",
    "    report = p.sub(' ', report)\n",
    "    metrics_content = re.findall(\"([\\d]{1}\\.[\\d]{4})    777\", report)\n",
    "    metrics_list.append(metrics_content)"
   ]
  },
  {
   "cell_type": "code",
   "execution_count": 353,
   "metadata": {
    "hidden": true
   },
   "outputs": [
    {
     "name": "stdout",
     "output_type": "stream",
     "text": [
      "acc:  0.6641\n",
      "macro:  0.4098\n",
      "weighted:  0.5340\n"
     ]
    }
   ],
   "source": [
    "metrics_arrat = np.array(metrics_list,dtype=float)\n",
    "acc = np.mean(metrics_arrat[:,0])\n",
    "print(\"acc:  {:.4f}\".format(acc))\n",
    "f1 = np.mean(metrics_arrat[:,1])\n",
    "print(\"macro:  {:.4f}\".format(f1))\n",
    "weighted = np.mean(metrics_arrat[:,2])\n",
    "print(\"weighted:  {:.4f}\".format(weighted))\n",
    "print(metrics_arrat[:,0].tolist())\n",
    "print(metrics_arrat[:,1].tolist())\n",
    "print(metrics_arrat[:,2].tolist())"
   ]
  },
  {
   "cell_type": "code",
   "execution_count": 354,
   "metadata": {
    "hidden": true,
    "scrolled": true
   },
   "outputs": [
    {
     "name": "stdout",
     "output_type": "stream",
     "text": [
      "              precision    recall  f1-score   support\n",
      "\n",
      "           0     1.0000    0.0076    0.0150       264\n",
      "           1     0.6619    1.0000    0.7966       513\n",
      "\n",
      "   micro avg     0.6628    0.6628    0.6628       777\n",
      "   macro avg     0.8310    0.5038    0.4058       777\n",
      "weighted avg     0.7768    0.6628    0.5310       777\n",
      " samples avg     0.6628    0.6628    0.6628       777\n",
      "\n"
     ]
    }
   ],
   "source": [
    "print(classification_report(y_category_test, y_pred, digits=4))"
   ]
  },
  {
   "cell_type": "code",
   "execution_count": 355,
   "metadata": {
    "hidden": true
   },
   "outputs": [
    {
     "data": {
      "image/png": "[encoded data removed]",
      "text/plain": [
       "<Figure size 864x360 with 2 Axes>"
      ]
     },
     "metadata": {},
     "output_type": "display_data"
    }
   ],
   "source": [
    "plot_history(history_list[4])"
   ]
  },
  {
   "cell_type": "code",
   "execution_count": null,
   "metadata": {
    "collapsed": true,
    "hidden": true
   },
   "outputs": [],
   "source": []
  },
  {
   "cell_type": "code",
   "execution_count": null,
   "metadata": {
    "collapsed": true,
    "hidden": true
   },
   "outputs": [],
   "source": []
  }
 ],
 "metadata": {
  "kernelspec": {
   "display_name": "Python 3",
   "language": "python",
   "name": "python3"
  },
  "language_info": {
   "codemirror_mode": {
    "name": "ipython",
    "version": 3
   },
   "file_extension": ".py",
   "mimetype": "text/x-python",
   "name": "python",
   "nbconvert_exporter": "python",
   "pygments_lexer": "ipython3",
   "version": "3.6.9"
  },
  "toc": {
   "base_numbering": 1,
   "nav_menu": {},
   "number_sections": true,
   "sideBar": true,
   "skip_h1_title": false,
   "title_cell": "Table of Contents",
   "title_sidebar": "Contents",
   "toc_cell": false,
   "toc_position": {
    "height": "calc(100% - 180px)",
    "left": "10px",
    "top": "150px",
    "width": "189.188px"
   },
   "toc_section_display": true,
   "toc_window_display": true
  },
  "varInspector": {
   "cols": {
    "lenName": 16,
    "lenType": 16,
    "lenVar": 40
   },
   "kernels_config": {
    "python": {
     "delete_cmd_postfix": "",
     "delete_cmd_prefix": "del ",
     "library": "var_list.py",
     "varRefreshCmd": "print(var_dic_list())"
    },
    "r": {
     "delete_cmd_postfix": ") ",
     "delete_cmd_prefix": "rm(",
     "library": "var_list.r",
     "varRefreshCmd": "cat(var_dic_list()) "
    }
   },
   "types_to_exclude": [
    "module",
    "function",
    "builtin_function_or_method",
    "instance",
    "_Feature"
   ],
   "window_display": false
  }
 },
 "nbformat": 4,
 "nbformat_minor": 2
}
