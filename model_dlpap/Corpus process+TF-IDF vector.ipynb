{
 "cells": [
  {
   "cell_type": "code",
   "execution_count": 1,
   "metadata": {},
   "outputs": [],
   "source": [
    "import pandas as pd\n",
    "import numpy as np\n",
    "from tqdm import tqdm\n",
    "import re\n",
    "import matplotlib.pyplot as plt\n",
    "\n",
    "from nltk.tokenize import word_tokenize, sent_tokenize\n",
    "from nltk.corpus import wordnet as wn\n",
    "from collections import defaultdict\n",
    "from nltk import pos_tag\n",
    "from nltk.corpus import stopwords\n",
    "from nltk.stem import WordNetLemmatizer"
   ]
  },
  {
   "cell_type": "code",
   "execution_count": 2,
   "metadata": {},
   "outputs": [],
   "source": [
    "from sklearn.feature_extraction.text import TfidfVectorizer"
   ]
  },
  {
   "cell_type": "markdown",
   "metadata": {
    "heading_collapsed": true
   },
   "source": [
    "# 文本处理"
   ]
  },
  {
   "cell_type": "code",
   "execution_count": 3,
   "metadata": {
    "hidden": true
   },
   "outputs": [],
   "source": [
    "data = pd.read_excel(r\"/home/hxjiang/Pythonworkspace/patent/sample20000/after_process.xlsx\", encoding='utf-8')"
   ]
  },
  {
   "cell_type": "code",
   "execution_count": 30,
   "metadata": {
    "hidden": true,
    "scrolled": true
   },
   "outputs": [
    {
     "data": {
      "text/html": [
       "<div>\n",
       "<style>\n",
       "    .dataframe thead tr:only-child th {\n",
       "        text-align: right;\n",
       "    }\n",
       "\n",
       "    .dataframe thead th {\n",
       "        text-align: left;\n",
       "    }\n",
       "\n",
       "    .dataframe tbody tr th {\n",
       "        vertical-align: top;\n",
       "    }\n",
       "</style>\n",
       "<table border=\"1\" class=\"dataframe\">\n",
       "  <thead>\n",
       "    <tr style=\"text-align: right;\">\n",
       "      <th></th>\n",
       "      <th>abstract</th>\n",
       "      <th>application_id</th>\n",
       "      <th>claims</th>\n",
       "      <th>claims_add1</th>\n",
       "      <th>location</th>\n",
       "      <th>title</th>\n",
       "      <th>abstract_sen_count</th>\n",
       "      <th>claims_sen_count</th>\n",
       "      <th>abstract_final</th>\n",
       "      <th>abstract_count</th>\n",
       "      <th>claims_final</th>\n",
       "      <th>claims_count</th>\n",
       "    </tr>\n",
       "  </thead>\n",
       "  <tbody>\n",
       "    <tr>\n",
       "      <th>0</th>\n",
       "      <td>['An', 'improved', 'heat', 'protective', 'plan...</td>\n",
       "      <td>12830339</td>\n",
       "      <td>['1', '.', 'A', 'plant', 'wrap', 'for', 'surro...</td>\n",
       "      <td>NaN</td>\n",
       "      <td>2012/ipa120105/US20120000122A1.xml</td>\n",
       "      <td>HEAT PROTECTIVE PLANT WRAP</td>\n",
       "      <td>4</td>\n",
       "      <td>6</td>\n",
       "      <td>['An', 'improved', 'heat', 'protective', 'plan...</td>\n",
       "      <td>74</td>\n",
       "      <td>['A', 'plant', 'wrap', 'surround', 'plant', 'c...</td>\n",
       "      <td>125</td>\n",
       "    </tr>\n",
       "  </tbody>\n",
       "</table>\n",
       "</div>"
      ],
      "text/plain": [
       "                                            abstract  application_id  \\\n",
       "0  ['An', 'improved', 'heat', 'protective', 'plan...        12830339   \n",
       "\n",
       "                                              claims claims_add1  \\\n",
       "0  ['1', '.', 'A', 'plant', 'wrap', 'for', 'surro...         NaN   \n",
       "\n",
       "                             location                       title  \\\n",
       "0  2012/ipa120105/US20120000122A1.xml  HEAT PROTECTIVE PLANT WRAP   \n",
       "\n",
       "   abstract_sen_count  claims_sen_count  \\\n",
       "0                   4                 6   \n",
       "\n",
       "                                      abstract_final  abstract_count  \\\n",
       "0  ['An', 'improved', 'heat', 'protective', 'plan...              74   \n",
       "\n",
       "                                        claims_final  claims_count  \n",
       "0  ['A', 'plant', 'wrap', 'surround', 'plant', 'c...           125  "
      ]
     },
     "execution_count": 30,
     "metadata": {},
     "output_type": "execute_result"
    }
   ],
   "source": [
    "data.head(1)"
   ]
  },
  {
   "cell_type": "code",
   "execution_count": 31,
   "metadata": {
    "hidden": true
   },
   "outputs": [
    {
     "data": {
      "text/plain": [
       "5000"
      ]
     },
     "execution_count": 31,
     "metadata": {},
     "output_type": "execute_result"
    }
   ],
   "source": [
    "len(data)"
   ]
  },
  {
   "cell_type": "markdown",
   "metadata": {
    "heading_collapsed": true,
    "hidden": true
   },
   "source": [
    "## 将claims补充完整"
   ]
  },
  {
   "cell_type": "code",
   "execution_count": 67,
   "metadata": {
    "hidden": true
   },
   "outputs": [
    {
     "name": "stderr",
     "output_type": "stream",
     "text": [
      "100%|█████████████| 20000/20000 [00:00<00:00, 122452.67it/s]\n"
     ]
    }
   ],
   "source": [
    "for index, claims in enumerate(tqdm(data['claims_add1'], ncols=60)):\n",
    "    if type(claims) == str:\n",
    "        claims = data['claims'][index] + \" \" + claims\n",
    "        data.loc[index, 'claims'] = claims"
   ]
  },
  {
   "cell_type": "code",
   "execution_count": 45,
   "metadata": {
    "hidden": true
   },
   "outputs": [
    {
     "name": "stderr",
     "output_type": "stream",
     "text": [
      "100%|███████████████| 7769/7769 [00:00<00:00, 508521.48it/s]\n"
     ]
    }
   ],
   "source": [
    "for index, claims in enumerate(tqdm(data['claims_add2'], ncols=60)):\n",
    "    if type(claims) == str:\n",
    "        claims = data['claims'][index] + \" \" + claims\n",
    "        data.loc[index, 'claims'] = claims"
   ]
  },
  {
   "cell_type": "markdown",
   "metadata": {
    "heading_collapsed": true,
    "hidden": true
   },
   "source": [
    "## 分句"
   ]
  },
  {
   "cell_type": "code",
   "execution_count": 68,
   "metadata": {
    "hidden": true
   },
   "outputs": [
    {
     "name": "stderr",
     "output_type": "stream",
     "text": [
      "100%|█████████████████████████| 20000/20000 [00:15<00:00, 1251.94it/s]\n"
     ]
    }
   ],
   "source": [
    "abstract_max_len = []\n",
    "for index, abstract in enumerate(tqdm(data['abstract'], ncols=70)):\n",
    "    tokens = sent_tokenize(abstract)\n",
    "    token_list = []\n",
    "    for token in tokens:\n",
    "        if len(token) < 3:\n",
    "            pass\n",
    "        else:\n",
    "            token_list.append(token)\n",
    "    abstract_max_len.append(len(token_list))\n",
    "    data.loc[index, 'abstract_sen_count'] = len(token_list)"
   ]
  },
  {
   "cell_type": "code",
   "execution_count": 69,
   "metadata": {
    "hidden": true
   },
   "outputs": [
    {
     "name": "stderr",
     "output_type": "stream",
     "text": [
      "100%|██████████████████████████| 20000/20000 [00:52<00:00, 379.29it/s]\n"
     ]
    }
   ],
   "source": [
    "claims_max_len = []\n",
    "for index, claims in enumerate(tqdm(data['claims'], ncols=70)):\n",
    "    tokens = sent_tokenize(claims)\n",
    "    token_list = []\n",
    "    for token in tokens:\n",
    "        if len(token) < 10:\n",
    "            pass\n",
    "        else:\n",
    "            token_list.append(token)\n",
    "    claims_max_len.append(len(token_list))\n",
    "    data.loc[index, 'claims_sen_count'] = len(token_list)"
   ]
  },
  {
   "cell_type": "markdown",
   "metadata": {
    "heading_collapsed": true,
    "hidden": true
   },
   "source": [
    "## 分词"
   ]
  },
  {
   "cell_type": "markdown",
   "metadata": {
    "heading_collapsed": true,
    "hidden": true
   },
   "source": [
    "### abstract"
   ]
  },
  {
   "cell_type": "code",
   "execution_count": 70,
   "metadata": {
    "hidden": true
   },
   "outputs": [],
   "source": [
    "data['abstract'].dropna(inplace=True)\n",
    "# data['abstract'] = [entry.lower() for entry in data['abstract']]\n",
    "data['abstract'] = [word_tokenize(entry) for entry in data['abstract']]"
   ]
  },
  {
   "cell_type": "code",
   "execution_count": 71,
   "metadata": {
    "hidden": true,
    "scrolled": true
   },
   "outputs": [
    {
     "name": "stderr",
     "output_type": "stream",
     "text": [
      "100%|███████████████████████████| 20000/20000 [09:07<00:00, 36.55it/s]\n"
     ]
    }
   ],
   "source": [
    "tag_map = defaultdict(lambda: wn.NOUN)\n",
    "tag_map['J'] = wn.ADJ\n",
    "tag_map['V'] = wn.VERB\n",
    "tag_map['R'] = wn.ADV\n",
    "\n",
    "len_abstract = []\n",
    "for index, entry in enumerate(tqdm(data['abstract'], ncols=70)):\n",
    "    Final_words = []\n",
    "    word_Lemmatized = WordNetLemmatizer()\n",
    "    for word, tag in pos_tag(entry):\n",
    "        if word not in stopwords.words('english') and word.isalpha():\n",
    "            word_Final = word_Lemmatized.lemmatize(word, tag_map[tag[0]])  # 对这三类做词形还原\n",
    "            Final_words.append(word_Final)\n",
    "    len_abstract.append(len(Final_words))\n",
    "    data.loc[index, 'abstract_final'] = str(Final_words)\n",
    "    data.loc[index, 'abstract_count'] = len(Final_words)"
   ]
  },
  {
   "cell_type": "markdown",
   "metadata": {
    "heading_collapsed": true,
    "hidden": true
   },
   "source": [
    "### claims"
   ]
  },
  {
   "cell_type": "code",
   "execution_count": 72,
   "metadata": {
    "hidden": true
   },
   "outputs": [],
   "source": [
    "data['claims'].dropna(inplace=True)\n",
    "# data['claims'] = [entry.lower() for entry in data['claims']]\n",
    "data['claims'] = [word_tokenize(entry) for entry in data['claims']]"
   ]
  },
  {
   "cell_type": "code",
   "execution_count": 73,
   "metadata": {
    "hidden": true,
    "scrolled": true
   },
   "outputs": [
    {
     "name": "stderr",
     "output_type": "stream",
     "text": [
      "100%|█████████████████████████| 20000/20000 [1:43:00<00:00,  3.24it/s]\n"
     ]
    }
   ],
   "source": [
    "tag_map = defaultdict(lambda: wn.NOUN)\n",
    "tag_map['J'] = wn.ADJ\n",
    "tag_map['V'] = wn.VERB\n",
    "tag_map['R'] = wn.ADV\n",
    "\n",
    "len_claims = []\n",
    "for index, entry in enumerate(tqdm(data['claims'], ncols=70)):\n",
    "    Final_words = []\n",
    "    word_Lemmatized = WordNetLemmatizer()\n",
    "    for word, tag in pos_tag(entry):\n",
    "        if word not in stopwords.words('english') and word.isalpha():\n",
    "            word_Final = word_Lemmatized.lemmatize(word, tag_map[tag[0]])  # 对这三类做词形还原\n",
    "            Final_words.append(word_Final)\n",
    "    len_claims.append(len(Final_words))\n",
    "    data.loc[index, 'claims_final'] = str(Final_words)\n",
    "    data.loc[index, 'claims_count'] = len(Final_words)"
   ]
  },
  {
   "cell_type": "markdown",
   "metadata": {
    "heading_collapsed": true,
    "hidden": true
   },
   "source": [
    "## 文本长度分布"
   ]
  },
  {
   "cell_type": "code",
   "execution_count": 6,
   "metadata": {
    "hidden": true
   },
   "outputs": [],
   "source": [
    "def status(x):\n",
    "    return pd.Series([x.count(), x.sum(), x.min(), x.idxmin(), x.quantile(.25), x.median(),\n",
    "                      x.quantile(.75), x.quantile(.90), x.quantile(.95), x.quantile(.99), x.mean(), \n",
    "                      x.max(), x.idxmax(), x.mode(), x.mad(), x.var(), x.std(), x.skew(), x.kurt()], \n",
    "                     index=['非空数', '求和', '最小值', '最小值位置', '25%分位数', '中位数', '75%分位数', \n",
    "                            '90%分位数', '95%分位数', '99%分位数', '均值', '最大值', '最大值位数', '众数', \n",
    "                            '平均绝对偏差', '方差', '标准差', '偏度', '峰度'])"
   ]
  },
  {
   "cell_type": "markdown",
   "metadata": {
    "heading_collapsed": true,
    "hidden": true
   },
   "source": [
    "### sample5000"
   ]
  },
  {
   "cell_type": "code",
   "execution_count": 15,
   "metadata": {
    "hidden": true
   },
   "outputs": [],
   "source": [
    "data.to_excel(r\"/home/hxjiang/Pythonworkspace/patent/sample5000/after_process.xlsx\", encoding='utf-8')"
   ]
  },
  {
   "cell_type": "code",
   "execution_count": 16,
   "metadata": {
    "hidden": true
   },
   "outputs": [],
   "source": [
    "result_data = pd.read_excel(r\"/home/hxjiang/Pythonworkspace/patent/sample5000/sample.xlsx\", encoding='utf-8')"
   ]
  },
  {
   "cell_type": "code",
   "execution_count": 17,
   "metadata": {
    "hidden": true
   },
   "outputs": [
    {
     "data": {
      "text/html": [
       "<div>\n",
       "<style>\n",
       "    .dataframe thead tr:only-child th {\n",
       "        text-align: right;\n",
       "    }\n",
       "\n",
       "    .dataframe thead th {\n",
       "        text-align: left;\n",
       "    }\n",
       "\n",
       "    .dataframe tbody tr th {\n",
       "        vertical-align: top;\n",
       "    }\n",
       "</style>\n",
       "<table border=\"1\" class=\"dataframe\">\n",
       "  <thead>\n",
       "    <tr style=\"text-align: right;\">\n",
       "      <th></th>\n",
       "      <th>application_id</th>\n",
       "      <th>cpc_class</th>\n",
       "      <th>location</th>\n",
       "      <th>result</th>\n",
       "    </tr>\n",
       "  </thead>\n",
       "  <tbody>\n",
       "    <tr>\n",
       "      <th>3929</th>\n",
       "      <td>12830339</td>\n",
       "      <td>A-01-G-13</td>\n",
       "      <td>2012/ipa120105/US20120000122A1.xml</td>\n",
       "      <td>0</td>\n",
       "    </tr>\n",
       "    <tr>\n",
       "      <th>1848</th>\n",
       "      <td>13044144</td>\n",
       "      <td>C-09-K-3</td>\n",
       "      <td>2012/ipa120105/US20120000137A1.xml</td>\n",
       "      <td>1</td>\n",
       "    </tr>\n",
       "  </tbody>\n",
       "</table>\n",
       "</div>"
      ],
      "text/plain": [
       "      application_id  cpc_class                            location  result\n",
       "3929        12830339  A-01-G-13  2012/ipa120105/US20120000122A1.xml       0\n",
       "1848        13044144   C-09-K-3  2012/ipa120105/US20120000137A1.xml       1"
      ]
     },
     "execution_count": 17,
     "metadata": {},
     "output_type": "execute_result"
    }
   ],
   "source": [
    "result_data.head(2)"
   ]
  },
  {
   "cell_type": "code",
   "execution_count": 19,
   "metadata": {
    "hidden": true
   },
   "outputs": [
    {
     "data": {
      "text/html": [
       "<div>\n",
       "<style>\n",
       "    .dataframe thead tr:only-child th {\n",
       "        text-align: right;\n",
       "    }\n",
       "\n",
       "    .dataframe thead th {\n",
       "        text-align: left;\n",
       "    }\n",
       "\n",
       "    .dataframe tbody tr th {\n",
       "        vertical-align: top;\n",
       "    }\n",
       "</style>\n",
       "<table border=\"1\" class=\"dataframe\">\n",
       "  <thead>\n",
       "    <tr style=\"text-align: right;\">\n",
       "      <th></th>\n",
       "      <th>number_of_abstract_words</th>\n",
       "      <th>number_of_claims_words</th>\n",
       "      <th>number_of_abstract_senteces</th>\n",
       "      <th>number_of_claims_senteces</th>\n",
       "      <th>result</th>\n",
       "    </tr>\n",
       "  </thead>\n",
       "  <tbody>\n",
       "    <tr>\n",
       "      <th>非空数</th>\n",
       "      <td>5000</td>\n",
       "      <td>5000</td>\n",
       "      <td>5000</td>\n",
       "      <td>5000</td>\n",
       "      <td>5000</td>\n",
       "    </tr>\n",
       "    <tr>\n",
       "      <th>求和</th>\n",
       "      <td>316473</td>\n",
       "      <td>2676360</td>\n",
       "      <td>16913</td>\n",
       "      <td>92112</td>\n",
       "      <td>2500</td>\n",
       "    </tr>\n",
       "    <tr>\n",
       "      <th>最小值</th>\n",
       "      <td>4</td>\n",
       "      <td>8</td>\n",
       "      <td>1</td>\n",
       "      <td>1</td>\n",
       "      <td>0</td>\n",
       "    </tr>\n",
       "    <tr>\n",
       "      <th>最小值位置</th>\n",
       "      <td>4023</td>\n",
       "      <td>1531</td>\n",
       "      <td>5</td>\n",
       "      <td>91</td>\n",
       "      <td>0</td>\n",
       "    </tr>\n",
       "    <tr>\n",
       "      <th>25%分位数</th>\n",
       "      <td>45</td>\n",
       "      <td>303</td>\n",
       "      <td>2</td>\n",
       "      <td>12</td>\n",
       "      <td>0</td>\n",
       "    </tr>\n",
       "    <tr>\n",
       "      <th>中位数</th>\n",
       "      <td>64</td>\n",
       "      <td>465</td>\n",
       "      <td>3</td>\n",
       "      <td>19</td>\n",
       "      <td>0.5</td>\n",
       "    </tr>\n",
       "    <tr>\n",
       "      <th>75%分位数</th>\n",
       "      <td>82</td>\n",
       "      <td>675.25</td>\n",
       "      <td>5</td>\n",
       "      <td>21</td>\n",
       "      <td>1</td>\n",
       "    </tr>\n",
       "    <tr>\n",
       "      <th>90%分位数</th>\n",
       "      <td>92</td>\n",
       "      <td>920.1</td>\n",
       "      <td>6</td>\n",
       "      <td>29</td>\n",
       "      <td>1</td>\n",
       "    </tr>\n",
       "    <tr>\n",
       "      <th>95%分位数</th>\n",
       "      <td>98</td>\n",
       "      <td>1153.1</td>\n",
       "      <td>7</td>\n",
       "      <td>37</td>\n",
       "      <td>1</td>\n",
       "    </tr>\n",
       "    <tr>\n",
       "      <th>99%分位数</th>\n",
       "      <td>122</td>\n",
       "      <td>1877.09</td>\n",
       "      <td>9</td>\n",
       "      <td>58.01</td>\n",
       "      <td>1</td>\n",
       "    </tr>\n",
       "    <tr>\n",
       "      <th>均值</th>\n",
       "      <td>63.2946</td>\n",
       "      <td>535.272</td>\n",
       "      <td>3.3826</td>\n",
       "      <td>18.4224</td>\n",
       "      <td>0.5</td>\n",
       "    </tr>\n",
       "    <tr>\n",
       "      <th>最大值</th>\n",
       "      <td>172</td>\n",
       "      <td>5491</td>\n",
       "      <td>13</td>\n",
       "      <td>215</td>\n",
       "      <td>1</td>\n",
       "    </tr>\n",
       "    <tr>\n",
       "      <th>最大值位数</th>\n",
       "      <td>4679</td>\n",
       "      <td>402</td>\n",
       "      <td>2546</td>\n",
       "      <td>3761</td>\n",
       "      <td>1</td>\n",
       "    </tr>\n",
       "    <tr>\n",
       "      <th>众数</th>\n",
       "      <td>0    85\n",
       "dtype: int64</td>\n",
       "      <td>0    435\n",
       "dtype: int64</td>\n",
       "      <td>0    2\n",
       "dtype: int64</td>\n",
       "      <td>0    20\n",
       "dtype: int64</td>\n",
       "      <td>0    0\n",
       "1    1\n",
       "dtype: int64</td>\n",
       "    </tr>\n",
       "    <tr>\n",
       "      <th>平均绝对偏差</th>\n",
       "      <td>19.8889</td>\n",
       "      <td>249.183</td>\n",
       "      <td>1.62406</td>\n",
       "      <td>7.23379</td>\n",
       "      <td>0.5</td>\n",
       "    </tr>\n",
       "    <tr>\n",
       "      <th>方差</th>\n",
       "      <td>591.108</td>\n",
       "      <td>133347</td>\n",
       "      <td>3.9174</td>\n",
       "      <td>129.314</td>\n",
       "      <td>0.25005</td>\n",
       "    </tr>\n",
       "    <tr>\n",
       "      <th>标准差</th>\n",
       "      <td>24.3127</td>\n",
       "      <td>365.168</td>\n",
       "      <td>1.97924</td>\n",
       "      <td>11.3716</td>\n",
       "      <td>0.50005</td>\n",
       "    </tr>\n",
       "    <tr>\n",
       "      <th>偏度</th>\n",
       "      <td>0.133518</td>\n",
       "      <td>2.93324</td>\n",
       "      <td>0.811464</td>\n",
       "      <td>3.60816</td>\n",
       "      <td>0</td>\n",
       "    </tr>\n",
       "    <tr>\n",
       "      <th>峰度</th>\n",
       "      <td>0.157832</td>\n",
       "      <td>19.6568</td>\n",
       "      <td>0.408113</td>\n",
       "      <td>33.5574</td>\n",
       "      <td>-2.0008</td>\n",
       "    </tr>\n",
       "  </tbody>\n",
       "</table>\n",
       "</div>"
      ],
      "text/plain": [
       "       number_of_abstract_words number_of_claims_words  \\\n",
       "非空数                        5000                   5000   \n",
       "求和                       316473                2676360   \n",
       "最小值                           4                      8   \n",
       "最小值位置                      4023                   1531   \n",
       "25%分位数                       45                    303   \n",
       "中位数                          64                    465   \n",
       "75%分位数                       82                 675.25   \n",
       "90%分位数                       92                  920.1   \n",
       "95%分位数                       98                 1153.1   \n",
       "99%分位数                      122                1877.09   \n",
       "均值                      63.2946                535.272   \n",
       "最大值                         172                   5491   \n",
       "最大值位数                      4679                    402   \n",
       "众数         0    85\n",
       "dtype: int64  0    435\n",
       "dtype: int64   \n",
       "平均绝对偏差                  19.8889                249.183   \n",
       "方差                      591.108                 133347   \n",
       "标准差                     24.3127                365.168   \n",
       "偏度                     0.133518                2.93324   \n",
       "峰度                     0.157832                19.6568   \n",
       "\n",
       "       number_of_abstract_senteces number_of_claims_senteces  \\\n",
       "非空数                           5000                      5000   \n",
       "求和                           16913                     92112   \n",
       "最小值                              1                         1   \n",
       "最小值位置                            5                        91   \n",
       "25%分位数                           2                        12   \n",
       "中位数                              3                        19   \n",
       "75%分位数                           5                        21   \n",
       "90%分位数                           6                        29   \n",
       "95%分位数                           7                        37   \n",
       "99%分位数                           9                     58.01   \n",
       "均值                          3.3826                   18.4224   \n",
       "最大值                             13                       215   \n",
       "最大值位数                         2546                      3761   \n",
       "众数             0    2\n",
       "dtype: int64      0    20\n",
       "dtype: int64   \n",
       "平均绝对偏差                     1.62406                   7.23379   \n",
       "方差                          3.9174                   129.314   \n",
       "标准差                        1.97924                   11.3716   \n",
       "偏度                        0.811464                   3.60816   \n",
       "峰度                        0.408113                   33.5574   \n",
       "\n",
       "                            result  \n",
       "非空数                           5000  \n",
       "求和                            2500  \n",
       "最小值                              0  \n",
       "最小值位置                            0  \n",
       "25%分位数                           0  \n",
       "中位数                            0.5  \n",
       "75%分位数                           1  \n",
       "90%分位数                           1  \n",
       "95%分位数                           1  \n",
       "99%分位数                           1  \n",
       "均值                             0.5  \n",
       "最大值                              1  \n",
       "最大值位数                            1  \n",
       "众数      0    0\n",
       "1    1\n",
       "dtype: int64  \n",
       "平均绝对偏差                         0.5  \n",
       "方差                         0.25005  \n",
       "标准差                        0.50005  \n",
       "偏度                               0  \n",
       "峰度                         -2.0008  "
      ]
     },
     "execution_count": 19,
     "metadata": {},
     "output_type": "execute_result"
    }
   ],
   "source": [
    "df = pd.DataFrame(np.array([len_abstract, len_claims, abstract_max_len, claims_max_len, result_data['result']]).T, columns=[\n",
    "                  'number_of_abstract_words', 'number_of_claims_words', 'number_of_abstract_senteces', 'number_of_claims_senteces', 'result'])\n",
    "df.apply(status)"
   ]
  },
  {
   "cell_type": "code",
   "execution_count": 20,
   "metadata": {
    "cell_style": "split",
    "hidden": true
   },
   "outputs": [
    {
     "data": {
      "image/png": "[encoded data removed]",
      "text/plain": [
       "<Figure size 720x432 with 4 Axes>"
      ]
     },
     "metadata": {
      "needs_background": "light"
     },
     "output_type": "display_data"
    }
   ],
   "source": [
    "fig = plt.figure(figsize=(10, 6))\n",
    "\n",
    "plt.subplot(221)\n",
    "plt.plot(df['number_of_abstract_words'].index, df['number_of_abstract_words'].values)\n",
    "plt.ylabel(\"number of words\")\n",
    "plt.xlabel(\"abstract\")\n",
    "\n",
    "plt.subplot(222)\n",
    "plt.plot(df['number_of_claims_words'].index, df['number_of_claims_words'].values)\n",
    "plt.ylabel(\"number of words\")\n",
    "plt.xlabel(\"claims\")\n",
    "\n",
    "plt.subplot(223)\n",
    "plt.plot(df['number_of_abstract_senteces'].index, df['number_of_abstract_senteces'].values)\n",
    "plt.ylabel(\"number of sentences\")\n",
    "plt.xlabel(\"abstract\")\n",
    "\n",
    "plt.subplot(224)\n",
    "plt.plot(df['number_of_claims_senteces'].index, df['number_of_claims_senteces'].values)\n",
    "plt.ylabel(\"number of sentences\")\n",
    "plt.xlabel(\"claims\")\n",
    "\n",
    "plt.show()"
   ]
  },
  {
   "cell_type": "code",
   "execution_count": 21,
   "metadata": {
    "cell_style": "split",
    "hidden": true,
    "scrolled": true
   },
   "outputs": [
    {
     "data": {
      "image/png": "[encoded data removed]",
      "text/plain": [
       "<Figure size 720x432 with 4 Axes>"
      ]
     },
     "metadata": {
      "needs_background": "light"
     },
     "output_type": "display_data"
    }
   ],
   "source": [
    "fig = plt.figure(figsize=(10, 6))\n",
    "\n",
    "plt.subplot(221)\n",
    "df1 = df[df['result'] == 1]\n",
    "plt.scatter(df1.index, df1['number_of_abstract_words'], label=\"success\")\n",
    "df2 = df[df['result'] == 0]\n",
    "plt.scatter(df2.index, df2['number_of_abstract_words'], label=\"fail\")\n",
    "plt.ylabel(\"number of words\")\n",
    "plt.xlabel(\"abstract\")\n",
    "\n",
    "plt.subplot(222)\n",
    "df1 = df[df['result'] == 1]\n",
    "plt.scatter(df1.index, df1['number_of_claims_words'], label=\"success\")\n",
    "df2 = df[df['result'] == 0]\n",
    "plt.scatter(df2.index, df2['number_of_claims_words'], label=\"fail\")\n",
    "plt.ylabel(\"number of words\")\n",
    "plt.xlabel(\"claims\")\n",
    "\n",
    "plt.subplot(223)\n",
    "df1 = df[df['result'] == 1]\n",
    "plt.scatter(df1.index, df1['number_of_abstract_senteces'], label=\"success\")\n",
    "df2 = df[df['result'] == 0]\n",
    "plt.scatter(df2.index, df2['number_of_abstract_senteces'], label=\"fail\")\n",
    "plt.ylabel(\"number of sentences\")\n",
    "plt.xlabel(\"abstract\")\n",
    "\n",
    "plt.subplot(224)\n",
    "df1 = df[df['result'] == 1]\n",
    "plt.scatter(df1.index, df1['number_of_claims_senteces'], label=\"success\")\n",
    "df2 = df[df['result'] == 0]\n",
    "plt.scatter(df2.index, df2['number_of_claims_senteces'], label=\"fail\")\n",
    "plt.ylabel(\"number of sentences\")\n",
    "plt.xlabel(\"claims\")\n",
    "\n",
    "plt.legend()\n",
    "plt.grid()\n",
    "plt.show()"
   ]
  },
  {
   "cell_type": "markdown",
   "metadata": {
    "heading_collapsed": true,
    "hidden": true
   },
   "source": [
    "### sample10000"
   ]
  },
  {
   "cell_type": "code",
   "execution_count": 44,
   "metadata": {
    "hidden": true
   },
   "outputs": [],
   "source": [
    "data.to_excel(r\"/home/hxjiang/Pythonworkspace/patent/sample10000/after_process.xlsx\", encoding='utf-8')"
   ]
  },
  {
   "cell_type": "code",
   "execution_count": 45,
   "metadata": {
    "hidden": true
   },
   "outputs": [],
   "source": [
    "result_data = pd.read_excel(r\"/home/hxjiang/Pythonworkspace/patent/sample10000/sample.xlsx\", encoding='utf-8')"
   ]
  },
  {
   "cell_type": "code",
   "execution_count": 46,
   "metadata": {
    "hidden": true
   },
   "outputs": [
    {
     "data": {
      "text/html": [
       "<div>\n",
       "<style>\n",
       "    .dataframe thead tr:only-child th {\n",
       "        text-align: right;\n",
       "    }\n",
       "\n",
       "    .dataframe thead th {\n",
       "        text-align: left;\n",
       "    }\n",
       "\n",
       "    .dataframe tbody tr th {\n",
       "        vertical-align: top;\n",
       "    }\n",
       "</style>\n",
       "<table border=\"1\" class=\"dataframe\">\n",
       "  <thead>\n",
       "    <tr style=\"text-align: right;\">\n",
       "      <th></th>\n",
       "      <th>application_id</th>\n",
       "      <th>cpc_class</th>\n",
       "      <th>location</th>\n",
       "      <th>result</th>\n",
       "    </tr>\n",
       "  </thead>\n",
       "  <tbody>\n",
       "    <tr>\n",
       "      <th>1805</th>\n",
       "      <td>13136962</td>\n",
       "      <td>A-61-G-17</td>\n",
       "      <td>2012/ipa120105/US20120000044A1.xml</td>\n",
       "      <td>1</td>\n",
       "    </tr>\n",
       "    <tr>\n",
       "      <th>1821</th>\n",
       "      <td>13229569</td>\n",
       "      <td>B-23-P-13</td>\n",
       "      <td>2012/ipa120105/US20120000073A1.xml</td>\n",
       "      <td>1</td>\n",
       "    </tr>\n",
       "  </tbody>\n",
       "</table>\n",
       "</div>"
      ],
      "text/plain": [
       "      application_id  cpc_class                            location  result\n",
       "1805        13136962  A-61-G-17  2012/ipa120105/US20120000044A1.xml       1\n",
       "1821        13229569  B-23-P-13  2012/ipa120105/US20120000073A1.xml       1"
      ]
     },
     "execution_count": 46,
     "metadata": {},
     "output_type": "execute_result"
    }
   ],
   "source": [
    "result_data.head(2)"
   ]
  },
  {
   "cell_type": "code",
   "execution_count": 47,
   "metadata": {
    "hidden": true
   },
   "outputs": [
    {
     "data": {
      "text/html": [
       "<div>\n",
       "<style>\n",
       "    .dataframe thead tr:only-child th {\n",
       "        text-align: right;\n",
       "    }\n",
       "\n",
       "    .dataframe thead th {\n",
       "        text-align: left;\n",
       "    }\n",
       "\n",
       "    .dataframe tbody tr th {\n",
       "        vertical-align: top;\n",
       "    }\n",
       "</style>\n",
       "<table border=\"1\" class=\"dataframe\">\n",
       "  <thead>\n",
       "    <tr style=\"text-align: right;\">\n",
       "      <th></th>\n",
       "      <th>number_of_abstract_words</th>\n",
       "      <th>number_of_claims_words</th>\n",
       "      <th>number_of_abstract_senteces</th>\n",
       "      <th>number_of_claims_senteces</th>\n",
       "      <th>result</th>\n",
       "    </tr>\n",
       "  </thead>\n",
       "  <tbody>\n",
       "    <tr>\n",
       "      <th>非空数</th>\n",
       "      <td>10000</td>\n",
       "      <td>10000</td>\n",
       "      <td>10000</td>\n",
       "      <td>10000</td>\n",
       "      <td>10000</td>\n",
       "    </tr>\n",
       "    <tr>\n",
       "      <th>求和</th>\n",
       "      <td>634026</td>\n",
       "      <td>5441699</td>\n",
       "      <td>33566</td>\n",
       "      <td>183505</td>\n",
       "      <td>5000</td>\n",
       "    </tr>\n",
       "    <tr>\n",
       "      <th>最小值</th>\n",
       "      <td>4</td>\n",
       "      <td>8</td>\n",
       "      <td>1</td>\n",
       "      <td>1</td>\n",
       "      <td>0</td>\n",
       "    </tr>\n",
       "    <tr>\n",
       "      <th>最小值位置</th>\n",
       "      <td>8038</td>\n",
       "      <td>3379</td>\n",
       "      <td>0</td>\n",
       "      <td>62</td>\n",
       "      <td>2</td>\n",
       "    </tr>\n",
       "    <tr>\n",
       "      <th>25%分位数</th>\n",
       "      <td>46</td>\n",
       "      <td>312.75</td>\n",
       "      <td>2</td>\n",
       "      <td>11.75</td>\n",
       "      <td>0</td>\n",
       "    </tr>\n",
       "    <tr>\n",
       "      <th>中位数</th>\n",
       "      <td>64</td>\n",
       "      <td>472</td>\n",
       "      <td>3</td>\n",
       "      <td>19</td>\n",
       "      <td>0.5</td>\n",
       "    </tr>\n",
       "    <tr>\n",
       "      <th>75%分位数</th>\n",
       "      <td>81</td>\n",
       "      <td>677</td>\n",
       "      <td>5</td>\n",
       "      <td>21</td>\n",
       "      <td>1</td>\n",
       "    </tr>\n",
       "    <tr>\n",
       "      <th>90%分位数</th>\n",
       "      <td>92</td>\n",
       "      <td>939</td>\n",
       "      <td>6</td>\n",
       "      <td>29</td>\n",
       "      <td>1</td>\n",
       "    </tr>\n",
       "    <tr>\n",
       "      <th>95%分位数</th>\n",
       "      <td>98</td>\n",
       "      <td>1180.05</td>\n",
       "      <td>7</td>\n",
       "      <td>36</td>\n",
       "      <td>1</td>\n",
       "    </tr>\n",
       "    <tr>\n",
       "      <th>99%分位数</th>\n",
       "      <td>125</td>\n",
       "      <td>1920.01</td>\n",
       "      <td>9</td>\n",
       "      <td>59</td>\n",
       "      <td>1</td>\n",
       "    </tr>\n",
       "    <tr>\n",
       "      <th>均值</th>\n",
       "      <td>63.4026</td>\n",
       "      <td>544.17</td>\n",
       "      <td>3.3566</td>\n",
       "      <td>18.3505</td>\n",
       "      <td>0.5</td>\n",
       "    </tr>\n",
       "    <tr>\n",
       "      <th>最大值</th>\n",
       "      <td>339</td>\n",
       "      <td>6697</td>\n",
       "      <td>19</td>\n",
       "      <td>297</td>\n",
       "      <td>1</td>\n",
       "    </tr>\n",
       "    <tr>\n",
       "      <th>最大值位数</th>\n",
       "      <td>2944</td>\n",
       "      <td>6959</td>\n",
       "      <td>2944</td>\n",
       "      <td>6412</td>\n",
       "      <td>0</td>\n",
       "    </tr>\n",
       "    <tr>\n",
       "      <th>众数</th>\n",
       "      <td>0    78\n",
       "dtype: int64</td>\n",
       "      <td>0    494\n",
       "dtype: int64</td>\n",
       "      <td>0    2\n",
       "dtype: int64</td>\n",
       "      <td>0    20\n",
       "dtype: int64</td>\n",
       "      <td>0    0\n",
       "1    1\n",
       "dtype: int64</td>\n",
       "    </tr>\n",
       "    <tr>\n",
       "      <th>平均绝对偏差</th>\n",
       "      <td>19.917</td>\n",
       "      <td>251.784</td>\n",
       "      <td>1.61319</td>\n",
       "      <td>7.16175</td>\n",
       "      <td>0.5</td>\n",
       "    </tr>\n",
       "    <tr>\n",
       "      <th>方差</th>\n",
       "      <td>607.586</td>\n",
       "      <td>141851</td>\n",
       "      <td>3.94503</td>\n",
       "      <td>129.24</td>\n",
       "      <td>0.250025</td>\n",
       "    </tr>\n",
       "    <tr>\n",
       "      <th>标准差</th>\n",
       "      <td>24.6493</td>\n",
       "      <td>376.631</td>\n",
       "      <td>1.98621</td>\n",
       "      <td>11.3684</td>\n",
       "      <td>0.500025</td>\n",
       "    </tr>\n",
       "    <tr>\n",
       "      <th>偏度</th>\n",
       "      <td>0.358708</td>\n",
       "      <td>3.29398</td>\n",
       "      <td>0.911451</td>\n",
       "      <td>4.54093</td>\n",
       "      <td>0</td>\n",
       "    </tr>\n",
       "    <tr>\n",
       "      <th>峰度</th>\n",
       "      <td>2.0374</td>\n",
       "      <td>25.2611</td>\n",
       "      <td>1.00478</td>\n",
       "      <td>65.2275</td>\n",
       "      <td>-2.0004</td>\n",
       "    </tr>\n",
       "  </tbody>\n",
       "</table>\n",
       "</div>"
      ],
      "text/plain": [
       "       number_of_abstract_words number_of_claims_words  \\\n",
       "非空数                       10000                  10000   \n",
       "求和                       634026                5441699   \n",
       "最小值                           4                      8   \n",
       "最小值位置                      8038                   3379   \n",
       "25%分位数                       46                 312.75   \n",
       "中位数                          64                    472   \n",
       "75%分位数                       81                    677   \n",
       "90%分位数                       92                    939   \n",
       "95%分位数                       98                1180.05   \n",
       "99%分位数                      125                1920.01   \n",
       "均值                      63.4026                 544.17   \n",
       "最大值                         339                   6697   \n",
       "最大值位数                      2944                   6959   \n",
       "众数         0    78\n",
       "dtype: int64  0    494\n",
       "dtype: int64   \n",
       "平均绝对偏差                   19.917                251.784   \n",
       "方差                      607.586                 141851   \n",
       "标准差                     24.6493                376.631   \n",
       "偏度                     0.358708                3.29398   \n",
       "峰度                       2.0374                25.2611   \n",
       "\n",
       "       number_of_abstract_senteces number_of_claims_senteces  \\\n",
       "非空数                          10000                     10000   \n",
       "求和                           33566                    183505   \n",
       "最小值                              1                         1   \n",
       "最小值位置                            0                        62   \n",
       "25%分位数                           2                     11.75   \n",
       "中位数                              3                        19   \n",
       "75%分位数                           5                        21   \n",
       "90%分位数                           6                        29   \n",
       "95%分位数                           7                        36   \n",
       "99%分位数                           9                        59   \n",
       "均值                          3.3566                   18.3505   \n",
       "最大值                             19                       297   \n",
       "最大值位数                         2944                      6412   \n",
       "众数             0    2\n",
       "dtype: int64      0    20\n",
       "dtype: int64   \n",
       "平均绝对偏差                     1.61319                   7.16175   \n",
       "方差                         3.94503                    129.24   \n",
       "标准差                        1.98621                   11.3684   \n",
       "偏度                        0.911451                   4.54093   \n",
       "峰度                         1.00478                   65.2275   \n",
       "\n",
       "                            result  \n",
       "非空数                          10000  \n",
       "求和                            5000  \n",
       "最小值                              0  \n",
       "最小值位置                            2  \n",
       "25%分位数                           0  \n",
       "中位数                            0.5  \n",
       "75%分位数                           1  \n",
       "90%分位数                           1  \n",
       "95%分位数                           1  \n",
       "99%分位数                           1  \n",
       "均值                             0.5  \n",
       "最大值                              1  \n",
       "最大值位数                            0  \n",
       "众数      0    0\n",
       "1    1\n",
       "dtype: int64  \n",
       "平均绝对偏差                         0.5  \n",
       "方差                        0.250025  \n",
       "标准差                       0.500025  \n",
       "偏度                               0  \n",
       "峰度                         -2.0004  "
      ]
     },
     "execution_count": 47,
     "metadata": {},
     "output_type": "execute_result"
    }
   ],
   "source": [
    "df = pd.DataFrame(np.array([len_abstract, len_claims, abstract_max_len, claims_max_len, result_data['result']]).T, columns=[\n",
    "                  'number_of_abstract_words', 'number_of_claims_words', 'number_of_abstract_senteces', 'number_of_claims_senteces', 'result'])\n",
    "df.apply(status)"
   ]
  },
  {
   "cell_type": "code",
   "execution_count": 48,
   "metadata": {
    "cell_style": "split",
    "hidden": true
   },
   "outputs": [
    {
     "data": {
      "image/png": "[encoded data removed]",
      "text/plain": [
       "<Figure size 720x432 with 4 Axes>"
      ]
     },
     "metadata": {
      "needs_background": "light"
     },
     "output_type": "display_data"
    }
   ],
   "source": [
    "fig = plt.figure(figsize=(10, 6))\n",
    "\n",
    "plt.subplot(221)\n",
    "plt.plot(df['number_of_abstract_words'].index, df['number_of_abstract_words'].values)\n",
    "plt.ylabel(\"number of words\")\n",
    "plt.xlabel(\"abstract\")\n",
    "\n",
    "plt.subplot(222)\n",
    "plt.plot(df['number_of_claims_words'].index, df['number_of_claims_words'].values)\n",
    "plt.ylabel(\"number of words\")\n",
    "plt.xlabel(\"claims\")\n",
    "\n",
    "plt.subplot(223)\n",
    "plt.plot(df['number_of_abstract_senteces'].index, df['number_of_abstract_senteces'].values)\n",
    "plt.ylabel(\"number of sentences\")\n",
    "plt.xlabel(\"abstract\")\n",
    "\n",
    "plt.subplot(224)\n",
    "plt.plot(df['number_of_claims_senteces'].index, df['number_of_claims_senteces'].values)\n",
    "plt.ylabel(\"number of sentences\")\n",
    "plt.xlabel(\"claims\")\n",
    "\n",
    "plt.show()"
   ]
  },
  {
   "cell_type": "code",
   "execution_count": 49,
   "metadata": {
    "cell_style": "split",
    "hidden": true
   },
   "outputs": [
    {
     "data": {
      "image/png": "[encoded data removed]",
      "text/plain": [
       "<Figure size 720x432 with 4 Axes>"
      ]
     },
     "metadata": {
      "needs_background": "light"
     },
     "output_type": "display_data"
    }
   ],
   "source": [
    "fig = plt.figure(figsize=(10, 6))\n",
    "\n",
    "plt.subplot(221)\n",
    "df1 = df[df['result'] == 1]\n",
    "plt.scatter(df1.index, df1['number_of_abstract_words'], label=\"success\")\n",
    "df2 = df[df['result'] == 0]\n",
    "plt.scatter(df2.index, df2['number_of_abstract_words'], label=\"fail\")\n",
    "plt.ylabel(\"number of words\")\n",
    "plt.xlabel(\"abstract\")\n",
    "\n",
    "plt.subplot(222)\n",
    "df1 = df[df['result'] == 1]\n",
    "plt.scatter(df1.index, df1['number_of_claims_words'], label=\"success\")\n",
    "df2 = df[df['result'] == 0]\n",
    "plt.scatter(df2.index, df2['number_of_claims_words'], label=\"fail\")\n",
    "plt.ylabel(\"number of words\")\n",
    "plt.xlabel(\"claims\")\n",
    "\n",
    "plt.subplot(223)\n",
    "df1 = df[df['result'] == 1]\n",
    "plt.scatter(df1.index, df1['number_of_abstract_senteces'], label=\"success\")\n",
    "df2 = df[df['result'] == 0]\n",
    "plt.scatter(df2.index, df2['number_of_abstract_senteces'], label=\"fail\")\n",
    "plt.ylabel(\"number of sentences\")\n",
    "plt.xlabel(\"abstract\")\n",
    "\n",
    "plt.subplot(224)\n",
    "df1 = df[df['result'] == 1]\n",
    "plt.scatter(df1.index, df1['number_of_claims_senteces'], label=\"success\")\n",
    "df2 = df[df['result'] == 0]\n",
    "plt.scatter(df2.index, df2['number_of_claims_senteces'], label=\"fail\")\n",
    "plt.ylabel(\"number of sentences\")\n",
    "plt.xlabel(\"claims\")\n",
    "\n",
    "plt.legend()\n",
    "plt.grid()\n",
    "plt.show()"
   ]
  },
  {
   "cell_type": "markdown",
   "metadata": {
    "hidden": true
   },
   "source": [
    "### sample200000"
   ]
  },
  {
   "cell_type": "code",
   "execution_count": 74,
   "metadata": {
    "hidden": true
   },
   "outputs": [],
   "source": [
    "data.to_excel(r\"/home/hxjiang/Pythonworkspace/patent/sample20000/after_process.xlsx\", encoding='utf-8')"
   ]
  },
  {
   "cell_type": "code",
   "execution_count": 32,
   "metadata": {
    "hidden": true
   },
   "outputs": [],
   "source": [
    "result_data = pd.read_excel(r\"/home/hxjiang/Pythonworkspace/patent/sample5000/sample.xlsx\", encoding='utf-8')"
   ]
  },
  {
   "cell_type": "code",
   "execution_count": 33,
   "metadata": {
    "hidden": true
   },
   "outputs": [
    {
     "data": {
      "text/html": [
       "<div>\n",
       "<style>\n",
       "    .dataframe thead tr:only-child th {\n",
       "        text-align: right;\n",
       "    }\n",
       "\n",
       "    .dataframe thead th {\n",
       "        text-align: left;\n",
       "    }\n",
       "\n",
       "    .dataframe tbody tr th {\n",
       "        vertical-align: top;\n",
       "    }\n",
       "</style>\n",
       "<table border=\"1\" class=\"dataframe\">\n",
       "  <thead>\n",
       "    <tr style=\"text-align: right;\">\n",
       "      <th></th>\n",
       "      <th>application_id</th>\n",
       "      <th>cpc_class</th>\n",
       "      <th>location</th>\n",
       "      <th>result</th>\n",
       "    </tr>\n",
       "  </thead>\n",
       "  <tbody>\n",
       "    <tr>\n",
       "      <th>3929</th>\n",
       "      <td>12830339</td>\n",
       "      <td>A-01-G-13</td>\n",
       "      <td>2012/ipa120105/US20120000122A1.xml</td>\n",
       "      <td>0</td>\n",
       "    </tr>\n",
       "    <tr>\n",
       "      <th>1848</th>\n",
       "      <td>13044144</td>\n",
       "      <td>C-09-K-3</td>\n",
       "      <td>2012/ipa120105/US20120000137A1.xml</td>\n",
       "      <td>1</td>\n",
       "    </tr>\n",
       "  </tbody>\n",
       "</table>\n",
       "</div>"
      ],
      "text/plain": [
       "      application_id  cpc_class                            location  result\n",
       "3929        12830339  A-01-G-13  2012/ipa120105/US20120000122A1.xml       0\n",
       "1848        13044144   C-09-K-3  2012/ipa120105/US20120000137A1.xml       1"
      ]
     },
     "execution_count": 33,
     "metadata": {},
     "output_type": "execute_result"
    }
   ],
   "source": [
    "result_data.head(2)"
   ]
  },
  {
   "cell_type": "code",
   "execution_count": 34,
   "metadata": {
    "hidden": true
   },
   "outputs": [
    {
     "data": {
      "text/html": [
       "<div>\n",
       "<style>\n",
       "    .dataframe thead tr:only-child th {\n",
       "        text-align: right;\n",
       "    }\n",
       "\n",
       "    .dataframe thead th {\n",
       "        text-align: left;\n",
       "    }\n",
       "\n",
       "    .dataframe tbody tr th {\n",
       "        vertical-align: top;\n",
       "    }\n",
       "</style>\n",
       "<table border=\"1\" class=\"dataframe\">\n",
       "  <thead>\n",
       "    <tr style=\"text-align: right;\">\n",
       "      <th></th>\n",
       "      <th>number_of_abstract_words</th>\n",
       "      <th>number_of_claims_words</th>\n",
       "      <th>number_of_abstract_senteces</th>\n",
       "      <th>number_of_claims_senteces</th>\n",
       "      <th>result</th>\n",
       "    </tr>\n",
       "  </thead>\n",
       "  <tbody>\n",
       "    <tr>\n",
       "      <th>非空数</th>\n",
       "      <td>5000</td>\n",
       "      <td>5000</td>\n",
       "      <td>5000</td>\n",
       "      <td>5000</td>\n",
       "      <td>5000</td>\n",
       "    </tr>\n",
       "    <tr>\n",
       "      <th>求和</th>\n",
       "      <td>316473</td>\n",
       "      <td>2676360</td>\n",
       "      <td>16913</td>\n",
       "      <td>92112</td>\n",
       "      <td>2500</td>\n",
       "    </tr>\n",
       "    <tr>\n",
       "      <th>最小值</th>\n",
       "      <td>4</td>\n",
       "      <td>8</td>\n",
       "      <td>1</td>\n",
       "      <td>1</td>\n",
       "      <td>0</td>\n",
       "    </tr>\n",
       "    <tr>\n",
       "      <th>最小值位置</th>\n",
       "      <td>4023</td>\n",
       "      <td>1531</td>\n",
       "      <td>5</td>\n",
       "      <td>91</td>\n",
       "      <td>0</td>\n",
       "    </tr>\n",
       "    <tr>\n",
       "      <th>25%分位数</th>\n",
       "      <td>45</td>\n",
       "      <td>303</td>\n",
       "      <td>2</td>\n",
       "      <td>12</td>\n",
       "      <td>0</td>\n",
       "    </tr>\n",
       "    <tr>\n",
       "      <th>中位数</th>\n",
       "      <td>64</td>\n",
       "      <td>465</td>\n",
       "      <td>3</td>\n",
       "      <td>19</td>\n",
       "      <td>0.5</td>\n",
       "    </tr>\n",
       "    <tr>\n",
       "      <th>75%分位数</th>\n",
       "      <td>82</td>\n",
       "      <td>675.25</td>\n",
       "      <td>5</td>\n",
       "      <td>21</td>\n",
       "      <td>1</td>\n",
       "    </tr>\n",
       "    <tr>\n",
       "      <th>90%分位数</th>\n",
       "      <td>92</td>\n",
       "      <td>920.1</td>\n",
       "      <td>6</td>\n",
       "      <td>29</td>\n",
       "      <td>1</td>\n",
       "    </tr>\n",
       "    <tr>\n",
       "      <th>95%分位数</th>\n",
       "      <td>98</td>\n",
       "      <td>1153.1</td>\n",
       "      <td>7</td>\n",
       "      <td>37</td>\n",
       "      <td>1</td>\n",
       "    </tr>\n",
       "    <tr>\n",
       "      <th>99%分位数</th>\n",
       "      <td>122</td>\n",
       "      <td>1877.09</td>\n",
       "      <td>9</td>\n",
       "      <td>58.01</td>\n",
       "      <td>1</td>\n",
       "    </tr>\n",
       "    <tr>\n",
       "      <th>均值</th>\n",
       "      <td>63.2946</td>\n",
       "      <td>535.272</td>\n",
       "      <td>3.3826</td>\n",
       "      <td>18.4224</td>\n",
       "      <td>0.5</td>\n",
       "    </tr>\n",
       "    <tr>\n",
       "      <th>最大值</th>\n",
       "      <td>172</td>\n",
       "      <td>5491</td>\n",
       "      <td>13</td>\n",
       "      <td>215</td>\n",
       "      <td>1</td>\n",
       "    </tr>\n",
       "    <tr>\n",
       "      <th>最大值位数</th>\n",
       "      <td>4679</td>\n",
       "      <td>402</td>\n",
       "      <td>2546</td>\n",
       "      <td>3761</td>\n",
       "      <td>1</td>\n",
       "    </tr>\n",
       "    <tr>\n",
       "      <th>众数</th>\n",
       "      <td>0    85\n",
       "dtype: int64</td>\n",
       "      <td>0    435\n",
       "dtype: int64</td>\n",
       "      <td>0    2\n",
       "dtype: int64</td>\n",
       "      <td>0    20\n",
       "dtype: int64</td>\n",
       "      <td>0    0\n",
       "1    1\n",
       "dtype: int64</td>\n",
       "    </tr>\n",
       "    <tr>\n",
       "      <th>平均绝对偏差</th>\n",
       "      <td>19.8889</td>\n",
       "      <td>249.183</td>\n",
       "      <td>1.62406</td>\n",
       "      <td>7.23379</td>\n",
       "      <td>0.5</td>\n",
       "    </tr>\n",
       "    <tr>\n",
       "      <th>方差</th>\n",
       "      <td>591.108</td>\n",
       "      <td>133347</td>\n",
       "      <td>3.9174</td>\n",
       "      <td>129.314</td>\n",
       "      <td>0.25005</td>\n",
       "    </tr>\n",
       "    <tr>\n",
       "      <th>标准差</th>\n",
       "      <td>24.3127</td>\n",
       "      <td>365.168</td>\n",
       "      <td>1.97924</td>\n",
       "      <td>11.3716</td>\n",
       "      <td>0.50005</td>\n",
       "    </tr>\n",
       "    <tr>\n",
       "      <th>偏度</th>\n",
       "      <td>0.133518</td>\n",
       "      <td>2.93324</td>\n",
       "      <td>0.811464</td>\n",
       "      <td>3.60816</td>\n",
       "      <td>0</td>\n",
       "    </tr>\n",
       "    <tr>\n",
       "      <th>峰度</th>\n",
       "      <td>0.157832</td>\n",
       "      <td>19.6568</td>\n",
       "      <td>0.408113</td>\n",
       "      <td>33.5574</td>\n",
       "      <td>-2.0008</td>\n",
       "    </tr>\n",
       "  </tbody>\n",
       "</table>\n",
       "</div>"
      ],
      "text/plain": [
       "       number_of_abstract_words number_of_claims_words  \\\n",
       "非空数                        5000                   5000   \n",
       "求和                       316473                2676360   \n",
       "最小值                           4                      8   \n",
       "最小值位置                      4023                   1531   \n",
       "25%分位数                       45                    303   \n",
       "中位数                          64                    465   \n",
       "75%分位数                       82                 675.25   \n",
       "90%分位数                       92                  920.1   \n",
       "95%分位数                       98                 1153.1   \n",
       "99%分位数                      122                1877.09   \n",
       "均值                      63.2946                535.272   \n",
       "最大值                         172                   5491   \n",
       "最大值位数                      4679                    402   \n",
       "众数         0    85\n",
       "dtype: int64  0    435\n",
       "dtype: int64   \n",
       "平均绝对偏差                  19.8889                249.183   \n",
       "方差                      591.108                 133347   \n",
       "标准差                     24.3127                365.168   \n",
       "偏度                     0.133518                2.93324   \n",
       "峰度                     0.157832                19.6568   \n",
       "\n",
       "       number_of_abstract_senteces number_of_claims_senteces  \\\n",
       "非空数                           5000                      5000   \n",
       "求和                           16913                     92112   \n",
       "最小值                              1                         1   \n",
       "最小值位置                            5                        91   \n",
       "25%分位数                           2                        12   \n",
       "中位数                              3                        19   \n",
       "75%分位数                           5                        21   \n",
       "90%分位数                           6                        29   \n",
       "95%分位数                           7                        37   \n",
       "99%分位数                           9                     58.01   \n",
       "均值                          3.3826                   18.4224   \n",
       "最大值                             13                       215   \n",
       "最大值位数                         2546                      3761   \n",
       "众数             0    2\n",
       "dtype: int64      0    20\n",
       "dtype: int64   \n",
       "平均绝对偏差                     1.62406                   7.23379   \n",
       "方差                          3.9174                   129.314   \n",
       "标准差                        1.97924                   11.3716   \n",
       "偏度                        0.811464                   3.60816   \n",
       "峰度                        0.408113                   33.5574   \n",
       "\n",
       "                            result  \n",
       "非空数                           5000  \n",
       "求和                            2500  \n",
       "最小值                              0  \n",
       "最小值位置                            0  \n",
       "25%分位数                           0  \n",
       "中位数                            0.5  \n",
       "75%分位数                           1  \n",
       "90%分位数                           1  \n",
       "95%分位数                           1  \n",
       "99%分位数                           1  \n",
       "均值                             0.5  \n",
       "最大值                              1  \n",
       "最大值位数                            1  \n",
       "众数      0    0\n",
       "1    1\n",
       "dtype: int64  \n",
       "平均绝对偏差                         0.5  \n",
       "方差                         0.25005  \n",
       "标准差                        0.50005  \n",
       "偏度                               0  \n",
       "峰度                         -2.0008  "
      ]
     },
     "execution_count": 34,
     "metadata": {},
     "output_type": "execute_result"
    }
   ],
   "source": [
    "df = pd.DataFrame(np.array([data['abstract_count'], data['claims_count'], data['abstract_sen_count'], data['claims_sen_count'], result_data['result']]).T, columns=[\n",
    "                  'number_of_abstract_words', 'number_of_claims_words', 'number_of_abstract_senteces', 'number_of_claims_senteces', 'result'])\n",
    "df.apply(status)"
   ]
  },
  {
   "cell_type": "code",
   "execution_count": 27,
   "metadata": {
    "cell_style": "split",
    "hidden": true
   },
   "outputs": [
    {
     "data": {
      "image/png": "[encoded data removed]",
      "text/plain": [
       "<Figure size 720x432 with 4 Axes>"
      ]
     },
     "metadata": {
      "needs_background": "light"
     },
     "output_type": "display_data"
    }
   ],
   "source": [
    "fig = plt.figure(figsize=(10, 6))\n",
    "\n",
    "plt.subplot(221)\n",
    "plt.plot(df['number_of_abstract_words'].index, df['number_of_abstract_words'].values)\n",
    "plt.ylabel(\"number of words\")\n",
    "plt.xlabel(\"abstract\")\n",
    "\n",
    "plt.subplot(222)\n",
    "plt.plot(df['number_of_claims_words'].index, df['number_of_claims_words'].values)\n",
    "plt.ylabel(\"number of words\")\n",
    "plt.xlabel(\"claims\")\n",
    "\n",
    "plt.subplot(223)\n",
    "plt.plot(df['number_of_abstract_senteces'].index, df['number_of_abstract_senteces'].values)\n",
    "plt.ylabel(\"number of sentences\")\n",
    "plt.xlabel(\"abstract\")\n",
    "\n",
    "plt.subplot(224)\n",
    "plt.plot(df['number_of_claims_senteces'].index, df['number_of_claims_senteces'].values)\n",
    "plt.ylabel(\"number of sentences\")\n",
    "plt.xlabel(\"claims\")\n",
    "\n",
    "plt.show()"
   ]
  },
  {
   "cell_type": "code",
   "execution_count": 35,
   "metadata": {
    "cell_style": "center",
    "hidden": true
   },
   "outputs": [
    {
     "data": {
      "image/png": "[encoded data removed]",
      "text/plain": [
       "<Figure size 720x432 with 4 Axes>"
      ]
     },
     "metadata": {
      "needs_background": "light"
     },
     "output_type": "display_data"
    }
   ],
   "source": [
    "fig = plt.figure(figsize=(10, 6))\n",
    "\n",
    "plt.subplot(222)\n",
    "df1 = df[df['result'] == 1]\n",
    "plt.scatter(df1.index, df1['number_of_abstract_words'], label=\"success\")\n",
    "df2 = df[df['result'] == 0]\n",
    "plt.scatter(df2.index, df2['number_of_abstract_words'], label=\"fail\")\n",
    "plt.ylabel(\"number of words\")\n",
    "plt.xlabel(\"abstract\")\n",
    "\n",
    "plt.subplot(224)\n",
    "df1 = df[df['result'] == 1]\n",
    "plt.scatter(df1.index, df1['number_of_claims_words'], label=\"success\")\n",
    "df2 = df[df['result'] == 0]\n",
    "plt.scatter(df2.index, df2['number_of_claims_words'], label=\"fail\")\n",
    "plt.ylabel(\"number of words\")\n",
    "plt.xlabel(\"claims\")\n",
    "\n",
    "plt.subplot(221)\n",
    "df1 = df[df['result'] == 1]\n",
    "plt.scatter(df1.index, df1['number_of_abstract_senteces'], label=\"success\")\n",
    "df2 = df[df['result'] == 0]\n",
    "plt.scatter(df2.index, df2['number_of_abstract_senteces'], label=\"fail\")\n",
    "plt.ylabel(\"number of sentences\")\n",
    "plt.xlabel(\"abstract\")\n",
    "\n",
    "plt.subplot(223)\n",
    "df1 = df[df['result'] == 1]\n",
    "plt.scatter(df1.index, df1['number_of_claims_senteces'], label=\"success\")\n",
    "df2 = df[df['result'] == 0]\n",
    "plt.scatter(df2.index, df2['number_of_claims_senteces'], label=\"fail\")\n",
    "plt.ylabel(\"number of sentences\")\n",
    "plt.xlabel(\"claims\")\n",
    "\n",
    "plt.legend()\n",
    "plt.grid()\n",
    "plt.show()"
   ]
  },
  {
   "cell_type": "markdown",
   "metadata": {},
   "source": [
    "# TF-IDF"
   ]
  },
  {
   "cell_type": "code",
   "execution_count": 4,
   "metadata": {},
   "outputs": [
    {
     "data": {
      "text/html": [
       "<div>\n",
       "<style>\n",
       "    .dataframe thead tr:only-child th {\n",
       "        text-align: right;\n",
       "    }\n",
       "\n",
       "    .dataframe thead th {\n",
       "        text-align: left;\n",
       "    }\n",
       "\n",
       "    .dataframe tbody tr th {\n",
       "        vertical-align: top;\n",
       "    }\n",
       "</style>\n",
       "<table border=\"1\" class=\"dataframe\">\n",
       "  <thead>\n",
       "    <tr style=\"text-align: right;\">\n",
       "      <th></th>\n",
       "      <th>abstract</th>\n",
       "      <th>application_id</th>\n",
       "      <th>claims</th>\n",
       "      <th>location</th>\n",
       "      <th>title</th>\n",
       "      <th>claims_add1</th>\n",
       "      <th>abstract_sen_count</th>\n",
       "      <th>claims_sen_count</th>\n",
       "      <th>abstract_final</th>\n",
       "      <th>abstract_count</th>\n",
       "      <th>claims_final</th>\n",
       "      <th>claims_count</th>\n",
       "    </tr>\n",
       "  </thead>\n",
       "  <tbody>\n",
       "    <tr>\n",
       "      <th>0</th>\n",
       "      <td>['The', 'present', 'invention', 'provides', 'a...</td>\n",
       "      <td>13027052</td>\n",
       "      <td>['1', '.', 'A', 'hand-utility', 'interface', '...</td>\n",
       "      <td>2012/ipa120105/US20120000001A1.xml</td>\n",
       "      <td>HAND UTILITY INTERFACE</td>\n",
       "      <td>NaN</td>\n",
       "      <td>2</td>\n",
       "      <td>29</td>\n",
       "      <td>['The', 'present', 'invention', 'provide', 'in...</td>\n",
       "      <td>34</td>\n",
       "      <td>['A', 'interface', 'use', 'protect', 'users', ...</td>\n",
       "      <td>383</td>\n",
       "    </tr>\n",
       "  </tbody>\n",
       "</table>\n",
       "</div>"
      ],
      "text/plain": [
       "                                            abstract  application_id  \\\n",
       "0  ['The', 'present', 'invention', 'provides', 'a...        13027052   \n",
       "\n",
       "                                              claims  \\\n",
       "0  ['1', '.', 'A', 'hand-utility', 'interface', '...   \n",
       "\n",
       "                             location                   title claims_add1  \\\n",
       "0  2012/ipa120105/US20120000001A1.xml  HAND UTILITY INTERFACE         NaN   \n",
       "\n",
       "   abstract_sen_count  claims_sen_count  \\\n",
       "0                   2                29   \n",
       "\n",
       "                                      abstract_final  abstract_count  \\\n",
       "0  ['The', 'present', 'invention', 'provide', 'in...              34   \n",
       "\n",
       "                                        claims_final  claims_count  \n",
       "0  ['A', 'interface', 'use', 'protect', 'users', ...           383  "
      ]
     },
     "execution_count": 4,
     "metadata": {},
     "output_type": "execute_result"
    }
   ],
   "source": [
    "data.head(1)"
   ]
  },
  {
   "cell_type": "code",
   "execution_count": 5,
   "metadata": {},
   "outputs": [
    {
     "data": {
      "text/plain": [
       "20000"
      ]
     },
     "execution_count": 5,
     "metadata": {},
     "output_type": "execute_result"
    }
   ],
   "source": [
    "len(data)"
   ]
  },
  {
   "cell_type": "markdown",
   "metadata": {},
   "source": [
    "## abstract"
   ]
  },
  {
   "cell_type": "code",
   "execution_count": 16,
   "metadata": {},
   "outputs": [
    {
     "data": {
      "text/plain": [
       "TfidfVectorizer(analyzer='word', binary=False, decode_error='strict',\n",
       "                dtype=<class 'numpy.float64'>, encoding='utf-8',\n",
       "                input='content', lowercase=True, max_df=1.0, max_features=72,\n",
       "                min_df=1, ngram_range=(1, 1), norm='l2', preprocessor=None,\n",
       "                smooth_idf=True, stop_words=None, strip_accents=None,\n",
       "                sublinear_tf=False, token_pattern='(?u)\\\\b\\\\w\\\\w+\\\\b',\n",
       "                tokenizer=None, use_idf=True, vocabulary=None)"
      ]
     },
     "execution_count": 16,
     "metadata": {},
     "output_type": "execute_result"
    }
   ],
   "source": [
    "Tfidf_vect_abs = TfidfVectorizer(max_features=72)\n",
    "Tfidf_vect_abs.fit(data['abstract_final'])"
   ]
  },
  {
   "cell_type": "code",
   "execution_count": 17,
   "metadata": {},
   "outputs": [
    {
     "data": {
      "text/plain": [
       "<20000x72 sparse matrix of type '<class 'numpy.float64'>'\n",
       "\twith 188834 stored elements in Compressed Sparse Row format>"
      ]
     },
     "execution_count": 17,
     "metadata": {},
     "output_type": "execute_result"
    }
   ],
   "source": [
    "Tfidf_feature_abs = Tfidf_vect_abs.transform(data['abstract_final'])\n",
    "Tfidf_feature_abs"
   ]
  },
  {
   "cell_type": "code",
   "execution_count": 18,
   "metadata": {
    "scrolled": true
   },
   "outputs": [
    {
     "data": {
      "text/html": [
       "<div>\n",
       "<style>\n",
       "    .dataframe thead tr:only-child th {\n",
       "        text-align: right;\n",
       "    }\n",
       "\n",
       "    .dataframe thead th {\n",
       "        text-align: left;\n",
       "    }\n",
       "\n",
       "    .dataframe tbody tr th {\n",
       "        vertical-align: top;\n",
       "    }\n",
       "</style>\n",
       "<table border=\"1\" class=\"dataframe\">\n",
       "  <thead>\n",
       "    <tr style=\"text-align: right;\">\n",
       "      <th></th>\n",
       "      <th>0</th>\n",
       "      <th>1</th>\n",
       "      <th>2</th>\n",
       "      <th>3</th>\n",
       "      <th>4</th>\n",
       "      <th>5</th>\n",
       "      <th>6</th>\n",
       "      <th>7</th>\n",
       "      <th>8</th>\n",
       "      <th>9</th>\n",
       "      <th>...</th>\n",
       "      <th>62</th>\n",
       "      <th>63</th>\n",
       "      <th>64</th>\n",
       "      <th>65</th>\n",
       "      <th>66</th>\n",
       "      <th>67</th>\n",
       "      <th>68</th>\n",
       "      <th>69</th>\n",
       "      <th>70</th>\n",
       "      <th>71</th>\n",
       "    </tr>\n",
       "  </thead>\n",
       "  <tbody>\n",
       "    <tr>\n",
       "      <th>0</th>\n",
       "      <td>0.0</td>\n",
       "      <td>0.000000</td>\n",
       "      <td>0.0</td>\n",
       "      <td>0.0</td>\n",
       "      <td>0.337493</td>\n",
       "      <td>0.0</td>\n",
       "      <td>0.0</td>\n",
       "      <td>0.0</td>\n",
       "      <td>0.0</td>\n",
       "      <td>0.0</td>\n",
       "      <td>...</td>\n",
       "      <td>0.000000</td>\n",
       "      <td>0.126042</td>\n",
       "      <td>0.0</td>\n",
       "      <td>0.0</td>\n",
       "      <td>0.0</td>\n",
       "      <td>0.413337</td>\n",
       "      <td>0.0</td>\n",
       "      <td>0.0</td>\n",
       "      <td>0.273811</td>\n",
       "      <td>0.0</td>\n",
       "    </tr>\n",
       "    <tr>\n",
       "      <th>1</th>\n",
       "      <td>0.0</td>\n",
       "      <td>0.301915</td>\n",
       "      <td>0.0</td>\n",
       "      <td>0.0</td>\n",
       "      <td>0.000000</td>\n",
       "      <td>0.0</td>\n",
       "      <td>0.0</td>\n",
       "      <td>0.0</td>\n",
       "      <td>0.0</td>\n",
       "      <td>0.0</td>\n",
       "      <td>...</td>\n",
       "      <td>0.000000</td>\n",
       "      <td>0.450675</td>\n",
       "      <td>0.0</td>\n",
       "      <td>0.0</td>\n",
       "      <td>0.0</td>\n",
       "      <td>0.000000</td>\n",
       "      <td>0.0</td>\n",
       "      <td>0.0</td>\n",
       "      <td>0.000000</td>\n",
       "      <td>0.0</td>\n",
       "    </tr>\n",
       "    <tr>\n",
       "      <th>2</th>\n",
       "      <td>0.0</td>\n",
       "      <td>0.000000</td>\n",
       "      <td>0.0</td>\n",
       "      <td>0.0</td>\n",
       "      <td>0.000000</td>\n",
       "      <td>0.0</td>\n",
       "      <td>0.0</td>\n",
       "      <td>0.0</td>\n",
       "      <td>0.0</td>\n",
       "      <td>0.0</td>\n",
       "      <td>...</td>\n",
       "      <td>0.522971</td>\n",
       "      <td>0.000000</td>\n",
       "      <td>0.0</td>\n",
       "      <td>0.0</td>\n",
       "      <td>0.0</td>\n",
       "      <td>0.000000</td>\n",
       "      <td>0.0</td>\n",
       "      <td>0.0</td>\n",
       "      <td>0.000000</td>\n",
       "      <td>0.0</td>\n",
       "    </tr>\n",
       "  </tbody>\n",
       "</table>\n",
       "<p>3 rows × 72 columns</p>\n",
       "</div>"
      ],
      "text/plain": [
       "    0         1    2    3         4    5    6    7    8    9  ...         62  \\\n",
       "0  0.0  0.000000  0.0  0.0  0.337493  0.0  0.0  0.0  0.0  0.0 ...   0.000000   \n",
       "1  0.0  0.301915  0.0  0.0  0.000000  0.0  0.0  0.0  0.0  0.0 ...   0.000000   \n",
       "2  0.0  0.000000  0.0  0.0  0.000000  0.0  0.0  0.0  0.0  0.0 ...   0.522971   \n",
       "\n",
       "         63   64   65   66        67   68   69        70   71  \n",
       "0  0.126042  0.0  0.0  0.0  0.413337  0.0  0.0  0.273811  0.0  \n",
       "1  0.450675  0.0  0.0  0.0  0.000000  0.0  0.0  0.000000  0.0  \n",
       "2  0.000000  0.0  0.0  0.0  0.000000  0.0  0.0  0.000000  0.0  \n",
       "\n",
       "[3 rows x 72 columns]"
      ]
     },
     "execution_count": 18,
     "metadata": {},
     "output_type": "execute_result"
    }
   ],
   "source": [
    "df_abs = pd.DataFrame(Tfidf_feature_abs.toarray())\n",
    "df_abs.head(3)"
   ]
  },
  {
   "cell_type": "code",
   "execution_count": 19,
   "metadata": {},
   "outputs": [
    {
     "data": {
      "text/plain": [
       "(20000, 72)"
      ]
     },
     "execution_count": 19,
     "metadata": {},
     "output_type": "execute_result"
    }
   ],
   "source": [
    "df_abs.shape"
   ]
  },
  {
   "cell_type": "code",
   "execution_count": 20,
   "metadata": {},
   "outputs": [],
   "source": [
    "# 保存\n",
    "df_abs.to_excel(\"/home/hxjiang/Pythonworkspace/patent/sample20000/abstract_TF-IDF_300d.xlsx\")"
   ]
  },
  {
   "cell_type": "markdown",
   "metadata": {
    "collapsed": true
   },
   "source": [
    "## claims"
   ]
  },
  {
   "cell_type": "code",
   "execution_count": 21,
   "metadata": {},
   "outputs": [
    {
     "data": {
      "text/plain": [
       "TfidfVectorizer(analyzer='word', binary=False, decode_error='strict',\n",
       "                dtype=<class 'numpy.float64'>, encoding='utf-8',\n",
       "                input='content', lowercase=True, max_df=1.0, max_features=72,\n",
       "                min_df=1, ngram_range=(1, 1), norm='l2', preprocessor=None,\n",
       "                smooth_idf=True, stop_words=None, strip_accents=None,\n",
       "                sublinear_tf=False, token_pattern='(?u)\\\\b\\\\w\\\\w+\\\\b',\n",
       "                tokenizer=None, use_idf=True, vocabulary=None)"
      ]
     },
     "execution_count": 21,
     "metadata": {},
     "output_type": "execute_result"
    }
   ],
   "source": [
    "Tfidf_vect_claims = TfidfVectorizer(max_features=72)\n",
    "Tfidf_vect_claims.fit(data['claims_final'])"
   ]
  },
  {
   "cell_type": "code",
   "execution_count": 22,
   "metadata": {},
   "outputs": [
    {
     "data": {
      "text/plain": [
       "<20000x72 sparse matrix of type '<class 'numpy.float64'>'\n",
       "\twith 402939 stored elements in Compressed Sparse Row format>"
      ]
     },
     "execution_count": 22,
     "metadata": {},
     "output_type": "execute_result"
    }
   ],
   "source": [
    "Tfidf_feature_claims = Tfidf_vect_claims.transform(data['claims_final'])\n",
    "Tfidf_feature_claims"
   ]
  },
  {
   "cell_type": "code",
   "execution_count": 23,
   "metadata": {},
   "outputs": [
    {
     "data": {
      "text/html": [
       "<div>\n",
       "<style>\n",
       "    .dataframe thead tr:only-child th {\n",
       "        text-align: right;\n",
       "    }\n",
       "\n",
       "    .dataframe thead th {\n",
       "        text-align: left;\n",
       "    }\n",
       "\n",
       "    .dataframe tbody tr th {\n",
       "        vertical-align: top;\n",
       "    }\n",
       "</style>\n",
       "<table border=\"1\" class=\"dataframe\">\n",
       "  <thead>\n",
       "    <tr style=\"text-align: right;\">\n",
       "      <th></th>\n",
       "      <th>0</th>\n",
       "      <th>1</th>\n",
       "      <th>2</th>\n",
       "      <th>3</th>\n",
       "      <th>4</th>\n",
       "      <th>5</th>\n",
       "      <th>6</th>\n",
       "      <th>7</th>\n",
       "      <th>8</th>\n",
       "      <th>9</th>\n",
       "      <th>...</th>\n",
       "      <th>62</th>\n",
       "      <th>63</th>\n",
       "      <th>64</th>\n",
       "      <th>65</th>\n",
       "      <th>66</th>\n",
       "      <th>67</th>\n",
       "      <th>68</th>\n",
       "      <th>69</th>\n",
       "      <th>70</th>\n",
       "      <th>71</th>\n",
       "    </tr>\n",
       "  </thead>\n",
       "  <tbody>\n",
       "    <tr>\n",
       "      <th>0</th>\n",
       "      <td>0.619187</td>\n",
       "      <td>0.0</td>\n",
       "      <td>0.0</td>\n",
       "      <td>0.0</td>\n",
       "      <td>0.561849</td>\n",
       "      <td>0.0</td>\n",
       "      <td>0.0</td>\n",
       "      <td>0.334399</td>\n",
       "      <td>0.0</td>\n",
       "      <td>0.057113</td>\n",
       "      <td>...</td>\n",
       "      <td>0.0</td>\n",
       "      <td>0.026771</td>\n",
       "      <td>0.000000</td>\n",
       "      <td>0.0</td>\n",
       "      <td>0.0</td>\n",
       "      <td>0.000000</td>\n",
       "      <td>0.092130</td>\n",
       "      <td>0.034816</td>\n",
       "      <td>0.0</td>\n",
       "      <td>0.319655</td>\n",
       "    </tr>\n",
       "    <tr>\n",
       "      <th>1</th>\n",
       "      <td>0.233767</td>\n",
       "      <td>0.0</td>\n",
       "      <td>0.0</td>\n",
       "      <td>0.0</td>\n",
       "      <td>0.027307</td>\n",
       "      <td>0.0</td>\n",
       "      <td>0.0</td>\n",
       "      <td>0.126249</td>\n",
       "      <td>0.0</td>\n",
       "      <td>0.104094</td>\n",
       "      <td>...</td>\n",
       "      <td>0.0</td>\n",
       "      <td>0.078070</td>\n",
       "      <td>0.000000</td>\n",
       "      <td>0.0</td>\n",
       "      <td>0.0</td>\n",
       "      <td>0.011382</td>\n",
       "      <td>0.016792</td>\n",
       "      <td>0.000000</td>\n",
       "      <td>0.0</td>\n",
       "      <td>0.031371</td>\n",
       "    </tr>\n",
       "    <tr>\n",
       "      <th>2</th>\n",
       "      <td>0.481694</td>\n",
       "      <td>0.0</td>\n",
       "      <td>0.0</td>\n",
       "      <td>0.0</td>\n",
       "      <td>0.000000</td>\n",
       "      <td>0.0</td>\n",
       "      <td>0.0</td>\n",
       "      <td>0.260144</td>\n",
       "      <td>0.0</td>\n",
       "      <td>0.201244</td>\n",
       "      <td>...</td>\n",
       "      <td>0.0</td>\n",
       "      <td>0.000000</td>\n",
       "      <td>0.675886</td>\n",
       "      <td>0.0</td>\n",
       "      <td>0.0</td>\n",
       "      <td>0.000000</td>\n",
       "      <td>0.000000</td>\n",
       "      <td>0.000000</td>\n",
       "      <td>0.0</td>\n",
       "      <td>0.173284</td>\n",
       "    </tr>\n",
       "  </tbody>\n",
       "</table>\n",
       "<p>3 rows × 72 columns</p>\n",
       "</div>"
      ],
      "text/plain": [
       "         0    1    2    3         4    5    6         7    8         9   \\\n",
       "0  0.619187  0.0  0.0  0.0  0.561849  0.0  0.0  0.334399  0.0  0.057113   \n",
       "1  0.233767  0.0  0.0  0.0  0.027307  0.0  0.0  0.126249  0.0  0.104094   \n",
       "2  0.481694  0.0  0.0  0.0  0.000000  0.0  0.0  0.260144  0.0  0.201244   \n",
       "\n",
       "     ...      62        63        64   65   66        67        68        69  \\\n",
       "0    ...     0.0  0.026771  0.000000  0.0  0.0  0.000000  0.092130  0.034816   \n",
       "1    ...     0.0  0.078070  0.000000  0.0  0.0  0.011382  0.016792  0.000000   \n",
       "2    ...     0.0  0.000000  0.675886  0.0  0.0  0.000000  0.000000  0.000000   \n",
       "\n",
       "    70        71  \n",
       "0  0.0  0.319655  \n",
       "1  0.0  0.031371  \n",
       "2  0.0  0.173284  \n",
       "\n",
       "[3 rows x 72 columns]"
      ]
     },
     "execution_count": 23,
     "metadata": {},
     "output_type": "execute_result"
    }
   ],
   "source": [
    "df_claims = pd.DataFrame(Tfidf_feature_claims.toarray())\n",
    "df_claims.head(3)"
   ]
  },
  {
   "cell_type": "code",
   "execution_count": 24,
   "metadata": {},
   "outputs": [
    {
     "data": {
      "text/plain": [
       "(20000, 72)"
      ]
     },
     "execution_count": 24,
     "metadata": {},
     "output_type": "execute_result"
    }
   ],
   "source": [
    "df_claims.shape"
   ]
  },
  {
   "cell_type": "code",
   "execution_count": 25,
   "metadata": {},
   "outputs": [],
   "source": [
    "# 保存\n",
    "df_claims.to_excel(\"/home/hxjiang/Pythonworkspace/patent/sample20000/claims_TF-IDF_300d.xlsx\")"
   ]
  },
  {
   "cell_type": "code",
   "execution_count": null,
   "metadata": {},
   "outputs": [],
   "source": []
  }
 ],
 "metadata": {
  "kernelspec": {
   "display_name": "Python 3",
   "language": "python",
   "name": "python3"
  },
  "language_info": {
   "codemirror_mode": {
    "name": "ipython",
    "version": 3
   },
   "file_extension": ".py",
   "mimetype": "text/x-python",
   "name": "python",
   "nbconvert_exporter": "python",
   "pygments_lexer": "ipython3",
   "version": "3.6.9"
  },
  "toc": {
   "base_numbering": 1,
   "nav_menu": {},
   "number_sections": true,
   "sideBar": true,
   "skip_h1_title": false,
   "title_cell": "Table of Contents",
   "title_sidebar": "Contents",
   "toc_cell": false,
   "toc_position": {
    "height": "calc(100% - 180px)",
    "left": "10px",
    "top": "150px",
    "width": "183px"
   },
   "toc_section_display": true,
   "toc_window_display": true
  },
  "varInspector": {
   "cols": {
    "lenName": 16,
    "lenType": 16,
    "lenVar": 40
   },
   "kernels_config": {
    "python": {
     "delete_cmd_postfix": "",
     "delete_cmd_prefix": "del ",
     "library": "var_list.py",
     "varRefreshCmd": "print(var_dic_list())"
    },
    "r": {
     "delete_cmd_postfix": ") ",
     "delete_cmd_prefix": "rm(",
     "library": "var_list.r",
     "varRefreshCmd": "cat(var_dic_list()) "
    }
   },
   "types_to_exclude": [
    "module",
    "function",
    "builtin_function_or_method",
    "instance",
    "_Feature"
   ],
   "window_display": false
  }
 },
 "nbformat": 4,
 "nbformat_minor": 2
}
