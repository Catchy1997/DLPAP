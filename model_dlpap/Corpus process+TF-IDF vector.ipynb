{
 "cells": [
  {
   "cell_type": "code",
   "execution_count": 33,
   "metadata": {
    "collapsed": true
   },
   "outputs": [],
   "source": [
    "import pandas as pd\n",
    "import numpy as np\n",
    "from tqdm import tqdm\n",
    "import re\n",
    "import matplotlib.pyplot as plt\n",
    "\n",
    "from nltk.tokenize import word_tokenize, sent_tokenize\n",
    "from nltk.corpus import wordnet as wn\n",
    "from collections import defaultdict\n",
    "from nltk import pos_tag\n",
    "from nltk.corpus import stopwords\n",
    "from nltk.stem import WordNetLemmatizer"
   ]
  },
  {
   "cell_type": "code",
   "execution_count": 2,
   "metadata": {
    "collapsed": true
   },
   "outputs": [],
   "source": [
    "from sklearn.feature_extraction.text import TfidfVectorizer\n",
    "from sklearn import model_selection\n",
    "from sklearn import preprocessing\n",
    "from sklearn.preprocessing import LabelEncoder\n",
    "from sklearn import svm\n",
    "from sklearn.metrics import accuracy_score"
   ]
  },
  {
   "cell_type": "markdown",
   "metadata": {},
   "source": [
    "# 文本处理"
   ]
  },
  {
   "cell_type": "code",
   "execution_count": 3,
   "metadata": {
    "collapsed": true
   },
   "outputs": [],
   "source": [
    "data = pd.read_excel(\n",
    "    r\"E:/Pythonworkspace/patent/process_data/sample3_G-06-F-17/textual/patent_text_2010.xlsx\", encoding='utf-8')"
   ]
  },
  {
   "cell_type": "code",
   "execution_count": 4,
   "metadata": {
    "scrolled": false
   },
   "outputs": [
    {
     "data": {
      "text/html": [
       "<div>\n",
       "<style>\n",
       "    .dataframe thead tr:only-child th {\n",
       "        text-align: right;\n",
       "    }\n",
       "\n",
       "    .dataframe thead th {\n",
       "        text-align: left;\n",
       "    }\n",
       "\n",
       "    .dataframe tbody tr th {\n",
       "        vertical-align: top;\n",
       "    }\n",
       "</style>\n",
       "<table border=\"1\" class=\"dataframe\">\n",
       "  <thead>\n",
       "    <tr style=\"text-align: right;\">\n",
       "      <th></th>\n",
       "      <th>application_id</th>\n",
       "      <th>title</th>\n",
       "      <th>abstract</th>\n",
       "      <th>claims</th>\n",
       "      <th>result</th>\n",
       "    </tr>\n",
       "  </thead>\n",
       "  <tbody>\n",
       "    <tr>\n",
       "      <th>0</th>\n",
       "      <td>11041610</td>\n",
       "      <td>METHOD OF PRINTING SECURITY DOCUMENTS</td>\n",
       "      <td>A method of providing a security document havi...</td>\n",
       "      <td>1. A method of providing a security document ...</td>\n",
       "      <td>1</td>\n",
       "    </tr>\n",
       "    <tr>\n",
       "      <th>1</th>\n",
       "      <td>11619583</td>\n",
       "      <td>Method for Identifying Phone Numbers and Alpha...</td>\n",
       "      <td>A method and system provides the ability to id...</td>\n",
       "      <td>1. A method comprising:, receiving a text sou...</td>\n",
       "      <td>0</td>\n",
       "    </tr>\n",
       "    <tr>\n",
       "      <th>2</th>\n",
       "      <td>12165740</td>\n",
       "      <td>Translating Search Strings into Physical Locat...</td>\n",
       "      <td>This description provides tools and techniques...</td>\n",
       "      <td>1. A computer-readable storage medium having ...</td>\n",
       "      <td>1</td>\n",
       "    </tr>\n",
       "  </tbody>\n",
       "</table>\n",
       "</div>"
      ],
      "text/plain": [
       "   application_id                                              title  \\\n",
       "0        11041610              METHOD OF PRINTING SECURITY DOCUMENTS   \n",
       "1        11619583  Method for Identifying Phone Numbers and Alpha...   \n",
       "2        12165740  Translating Search Strings into Physical Locat...   \n",
       "\n",
       "                                            abstract  \\\n",
       "0  A method of providing a security document havi...   \n",
       "1  A method and system provides the ability to id...   \n",
       "2  This description provides tools and techniques...   \n",
       "\n",
       "                                              claims  result  \n",
       "0   1. A method of providing a security document ...       1  \n",
       "1   1. A method comprising:, receiving a text sou...       0  \n",
       "2   1. A computer-readable storage medium having ...       1  "
      ]
     },
     "execution_count": 4,
     "metadata": {},
     "output_type": "execute_result"
    }
   ],
   "source": [
    "data.head(3)"
   ]
  },
  {
   "cell_type": "code",
   "execution_count": 5,
   "metadata": {},
   "outputs": [
    {
     "data": {
      "text/plain": [
       "7769"
      ]
     },
     "execution_count": 5,
     "metadata": {},
     "output_type": "execute_result"
    }
   ],
   "source": [
    "len(data)"
   ]
  },
  {
   "cell_type": "markdown",
   "metadata": {},
   "source": [
    "## 分句"
   ]
  },
  {
   "cell_type": "code",
   "execution_count": 28,
   "metadata": {},
   "outputs": [
    {
     "name": "stderr",
     "output_type": "stream",
     "text": [
      "100%|███████████████████████████| 7769/7769 [00:04<00:00, 1676.05it/s]\n"
     ]
    }
   ],
   "source": [
    "abstract_max_len = []\n",
    "for index, abstract in enumerate(tqdm(data['abstract'], ncols=70)):\n",
    "    tokens = sent_tokenize(abstract)\n",
    "    token_list = []\n",
    "    for token in tokens:\n",
    "        if len(token) < 3:\n",
    "            pass\n",
    "        else:\n",
    "            token_list.append(token)\n",
    "    abstract_max_len.append(len(token_list))\n",
    "    data.loc[index, 'abstract_sen_count'] = len(token_list)"
   ]
  },
  {
   "cell_type": "code",
   "execution_count": 30,
   "metadata": {},
   "outputs": [
    {
     "name": "stderr",
     "output_type": "stream",
     "text": [
      "100%|████████████████████████████| 7769/7769 [00:18<00:00, 425.35it/s]\n"
     ]
    }
   ],
   "source": [
    "claims_max_len = []\n",
    "for index, claims in enumerate(tqdm(data['claims'], ncols=70)):\n",
    "    tokens = sent_tokenize(claims)\n",
    "    token_list = []\n",
    "    for token in tokens:\n",
    "        if len(token) < 3:\n",
    "            pass\n",
    "        else:\n",
    "            token_list.append(token)\n",
    "    claims_max_len.append(len(token_list))\n",
    "    data.loc[index, 'claims_sen_count'] = len(token_list)"
   ]
  },
  {
   "cell_type": "markdown",
   "metadata": {},
   "source": [
    "## 分词"
   ]
  },
  {
   "cell_type": "markdown",
   "metadata": {},
   "source": [
    "### abstract"
   ]
  },
  {
   "cell_type": "code",
   "execution_count": 6,
   "metadata": {
    "collapsed": true
   },
   "outputs": [],
   "source": [
    "data['abstract'].dropna(inplace=True)\n",
    "# data['abstract'] = [entry.lower() for entry in data['abstract']]\n",
    "data['abstract'] = [word_tokenize(entry) for entry in data['abstract']]"
   ]
  },
  {
   "cell_type": "code",
   "execution_count": 7,
   "metadata": {
    "scrolled": true
   },
   "outputs": [
    {
     "name": "stderr",
     "output_type": "stream",
     "text": [
      "100%|█████████████████████████████| 7769/7769 [19:57<00:00,  6.49it/s]\n"
     ]
    }
   ],
   "source": [
    "tag_map = defaultdict(lambda: wn.NOUN)\n",
    "tag_map['J'] = wn.ADJ\n",
    "tag_map['V'] = wn.VERB\n",
    "tag_map['R'] = wn.ADV\n",
    "\n",
    "len_abstract = []\n",
    "for index, entry in enumerate(tqdm(data['abstract'], ncols=70)):\n",
    "    Final_words = []\n",
    "    word_Lemmatized = WordNetLemmatizer()\n",
    "    for word, tag in pos_tag(entry):\n",
    "        if word not in stopwords.words('english') and word.isalpha():\n",
    "            word_Final = word_Lemmatized.lemmatize(word, tag_map[tag[0]])  # 对这三类做词形还原\n",
    "            Final_words.append(word_Final)\n",
    "    len_abstract.append(len(Final_words))\n",
    "    data.loc[index, 'abstract_final'] = str(Final_words)\n",
    "    data.loc[index, 'abstract_count'] = len(Final_words)"
   ]
  },
  {
   "cell_type": "markdown",
   "metadata": {},
   "source": [
    "### claims"
   ]
  },
  {
   "cell_type": "code",
   "execution_count": 8,
   "metadata": {
    "collapsed": true
   },
   "outputs": [],
   "source": [
    "data['claims'].dropna(inplace=True)\n",
    "# data['claims'] = [entry.lower() for entry in data['claims']]\n",
    "data['claims'] = [word_tokenize(entry) for entry in data['claims']]"
   ]
  },
  {
   "cell_type": "code",
   "execution_count": 9,
   "metadata": {},
   "outputs": [
    {
     "name": "stderr",
     "output_type": "stream",
     "text": [
      "100%|█████████████████| 7769/7769 [1:38:46<00:00,  1.31it/s]\n"
     ]
    }
   ],
   "source": [
    "tag_map = defaultdict(lambda: wn.NOUN)\n",
    "tag_map['J'] = wn.ADJ\n",
    "tag_map['V'] = wn.VERB\n",
    "tag_map['R'] = wn.ADV\n",
    "\n",
    "len_claims = []\n",
    "for index, entry in enumerate(tqdm(data['claims'], ncols=70)):\n",
    "    Final_words = []\n",
    "    word_Lemmatized = WordNetLemmatizer()\n",
    "    for word, tag in pos_tag(entry):\n",
    "        if word not in stopwords.words('english') and word.isalpha():\n",
    "            word_Final = word_Lemmatized.lemmatize(word, tag_map[tag[0]])  # 对这三类做词形还原\n",
    "            Final_words.append(word_Final)\n",
    "    len_claims.append(len(Final_words))\n",
    "    data.loc[index, 'claims_final'] = str(Final_words)\n",
    "    data.loc[index, 'claims_count'] = len(Final_words)"
   ]
  },
  {
   "cell_type": "markdown",
   "metadata": {},
   "source": [
    "## 文本长度分布"
   ]
  },
  {
   "cell_type": "code",
   "execution_count": 15,
   "metadata": {
    "collapsed": true
   },
   "outputs": [],
   "source": [
    "def status(x):\n",
    "    return pd.Series([x.count(), x.sum(), x.min(), x.idxmin(), x.quantile(.25), x.median(),\n",
    "                      x.quantile(.75), x.quantile(.90), x.quantile(.95), x.quantile(.99), x.mean(), \n",
    "                      x.max(), x.idxmax(), x.mode(), x.mad(), x.var(), x.std(), x.skew(), x.kurt()], \n",
    "                     index=['非空数', '求和', '最小值', '最小值位置', '25%分位数', '中位数', '75%分位数', \n",
    "                            '90%分位数', '95%分位数', '99%分位数', '均值', '最大值', '最大值位数', '众数', \n",
    "                            '平均绝对偏差', '方差', '标准差', '偏度', '峰度'])"
   ]
  },
  {
   "cell_type": "code",
   "execution_count": 32,
   "metadata": {},
   "outputs": [
    {
     "data": {
      "text/html": [
       "<div>\n",
       "<style>\n",
       "    .dataframe thead tr:only-child th {\n",
       "        text-align: right;\n",
       "    }\n",
       "\n",
       "    .dataframe thead th {\n",
       "        text-align: left;\n",
       "    }\n",
       "\n",
       "    .dataframe tbody tr th {\n",
       "        vertical-align: top;\n",
       "    }\n",
       "</style>\n",
       "<table border=\"1\" class=\"dataframe\">\n",
       "  <thead>\n",
       "    <tr style=\"text-align: right;\">\n",
       "      <th></th>\n",
       "      <th>len_abstract</th>\n",
       "      <th>len_claims</th>\n",
       "      <th>abstract_max_len</th>\n",
       "      <th>claims_max_len</th>\n",
       "      <th>result</th>\n",
       "    </tr>\n",
       "  </thead>\n",
       "  <tbody>\n",
       "    <tr>\n",
       "      <th>非空数</th>\n",
       "      <td>7769</td>\n",
       "      <td>7769</td>\n",
       "      <td>7769</td>\n",
       "      <td>7769</td>\n",
       "      <td>7769</td>\n",
       "    </tr>\n",
       "    <tr>\n",
       "      <th>求和</th>\n",
       "      <td>541263</td>\n",
       "      <td>5240778</td>\n",
       "      <td>30447</td>\n",
       "      <td>253443</td>\n",
       "      <td>5168</td>\n",
       "    </tr>\n",
       "    <tr>\n",
       "      <th>最小值</th>\n",
       "      <td>5</td>\n",
       "      <td>18</td>\n",
       "      <td>1</td>\n",
       "      <td>1</td>\n",
       "      <td>0</td>\n",
       "    </tr>\n",
       "    <tr>\n",
       "      <th>最小值位置</th>\n",
       "      <td>327</td>\n",
       "      <td>1091</td>\n",
       "      <td>3</td>\n",
       "      <td>4</td>\n",
       "      <td>1</td>\n",
       "    </tr>\n",
       "    <tr>\n",
       "      <th>25%分位数</th>\n",
       "      <td>52</td>\n",
       "      <td>435</td>\n",
       "      <td>2</td>\n",
       "      <td>22</td>\n",
       "      <td>0</td>\n",
       "    </tr>\n",
       "    <tr>\n",
       "      <th>中位数</th>\n",
       "      <td>70</td>\n",
       "      <td>596</td>\n",
       "      <td>4</td>\n",
       "      <td>32</td>\n",
       "      <td>1</td>\n",
       "    </tr>\n",
       "    <tr>\n",
       "      <th>75%分位数</th>\n",
       "      <td>86</td>\n",
       "      <td>819</td>\n",
       "      <td>5</td>\n",
       "      <td>37</td>\n",
       "      <td>1</td>\n",
       "    </tr>\n",
       "    <tr>\n",
       "      <th>90%分位数</th>\n",
       "      <td>97</td>\n",
       "      <td>1120</td>\n",
       "      <td>7</td>\n",
       "      <td>52</td>\n",
       "      <td>1</td>\n",
       "    </tr>\n",
       "    <tr>\n",
       "      <th>95%分位数</th>\n",
       "      <td>107</td>\n",
       "      <td>1389.8</td>\n",
       "      <td>8</td>\n",
       "      <td>68</td>\n",
       "      <td>1</td>\n",
       "    </tr>\n",
       "    <tr>\n",
       "      <th>99%分位数</th>\n",
       "      <td>137.32</td>\n",
       "      <td>2252.32</td>\n",
       "      <td>10</td>\n",
       "      <td>111</td>\n",
       "      <td>1</td>\n",
       "    </tr>\n",
       "    <tr>\n",
       "      <th>均值</th>\n",
       "      <td>69.6696</td>\n",
       "      <td>674.576</td>\n",
       "      <td>3.91904</td>\n",
       "      <td>32.6223</td>\n",
       "      <td>0.665208</td>\n",
       "    </tr>\n",
       "    <tr>\n",
       "      <th>最大值</th>\n",
       "      <td>262</td>\n",
       "      <td>3439</td>\n",
       "      <td>17</td>\n",
       "      <td>341</td>\n",
       "      <td>1</td>\n",
       "    </tr>\n",
       "    <tr>\n",
       "      <th>最大值位数</th>\n",
       "      <td>180</td>\n",
       "      <td>4198</td>\n",
       "      <td>2304</td>\n",
       "      <td>993</td>\n",
       "      <td>0</td>\n",
       "    </tr>\n",
       "    <tr>\n",
       "      <th>众数</th>\n",
       "      <td>0    71\n",
       "1    82\n",
       "dtype: int64</td>\n",
       "      <td>0    412\n",
       "dtype: int64</td>\n",
       "      <td>0    4\n",
       "dtype: int64</td>\n",
       "      <td>0    32\n",
       "dtype: int64</td>\n",
       "      <td>0    1\n",
       "dtype: int64</td>\n",
       "    </tr>\n",
       "    <tr>\n",
       "      <th>平均绝对偏差</th>\n",
       "      <td>19.4652</td>\n",
       "      <td>275.678</td>\n",
       "      <td>1.71288</td>\n",
       "      <td>12.286</td>\n",
       "      <td>0.445413</td>\n",
       "    </tr>\n",
       "    <tr>\n",
       "      <th>方差</th>\n",
       "      <td>609.042</td>\n",
       "      <td>158252</td>\n",
       "      <td>4.52189</td>\n",
       "      <td>410.377</td>\n",
       "      <td>0.222735</td>\n",
       "    </tr>\n",
       "    <tr>\n",
       "      <th>标准差</th>\n",
       "      <td>24.6788</td>\n",
       "      <td>397.809</td>\n",
       "      <td>2.12647</td>\n",
       "      <td>20.2578</td>\n",
       "      <td>0.471948</td>\n",
       "    </tr>\n",
       "    <tr>\n",
       "      <th>偏度</th>\n",
       "      <td>0.534052</td>\n",
       "      <td>2.11503</td>\n",
       "      <td>0.650881</td>\n",
       "      <td>2.77998</td>\n",
       "      <td>-0.700291</td>\n",
       "    </tr>\n",
       "    <tr>\n",
       "      <th>峰度</th>\n",
       "      <td>2.0851</td>\n",
       "      <td>7.69493</td>\n",
       "      <td>0.522391</td>\n",
       "      <td>18.4784</td>\n",
       "      <td>-1.50998</td>\n",
       "    </tr>\n",
       "  </tbody>\n",
       "</table>\n",
       "</div>"
      ],
      "text/plain": [
       "                        len_abstract             len_claims  \\\n",
       "非空数                             7769                   7769   \n",
       "求和                            541263                5240778   \n",
       "最小值                                5                     18   \n",
       "最小值位置                            327                   1091   \n",
       "25%分位数                            52                    435   \n",
       "中位数                               70                    596   \n",
       "75%分位数                            86                    819   \n",
       "90%分位数                            97                   1120   \n",
       "95%分位数                           107                 1389.8   \n",
       "99%分位数                        137.32                2252.32   \n",
       "均值                           69.6696                674.576   \n",
       "最大值                              262                   3439   \n",
       "最大值位数                            180                   4198   \n",
       "众数      0    71\n",
       "1    82\n",
       "dtype: int64  0    412\n",
       "dtype: int64   \n",
       "平均绝对偏差                       19.4652                275.678   \n",
       "方差                           609.042                 158252   \n",
       "标准差                          24.6788                397.809   \n",
       "偏度                          0.534052                2.11503   \n",
       "峰度                            2.0851                7.69493   \n",
       "\n",
       "           abstract_max_len        claims_max_len               result  \n",
       "非空数                    7769                  7769                 7769  \n",
       "求和                    30447                253443                 5168  \n",
       "最小值                       1                     1                    0  \n",
       "最小值位置                     3                     4                    1  \n",
       "25%分位数                    2                    22                    0  \n",
       "中位数                       4                    32                    1  \n",
       "75%分位数                    5                    37                    1  \n",
       "90%分位数                    7                    52                    1  \n",
       "95%分位数                    8                    68                    1  \n",
       "99%分位数                   10                   111                    1  \n",
       "均值                  3.91904               32.6223             0.665208  \n",
       "最大值                      17                   341                    1  \n",
       "最大值位数                  2304                   993                    0  \n",
       "众数      0    4\n",
       "dtype: int64  0    32\n",
       "dtype: int64  0    1\n",
       "dtype: int64  \n",
       "平均绝对偏差              1.71288                12.286             0.445413  \n",
       "方差                  4.52189               410.377             0.222735  \n",
       "标准差                 2.12647               20.2578             0.471948  \n",
       "偏度                 0.650881               2.77998            -0.700291  \n",
       "峰度                 0.522391               18.4784             -1.50998  "
      ]
     },
     "execution_count": 32,
     "metadata": {},
     "output_type": "execute_result"
    }
   ],
   "source": [
    "df = pd.DataFrame(np.array([len_abstract, len_claims, abstract_max_len, claims_max_len, data['result']]).T, columns=[\n",
    "                  'len_abstract', 'len_claims', 'abstract_max_len', 'claims_max_len', 'result'])\n",
    "df.apply(status)"
   ]
  },
  {
   "cell_type": "code",
   "execution_count": 35,
   "metadata": {
    "cell_style": "split"
   },
   "outputs": [
    {
     "data": {
      "image/png": "[encoded data removed]",
      "text/plain": [
       "<Figure size 720x432 with 4 Axes>"
      ]
     },
     "metadata": {},
     "output_type": "display_data"
    }
   ],
   "source": [
    "fig = plt.figure(figsize=(10, 6))\n",
    "\n",
    "plt.subplot(221)\n",
    "plt.plot(df['len_abstract'].index, df['len_abstract'].values)\n",
    "plt.ylabel(\"number of words\")\n",
    "plt.xlabel(\"abstract\")\n",
    "\n",
    "plt.subplot(222)\n",
    "plt.plot(df['len_claims'].index, df['len_claims'].values)\n",
    "plt.ylabel(\"number of words\")\n",
    "plt.xlabel(\"claims\")\n",
    "\n",
    "plt.subplot(223)\n",
    "plt.plot(df['abstract_max_len'].index, df['abstract_max_len'].values)\n",
    "plt.ylabel(\"number of sentences\")\n",
    "plt.xlabel(\"abstract\")\n",
    "\n",
    "plt.subplot(224)\n",
    "plt.plot(df['claims_max_len'].index, df['claims_max_len'].values)\n",
    "plt.ylabel(\"number of sentences\")\n",
    "plt.xlabel(\"claims\")\n",
    "\n",
    "plt.show()"
   ]
  },
  {
   "cell_type": "code",
   "execution_count": 37,
   "metadata": {
    "cell_style": "split",
    "scrolled": true
   },
   "outputs": [
    {
     "data": {
      "image/png": "[encoded data removed]",
      "text/plain": [
       "<Figure size 720x432 with 4 Axes>"
      ]
     },
     "metadata": {},
     "output_type": "display_data"
    }
   ],
   "source": [
    "fig = plt.figure(figsize=(10, 6))\n",
    "\n",
    "plt.subplot(221)\n",
    "df1 = df[df['result'] == 1]\n",
    "plt.scatter(df1.index, df1['len_abstract'], label=\"success\")\n",
    "df2 = df[df['result'] == 0]\n",
    "plt.scatter(df2.index, df2['len_abstract'], label=\"fail\")\n",
    "plt.ylabel(\"number of words\")\n",
    "plt.xlabel(\"abstract\")\n",
    "\n",
    "plt.subplot(222)\n",
    "df1 = df[df['result'] == 1]\n",
    "plt.scatter(df1.index, df1['len_claims'], label=\"success\")\n",
    "df2 = df[df['result'] == 0]\n",
    "plt.scatter(df2.index, df2['len_claims'], label=\"fail\")\n",
    "plt.ylabel(\"number of words\")\n",
    "plt.xlabel(\"claims\")\n",
    "\n",
    "plt.subplot(223)\n",
    "df1 = df[df['result'] == 1]\n",
    "plt.scatter(df1.index, df1['abstract_max_len'], label=\"success\")\n",
    "df2 = df[df['result'] == 0]\n",
    "plt.scatter(df2.index, df2['abstract_max_len'], label=\"fail\")\n",
    "plt.ylabel(\"number of sentences\")\n",
    "plt.xlabel(\"abstract\")\n",
    "\n",
    "plt.subplot(224)\n",
    "df1 = df[df['result'] == 1]\n",
    "plt.scatter(df1.index, df1['claims_max_len'], label=\"success\")\n",
    "df2 = df[df['result'] == 0]\n",
    "plt.scatter(df2.index, df2['claims_max_len'], label=\"fail\")\n",
    "plt.ylabel(\"number of sentences\")\n",
    "plt.xlabel(\"claims\")\n",
    "\n",
    "plt.legend()\n",
    "plt.grid()\n",
    "plt.show()"
   ]
  },
  {
   "cell_type": "code",
   "execution_count": null,
   "metadata": {
    "collapsed": true
   },
   "outputs": [],
   "source": [
    "data.to_excel(\n",
    "    \"E:/Pythonworkspace/patent/process_data/sample3_G-06-F-17/textual/after_process.xlsx\", encoding='utf-8')"
   ]
  },
  {
   "cell_type": "markdown",
   "metadata": {},
   "source": [
    "# TF-IDF"
   ]
  },
  {
   "cell_type": "code",
   "execution_count": 43,
   "metadata": {
    "scrolled": true
   },
   "outputs": [
    {
     "data": {
      "text/html": [
       "<div>\n",
       "<style>\n",
       "    .dataframe thead tr:only-child th {\n",
       "        text-align: right;\n",
       "    }\n",
       "\n",
       "    .dataframe thead th {\n",
       "        text-align: left;\n",
       "    }\n",
       "\n",
       "    .dataframe tbody tr th {\n",
       "        vertical-align: top;\n",
       "    }\n",
       "</style>\n",
       "<table border=\"1\" class=\"dataframe\">\n",
       "  <thead>\n",
       "    <tr style=\"text-align: right;\">\n",
       "      <th></th>\n",
       "      <th>application_id</th>\n",
       "      <th>title</th>\n",
       "      <th>abstract</th>\n",
       "      <th>claims</th>\n",
       "      <th>result</th>\n",
       "      <th>abstract_final</th>\n",
       "      <th>claims_final</th>\n",
       "      <th>claims_count</th>\n",
       "      <th>abstract_count</th>\n",
       "      <th>abstract__sen_count</th>\n",
       "      <th>claims_sen_count</th>\n",
       "    </tr>\n",
       "  </thead>\n",
       "  <tbody>\n",
       "    <tr>\n",
       "      <th>0</th>\n",
       "      <td>11041610</td>\n",
       "      <td>METHOD OF PRINTING SECURITY DOCUMENTS</td>\n",
       "      <td>[A, method, of, providing, a, security, docume...</td>\n",
       "      <td>[1, ., A, method, of, providing, a, security, ...</td>\n",
       "      <td>1</td>\n",
       "      <td>['A', 'method', 'provide', 'security', 'docume...</td>\n",
       "      <td>['A', 'method', 'provide', 'security', 'docume...</td>\n",
       "      <td>622.0</td>\n",
       "      <td>46.0</td>\n",
       "      <td>4.0</td>\n",
       "      <td>29.0</td>\n",
       "    </tr>\n",
       "    <tr>\n",
       "      <th>1</th>\n",
       "      <td>11619583</td>\n",
       "      <td>Method for Identifying Phone Numbers and Alpha...</td>\n",
       "      <td>[A, method, and, system, provides, the, abilit...</td>\n",
       "      <td>[1, ., A, method, comprising, :, ,, receiving,...</td>\n",
       "      <td>0</td>\n",
       "      <td>['A', 'method', 'system', 'provide', 'ability'...</td>\n",
       "      <td>['A', 'method', 'comprising', 'receive', 'text...</td>\n",
       "      <td>397.0</td>\n",
       "      <td>125.0</td>\n",
       "      <td>6.0</td>\n",
       "      <td>32.0</td>\n",
       "    </tr>\n",
       "  </tbody>\n",
       "</table>\n",
       "</div>"
      ],
      "text/plain": [
       "   application_id                                              title  \\\n",
       "0        11041610              METHOD OF PRINTING SECURITY DOCUMENTS   \n",
       "1        11619583  Method for Identifying Phone Numbers and Alpha...   \n",
       "\n",
       "                                            abstract  \\\n",
       "0  [A, method, of, providing, a, security, docume...   \n",
       "1  [A, method, and, system, provides, the, abilit...   \n",
       "\n",
       "                                              claims  result  \\\n",
       "0  [1, ., A, method, of, providing, a, security, ...       1   \n",
       "1  [1, ., A, method, comprising, :, ,, receiving,...       0   \n",
       "\n",
       "                                      abstract_final  \\\n",
       "0  ['A', 'method', 'provide', 'security', 'docume...   \n",
       "1  ['A', 'method', 'system', 'provide', 'ability'...   \n",
       "\n",
       "                                        claims_final  claims_count  \\\n",
       "0  ['A', 'method', 'provide', 'security', 'docume...         622.0   \n",
       "1  ['A', 'method', 'comprising', 'receive', 'text...         397.0   \n",
       "\n",
       "   abstract_count  abstract__sen_count  claims_sen_count  \n",
       "0            46.0                  4.0              29.0  \n",
       "1           125.0                  6.0              32.0  "
      ]
     },
     "execution_count": 43,
     "metadata": {},
     "output_type": "execute_result"
    }
   ],
   "source": [
    "data.head(2)"
   ]
  },
  {
   "cell_type": "markdown",
   "metadata": {},
   "source": [
    "## abstract"
   ]
  },
  {
   "cell_type": "code",
   "execution_count": 103,
   "metadata": {},
   "outputs": [
    {
     "data": {
      "text/plain": [
       "TfidfVectorizer(analyzer='word', binary=False, decode_error='strict',\n",
       "                dtype=<class 'numpy.float64'>, encoding='utf-8',\n",
       "                input='content', lowercase=True, max_df=1.0, max_features=300,\n",
       "                min_df=1, ngram_range=(1, 1), norm='l2', preprocessor=None,\n",
       "                smooth_idf=True, stop_words=None, strip_accents=None,\n",
       "                sublinear_tf=False, token_pattern='(?u)\\\\b\\\\w\\\\w+\\\\b',\n",
       "                tokenizer=None, use_idf=True, vocabulary=None)"
      ]
     },
     "execution_count": 103,
     "metadata": {},
     "output_type": "execute_result"
    }
   ],
   "source": [
    "Tfidf_vect_abs = TfidfVectorizer(max_features=300)\n",
    "Tfidf_vect_abs.fit(data['abstract_final'])"
   ]
  },
  {
   "cell_type": "code",
   "execution_count": 104,
   "metadata": {},
   "outputs": [
    {
     "data": {
      "text/plain": [
       "<7769x300 sparse matrix of type '<class 'numpy.float64'>'\n",
       "\twith 164711 stored elements in Compressed Sparse Row format>"
      ]
     },
     "execution_count": 104,
     "metadata": {},
     "output_type": "execute_result"
    }
   ],
   "source": [
    "Tfidf_feature_abs = Tfidf_vect_abs.transform(data['abstract_final'])\n",
    "Tfidf_feature_abs"
   ]
  },
  {
   "cell_type": "code",
   "execution_count": 105,
   "metadata": {
    "scrolled": true
   },
   "outputs": [
    {
     "data": {
      "text/html": [
       "<div>\n",
       "<style>\n",
       "    .dataframe thead tr:only-child th {\n",
       "        text-align: right;\n",
       "    }\n",
       "\n",
       "    .dataframe thead th {\n",
       "        text-align: left;\n",
       "    }\n",
       "\n",
       "    .dataframe tbody tr th {\n",
       "        vertical-align: top;\n",
       "    }\n",
       "</style>\n",
       "<table border=\"1\" class=\"dataframe\">\n",
       "  <thead>\n",
       "    <tr style=\"text-align: right;\">\n",
       "      <th></th>\n",
       "      <th>0</th>\n",
       "      <th>1</th>\n",
       "      <th>2</th>\n",
       "      <th>3</th>\n",
       "      <th>4</th>\n",
       "      <th>5</th>\n",
       "      <th>6</th>\n",
       "      <th>7</th>\n",
       "      <th>8</th>\n",
       "      <th>9</th>\n",
       "      <th>...</th>\n",
       "      <th>290</th>\n",
       "      <th>291</th>\n",
       "      <th>292</th>\n",
       "      <th>293</th>\n",
       "      <th>294</th>\n",
       "      <th>295</th>\n",
       "      <th>296</th>\n",
       "      <th>297</th>\n",
       "      <th>298</th>\n",
       "      <th>299</th>\n",
       "    </tr>\n",
       "  </thead>\n",
       "  <tbody>\n",
       "    <tr>\n",
       "      <th>0</th>\n",
       "      <td>0.0</td>\n",
       "      <td>0.0</td>\n",
       "      <td>0.0</td>\n",
       "      <td>0.0</td>\n",
       "      <td>0.0</td>\n",
       "      <td>0.0</td>\n",
       "      <td>0.000000</td>\n",
       "      <td>0.000000</td>\n",
       "      <td>0.0</td>\n",
       "      <td>0.0</td>\n",
       "      <td>...</td>\n",
       "      <td>0.0</td>\n",
       "      <td>0.0</td>\n",
       "      <td>0.0</td>\n",
       "      <td>0.00000</td>\n",
       "      <td>0.0</td>\n",
       "      <td>0.0</td>\n",
       "      <td>0.0</td>\n",
       "      <td>0.0</td>\n",
       "      <td>0.0</td>\n",
       "      <td>0.0</td>\n",
       "    </tr>\n",
       "    <tr>\n",
       "      <th>1</th>\n",
       "      <td>0.0</td>\n",
       "      <td>0.0</td>\n",
       "      <td>0.0</td>\n",
       "      <td>0.0</td>\n",
       "      <td>0.0</td>\n",
       "      <td>0.0</td>\n",
       "      <td>0.154238</td>\n",
       "      <td>0.000000</td>\n",
       "      <td>0.0</td>\n",
       "      <td>0.0</td>\n",
       "      <td>...</td>\n",
       "      <td>0.0</td>\n",
       "      <td>0.0</td>\n",
       "      <td>0.0</td>\n",
       "      <td>0.25314</td>\n",
       "      <td>0.0</td>\n",
       "      <td>0.0</td>\n",
       "      <td>0.0</td>\n",
       "      <td>0.0</td>\n",
       "      <td>0.0</td>\n",
       "      <td>0.0</td>\n",
       "    </tr>\n",
       "    <tr>\n",
       "      <th>2</th>\n",
       "      <td>0.0</td>\n",
       "      <td>0.0</td>\n",
       "      <td>0.0</td>\n",
       "      <td>0.0</td>\n",
       "      <td>0.0</td>\n",
       "      <td>0.0</td>\n",
       "      <td>0.000000</td>\n",
       "      <td>0.095408</td>\n",
       "      <td>0.0</td>\n",
       "      <td>0.0</td>\n",
       "      <td>...</td>\n",
       "      <td>0.0</td>\n",
       "      <td>0.0</td>\n",
       "      <td>0.0</td>\n",
       "      <td>0.00000</td>\n",
       "      <td>0.0</td>\n",
       "      <td>0.0</td>\n",
       "      <td>0.0</td>\n",
       "      <td>0.0</td>\n",
       "      <td>0.0</td>\n",
       "      <td>0.0</td>\n",
       "    </tr>\n",
       "  </tbody>\n",
       "</table>\n",
       "<p>3 rows × 300 columns</p>\n",
       "</div>"
      ],
      "text/plain": [
       "   0    1    2    3    4    5         6         7    8    9   ...   290  291  \\\n",
       "0  0.0  0.0  0.0  0.0  0.0  0.0  0.000000  0.000000  0.0  0.0 ...   0.0  0.0   \n",
       "1  0.0  0.0  0.0  0.0  0.0  0.0  0.154238  0.000000  0.0  0.0 ...   0.0  0.0   \n",
       "2  0.0  0.0  0.0  0.0  0.0  0.0  0.000000  0.095408  0.0  0.0 ...   0.0  0.0   \n",
       "\n",
       "   292      293  294  295  296  297  298  299  \n",
       "0  0.0  0.00000  0.0  0.0  0.0  0.0  0.0  0.0  \n",
       "1  0.0  0.25314  0.0  0.0  0.0  0.0  0.0  0.0  \n",
       "2  0.0  0.00000  0.0  0.0  0.0  0.0  0.0  0.0  \n",
       "\n",
       "[3 rows x 300 columns]"
      ]
     },
     "execution_count": 105,
     "metadata": {},
     "output_type": "execute_result"
    }
   ],
   "source": [
    "df_abs = pd.DataFrame(Tfidf_feature_abs.toarray())\n",
    "df_abs.head(3)"
   ]
  },
  {
   "cell_type": "code",
   "execution_count": 106,
   "metadata": {},
   "outputs": [
    {
     "data": {
      "text/plain": [
       "(7769, 300)"
      ]
     },
     "execution_count": 106,
     "metadata": {},
     "output_type": "execute_result"
    }
   ],
   "source": [
    "df_abs.shape"
   ]
  },
  {
   "cell_type": "code",
   "execution_count": 107,
   "metadata": {
    "collapsed": true
   },
   "outputs": [],
   "source": [
    "# 保存\n",
    "df_abs.to_excel(\n",
    "    \"E:/Pythonworkspace/patent/process_data/sample3_G-06-F-17/textual/abstract_TF-IDF_300d.xlsx\")"
   ]
  },
  {
   "cell_type": "markdown",
   "metadata": {
    "collapsed": true
   },
   "source": [
    "## claims"
   ]
  },
  {
   "cell_type": "code",
   "execution_count": 93,
   "metadata": {},
   "outputs": [
    {
     "data": {
      "text/plain": [
       "TfidfVectorizer(analyzer='word', binary=False, decode_error='strict',\n",
       "                dtype=<class 'numpy.float64'>, encoding='utf-8',\n",
       "                input='content', lowercase=True, max_df=1.0, max_features=300,\n",
       "                min_df=1, ngram_range=(1, 1), norm='l2', preprocessor=None,\n",
       "                smooth_idf=True, stop_words=None, strip_accents=None,\n",
       "                sublinear_tf=False, token_pattern='(?u)\\\\b\\\\w\\\\w+\\\\b',\n",
       "                tokenizer=None, use_idf=True, vocabulary=None)"
      ]
     },
     "execution_count": 93,
     "metadata": {},
     "output_type": "execute_result"
    }
   ],
   "source": [
    "Tfidf_vect_claims = TfidfVectorizer(max_features=300)\n",
    "Tfidf_vect_claims.fit(data['claims_final'])"
   ]
  },
  {
   "cell_type": "code",
   "execution_count": 94,
   "metadata": {},
   "outputs": [
    {
     "data": {
      "text/plain": [
       "<7769x300 sparse matrix of type '<class 'numpy.float64'>'\n",
       "\twith 393060 stored elements in Compressed Sparse Row format>"
      ]
     },
     "execution_count": 94,
     "metadata": {},
     "output_type": "execute_result"
    }
   ],
   "source": [
    "Tfidf_feature_claims = Tfidf_vect_claims.transform(data['claims_final'])\n",
    "Tfidf_feature_claims"
   ]
  },
  {
   "cell_type": "code",
   "execution_count": 95,
   "metadata": {},
   "outputs": [
    {
     "data": {
      "text/html": [
       "<div>\n",
       "<style>\n",
       "    .dataframe thead tr:only-child th {\n",
       "        text-align: right;\n",
       "    }\n",
       "\n",
       "    .dataframe thead th {\n",
       "        text-align: left;\n",
       "    }\n",
       "\n",
       "    .dataframe tbody tr th {\n",
       "        vertical-align: top;\n",
       "    }\n",
       "</style>\n",
       "<table border=\"1\" class=\"dataframe\">\n",
       "  <thead>\n",
       "    <tr style=\"text-align: right;\">\n",
       "      <th></th>\n",
       "      <th>0</th>\n",
       "      <th>1</th>\n",
       "      <th>2</th>\n",
       "      <th>3</th>\n",
       "      <th>4</th>\n",
       "      <th>5</th>\n",
       "      <th>6</th>\n",
       "      <th>7</th>\n",
       "      <th>8</th>\n",
       "      <th>9</th>\n",
       "      <th>...</th>\n",
       "      <th>290</th>\n",
       "      <th>291</th>\n",
       "      <th>292</th>\n",
       "      <th>293</th>\n",
       "      <th>294</th>\n",
       "      <th>295</th>\n",
       "      <th>296</th>\n",
       "      <th>297</th>\n",
       "      <th>298</th>\n",
       "      <th>299</th>\n",
       "    </tr>\n",
       "  </thead>\n",
       "  <tbody>\n",
       "    <tr>\n",
       "      <th>0</th>\n",
       "      <td>0.0</td>\n",
       "      <td>0.231446</td>\n",
       "      <td>0.047851</td>\n",
       "      <td>0.0</td>\n",
       "      <td>0.0</td>\n",
       "      <td>0.0</td>\n",
       "      <td>0.0</td>\n",
       "      <td>0.0</td>\n",
       "      <td>0.000000</td>\n",
       "      <td>0.022486</td>\n",
       "      <td>...</td>\n",
       "      <td>0.0</td>\n",
       "      <td>0.0</td>\n",
       "      <td>0.0</td>\n",
       "      <td>0.0</td>\n",
       "      <td>0.000000</td>\n",
       "      <td>0.0</td>\n",
       "      <td>0.153832</td>\n",
       "      <td>0.000000</td>\n",
       "      <td>0.016252</td>\n",
       "      <td>0.0</td>\n",
       "    </tr>\n",
       "    <tr>\n",
       "      <th>1</th>\n",
       "      <td>0.0</td>\n",
       "      <td>0.273842</td>\n",
       "      <td>0.056617</td>\n",
       "      <td>0.0</td>\n",
       "      <td>0.0</td>\n",
       "      <td>0.0</td>\n",
       "      <td>0.0</td>\n",
       "      <td>0.0</td>\n",
       "      <td>0.000000</td>\n",
       "      <td>0.000000</td>\n",
       "      <td>...</td>\n",
       "      <td>0.0</td>\n",
       "      <td>0.0</td>\n",
       "      <td>0.0</td>\n",
       "      <td>0.0</td>\n",
       "      <td>0.082028</td>\n",
       "      <td>0.0</td>\n",
       "      <td>0.078004</td>\n",
       "      <td>0.164664</td>\n",
       "      <td>0.000000</td>\n",
       "      <td>0.0</td>\n",
       "    </tr>\n",
       "    <tr>\n",
       "      <th>2</th>\n",
       "      <td>0.0</td>\n",
       "      <td>0.000000</td>\n",
       "      <td>0.000000</td>\n",
       "      <td>0.0</td>\n",
       "      <td>0.0</td>\n",
       "      <td>0.0</td>\n",
       "      <td>0.0</td>\n",
       "      <td>0.0</td>\n",
       "      <td>0.101415</td>\n",
       "      <td>0.000000</td>\n",
       "      <td>...</td>\n",
       "      <td>0.0</td>\n",
       "      <td>0.0</td>\n",
       "      <td>0.0</td>\n",
       "      <td>0.0</td>\n",
       "      <td>0.000000</td>\n",
       "      <td>0.0</td>\n",
       "      <td>0.100685</td>\n",
       "      <td>0.028130</td>\n",
       "      <td>0.026281</td>\n",
       "      <td>0.0</td>\n",
       "    </tr>\n",
       "  </tbody>\n",
       "</table>\n",
       "<p>3 rows × 300 columns</p>\n",
       "</div>"
      ],
      "text/plain": [
       "   0         1         2    3    4    5    6    7         8         9   ...   \\\n",
       "0  0.0  0.231446  0.047851  0.0  0.0  0.0  0.0  0.0  0.000000  0.022486 ...    \n",
       "1  0.0  0.273842  0.056617  0.0  0.0  0.0  0.0  0.0  0.000000  0.000000 ...    \n",
       "2  0.0  0.000000  0.000000  0.0  0.0  0.0  0.0  0.0  0.101415  0.000000 ...    \n",
       "\n",
       "   290  291  292  293       294  295       296       297       298  299  \n",
       "0  0.0  0.0  0.0  0.0  0.000000  0.0  0.153832  0.000000  0.016252  0.0  \n",
       "1  0.0  0.0  0.0  0.0  0.082028  0.0  0.078004  0.164664  0.000000  0.0  \n",
       "2  0.0  0.0  0.0  0.0  0.000000  0.0  0.100685  0.028130  0.026281  0.0  \n",
       "\n",
       "[3 rows x 300 columns]"
      ]
     },
     "execution_count": 95,
     "metadata": {},
     "output_type": "execute_result"
    }
   ],
   "source": [
    "df_claims = pd.DataFrame(Tfidf_feature_claims.toarray())\n",
    "df_claims.head(3)"
   ]
  },
  {
   "cell_type": "code",
   "execution_count": 96,
   "metadata": {},
   "outputs": [
    {
     "data": {
      "text/plain": [
       "(7769, 300)"
      ]
     },
     "execution_count": 96,
     "metadata": {},
     "output_type": "execute_result"
    }
   ],
   "source": [
    "df_claims.shape"
   ]
  },
  {
   "cell_type": "code",
   "execution_count": 97,
   "metadata": {
    "collapsed": true
   },
   "outputs": [],
   "source": [
    "# 保存\n",
    "df_claims.to_excel(\n",
    "    \"E:/Pythonworkspace/patent/process_data/sample3_G-06-F-17/textual/claims_TF-IDF_300d.xlsx\")"
   ]
  }
 ],
 "metadata": {
  "kernelspec": {
   "display_name": "Python 3",
   "language": "python",
   "name": "python3"
  },
  "language_info": {
   "codemirror_mode": {
    "name": "ipython",
    "version": 3
   },
   "file_extension": ".py",
   "mimetype": "text/x-python",
   "name": "python",
   "nbconvert_exporter": "python",
   "pygments_lexer": "ipython3",
   "version": "3.6.9"
  },
  "toc": {
   "base_numbering": 1,
   "nav_menu": {},
   "number_sections": true,
   "sideBar": true,
   "skip_h1_title": false,
   "title_cell": "Table of Contents",
   "title_sidebar": "Contents",
   "toc_cell": false,
   "toc_position": {
    "height": "calc(100% - 180px)",
    "left": "10px",
    "top": "150px",
    "width": "165px"
   },
   "toc_section_display": true,
   "toc_window_display": true
  },
  "varInspector": {
   "cols": {
    "lenName": 16,
    "lenType": 16,
    "lenVar": 40
   },
   "kernels_config": {
    "python": {
     "delete_cmd_postfix": "",
     "delete_cmd_prefix": "del ",
     "library": "var_list.py",
     "varRefreshCmd": "print(var_dic_list())"
    },
    "r": {
     "delete_cmd_postfix": ") ",
     "delete_cmd_prefix": "rm(",
     "library": "var_list.r",
     "varRefreshCmd": "cat(var_dic_list()) "
    }
   },
   "types_to_exclude": [
    "module",
    "function",
    "builtin_function_or_method",
    "instance",
    "_Feature"
   ],
   "window_display": false
  }
 },
 "nbformat": 4,
 "nbformat_minor": 2
}
