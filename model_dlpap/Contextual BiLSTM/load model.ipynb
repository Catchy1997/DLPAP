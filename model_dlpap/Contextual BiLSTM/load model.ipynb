{
 "cells": [
  {
   "cell_type": "code",
   "execution_count": null,
   "metadata": {
    "collapsed": true
   },
   "outputs": [],
   "source": [
    "import pandas as pd\n",
    "import numpy as np\n",
    "from tqdm import tqdm\n",
    "import os"
   ]
  },
  {
   "cell_type": "code",
   "execution_count": null,
   "metadata": {
    "collapsed": true
   },
   "outputs": [],
   "source": [
    "import xgboost\n",
    "from sklearn import preprocessing,linear_model, metrics, ensemble\n",
    "from sklearn.preprocessing import LabelEncoder\n",
    "from sklearn.metrics import accuracy_score,average_precision_score\n",
    "from sklearn.metrics import precision_recall_curve,roc_curve,auc\n",
    "from sklearn.metrics import classification_report\n",
    "from sklearn.utils import class_weight"
   ]
  },
  {
   "cell_type": "code",
   "execution_count": null,
   "metadata": {
    "cell_style": "center",
    "collapsed": true
   },
   "outputs": [],
   "source": [
    "import tensorflow as tf\n",
    "from keras import backend as K\n",
    "from keras.preprocessing import text, sequence\n",
    "from keras.layers.merge import concatenate\n",
    "from keras import layers, models\n",
    "from keras.utils import to_categorical\n",
    "from keras.utils import np_utils"
   ]
  },
  {
   "cell_type": "code",
   "execution_count": null,
   "metadata": {
    "collapsed": true
   },
   "outputs": [],
   "source": [
    "filename = \"/home/hxjiang/Pythonworkspace/patent/sample3_G-06-F-17/textual/after_process.xlsx\"\n",
    "data = pd.read_excel(filename,encoding='utf-8')"
   ]
  },
  {
   "cell_type": "code",
   "execution_count": null,
   "metadata": {
    "collapsed": true
   },
   "outputs": [],
   "source": [
    "abstract = data['abstract_final']\n",
    "claims = data['claims_final']"
   ]
  },
  {
   "cell_type": "markdown",
   "metadata": {},
   "source": [
    "# abstract"
   ]
  },
  {
   "cell_type": "code",
   "execution_count": null,
   "metadata": {
    "collapsed": true
   },
   "outputs": [],
   "source": [
    "abstract_token = text.Tokenizer()\n",
    "abstract_token.fit_on_texts(abstract)\n",
    "abstract_word_index = abstract_token.word_index"
   ]
  },
  {
   "cell_type": "code",
   "execution_count": null,
   "metadata": {
    "collapsed": true
   },
   "outputs": [],
   "source": [
    "x_abs_seq = sequence.pad_sequences(abstract_token.texts_to_sequences(abstract), maxlen=140)"
   ]
  },
  {
   "cell_type": "code",
   "execution_count": null,
   "metadata": {
    "collapsed": true
   },
   "outputs": [],
   "source": [
    "model_filename = \"\"\n",
    "model = models.load_model(model_filename)\n",
    "# model.summary()\n",
    "# get_3rd_layer_output = K.function(inputs=[model.layers[0].input,model.layers[1].input],outputs=[model.layers[-2].output])\n",
    "# layer_output = get_3rd_layer_output([x_abs_train_seq, x_claims_train_seq])[0]\n",
    "# layer_output.shape\n",
    "layer_model = models.Model(inputs=[model.layers[0].input],outputs=[model.layers[-3].output])\n",
    "# layer_model = models.Model(inputs=[model.layers[0].input,model.layers[1].input],outputs=[model.layers[-3].output])\n",
    "intermediate_output = layer_model.predict(x = x_abs_seq, batch_size=256, verbose=0)\n",
    "# intermediate_output_train = layer_model.predict(x = [x_abs_train_seq, x_claims_train_seq], batch_size=24, verbose=1)\n",
    "df = pd.DataFrame(intermediate_output)\n",
    "df.to_excel(model_filename+\".xlsx\")"
   ]
  }
 ],
 "metadata": {
  "kernelspec": {
   "display_name": "Python 3",
   "language": "python",
   "name": "python3"
  },
  "language_info": {
   "codemirror_mode": {
    "name": "ipython",
    "version": 3
   },
   "file_extension": ".py",
   "mimetype": "text/x-python",
   "name": "python",
   "nbconvert_exporter": "python",
   "pygments_lexer": "ipython3",
   "version": "3.6.9"
  },
  "toc": {
   "base_numbering": 1,
   "nav_menu": {},
   "number_sections": true,
   "sideBar": true,
   "skip_h1_title": false,
   "title_cell": "Table of Contents",
   "title_sidebar": "Contents",
   "toc_cell": false,
   "toc_position": {},
   "toc_section_display": true,
   "toc_window_display": true
  },
  "varInspector": {
   "cols": {
    "lenName": 16,
    "lenType": 16,
    "lenVar": 40
   },
   "kernels_config": {
    "python": {
     "delete_cmd_postfix": "",
     "delete_cmd_prefix": "del ",
     "library": "var_list.py",
     "varRefreshCmd": "print(var_dic_list())"
    },
    "r": {
     "delete_cmd_postfix": ") ",
     "delete_cmd_prefix": "rm(",
     "library": "var_list.r",
     "varRefreshCmd": "cat(var_dic_list()) "
    }
   },
   "types_to_exclude": [
    "module",
    "function",
    "builtin_function_or_method",
    "instance",
    "_Feature"
   ],
   "window_display": false
  }
 },
 "nbformat": 4,
 "nbformat_minor": 2
}
