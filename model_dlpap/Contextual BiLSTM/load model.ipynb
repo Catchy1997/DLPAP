{
 "cells": [
  {
   "cell_type": "code",
   "execution_count": 41,
   "metadata": {},
   "outputs": [],
   "source": [
    "import pandas as pd\n",
    "from tqdm import tqdm\n",
    "import os, re\n",
    "import numpy as np"
   ]
  },
  {
   "cell_type": "code",
   "execution_count": 42,
   "metadata": {
    "cell_style": "center"
   },
   "outputs": [],
   "source": [
    "import tensorflow as tf\n",
    "from keras import backend as K\n",
    "from keras.preprocessing import text, sequence\n",
    "from keras import layers, models"
   ]
  },
  {
   "cell_type": "code",
   "execution_count": 43,
   "metadata": {},
   "outputs": [],
   "source": [
    "filename = \"/home/hxjiang/Pythonworkspace/patent/sample3_G-06-F-17/textual/after_process.xlsx\"\n",
    "data = pd.read_excel(filename, encoding='utf-8')"
   ]
  },
  {
   "cell_type": "code",
   "execution_count": 44,
   "metadata": {},
   "outputs": [],
   "source": [
    "abstract = data['abstract_final']\n",
    "claims = data['claims_final']"
   ]
  },
  {
   "cell_type": "markdown",
   "metadata": {},
   "source": [
    "# abstract"
   ]
  },
  {
   "cell_type": "code",
   "execution_count": 45,
   "metadata": {},
   "outputs": [],
   "source": [
    "abstract_token = text.Tokenizer()\n",
    "abstract_token.fit_on_texts(abstract)\n",
    "abstract_word_index = abstract_token.word_index"
   ]
  },
  {
   "cell_type": "code",
   "execution_count": 46,
   "metadata": {},
   "outputs": [],
   "source": [
    "x_abs_seq = sequence.pad_sequences(abstract_token.texts_to_sequences(abstract), maxlen=140)"
   ]
  },
  {
   "cell_type": "code",
   "execution_count": null,
   "metadata": {},
   "outputs": [],
   "source": [
    "best_abs_model_filepath = \"/home/hxjiang/Pythonworkspace/patent/sample3_G-06-F-17/textual/model/abstract/abstract-ep016-loss0.599-val_loss0.609.h5\"\n",
    "abstract_model = models.load_model(best_abs_model_filepath)\n",
    "abs_layer_model = models.Model(inputs=[abstract_model.layers[0].input],outputs=[abstract_model.layers[-3].output])\n",
    "abs_intermediate_output = abs_layer_model.predict(x = x_abs_seq, batch_size=128, verbose=1)"
   ]
  },
  {
   "cell_type": "code",
   "execution_count": 40,
   "metadata": {},
   "outputs": [],
   "source": [
    "p = re.compile(\"h5\", re.S)\n",
    "file_name = pd.sub(\"xlsx\", best_abs_model_filepath)\n",
    "df = pd.DataFrame(abs_intermediate_output)\n",
    "df.to_excel(file_name)"
   ]
  },
  {
   "cell_type": "markdown",
   "metadata": {},
   "source": [
    "# claims"
   ]
  },
  {
   "cell_type": "code",
   "execution_count": 49,
   "metadata": {},
   "outputs": [],
   "source": [
    "claims_token = text.Tokenizer()\n",
    "claims_token.fit_on_texts(claims)\n",
    "claims_word_index = claims_token.word_index"
   ]
  },
  {
   "cell_type": "code",
   "execution_count": 50,
   "metadata": {},
   "outputs": [],
   "source": [
    "x_claims_seq = sequence.pad_sequences(claims_token.texts_to_sequences(claims), maxlen=1400)"
   ]
  },
  {
   "cell_type": "code",
   "execution_count": 54,
   "metadata": {},
   "outputs": [
    {
     "name": "stdout",
     "output_type": "stream",
     "text": [
      "7769/7769 [==============================] - 407s 52ms/step\n"
     ]
    }
   ],
   "source": [
    "best_claims_model_filepath = \"/home/hxjiang/Pythonworkspace/patent/sample3_G-06-F-17/textual/model/claims/claims-ep009-loss0.616-val_loss0.604.h5\"\n",
    "claims_model = models.load_model(best_claims_model_filepath)\n",
    "claims_layer_model = models.Model(inputs=[claims_model.layers[0].input],outputs=[claims_model.layers[-3].output])\n",
    "claims_intermediate_output = claims_layer_model.predict(x = x_claims_seq, batch_size=128, verbose=1)"
   ]
  },
  {
   "cell_type": "code",
   "execution_count": 55,
   "metadata": {},
   "outputs": [],
   "source": [
    "df = pd.DataFrame(claims_intermediate_output)\n",
    "df.to_excel(\"/home/hxjiang/Pythonworkspace/patent/sample3_G-06-F-17/textual/model/claims/claims-ep009-loss0.616-val_loss0.604.xlsx\")"
   ]
  }
 ],
 "metadata": {
  "kernelspec": {
   "display_name": "Python 3",
   "language": "python",
   "name": "python3"
  },
  "language_info": {
   "codemirror_mode": {
    "name": "ipython",
    "version": 3
   },
   "file_extension": ".py",
   "mimetype": "text/x-python",
   "name": "python",
   "nbconvert_exporter": "python",
   "pygments_lexer": "ipython3",
   "version": "3.6.9"
  },
  "toc": {
   "base_numbering": 1,
   "nav_menu": {},
   "number_sections": true,
   "sideBar": true,
   "skip_h1_title": false,
   "title_cell": "Table of Contents",
   "title_sidebar": "Contents",
   "toc_cell": false,
   "toc_position": {
    "height": "calc(100% - 180px)",
    "left": "10px",
    "top": "150px",
    "width": "165px"
   },
   "toc_section_display": true,
   "toc_window_display": true
  },
  "varInspector": {
   "cols": {
    "lenName": 16,
    "lenType": 16,
    "lenVar": 40
   },
   "kernels_config": {
    "python": {
     "delete_cmd_postfix": "",
     "delete_cmd_prefix": "del ",
     "library": "var_list.py",
     "varRefreshCmd": "print(var_dic_list())"
    },
    "r": {
     "delete_cmd_postfix": ") ",
     "delete_cmd_prefix": "rm(",
     "library": "var_list.r",
     "varRefreshCmd": "cat(var_dic_list()) "
    }
   },
   "types_to_exclude": [
    "module",
    "function",
    "builtin_function_or_method",
    "instance",
    "_Feature"
   ],
   "window_display": false
  }
 },
 "nbformat": 4,
 "nbformat_minor": 2
}
