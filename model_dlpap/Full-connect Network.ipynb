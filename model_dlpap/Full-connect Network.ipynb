{
 "cells": [
  {
   "cell_type": "code",
   "execution_count": 1,
   "metadata": {
    "ExecuteTime": {
     "end_time": "2020-04-18T06:47:42.389893Z",
     "start_time": "2020-04-18T06:47:41.390534Z"
    }
   },
   "outputs": [],
   "source": [
    "import pandas as pd\n",
    "import numpy as np\n",
    "import re\n",
    "import os\n",
    "from tqdm import tqdm\n",
    "import matplotlib.pyplot as plt\n",
    "from sklearn.decomposition import PCA"
   ]
  },
  {
   "cell_type": "code",
   "execution_count": 2,
   "metadata": {
    "ExecuteTime": {
     "end_time": "2020-04-18T06:47:43.288518Z",
     "start_time": "2020-04-18T06:47:43.245473Z"
    }
   },
   "outputs": [],
   "source": [
    "import xgboost\n",
    "from sklearn import preprocessing, linear_model, ensemble, metrics\n",
    "from sklearn.metrics import accuracy_score, average_precision_score\n",
    "from sklearn.metrics import precision_recall_curve, roc_curve, auc\n",
    "from sklearn.metrics import classification_report\n",
    "from sklearn.utils import class_weight"
   ]
  },
  {
   "cell_type": "code",
   "execution_count": 3,
   "metadata": {
    "ExecuteTime": {
     "end_time": "2020-04-18T06:47:45.543249Z",
     "start_time": "2020-04-18T06:47:44.239987Z"
    }
   },
   "outputs": [
    {
     "name": "stderr",
     "output_type": "stream",
     "text": [
      "Using TensorFlow backend.\n"
     ]
    }
   ],
   "source": [
    "import keras\n",
    "import tensorflow as tf\n",
    "from keras import backend as K\n",
    "from keras.preprocessing import text, sequence\n",
    "from keras.callbacks import EarlyStopping, ModelCheckpoint\n",
    "from keras import layers, models, optimizers\n",
    "from keras.layers import LSTM\n",
    "from keras.layers.merge import concatenate\n",
    "from keras.utils import to_categorical\n",
    "from keras.utils import np_utils"
   ]
  },
  {
   "cell_type": "markdown",
   "metadata": {},
   "source": [
    "# 准备文本"
   ]
  },
  {
   "cell_type": "markdown",
   "metadata": {
    "heading_collapsed": true
   },
   "source": [
    "## abstract"
   ]
  },
  {
   "cell_type": "code",
   "execution_count": 246,
   "metadata": {
    "ExecuteTime": {
     "end_time": "2020-04-18T06:47:48.176121Z",
     "start_time": "2020-04-18T06:47:47.966108Z"
    },
    "hidden": true
   },
   "outputs": [],
   "source": [
    "abs_filepath = \"/home/hxjiang/Pythonworkspace/patent/sample3_G-06-F-17/textual/model/abstract/abstract-ep008-loss0.623-val_loss0.611.h5.xlsx\"\n",
    "abstract = pd.read_excel(abs_filepath, encoding='utf-8')"
   ]
  },
  {
   "cell_type": "code",
   "execution_count": 247,
   "metadata": {
    "hidden": true
   },
   "outputs": [
    {
     "data": {
      "text/plain": [
       "(7769, 72)"
      ]
     },
     "execution_count": 247,
     "metadata": {},
     "output_type": "execute_result"
    }
   ],
   "source": [
    "abstract.shape"
   ]
  },
  {
   "cell_type": "code",
   "execution_count": 248,
   "metadata": {
    "hidden": true
   },
   "outputs": [
    {
     "data": {
      "text/plain": [
       "12.539779837277795"
      ]
     },
     "execution_count": 248,
     "metadata": {},
     "output_type": "execute_result"
    }
   ],
   "source": [
    "x_abs = abstract\n",
    "# 条件数在1附近是理想的，有文献表明超过15就说明存在共线性\n",
    "c = np.linalg.cond(x_abs, p=None)\n",
    "c"
   ]
  },
  {
   "cell_type": "markdown",
   "metadata": {
    "heading_collapsed": true
   },
   "source": [
    "## claims"
   ]
  },
  {
   "cell_type": "code",
   "execution_count": 611,
   "metadata": {
    "hidden": true
   },
   "outputs": [],
   "source": [
    "claim_filepath = \"/home/hxjiang/Pythonworkspace/patent/sample3_G-06-F-17/textual/model/claims/claims-ep007-loss0.627-val_loss0.615.h5.xlsx\"\n",
    "claims = pd.read_excel(claim_filepath, encoding='utf-8')"
   ]
  },
  {
   "cell_type": "code",
   "execution_count": 612,
   "metadata": {
    "hidden": true
   },
   "outputs": [
    {
     "data": {
      "text/plain": [
       "(7769, 72)"
      ]
     },
     "execution_count": 612,
     "metadata": {},
     "output_type": "execute_result"
    }
   ],
   "source": [
    "claims.shape"
   ]
  },
  {
   "cell_type": "code",
   "execution_count": 613,
   "metadata": {
    "hidden": true
   },
   "outputs": [
    {
     "data": {
      "text/plain": [
       "16.866100239214042"
      ]
     },
     "execution_count": 613,
     "metadata": {},
     "output_type": "execute_result"
    }
   ],
   "source": [
    "x_claims = claims\n",
    "# 条件数在1附近是理想的，有文献表明超过15就说明存在共线性\n",
    "c = np.linalg.cond(x_claims, p=None)\n",
    "c"
   ]
  },
  {
   "cell_type": "markdown",
   "metadata": {
    "heading_collapsed": true
   },
   "source": [
    "## text_sum"
   ]
  },
  {
   "cell_type": "code",
   "execution_count": 725,
   "metadata": {
    "hidden": true
   },
   "outputs": [],
   "source": [
    "sum_feature = pd.concat([abstract,claims],  axis=1, ignore_index=True)"
   ]
  },
  {
   "cell_type": "code",
   "execution_count": 726,
   "metadata": {
    "hidden": true,
    "scrolled": false
   },
   "outputs": [
    {
     "data": {
      "text/plain": [
       "(7769, 144)"
      ]
     },
     "execution_count": 726,
     "metadata": {},
     "output_type": "execute_result"
    }
   ],
   "source": [
    "sum_feature.shape"
   ]
  },
  {
   "cell_type": "code",
   "execution_count": 727,
   "metadata": {
    "hidden": true
   },
   "outputs": [
    {
     "data": {
      "text/plain": [
       "20.333224087368134"
      ]
     },
     "execution_count": 727,
     "metadata": {},
     "output_type": "execute_result"
    }
   ],
   "source": [
    "x_text = sum_feature\n",
    "# 条件数在1附近是理想的，有文献表明超过15就说明存在共线性\n",
    "c = np.linalg.cond(x_text, p=None)\n",
    "c"
   ]
  },
  {
   "cell_type": "markdown",
   "metadata": {
    "heading_collapsed": true
   },
   "source": [
    "## fusion"
   ]
  },
  {
   "cell_type": "code",
   "execution_count": 247,
   "metadata": {
    "hidden": true
   },
   "outputs": [],
   "source": [
    "text_filepath = \"/home/hxjiang/Pythonworkspace/patent/sample3_G-06-F-17/textual/model/fusion/fusion-ep039-loss0.610-val_loss0.616.h5.xlsx\"\n",
    "fusion_feature = pd.read_excel(text_filepath, encoding='utf-8')"
   ]
  },
  {
   "cell_type": "code",
   "execution_count": 248,
   "metadata": {
    "hidden": true
   },
   "outputs": [
    {
     "data": {
      "text/plain": [
       "(7769, 72)"
      ]
     },
     "execution_count": 248,
     "metadata": {},
     "output_type": "execute_result"
    }
   ],
   "source": [
    "fusion_feature.shape"
   ]
  },
  {
   "cell_type": "code",
   "execution_count": 249,
   "metadata": {
    "hidden": true
   },
   "outputs": [
    {
     "data": {
      "text/plain": [
       "55.96842562648369"
      ]
     },
     "execution_count": 249,
     "metadata": {},
     "output_type": "execute_result"
    }
   ],
   "source": [
    "x_fusion = fusion_feature\n",
    "# 条件数在1附近是理想的，有文献表明超过15就说明存在共线性\n",
    "c = np.linalg.cond(x_fusion, p=None)\n",
    "c"
   ]
  },
  {
   "cell_type": "markdown",
   "metadata": {
    "heading_collapsed": true
   },
   "source": [
    "## result"
   ]
  },
  {
   "cell_type": "code",
   "execution_count": 8,
   "metadata": {
    "hidden": true
   },
   "outputs": [],
   "source": [
    "data = pd.read_excel(\"/home/hxjiang/Pythonworkspace/patent/sample3_G-06-F-17/textual/2010_result.xlsx\", encoding='utf-8')"
   ]
  },
  {
   "cell_type": "code",
   "execution_count": 9,
   "metadata": {
    "hidden": true
   },
   "outputs": [],
   "source": [
    "result = data['result']"
   ]
  },
  {
   "cell_type": "code",
   "execution_count": 10,
   "metadata": {
    "hidden": true
   },
   "outputs": [
    {
     "data": {
      "text/plain": [
       "array([1.49346405, 0.75164474])"
      ]
     },
     "execution_count": 10,
     "metadata": {},
     "output_type": "execute_result"
    }
   ],
   "source": [
    "train_target = np_utils.to_categorical(data[['result']], 2)\n",
    "y_ints = [y.argmax() for y in train_target]\n",
    "cw = class_weight.compute_class_weight('balanced', np.unique(y_ints), y_ints)\n",
    "cw"
   ]
  },
  {
   "cell_type": "code",
   "execution_count": 11,
   "metadata": {
    "hidden": true
   },
   "outputs": [
    {
     "data": {
      "text/plain": [
       "(7769, 2)"
      ]
     },
     "execution_count": 11,
     "metadata": {},
     "output_type": "execute_result"
    }
   ],
   "source": [
    "train_target.shape"
   ]
  },
  {
   "cell_type": "markdown",
   "metadata": {
    "heading_collapsed": true
   },
   "source": [
    "## node"
   ]
  },
  {
   "cell_type": "code",
   "execution_count": 328,
   "metadata": {
    "hidden": true
   },
   "outputs": [],
   "source": [
    "node_file = \"/home/hxjiang/Pythonworkspace/patent/sample3_G-06-F-17/ActiveHNE/data/0-38.xlsx\"\n",
    "node = pd.read_excel(node_file, encoding='utf-8', header=None)"
   ]
  },
  {
   "cell_type": "code",
   "execution_count": 329,
   "metadata": {
    "hidden": true
   },
   "outputs": [
    {
     "data": {
      "text/plain": [
       "(7769, 72)"
      ]
     },
     "execution_count": 329,
     "metadata": {},
     "output_type": "execute_result"
    }
   ],
   "source": [
    "node.shape"
   ]
  },
  {
   "cell_type": "code",
   "execution_count": 854,
   "metadata": {
    "hidden": true
   },
   "outputs": [
    {
     "data": {
      "text/plain": [
       "628.868669815647"
      ]
     },
     "execution_count": 854,
     "metadata": {},
     "output_type": "execute_result"
    }
   ],
   "source": [
    "# 条件数在1附近是理想的，有文献表明超过15就说明存在共线性\n",
    "c = np.linalg.cond(node, p=None)\n",
    "c"
   ]
  },
  {
   "cell_type": "code",
   "execution_count": 330,
   "metadata": {
    "hidden": true
   },
   "outputs": [],
   "source": [
    "node = node/100"
   ]
  },
  {
   "cell_type": "markdown",
   "metadata": {
    "heading_collapsed": true
   },
   "source": [
    "## node_text"
   ]
  },
  {
   "cell_type": "code",
   "execution_count": 922,
   "metadata": {
    "hidden": true
   },
   "outputs": [
    {
     "data": {
      "text/plain": [
       "(7769, 216)"
      ]
     },
     "execution_count": 922,
     "metadata": {},
     "output_type": "execute_result"
    }
   ],
   "source": [
    "node_text = pd.concat([sum_feature, node],  axis=1, ignore_index=True)\n",
    "node_text.shape"
   ]
  },
  {
   "cell_type": "code",
   "execution_count": 923,
   "metadata": {
    "hidden": true
   },
   "outputs": [
    {
     "name": "stdout",
     "output_type": "stream",
     "text": [
      "node_text= 1034.9294\n"
     ]
    }
   ],
   "source": [
    "node_text_c = np.linalg.cond(node_text, p=None)\n",
    "print(\"node_text= {:.4f}\".format(node_text_c))"
   ]
  },
  {
   "cell_type": "markdown",
   "metadata": {
    "heading_collapsed": true
   },
   "source": [
    "## node_fusion"
   ]
  },
  {
   "cell_type": "code",
   "execution_count": 331,
   "metadata": {
    "hidden": true
   },
   "outputs": [
    {
     "data": {
      "text/plain": [
       "(7769, 144)"
      ]
     },
     "execution_count": 331,
     "metadata": {},
     "output_type": "execute_result"
    }
   ],
   "source": [
    "node_fusion = pd.concat([fusion_feature, node],  axis=1, ignore_index=True)\n",
    "node_fusion.shape"
   ]
  },
  {
   "cell_type": "code",
   "execution_count": 332,
   "metadata": {
    "hidden": true
   },
   "outputs": [
    {
     "name": "stdout",
     "output_type": "stream",
     "text": [
      "node_text= 792.3750\n"
     ]
    }
   ],
   "source": [
    "node_fusion_c = np.linalg.cond(node_fusion, p=None)\n",
    "print(\"node_text= {:.4f}\".format(node_fusion_c))"
   ]
  },
  {
   "cell_type": "markdown",
   "metadata": {
    "heading_collapsed": true
   },
   "source": [
    "## 归一化or标准化处理"
   ]
  },
  {
   "cell_type": "code",
   "execution_count": 23,
   "metadata": {
    "hidden": true
   },
   "outputs": [],
   "source": [
    "x_abs = preprocessing.scale(x_abs)\n",
    "# node_text = preprocessing.minmax_scale(node_text)"
   ]
  },
  {
   "cell_type": "code",
   "execution_count": 329,
   "metadata": {
    "hidden": true
   },
   "outputs": [],
   "source": [
    "x_claims = preprocessing.scale(x_claims)\n",
    "# node_text = preprocessing.minmax_scale(node_text)"
   ]
  },
  {
   "cell_type": "code",
   "execution_count": 248,
   "metadata": {
    "hidden": true
   },
   "outputs": [],
   "source": [
    "x_text = preprocessing.scale(x_text)\n",
    "# node_text = preprocessing.minmax_scale(node_text)"
   ]
  },
  {
   "cell_type": "code",
   "execution_count": null,
   "metadata": {
    "hidden": true
   },
   "outputs": [],
   "source": [
    "x_fusion = preprocessing.scale(x_fusion)\n",
    "# x_fusion = preprocessing.minmax_scale(x_fusion)"
   ]
  },
  {
   "cell_type": "code",
   "execution_count": 856,
   "metadata": {
    "hidden": true
   },
   "outputs": [],
   "source": [
    "node = preprocessing.scale(node)\n",
    "# node_text = preprocessing.minmax_scale(node_text)"
   ]
  },
  {
   "cell_type": "code",
   "execution_count": 924,
   "metadata": {
    "hidden": true
   },
   "outputs": [],
   "source": [
    "node_text = preprocessing.scale(node_text)\n",
    "# node_text = preprocessing.minmax_scale(node_text)"
   ]
  },
  {
   "cell_type": "markdown",
   "metadata": {
    "heading_collapsed": true
   },
   "source": [
    "# 划分训练集"
   ]
  },
  {
   "cell_type": "code",
   "execution_count": 434,
   "metadata": {
    "hidden": true
   },
   "outputs": [],
   "source": [
    "x_abs_train = x_abs[:6215]\n",
    "x_abs_valid = x_abs[6215:6992]\n",
    "x_abs_test = x_abs[6992:]"
   ]
  },
  {
   "cell_type": "code",
   "execution_count": 614,
   "metadata": {
    "hidden": true
   },
   "outputs": [],
   "source": [
    "x_claims_train = x_claims[:6215]\n",
    "x_claims_valid = x_claims[6215:6992]\n",
    "x_claims_test = x_claims[6992:]"
   ]
  },
  {
   "cell_type": "code",
   "execution_count": 729,
   "metadata": {
    "hidden": true
   },
   "outputs": [],
   "source": [
    "x_text_train = x_text[:6215]\n",
    "x_text_valid = x_text[6215:6992]\n",
    "x_text_test = x_text[6992:]"
   ]
  },
  {
   "cell_type": "code",
   "execution_count": 250,
   "metadata": {
    "hidden": true
   },
   "outputs": [],
   "source": [
    "x_fusion_train = x_fusion[:6215]\n",
    "x_fusion_valid = x_fusion[6215:6992]\n",
    "x_fusion_test = x_fusion[6992:]"
   ]
  },
  {
   "cell_type": "code",
   "execution_count": 857,
   "metadata": {
    "hidden": true
   },
   "outputs": [],
   "source": [
    "x_node_train = node[:6215]\n",
    "x_node_valid = node[6215:6992]\n",
    "x_node_test = node[6992:]"
   ]
  },
  {
   "cell_type": "code",
   "execution_count": 925,
   "metadata": {
    "hidden": true
   },
   "outputs": [],
   "source": [
    "node_text_train = node_text[:6215]\n",
    "node_text_valid = node_text[6215:6992]\n",
    "node_text_test = node_text[6992:]"
   ]
  },
  {
   "cell_type": "code",
   "execution_count": 333,
   "metadata": {
    "hidden": true
   },
   "outputs": [],
   "source": [
    "node_fusion_train = node_fusion[:6215]\n",
    "node_fusion_valid = node_fusion[6215:6992]\n",
    "node_fusion_test = node_fusion[6992:]"
   ]
  },
  {
   "cell_type": "code",
   "execution_count": 13,
   "metadata": {
    "hidden": true
   },
   "outputs": [],
   "source": [
    "y_binary_train = result[:6215]\n",
    "y_binary_valid = result[6215:6992]\n",
    "y_binary_test = result[6992:]\n",
    "\n",
    "y_category_train = train_target[:6215]\n",
    "y_category_valid = train_target[6215:6992]\n",
    "y_category_test = train_target[6992:]"
   ]
  },
  {
   "cell_type": "code",
   "execution_count": 14,
   "metadata": {
    "hidden": true
   },
   "outputs": [
    {
     "data": {
      "text/plain": [
       "1.9765325670498084"
      ]
     },
     "execution_count": 14,
     "metadata": {},
     "output_type": "execute_result"
    }
   ],
   "source": [
    "sum(y_category_train[:,1])/sum(y_category_train[:,0])"
   ]
  },
  {
   "cell_type": "markdown",
   "metadata": {},
   "source": [
    "# 机器学习分类"
   ]
  },
  {
   "cell_type": "code",
   "execution_count": 15,
   "metadata": {
    "code_folding": [
     0
    ]
   },
   "outputs": [],
   "source": [
    "def train_model(classifier, x_train, y_train, x_test, y_test):\n",
    "    classifier.fit(x_train, y_train)\n",
    "    \n",
    "    y_predict = classifier.predict(x_test)# 每一个x的预测值\n",
    "    y_predict_proba = classifier.predict_proba(x_test) # 预测分类的概率\n",
    "    \n",
    "    precision = metrics.precision_score(y_test, y_predict) # 精确率\n",
    "    recall = metrics.recall_score(y_test, y_predict) # 召回率\n",
    "    f1 = metrics.f1_score(y_test, y_predict) # f1\n",
    "    accuracy = metrics.accuracy_score(y_test, y_predict, normalize = True) # 准确率\n",
    "    \n",
    "    # print(\"accuracy: {:.4f} precision: {:.4f} recall: {:.4f} f1: {:.4f}\".format(accuracy,precision,recall,f1))\n",
    "    \n",
    "    return y_predict,y_predict_proba"
   ]
  },
  {
   "cell_type": "markdown",
   "metadata": {
    "heading_collapsed": true
   },
   "source": [
    "## abstract"
   ]
  },
  {
   "cell_type": "code",
   "execution_count": 308,
   "metadata": {
    "code_folding": [
     7
    ],
    "hidden": true
   },
   "outputs": [],
   "source": [
    "def marchine_learn(x_train, y_train, x_test, y_test):\n",
    "    classifier_list = [linear_model.LogisticRegression(random_state=0, penalty='l2', class_weight=\"balanced\", C=0.005, fit_intercept=True),\n",
    "                       ensemble.RandomForestClassifier(random_state=0, class_weight=\"balanced\", n_estimators=50), \n",
    "                       xgboost.XGBClassifier(random_state=0, scale_pos_weight=0.75/1.49, learning_rate=0.1, n_estimators=30)]\n",
    "\n",
    "    y_predict_proba_dic = {}\n",
    "    y_predict_list = []\n",
    "    for i, classifier in enumerate(tqdm(classifier_list, ncols=50)):\n",
    "        y_predict, y_predict_proba = train_model(\n",
    "            classifier, x_train, y_train, x_test, y_test)\n",
    "        # print(\"predictions:\", y_predict)\n",
    "        y_predict_proba_dic[i] = y_predict_proba\n",
    "        y_predict_list.append(y_predict)\n",
    "\n",
    "    return y_predict_list, y_predict_proba_dic"
   ]
  },
  {
   "cell_type": "code",
   "execution_count": 309,
   "metadata": {
    "code_folding": [],
    "hidden": true,
    "scrolled": false
   },
   "outputs": [
    {
     "name": "stderr",
     "output_type": "stream",
     "text": [
      "100%|███████████████| 3/3 [00:28<00:00,  9.58s/it]\n"
     ]
    }
   ],
   "source": [
    "iter_dic = {}\n",
    "for i in range(1):\n",
    "    y_predict_list, y_predict_proba_dic = marchine_learn(x_abs_train, y_binary_train, x_abs_test, y_binary_test)\n",
    "    iter_dic[i] = y_predict_list"
   ]
  },
  {
   "cell_type": "code",
   "execution_count": 310,
   "metadata": {
    "code_folding": [
     5
    ],
    "hidden": true
   },
   "outputs": [],
   "source": [
    "LR_metrics_list = []\n",
    "RF_metrics_list = []\n",
    "XGB_metrics_list = []\n",
    "\n",
    "for key, value in iter_dic.items():\n",
    "    for i in range(3):\n",
    "        report = classification_report(y_binary_test, iter_dic[key][i], digits=4)\n",
    "        p = re.compile('  |\\n', re.S)\n",
    "        report = p.sub(' ', report)\n",
    "        metrics_content = re.findall(\"([\\d]{1}\\.[\\d]{4})    777\", report)\n",
    "        if i == 0:\n",
    "            LR_metrics_list.append(metrics_content)\n",
    "        if i == 1:\n",
    "            RF_metrics_list.append(metrics_content)\n",
    "        if i == 2:\n",
    "            XGB_metrics_list.append(metrics_content)"
   ]
  },
  {
   "cell_type": "code",
   "execution_count": 311,
   "metadata": {
    "cell_style": "split",
    "code_folding": [
     0
    ],
    "hidden": true
   },
   "outputs": [
    {
     "name": "stdout",
     "output_type": "stream",
     "text": [
      "LR acc:  0.6229\n",
      "LR macro:  0.6025\n",
      "LR weighted:  0.6314\n",
      "[0.6229]\n",
      "[0.6025]\n",
      "[0.6314]\n"
     ]
    }
   ],
   "source": [
    "# LR\n",
    "LR_metrics_arrat = np.array(LR_metrics_list, dtype=float)\n",
    "acc = np.mean(LR_metrics_arrat[:, 0])\n",
    "print(\"LR acc:  {:.4f}\".format(acc))\n",
    "f1 = np.mean(LR_metrics_arrat[:, 1])\n",
    "print(\"LR macro:  {:.4f}\".format(f1))\n",
    "weighted = np.mean(LR_metrics_arrat[:, 2])\n",
    "print(\"LR weighted:  {:.4f}\".format(weighted))\n",
    "\n",
    "print(LR_metrics_arrat[:, 0].tolist())\n",
    "print(LR_metrics_arrat[:, 1].tolist())\n",
    "print(LR_metrics_arrat[:, 2].tolist())"
   ]
  },
  {
   "cell_type": "code",
   "execution_count": 312,
   "metadata": {
    "cell_style": "split",
    "hidden": true
   },
   "outputs": [
    {
     "name": "stdout",
     "output_type": "stream",
     "text": [
      "              precision    recall  f1-score   support\n",
      "\n",
      "           0     0.4570    0.5833    0.5125       264\n",
      "           1     0.7500    0.6433    0.6925       513\n",
      "\n",
      "    accuracy                         0.6229       777\n",
      "   macro avg     0.6035    0.6133    0.6025       777\n",
      "weighted avg     0.6504    0.6229    0.6314       777\n",
      "\n"
     ]
    }
   ],
   "source": [
    "print(classification_report(y_binary_test, iter_dic[0][0], digits=4))"
   ]
  },
  {
   "cell_type": "code",
   "execution_count": 313,
   "metadata": {
    "cell_style": "split",
    "code_folding": [
     0
    ],
    "hidden": true,
    "scrolled": true
   },
   "outputs": [
    {
     "name": "stdout",
     "output_type": "stream",
     "text": [
      "RF acc:  0.6602\n",
      "RF macro:  0.5385\n",
      "RF weighted:  0.6145\n",
      "[0.6602]\n",
      "[0.5385]\n",
      "[0.6145]\n"
     ]
    }
   ],
   "source": [
    "# RF\n",
    "RF_metrics_arrat = np.array(RF_metrics_list,dtype=float)\n",
    "acc = np.mean(RF_metrics_arrat[:,0])\n",
    "print(\"RF acc:  {:.4f}\".format(acc))\n",
    "f1 = np.mean(RF_metrics_arrat[:,1])\n",
    "print(\"RF macro:  {:.4f}\".format(f1))\n",
    "weighted = np.mean(RF_metrics_arrat[:,2])\n",
    "print(\"RF weighted:  {:.4f}\".format(weighted))\n",
    "\n",
    "print(RF_metrics_arrat[:,0].tolist())\n",
    "print(RF_metrics_arrat[:,1].tolist())\n",
    "print(RF_metrics_arrat[:,2].tolist())"
   ]
  },
  {
   "cell_type": "code",
   "execution_count": 314,
   "metadata": {
    "cell_style": "split",
    "hidden": true
   },
   "outputs": [
    {
     "name": "stdout",
     "output_type": "stream",
     "text": [
      "              precision    recall  f1-score   support\n",
      "\n",
      "           0     0.5000    0.2159    0.3016       264\n",
      "           1     0.6878    0.8889    0.7755       513\n",
      "\n",
      "    accuracy                         0.6602       777\n",
      "   macro avg     0.5939    0.5524    0.5385       777\n",
      "weighted avg     0.6240    0.6602    0.6145       777\n",
      "\n"
     ]
    }
   ],
   "source": [
    "print(classification_report(y_binary_test, iter_dic[0][1], digits=4))"
   ]
  },
  {
   "cell_type": "code",
   "execution_count": 315,
   "metadata": {
    "cell_style": "split",
    "code_folding": [
     0
    ],
    "hidden": true,
    "scrolled": true
   },
   "outputs": [
    {
     "name": "stdout",
     "output_type": "stream",
     "text": [
      "XGB acc:  0.6113\n",
      "XGB macro:  0.5863\n",
      "XGB weighted:  0.6189\n",
      "[0.6602]\n",
      "[0.5385]\n",
      "[0.6145]\n"
     ]
    }
   ],
   "source": [
    "# XGB\n",
    "XGB_metrics_arrat = np.array(XGB_metrics_list,dtype=float)\n",
    "acc = np.mean(XGB_metrics_arrat[:,0])\n",
    "print(\"XGB acc:  {:.4f}\".format(acc))\n",
    "f1 = np.mean(XGB_metrics_arrat[:,1])\n",
    "print(\"XGB macro:  {:.4f}\".format(f1))\n",
    "weighted = np.mean(XGB_metrics_arrat[:,2])\n",
    "print(\"XGB weighted:  {:.4f}\".format(weighted))\n",
    "\n",
    "print(RF_metrics_arrat[:,0].tolist())\n",
    "print(RF_metrics_arrat[:,1].tolist())\n",
    "print(RF_metrics_arrat[:,2].tolist())"
   ]
  },
  {
   "cell_type": "code",
   "execution_count": 316,
   "metadata": {
    "cell_style": "split",
    "hidden": true
   },
   "outputs": [
    {
     "name": "stdout",
     "output_type": "stream",
     "text": [
      "              precision    recall  f1-score   support\n",
      "\n",
      "           0     0.4410    0.5379    0.4846       264\n",
      "           1     0.7319    0.6491    0.6880       513\n",
      "\n",
      "    accuracy                         0.6113       777\n",
      "   macro avg     0.5864    0.5935    0.5863       777\n",
      "weighted avg     0.6330    0.6113    0.6189       777\n",
      "\n"
     ]
    }
   ],
   "source": [
    "print(classification_report(y_binary_test, iter_dic[0][2], digits=4))"
   ]
  },
  {
   "cell_type": "markdown",
   "metadata": {
    "heading_collapsed": true
   },
   "source": [
    "## claims"
   ]
  },
  {
   "cell_type": "code",
   "execution_count": 715,
   "metadata": {
    "code_folding": [
     7
    ],
    "hidden": true
   },
   "outputs": [],
   "source": [
    "def marchine_learn(x_train, y_train, x_test, y_test):\n",
    "    classifier_list = [linear_model.LogisticRegression(random_state=0, penalty='l2', class_weight=\"balanced\", C=0.001, fit_intercept=False),\n",
    "                       ensemble.RandomForestClassifier(random_state=0, class_weight=\"balanced\", n_estimators=50), \n",
    "                       xgboost.XGBClassifier(random_state=0, scale_pos_weight=0.75/1.49, learning_rate=0.15, n_estimators=40)]\n",
    "\n",
    "    y_predict_proba_dic = {}\n",
    "    y_predict_list = []\n",
    "    for i, classifier in enumerate(tqdm(classifier_list, ncols=50)):\n",
    "        y_predict, y_predict_proba = train_model(\n",
    "            classifier, x_train, y_train, x_test, y_test)\n",
    "        # print(\"predictions:\", y_predict)\n",
    "        y_predict_proba_dic[i] = y_predict_proba\n",
    "        y_predict_list.append(y_predict)\n",
    "\n",
    "    return y_predict_list, y_predict_proba_dic"
   ]
  },
  {
   "cell_type": "code",
   "execution_count": 716,
   "metadata": {
    "hidden": true
   },
   "outputs": [
    {
     "name": "stderr",
     "output_type": "stream",
     "text": [
      "100%|███████████████| 3/3 [00:22<00:00,  7.57s/it]\n"
     ]
    }
   ],
   "source": [
    "iter_dic = {}\n",
    "for i in range(1):\n",
    "    y_predict_list, y_predict_proba_dic = marchine_learn(x_claims_train, y_binary_train, x_claims_test, y_binary_test)\n",
    "    iter_dic[i] = y_predict_list"
   ]
  },
  {
   "cell_type": "code",
   "execution_count": 717,
   "metadata": {
    "code_folding": [
     4
    ],
    "hidden": true
   },
   "outputs": [],
   "source": [
    "LR_metrics_list = []\n",
    "RF_metrics_list = []\n",
    "XGB_metrics_list = []\n",
    "\n",
    "for key, value in iter_dic.items():\n",
    "    for i in range(3):\n",
    "        report = classification_report(y_binary_test, iter_dic[key][i], digits=4)\n",
    "        p = re.compile('  |\\n', re.S)\n",
    "        report = p.sub(' ', report)\n",
    "        metrics_content = re.findall(\"([\\d]{1}\\.[\\d]{4})    777\", report)\n",
    "        if i == 0:\n",
    "            LR_metrics_list.append(metrics_content)\n",
    "        if i == 1:\n",
    "            RF_metrics_list.append(metrics_content)\n",
    "        if i == 2:\n",
    "            XGB_metrics_list.append(metrics_content)"
   ]
  },
  {
   "cell_type": "code",
   "execution_count": 720,
   "metadata": {
    "cell_style": "split",
    "code_folding": [
     0
    ],
    "hidden": true
   },
   "outputs": [
    {
     "name": "stdout",
     "output_type": "stream",
     "text": [
      "LR acc:  0.6255\n",
      "LR macro:  0.6017\n",
      "LR weighted:  0.6329\n",
      "[0.6255]\n",
      "[0.6017]\n",
      "[0.6329]\n"
     ]
    }
   ],
   "source": [
    "# LR\n",
    "LR_metrics_arrat = np.array(LR_metrics_list,dtype=float)\n",
    "acc = np.mean(LR_metrics_arrat[:,0])\n",
    "print(\"LR acc:  {:.4f}\".format(acc))\n",
    "f1 = np.mean(LR_metrics_arrat[:,1])\n",
    "print(\"LR macro:  {:.4f}\".format(f1))\n",
    "weighted = np.mean(LR_metrics_arrat[:,2])\n",
    "print(\"LR weighted:  {:.4f}\".format(weighted))\n",
    "\n",
    "print(LR_metrics_arrat[:,0].tolist())\n",
    "print(LR_metrics_arrat[:,1].tolist())\n",
    "print(LR_metrics_arrat[:,2].tolist())"
   ]
  },
  {
   "cell_type": "code",
   "execution_count": 721,
   "metadata": {
    "cell_style": "split",
    "hidden": true,
    "scrolled": true
   },
   "outputs": [
    {
     "name": "stdout",
     "output_type": "stream",
     "text": [
      "              precision    recall  f1-score   support\n",
      "\n",
      "           0     0.4582    0.5606    0.5043       264\n",
      "           1     0.7445    0.6589    0.6991       513\n",
      "\n",
      "    accuracy                         0.6255       777\n",
      "   macro avg     0.6013    0.6097    0.6017       777\n",
      "weighted avg     0.6472    0.6255    0.6329       777\n",
      "\n"
     ]
    }
   ],
   "source": [
    "print(classification_report(y_binary_test, iter_dic[0][0], digits=4))"
   ]
  },
  {
   "cell_type": "code",
   "execution_count": 718,
   "metadata": {
    "cell_style": "split",
    "code_folding": [
     0
    ],
    "hidden": true
   },
   "outputs": [
    {
     "name": "stdout",
     "output_type": "stream",
     "text": [
      "RF acc:  0.6757\n",
      "RF macro:  0.5445\n",
      "RF weighted:  0.6228\n",
      "[0.6757]\n",
      "[0.5445]\n",
      "[0.6228]\n"
     ]
    }
   ],
   "source": [
    "# RF\n",
    "RF_metrics_arrat = np.array(RF_metrics_list,dtype=float)\n",
    "acc = np.mean(RF_metrics_arrat[:,0])\n",
    "print(\"RF acc:  {:.4f}\".format(acc))\n",
    "f1 = np.mean(RF_metrics_arrat[:,1])\n",
    "print(\"RF macro:  {:.4f}\".format(f1))\n",
    "weighted = np.mean(RF_metrics_arrat[:,2])\n",
    "print(\"RF weighted:  {:.4f}\".format(weighted))\n",
    "\n",
    "print(RF_metrics_arrat[:,0].tolist())\n",
    "print(RF_metrics_arrat[:,1].tolist())\n",
    "print(RF_metrics_arrat[:,2].tolist())"
   ]
  },
  {
   "cell_type": "code",
   "execution_count": 719,
   "metadata": {
    "cell_style": "split",
    "hidden": true
   },
   "outputs": [
    {
     "name": "stdout",
     "output_type": "stream",
     "text": [
      "              precision    recall  f1-score   support\n",
      "\n",
      "           0     0.5625    0.2045    0.3000       264\n",
      "           1     0.6916    0.9181    0.7889       513\n",
      "\n",
      "    accuracy                         0.6757       777\n",
      "   macro avg     0.6271    0.5613    0.5445       777\n",
      "weighted avg     0.6478    0.6757    0.6228       777\n",
      "\n"
     ]
    }
   ],
   "source": [
    "print(classification_report(y_binary_test, iter_dic[0][1], digits=4))"
   ]
  },
  {
   "cell_type": "code",
   "execution_count": 722,
   "metadata": {
    "cell_style": "split",
    "code_folding": [
     0
    ],
    "hidden": true
   },
   "outputs": [
    {
     "name": "stdout",
     "output_type": "stream",
     "text": [
      "XGB acc:  0.6371\n",
      "XGB macro:  0.6088\n",
      "XGB weighted:  0.6425\n",
      "[0.6757]\n",
      "[0.5445]\n",
      "[0.6228]\n"
     ]
    }
   ],
   "source": [
    "# XGB\n",
    "XGB_metrics_arrat = np.array(XGB_metrics_list,dtype=float)\n",
    "acc = np.mean(XGB_metrics_arrat[:,0])\n",
    "print(\"XGB acc:  {:.4f}\".format(acc))\n",
    "f1 = np.mean(XGB_metrics_arrat[:,1])\n",
    "print(\"XGB macro:  {:.4f}\".format(f1))\n",
    "weighted = np.mean(XGB_metrics_arrat[:,2])\n",
    "print(\"XGB weighted:  {:.4f}\".format(weighted))\n",
    "\n",
    "print(RF_metrics_arrat[:,0].tolist())\n",
    "print(RF_metrics_arrat[:,1].tolist())\n",
    "print(RF_metrics_arrat[:,2].tolist())"
   ]
  },
  {
   "cell_type": "code",
   "execution_count": 723,
   "metadata": {
    "cell_style": "split",
    "hidden": true
   },
   "outputs": [
    {
     "name": "stdout",
     "output_type": "stream",
     "text": [
      "              precision    recall  f1-score   support\n",
      "\n",
      "           0     0.4704    0.5417    0.5035       264\n",
      "           1     0.7442    0.6862    0.7140       513\n",
      "\n",
      "    accuracy                         0.6371       777\n",
      "   macro avg     0.6073    0.6139    0.6088       777\n",
      "weighted avg     0.6512    0.6371    0.6425       777\n",
      "\n"
     ]
    }
   ],
   "source": [
    "print(classification_report(y_binary_test, iter_dic[0][2], digits=4))"
   ]
  },
  {
   "cell_type": "markdown",
   "metadata": {},
   "source": [
    "## text_sum"
   ]
  },
  {
   "cell_type": "code",
   "execution_count": 782,
   "metadata": {
    "code_folding": [
     0,
     7
    ]
   },
   "outputs": [],
   "source": [
    "def marchine_learn(x_train, y_train, x_test, y_test):\n",
    "    classifier_list = [linear_model.LogisticRegression(random_state=0, penalty='l2', class_weight=\"balanced\", C=0.001, fit_intercept=False),\n",
    "                       ensemble.RandomForestClassifier(random_state=0, class_weight=\"balanced\", n_estimators=100), \n",
    "                       xgboost.XGBClassifier(random_state=0, scale_pos_weight=0.75/1.49, learning_rate=0.1, n_estimators=100)]\n",
    "\n",
    "    y_predict_proba_dic = {}\n",
    "    y_predict_list = []\n",
    "    for i, classifier in enumerate(tqdm(classifier_list, ncols=50)):\n",
    "        y_predict, y_predict_proba = train_model(\n",
    "            classifier, x_train, y_train, x_test, y_test)\n",
    "        # print(\"predictions:\", y_predict)\n",
    "        y_predict_proba_dic[i] = y_predict_proba\n",
    "        y_predict_list.append(y_predict)\n",
    "\n",
    "    return y_predict_list, y_predict_proba_dic"
   ]
  },
  {
   "cell_type": "code",
   "execution_count": 783,
   "metadata": {
    "code_folding": [
     1
    ]
   },
   "outputs": [
    {
     "name": "stderr",
     "output_type": "stream",
     "text": [
      "100%|███████████████| 3/3 [01:34<00:00, 31.40s/it]\n"
     ]
    }
   ],
   "source": [
    "iter_dic = {}\n",
    "for i in range(1):\n",
    "    y_predict_list, y_predict_proba_dic = marchine_learn(x_text_train, y_binary_train, x_text_test, y_binary_test)\n",
    "    iter_dic[i] = y_predict_list"
   ]
  },
  {
   "cell_type": "code",
   "execution_count": 784,
   "metadata": {
    "code_folding": [
     4
    ]
   },
   "outputs": [],
   "source": [
    "LR_metrics_list = []\n",
    "RF_metrics_list = []\n",
    "XGB_metrics_list = []\n",
    "\n",
    "for key, value in iter_dic.items():\n",
    "    for i in range(3):\n",
    "        report = classification_report(y_binary_test, iter_dic[key][i], digits=4)\n",
    "        p = re.compile('  |\\n', re.S)\n",
    "        report = p.sub(' ', report)\n",
    "        metrics_content = re.findall(\"([\\d]{1}\\.[\\d]{4})    777\", report)\n",
    "        if i == 0:\n",
    "            LR_metrics_list.append(metrics_content)\n",
    "        if i == 1:\n",
    "            RF_metrics_list.append(metrics_content)\n",
    "        if i == 2:\n",
    "            XGB_metrics_list.append(metrics_content)"
   ]
  },
  {
   "cell_type": "code",
   "execution_count": 774,
   "metadata": {
    "cell_style": "split",
    "code_folding": [
     0
    ]
   },
   "outputs": [
    {
     "name": "stdout",
     "output_type": "stream",
     "text": [
      "LR acc:  0.6293\n",
      "LR macro:  0.6060\n",
      "LR weighted:  0.6367\n",
      "[0.6293]\n",
      "[0.606]\n",
      "[0.6367]\n"
     ]
    }
   ],
   "source": [
    "# LR\n",
    "LR_metrics_arrat = np.array(LR_metrics_list,dtype=float)\n",
    "acc = np.mean(LR_metrics_arrat[:,0])\n",
    "print(\"LR acc:  {:.4f}\".format(acc))\n",
    "f1 = np.mean(LR_metrics_arrat[:,1])\n",
    "print(\"LR macro:  {:.4f}\".format(f1))\n",
    "weighted = np.mean(LR_metrics_arrat[:,2])\n",
    "print(\"LR weighted:  {:.4f}\".format(weighted))\n",
    "\n",
    "print(LR_metrics_arrat[:,0].tolist())\n",
    "print(LR_metrics_arrat[:,1].tolist())\n",
    "print(LR_metrics_arrat[:,2].tolist())"
   ]
  },
  {
   "cell_type": "code",
   "execution_count": 778,
   "metadata": {
    "cell_style": "split"
   },
   "outputs": [
    {
     "name": "stdout",
     "output_type": "stream",
     "text": [
      "              precision    recall  f1-score   support\n",
      "\n",
      "           0     0.4630    0.5682    0.5102       264\n",
      "           1     0.7483    0.6608    0.7019       513\n",
      "\n",
      "    accuracy                         0.6293       777\n",
      "   macro avg     0.6057    0.6145    0.6060       777\n",
      "weighted avg     0.6514    0.6293    0.6367       777\n",
      "\n"
     ]
    }
   ],
   "source": [
    "print(classification_report(y_binary_test, iter_dic[0][0], digits=4))"
   ]
  },
  {
   "cell_type": "code",
   "execution_count": 785,
   "metadata": {
    "cell_style": "split",
    "code_folding": [
     0
    ]
   },
   "outputs": [
    {
     "name": "stdout",
     "output_type": "stream",
     "text": [
      "RF acc:  0.6847\n",
      "RF macro:  0.5597\n",
      "RF weighted:  0.6349\n",
      "[0.6847]\n",
      "[0.5597]\n",
      "[0.6349]\n"
     ]
    }
   ],
   "source": [
    "# RF\n",
    "RF_metrics_arrat = np.array(RF_metrics_list,dtype=float)\n",
    "acc = np.mean(RF_metrics_arrat[:,0])\n",
    "print(\"RF acc:  {:.4f}\".format(acc))\n",
    "f1 = np.mean(RF_metrics_arrat[:,1])\n",
    "print(\"RF macro:  {:.4f}\".format(f1))\n",
    "weighted = np.mean(RF_metrics_arrat[:,2])\n",
    "print(\"RF weighted:  {:.4f}\".format(weighted))\n",
    "\n",
    "print(RF_metrics_arrat[:,0].tolist())\n",
    "print(RF_metrics_arrat[:,1].tolist())\n",
    "print(RF_metrics_arrat[:,2].tolist())"
   ]
  },
  {
   "cell_type": "code",
   "execution_count": 788,
   "metadata": {
    "cell_style": "split"
   },
   "outputs": [
    {
     "name": "stdout",
     "output_type": "stream",
     "text": [
      "              precision    recall  f1-score   support\n",
      "\n",
      "           0     0.5960    0.2235    0.3251       264\n",
      "           1     0.6976    0.9220    0.7943       513\n",
      "\n",
      "    accuracy                         0.6847       777\n",
      "   macro avg     0.6468    0.5728    0.5597       777\n",
      "weighted avg     0.6631    0.6847    0.6349       777\n",
      "\n"
     ]
    }
   ],
   "source": [
    "print(classification_report(y_binary_test, iter_dic[0][1], digits=4))"
   ]
  },
  {
   "cell_type": "code",
   "execution_count": 786,
   "metadata": {
    "cell_style": "split",
    "code_folding": [
     0
    ]
   },
   "outputs": [
    {
     "name": "stdout",
     "output_type": "stream",
     "text": [
      "XGB acc:  0.6268\n",
      "XGB macro:  0.5913\n",
      "XGB weighted:  0.6299\n",
      "[0.6268]\n",
      "[0.5913]\n",
      "[0.6299]\n"
     ]
    }
   ],
   "source": [
    "# XGB\n",
    "XGB_metrics_arrat = np.array(XGB_metrics_list,dtype=float)\n",
    "acc = np.mean(XGB_metrics_arrat[:,0])\n",
    "print(\"XGB acc:  {:.4f}\".format(acc))\n",
    "f1 = np.mean(XGB_metrics_arrat[:,1])\n",
    "print(\"XGB macro:  {:.4f}\".format(f1))\n",
    "weighted = np.mean(XGB_metrics_arrat[:,2])\n",
    "print(\"XGB weighted:  {:.4f}\".format(weighted))\n",
    "\n",
    "print(XGB_metrics_arrat[:,0].tolist())\n",
    "print(XGB_metrics_arrat[:,1].tolist())\n",
    "print(XGB_metrics_arrat[:,2].tolist())"
   ]
  },
  {
   "cell_type": "code",
   "execution_count": 789,
   "metadata": {
    "cell_style": "split"
   },
   "outputs": [
    {
     "name": "stdout",
     "output_type": "stream",
     "text": [
      "              precision    recall  f1-score   support\n",
      "\n",
      "           0     0.4630    0.5682    0.5102       264\n",
      "           1     0.7483    0.6608    0.7019       513\n",
      "\n",
      "    accuracy                         0.6293       777\n",
      "   macro avg     0.6057    0.6145    0.6060       777\n",
      "weighted avg     0.6514    0.6293    0.6367       777\n",
      "\n"
     ]
    }
   ],
   "source": [
    "print(classification_report(y_binary_test, iter_dic[0][0], digits=4))"
   ]
  },
  {
   "cell_type": "markdown",
   "metadata": {
    "heading_collapsed": true
   },
   "source": [
    "## fusion"
   ]
  },
  {
   "cell_type": "code",
   "execution_count": 321,
   "metadata": {
    "code_folding": [
     7
    ],
    "hidden": true
   },
   "outputs": [],
   "source": [
    "def marchine_learn(x_train, y_train, x_test, y_test):\n",
    "    classifier_list = [linear_model.LogisticRegression(random_state=0, penalty='l2', class_weight=\"balanced\", C=0.15, fit_intercept=False),\n",
    "                       ensemble.RandomForestClassifier(random_state=0, class_weight=\"balanced\", n_estimators=30), \n",
    "                       xgboost.XGBClassifier(random_state=0, scale_pos_weight=0.75/1.49, learning_rate=0.15, n_estimators=30)]\n",
    "\n",
    "    y_predict_proba_dic = {}\n",
    "    y_predict_list = []\n",
    "    for i, classifier in enumerate(tqdm(classifier_list, ncols=50)):\n",
    "        y_predict, y_predict_proba = train_model(classifier, x_train, y_train, x_test, y_test)\n",
    "        # print(\"predictions:\", y_predict)\n",
    "        y_predict_proba_dic[i] = y_predict_proba\n",
    "        y_predict_list.append(y_predict)\n",
    "\n",
    "    return y_predict_list, y_predict_proba_dic"
   ]
  },
  {
   "cell_type": "code",
   "execution_count": 322,
   "metadata": {
    "code_folding": [],
    "hidden": true
   },
   "outputs": [
    {
     "name": "stderr",
     "output_type": "stream",
     "text": [
      "100%|███████████████| 3/3 [00:04<00:00,  1.48s/it]\n"
     ]
    }
   ],
   "source": [
    "iter_dic = {}\n",
    "for i in range(1):\n",
    "    y_predict_list, y_predict_proba_dic = marchine_learn(x_fusion_train, y_binary_train, x_fusion_test, y_binary_test)\n",
    "    iter_dic[i] = y_predict_list"
   ]
  },
  {
   "cell_type": "code",
   "execution_count": 323,
   "metadata": {
    "code_folding": [
     4
    ],
    "hidden": true
   },
   "outputs": [],
   "source": [
    "LR_metrics_list = []\n",
    "RF_metrics_list = []\n",
    "XGB_metrics_list = []\n",
    "\n",
    "for key, value in iter_dic.items():\n",
    "    for i in range(3):\n",
    "        report = classification_report(y_binary_test, iter_dic[key][i], digits=4)\n",
    "        p = re.compile('  |\\n', re.S)\n",
    "        report = p.sub(' ', report)\n",
    "        metrics_content = re.findall(\"([\\d]{1}\\.[\\d]{4})    777\", report)\n",
    "        if i == 0:\n",
    "            LR_metrics_list.append(metrics_content)\n",
    "        if i == 1:\n",
    "            RF_metrics_list.append(metrics_content)\n",
    "        if i == 2:\n",
    "            XGB_metrics_list.append(metrics_content)"
   ]
  },
  {
   "cell_type": "code",
   "execution_count": 302,
   "metadata": {
    "cell_style": "split",
    "code_folding": [
     0
    ],
    "hidden": true,
    "scrolled": true
   },
   "outputs": [
    {
     "name": "stdout",
     "output_type": "stream",
     "text": [
      "LR acc:  0.6319\n",
      "LR macro:  0.6127\n",
      "LR weighted:  0.6404\n",
      "[0.6319]\n",
      "[0.6127]\n",
      "[0.6404]\n"
     ]
    }
   ],
   "source": [
    "# LR\n",
    "LR_metrics_arrat = np.array(LR_metrics_list,dtype=float)\n",
    "acc = np.mean(LR_metrics_arrat[:,0])\n",
    "print(\"LR acc:  {:.4f}\".format(acc))\n",
    "f1 = np.mean(LR_metrics_arrat[:,1])\n",
    "print(\"LR macro:  {:.4f}\".format(f1))\n",
    "weighted = np.mean(LR_metrics_arrat[:,2])\n",
    "print(\"LR weighted:  {:.4f}\".format(weighted))\n",
    "\n",
    "print(LR_metrics_arrat[:,0].tolist())\n",
    "print(LR_metrics_arrat[:,1].tolist())\n",
    "print(LR_metrics_arrat[:,2].tolist())"
   ]
  },
  {
   "cell_type": "code",
   "execution_count": 303,
   "metadata": {
    "cell_style": "split",
    "hidden": true,
    "scrolled": true
   },
   "outputs": [
    {
     "name": "stdout",
     "output_type": "stream",
     "text": [
      "              precision    recall  f1-score   support\n",
      "\n",
      "           0     0.4676    0.6023    0.5265       264\n",
      "           1     0.7597    0.6472    0.6989       513\n",
      "\n",
      "    accuracy                         0.6319       777\n",
      "   macro avg     0.6137    0.6247    0.6127       777\n",
      "weighted avg     0.6605    0.6319    0.6404       777\n",
      "\n"
     ]
    }
   ],
   "source": [
    "print(classification_report(y_binary_test, iter_dic[0][0], digits=4))"
   ]
  },
  {
   "cell_type": "code",
   "execution_count": 324,
   "metadata": {
    "cell_style": "split",
    "code_folding": [
     0
    ],
    "hidden": true
   },
   "outputs": [
    {
     "name": "stdout",
     "output_type": "stream",
     "text": [
      "RF acc:  0.6564\n",
      "RF macro:  0.5483\n",
      "RF weighted:  0.6191\n",
      "[0.6564]\n",
      "[0.5483]\n",
      "[0.6191]\n"
     ]
    }
   ],
   "source": [
    "# RF\n",
    "RF_metrics_arrat = np.array(RF_metrics_list,dtype=float)\n",
    "acc = np.mean(RF_metrics_arrat[:,0])\n",
    "print(\"RF acc:  {:.4f}\".format(acc))\n",
    "f1 = np.mean(RF_metrics_arrat[:,1])\n",
    "print(\"RF macro:  {:.4f}\".format(f1))\n",
    "weighted = np.mean(RF_metrics_arrat[:,2])\n",
    "print(\"RF weighted:  {:.4f}\".format(weighted))\n",
    "\n",
    "print(RF_metrics_arrat[:,0].tolist())\n",
    "print(RF_metrics_arrat[:,1].tolist())\n",
    "print(RF_metrics_arrat[:,2].tolist())"
   ]
  },
  {
   "cell_type": "code",
   "execution_count": 325,
   "metadata": {
    "cell_style": "split",
    "hidden": true
   },
   "outputs": [
    {
     "name": "stdout",
     "output_type": "stream",
     "text": [
      "              precision    recall  f1-score   support\n",
      "\n",
      "           0     0.4887    0.2462    0.3275       264\n",
      "           1     0.6910    0.8674    0.7692       513\n",
      "\n",
      "    accuracy                         0.6564       777\n",
      "   macro avg     0.5899    0.5568    0.5483       777\n",
      "weighted avg     0.6223    0.6564    0.6191       777\n",
      "\n"
     ]
    }
   ],
   "source": [
    "print(classification_report(y_binary_test, iter_dic[0][1], digits=4))"
   ]
  },
  {
   "cell_type": "code",
   "execution_count": 260,
   "metadata": {
    "cell_style": "split",
    "code_folding": [
     0
    ],
    "hidden": true
   },
   "outputs": [
    {
     "name": "stdout",
     "output_type": "stream",
     "text": [
      "XGB acc:  0.6178\n",
      "XGB macro:  0.5940\n",
      "XGB weighted:  0.6255\n",
      "[0.6178]\n",
      "[0.594]\n",
      "[0.6255]\n"
     ]
    }
   ],
   "source": [
    "# XGB\n",
    "XGB_metrics_arrat = np.array(XGB_metrics_list,dtype=float)\n",
    "acc = np.mean(XGB_metrics_arrat[:,0])\n",
    "print(\"XGB acc:  {:.4f}\".format(acc))\n",
    "f1 = np.mean(XGB_metrics_arrat[:,1])\n",
    "print(\"XGB macro:  {:.4f}\".format(f1))\n",
    "weighted = np.mean(XGB_metrics_arrat[:,2])\n",
    "print(\"XGB weighted:  {:.4f}\".format(weighted))\n",
    "\n",
    "print(XGB_metrics_arrat[:,0].tolist())\n",
    "print(XGB_metrics_arrat[:,1].tolist())\n",
    "print(XGB_metrics_arrat[:,2].tolist())"
   ]
  },
  {
   "cell_type": "code",
   "execution_count": 261,
   "metadata": {
    "cell_style": "split",
    "hidden": true
   },
   "outputs": [
    {
     "name": "stdout",
     "output_type": "stream",
     "text": [
      "              precision    recall  f1-score   support\n",
      "\n",
      "           0     0.4492    0.5530    0.4958       264\n",
      "           1     0.7389    0.6511    0.6922       513\n",
      "\n",
      "    accuracy                         0.6178       777\n",
      "   macro avg     0.5941    0.6021    0.5940       777\n",
      "weighted avg     0.6405    0.6178    0.6255       777\n",
      "\n"
     ]
    }
   ],
   "source": [
    "print(classification_report(y_binary_test, iter_dic[0][2], digits=4))"
   ]
  },
  {
   "cell_type": "markdown",
   "metadata": {
    "heading_collapsed": true
   },
   "source": [
    "## node"
   ]
  },
  {
   "cell_type": "code",
   "execution_count": 899,
   "metadata": {
    "code_folding": [
     0,
     7
    ],
    "hidden": true
   },
   "outputs": [],
   "source": [
    "def marchine_learn(x_train, y_train, x_test, y_test):\n",
    "    classifier_list = [linear_model.LogisticRegression(random_state=0, penalty='l2', max_iter=1000, class_weight=\"balanced\", C=0.1, fit_intercept=True),\n",
    "                       ensemble.RandomForestClassifier(random_state=0, class_weight=\"balanced\", n_estimators=100), \n",
    "                       xgboost.XGBClassifier(random_state=0, scale_pos_weight=0.75/1.49, learning_rate=0.15, n_estimators=100)]\n",
    "\n",
    "    y_predict_proba_dic = {}\n",
    "    y_predict_list = []\n",
    "    for i, classifier in enumerate(tqdm(classifier_list, ncols=50)):\n",
    "        y_predict, y_predict_proba = train_model(\n",
    "            classifier, x_train, y_train, x_test, y_test)\n",
    "        # print(\"predictions:\", y_predict)\n",
    "        y_predict_proba_dic[i] = y_predict_proba\n",
    "        y_predict_list.append(y_predict)\n",
    "\n",
    "    return y_predict_list, y_predict_proba_dic"
   ]
  },
  {
   "cell_type": "code",
   "execution_count": 900,
   "metadata": {
    "hidden": true,
    "scrolled": true
   },
   "outputs": [
    {
     "name": "stderr",
     "output_type": "stream",
     "text": [
      "100%|███████████████| 3/3 [01:12<00:00, 24.07s/it]\n"
     ]
    }
   ],
   "source": [
    "iter_dic = {}\n",
    "for i in range(1):\n",
    "    y_predict_list, y_predict_proba_dic = marchine_learn(x_node_train, y_binary_train, x_node_test, y_binary_test)\n",
    "    iter_dic[i] = y_predict_list"
   ]
  },
  {
   "cell_type": "code",
   "execution_count": 901,
   "metadata": {
    "code_folding": [
     4
    ],
    "hidden": true
   },
   "outputs": [],
   "source": [
    "LR_metrics_list = []\n",
    "RF_metrics_list = []\n",
    "XGB_metrics_list = []\n",
    "\n",
    "for key, value in iter_dic.items():\n",
    "    for i in range(3):\n",
    "        report = classification_report(y_binary_test, iter_dic[key][i], digits=4)\n",
    "        p = re.compile('  |\\n', re.S)\n",
    "        report = p.sub(' ', report)\n",
    "        metrics_content = re.findall(\"([\\d]{1}\\.[\\d]{4})    777\", report)\n",
    "        if i == 0:\n",
    "            LR_metrics_list.append(metrics_content)\n",
    "        if i == 1:\n",
    "            RF_metrics_list.append(metrics_content)\n",
    "        if i == 2:\n",
    "            XGB_metrics_list.append(metrics_content)"
   ]
  },
  {
   "cell_type": "code",
   "execution_count": 902,
   "metadata": {
    "cell_style": "split",
    "code_folding": [
     0
    ],
    "hidden": true,
    "scrolled": true
   },
   "outputs": [
    {
     "name": "stdout",
     "output_type": "stream",
     "text": [
      "LR acc:  0.7194\n",
      "LR macro:  0.7136\n",
      "LR weighted:  0.7267\n",
      "[0.7194]\n",
      "[0.7136]\n",
      "[0.7267]\n"
     ]
    }
   ],
   "source": [
    "# LR\n",
    "LR_metrics_arrat = np.array(LR_metrics_list,dtype=float)\n",
    "acc = np.mean(LR_metrics_arrat[:,0])\n",
    "print(\"LR acc:  {:.4f}\".format(acc))\n",
    "f1 = np.mean(LR_metrics_arrat[:,1])\n",
    "print(\"LR macro:  {:.4f}\".format(f1))\n",
    "weighted = np.mean(LR_metrics_arrat[:,2])\n",
    "print(\"LR weighted:  {:.4f}\".format(weighted))\n",
    "\n",
    "print(LR_metrics_arrat[:,0].tolist())\n",
    "print(LR_metrics_arrat[:,1].tolist())\n",
    "print(LR_metrics_arrat[:,2].tolist())"
   ]
  },
  {
   "cell_type": "code",
   "execution_count": 903,
   "metadata": {
    "cell_style": "split",
    "hidden": true
   },
   "outputs": [
    {
     "name": "stdout",
     "output_type": "stream",
     "text": [
      "              precision    recall  f1-score   support\n",
      "\n",
      "           0     0.5572    0.8485    0.6727       264\n",
      "           1     0.8933    0.6530    0.7545       513\n",
      "\n",
      "    accuracy                         0.7194       777\n",
      "   macro avg     0.7253    0.7508    0.7136       777\n",
      "weighted avg     0.7791    0.7194    0.7267       777\n",
      "\n"
     ]
    }
   ],
   "source": [
    "print(classification_report(y_binary_test, iter_dic[0][0], digits=4))"
   ]
  },
  {
   "cell_type": "code",
   "execution_count": 904,
   "metadata": {
    "cell_style": "split",
    "code_folding": [
     0
    ],
    "hidden": true
   },
   "outputs": [
    {
     "name": "stdout",
     "output_type": "stream",
     "text": [
      "RF acc:  0.7452\n",
      "RF macro:  0.7016\n",
      "RF weighted:  0.7381\n",
      "[0.7452]\n",
      "[0.7016]\n",
      "[0.7381]\n"
     ]
    }
   ],
   "source": [
    "# RF\n",
    "RF_metrics_arrat = np.array(RF_metrics_list,dtype=float)\n",
    "acc = np.mean(RF_metrics_arrat[:,0])\n",
    "print(\"RF acc:  {:.4f}\".format(acc))\n",
    "f1 = np.mean(RF_metrics_arrat[:,1])\n",
    "print(\"RF macro:  {:.4f}\".format(f1))\n",
    "weighted = np.mean(RF_metrics_arrat[:,2])\n",
    "print(\"RF weighted:  {:.4f}\".format(weighted))\n",
    "\n",
    "print(RF_metrics_arrat[:,0].tolist())\n",
    "print(RF_metrics_arrat[:,1].tolist())\n",
    "print(RF_metrics_arrat[:,2].tolist())"
   ]
  },
  {
   "cell_type": "code",
   "execution_count": 907,
   "metadata": {
    "cell_style": "split",
    "hidden": true
   },
   "outputs": [
    {
     "name": "stdout",
     "output_type": "stream",
     "text": [
      "              precision    recall  f1-score   support\n",
      "\n",
      "           0     0.6528    0.5341    0.5875       264\n",
      "           1     0.7807    0.8538    0.8156       513\n",
      "\n",
      "    accuracy                         0.7452       777\n",
      "   macro avg     0.7168    0.6939    0.7016       777\n",
      "weighted avg     0.7373    0.7452    0.7381       777\n",
      "\n"
     ]
    }
   ],
   "source": [
    "print(classification_report(y_binary_test, iter_dic[0][1], digits=4))"
   ]
  },
  {
   "cell_type": "code",
   "execution_count": 908,
   "metadata": {
    "cell_style": "split",
    "code_folding": [
     0
    ],
    "hidden": true,
    "scrolled": true
   },
   "outputs": [
    {
     "name": "stdout",
     "output_type": "stream",
     "text": [
      "XGB acc:  0.7387\n",
      "XGB macro:  0.7249\n",
      "XGB weighted:  0.7447\n",
      "[0.7452]\n",
      "[0.7016]\n",
      "[0.7381]\n"
     ]
    }
   ],
   "source": [
    "# XGB\n",
    "XGB_metrics_arrat = np.array(XGB_metrics_list,dtype=float)\n",
    "acc = np.mean(XGB_metrics_arrat[:,0])\n",
    "print(\"XGB acc:  {:.4f}\".format(acc))\n",
    "f1 = np.mean(XGB_metrics_arrat[:,1])\n",
    "print(\"XGB macro:  {:.4f}\".format(f1))\n",
    "weighted = np.mean(XGB_metrics_arrat[:,2])\n",
    "print(\"XGB weighted:  {:.4f}\".format(weighted))\n",
    "\n",
    "print(RF_metrics_arrat[:,0].tolist())\n",
    "print(RF_metrics_arrat[:,1].tolist())\n",
    "print(RF_metrics_arrat[:,2].tolist())"
   ]
  },
  {
   "cell_type": "code",
   "execution_count": 909,
   "metadata": {
    "cell_style": "split",
    "hidden": true
   },
   "outputs": [
    {
     "name": "stdout",
     "output_type": "stream",
     "text": [
      "              precision    recall  f1-score   support\n",
      "\n",
      "           0     0.5900    0.7576    0.6633       264\n",
      "           1     0.8539    0.7290    0.7865       513\n",
      "\n",
      "    accuracy                         0.7387       777\n",
      "   macro avg     0.7219    0.7433    0.7249       777\n",
      "weighted avg     0.7642    0.7387    0.7447       777\n",
      "\n"
     ]
    }
   ],
   "source": [
    "print(classification_report(y_binary_test, iter_dic[0][2], digits=4))"
   ]
  },
  {
   "cell_type": "markdown",
   "metadata": {
    "heading_collapsed": true
   },
   "source": [
    "## node_text"
   ]
  },
  {
   "cell_type": "code",
   "execution_count": 983,
   "metadata": {
    "code_folding": [
     0,
     7
    ],
    "hidden": true
   },
   "outputs": [],
   "source": [
    "def marchine_learn(x_train, y_train, x_test, y_test):\n",
    "    classifier_list = [linear_model.LogisticRegression(random_state=0, max_iter=1500, penalty='l2', class_weight=\"balanced\", C=0.01, fit_intercept=True),\n",
    "                       ensemble.RandomForestClassifier(random_state=0, class_weight=\"balanced\", n_estimators=80), \n",
    "                       xgboost.XGBClassifier(random_state=0, scale_pos_weight=0.75/1.49, learning_rate=0.1, n_estimators=100)]\n",
    "\n",
    "    y_predict_proba_dic = {}\n",
    "    y_predict_list = []\n",
    "    for i, classifier in enumerate(tqdm(classifier_list, ncols=50)):\n",
    "        y_predict, y_predict_proba = train_model(\n",
    "            classifier, x_train, y_train, x_test, y_test)\n",
    "        # print(\"predictions:\", y_predict)\n",
    "        y_predict_proba_dic[i] = y_predict_proba\n",
    "        y_predict_list.append(y_predict)\n",
    "\n",
    "    return y_predict_list, y_predict_proba_dic"
   ]
  },
  {
   "cell_type": "code",
   "execution_count": 984,
   "metadata": {
    "code_folding": [
     1
    ],
    "hidden": true
   },
   "outputs": [
    {
     "name": "stderr",
     "output_type": "stream",
     "text": [
      "100%|███████████████| 3/3 [00:40<00:00, 13.52s/it]\n"
     ]
    }
   ],
   "source": [
    "iter_dic = {}\n",
    "for i in range(1):\n",
    "    y_predict_list, y_predict_proba_dic = marchine_learn(node_text_train, y_binary_train, node_text_test, y_binary_test)\n",
    "    iter_dic[i] = y_predict_list"
   ]
  },
  {
   "cell_type": "code",
   "execution_count": 985,
   "metadata": {
    "code_folding": [
     4
    ],
    "hidden": true
   },
   "outputs": [],
   "source": [
    "LR_metrics_list = []\n",
    "RF_metrics_list = []\n",
    "XGB_metrics_list = []\n",
    "\n",
    "for key, value in iter_dic.items():\n",
    "    for i in range(3):\n",
    "        report = classification_report(y_binary_test, iter_dic[key][i], digits=4)\n",
    "        p = re.compile('  |\\n', re.S)\n",
    "        report = p.sub(' ', report)\n",
    "        metrics_content = re.findall(\"([\\d]{1}\\.[\\d]{4})    777\", report)\n",
    "        if i == 0:\n",
    "            LR_metrics_list.append(metrics_content)\n",
    "        if i == 1:\n",
    "            RF_metrics_list.append(metrics_content)\n",
    "        if i == 2:\n",
    "            XGB_metrics_list.append(metrics_content)"
   ]
  },
  {
   "cell_type": "code",
   "execution_count": 986,
   "metadata": {
    "cell_style": "split",
    "code_folding": [
     0
    ],
    "hidden": true
   },
   "outputs": [
    {
     "name": "stdout",
     "output_type": "stream",
     "text": [
      "LR acc:  0.7452\n",
      "LR macro:  0.7299\n",
      "LR weighted:  0.7505\n",
      "[0.7452]\n",
      "[0.7299]\n",
      "[0.7505]\n"
     ]
    }
   ],
   "source": [
    "# LR\n",
    "LR_metrics_arrat = np.array(LR_metrics_list,dtype=float)\n",
    "acc = np.mean(LR_metrics_arrat[:,0])\n",
    "print(\"LR acc:  {:.4f}\".format(acc))\n",
    "f1 = np.mean(LR_metrics_arrat[:,1])\n",
    "print(\"LR macro:  {:.4f}\".format(f1))\n",
    "weighted = np.mean(LR_metrics_arrat[:,2])\n",
    "print(\"LR weighted:  {:.4f}\".format(weighted))\n",
    "\n",
    "print(LR_metrics_arrat[:,0].tolist())\n",
    "print(LR_metrics_arrat[:,1].tolist())\n",
    "print(LR_metrics_arrat[:,2].tolist())"
   ]
  },
  {
   "cell_type": "code",
   "execution_count": 987,
   "metadata": {
    "cell_style": "split",
    "hidden": true
   },
   "outputs": [
    {
     "name": "stdout",
     "output_type": "stream",
     "text": [
      "              precision    recall  f1-score   support\n",
      "\n",
      "           0     0.6006    0.7462    0.6655       264\n",
      "           1     0.8508    0.7446    0.7942       513\n",
      "\n",
      "    accuracy                         0.7452       777\n",
      "   macro avg     0.7257    0.7454    0.7299       777\n",
      "weighted avg     0.7658    0.7452    0.7505       777\n",
      "\n"
     ]
    }
   ],
   "source": [
    "print(classification_report(y_binary_test, iter_dic[0][0], digits=4))"
   ]
  },
  {
   "cell_type": "code",
   "execution_count": 988,
   "metadata": {
    "cell_style": "split",
    "code_folding": [
     0
    ],
    "hidden": true
   },
   "outputs": [
    {
     "name": "stdout",
     "output_type": "stream",
     "text": [
      "RF acc:  0.7812\n",
      "RF macro:  0.7438\n",
      "RF weighted:  0.7752\n",
      "[0.7812]\n",
      "[0.7438]\n",
      "[0.7752]\n"
     ]
    }
   ],
   "source": [
    "# RF\n",
    "RF_metrics_arrat = np.array(RF_metrics_list,dtype=float)\n",
    "acc = np.mean(RF_metrics_arrat[:,0])\n",
    "print(\"RF acc:  {:.4f}\".format(acc))\n",
    "f1 = np.mean(RF_metrics_arrat[:,1])\n",
    "print(\"RF macro:  {:.4f}\".format(f1))\n",
    "weighted = np.mean(RF_metrics_arrat[:,2])\n",
    "print(\"RF weighted:  {:.4f}\".format(weighted))\n",
    "\n",
    "print(RF_metrics_arrat[:,0].tolist())\n",
    "print(RF_metrics_arrat[:,1].tolist())\n",
    "print(RF_metrics_arrat[:,2].tolist())"
   ]
  },
  {
   "cell_type": "code",
   "execution_count": 989,
   "metadata": {
    "cell_style": "split",
    "hidden": true
   },
   "outputs": [
    {
     "name": "stdout",
     "output_type": "stream",
     "text": [
      "              precision    recall  f1-score   support\n",
      "\n",
      "           0     0.7176    0.5871    0.6458       264\n",
      "           1     0.8057    0.8811    0.8417       513\n",
      "\n",
      "    accuracy                         0.7812       777\n",
      "   macro avg     0.7616    0.7341    0.7438       777\n",
      "weighted avg     0.7758    0.7812    0.7752       777\n",
      "\n"
     ]
    }
   ],
   "source": [
    "print(classification_report(y_binary_test, iter_dic[0][1], digits=4))"
   ]
  },
  {
   "cell_type": "code",
   "execution_count": 990,
   "metadata": {
    "cell_style": "split",
    "code_folding": [
     0
    ],
    "hidden": true
   },
   "outputs": [
    {
     "name": "stdout",
     "output_type": "stream",
     "text": [
      "XGB acc:  0.7658\n",
      "XGB macro:  0.7482\n",
      "XGB weighted:  0.7695\n",
      "[0.7812]\n",
      "[0.7438]\n",
      "[0.7752]\n"
     ]
    }
   ],
   "source": [
    "# XGB\n",
    "XGB_metrics_arrat = np.array(XGB_metrics_list,dtype=float)\n",
    "acc = np.mean(XGB_metrics_arrat[:,0])\n",
    "print(\"XGB acc:  {:.4f}\".format(acc))\n",
    "f1 = np.mean(XGB_metrics_arrat[:,1])\n",
    "print(\"XGB macro:  {:.4f}\".format(f1))\n",
    "weighted = np.mean(XGB_metrics_arrat[:,2])\n",
    "print(\"XGB weighted:  {:.4f}\".format(weighted))\n",
    "\n",
    "print(RF_metrics_arrat[:,0].tolist())\n",
    "print(RF_metrics_arrat[:,1].tolist())\n",
    "print(RF_metrics_arrat[:,2].tolist())"
   ]
  },
  {
   "cell_type": "code",
   "execution_count": 991,
   "metadata": {
    "cell_style": "split",
    "hidden": true
   },
   "outputs": [
    {
     "name": "stdout",
     "output_type": "stream",
     "text": [
      "              precision    recall  f1-score   support\n",
      "\n",
      "           0     0.6331    0.7386    0.6818       264\n",
      "           1     0.8529    0.7797    0.8147       513\n",
      "\n",
      "    accuracy                         0.7658       777\n",
      "   macro avg     0.7430    0.7592    0.7482       777\n",
      "weighted avg     0.7782    0.7658    0.7695       777\n",
      "\n"
     ]
    }
   ],
   "source": [
    "print(classification_report(y_binary_test, iter_dic[0][2], digits=4))"
   ]
  },
  {
   "cell_type": "markdown",
   "metadata": {
    "heading_collapsed": true
   },
   "source": [
    "## node_fusion"
   ]
  },
  {
   "cell_type": "code",
   "execution_count": 488,
   "metadata": {
    "code_folding": [
     7
    ],
    "hidden": true
   },
   "outputs": [],
   "source": [
    "def marchine_learn(x_train, y_train, x_test, y_test):\n",
    "    classifier_list = [linear_model.LogisticRegression(random_state=0, max_iter=1500, penalty='l2', class_weight=\"balanced\", C=0.99, fit_intercept=True),\n",
    "                       ensemble.RandomForestClassifier(random_state=0, class_weight=\"balanced\", n_estimators=10), # 155\n",
    "                       xgboost.XGBClassifier(random_state=0, scale_pos_weight=0.75/1.49, learning_rate=0.1, n_estimators=35)] # 30\n",
    "\n",
    "    y_predict_proba_dic = {}\n",
    "    y_predict_list = []\n",
    "    for i, classifier in enumerate(tqdm(classifier_list, ncols=50)):\n",
    "        y_predict, y_predict_proba = train_model(\n",
    "            classifier, x_train, y_train, x_test, y_test)\n",
    "        # print(\"predictions:\", y_predict)\n",
    "        y_predict_proba_dic[i] = y_predict_proba\n",
    "        y_predict_list.append(y_predict)\n",
    "\n",
    "    return y_predict_list, y_predict_proba_dic"
   ]
  },
  {
   "cell_type": "code",
   "execution_count": 489,
   "metadata": {
    "code_folding": [
     1
    ],
    "hidden": true
   },
   "outputs": [
    {
     "name": "stderr",
     "output_type": "stream",
     "text": [
      "100%|███████████████| 3/3 [00:07<00:00,  2.60s/it]\n"
     ]
    }
   ],
   "source": [
    "iter_dic = {}\n",
    "for i in range(1):\n",
    "    y_predict_list, y_predict_proba_dic = marchine_learn(node_fusion_train, y_binary_train, node_fusion_test, y_binary_test)\n",
    "    iter_dic[i] = y_predict_list"
   ]
  },
  {
   "cell_type": "code",
   "execution_count": 490,
   "metadata": {
    "code_folding": [
     4
    ],
    "hidden": true
   },
   "outputs": [],
   "source": [
    "LR_metrics_list = []\n",
    "RF_metrics_list = []\n",
    "XGB_metrics_list = []\n",
    "\n",
    "for key, value in iter_dic.items():\n",
    "    for i in range(3):\n",
    "        report = classification_report(y_binary_test, iter_dic[key][i], digits=4)\n",
    "        p = re.compile('  |\\n', re.S)\n",
    "        report = p.sub(' ', report)\n",
    "        metrics_content = re.findall(\"([\\d]{1}\\.[\\d]{4})    777\", report)\n",
    "        if i == 0:\n",
    "            LR_metrics_list.append(metrics_content)\n",
    "        if i == 1:\n",
    "            RF_metrics_list.append(metrics_content)\n",
    "        if i == 2:\n",
    "            XGB_metrics_list.append(metrics_content)"
   ]
  },
  {
   "cell_type": "code",
   "execution_count": 397,
   "metadata": {
    "cell_style": "split",
    "code_folding": [
     0
    ],
    "hidden": true
   },
   "outputs": [
    {
     "name": "stdout",
     "output_type": "stream",
     "text": [
      "LR acc:  0.7748\n",
      "LR macro:  0.7635\n",
      "LR weighted:  0.7800\n",
      "[0.7748]\n",
      "[0.7635]\n",
      "[0.78]\n"
     ]
    }
   ],
   "source": [
    "# LR\n",
    "LR_metrics_arrat = np.array(LR_metrics_list,dtype=float)\n",
    "acc = np.mean(LR_metrics_arrat[:,0])\n",
    "print(\"LR acc:  {:.4f}\".format(acc))\n",
    "f1 = np.mean(LR_metrics_arrat[:,1])\n",
    "print(\"LR macro:  {:.4f}\".format(f1))\n",
    "weighted = np.mean(LR_metrics_arrat[:,2])\n",
    "print(\"LR weighted:  {:.4f}\".format(weighted))\n",
    "\n",
    "print(LR_metrics_arrat[:,0].tolist())\n",
    "print(LR_metrics_arrat[:,1].tolist())\n",
    "print(LR_metrics_arrat[:,2].tolist())"
   ]
  },
  {
   "cell_type": "code",
   "execution_count": 387,
   "metadata": {
    "cell_style": "split",
    "hidden": true
   },
   "outputs": [
    {
     "name": "stdout",
     "output_type": "stream",
     "text": [
      "              precision    recall  f1-score   support\n",
      "\n",
      "           0     0.6290    0.8220    0.7126       264\n",
      "           1     0.8912    0.7505    0.8148       513\n",
      "\n",
      "    accuracy                         0.7748       777\n",
      "   macro avg     0.7601    0.7862    0.7637       777\n",
      "weighted avg     0.8021    0.7748    0.7801       777\n",
      "\n"
     ]
    }
   ],
   "source": [
    "print(classification_report(y_binary_test, iter_dic[0][0], digits=4))"
   ]
  },
  {
   "cell_type": "code",
   "execution_count": 468,
   "metadata": {
    "cell_style": "split",
    "code_folding": [
     0
    ],
    "hidden": true
   },
   "outputs": [
    {
     "name": "stdout",
     "output_type": "stream",
     "text": [
      "RF acc:  0.7735\n",
      "RF macro:  0.7335\n",
      "RF weighted:  0.7666\n",
      "[0.7735]\n",
      "[0.7335]\n",
      "[0.7666]\n"
     ]
    }
   ],
   "source": [
    "# RF\n",
    "RF_metrics_arrat = np.array(RF_metrics_list,dtype=float)\n",
    "acc = np.mean(RF_metrics_arrat[:,0])\n",
    "print(\"RF acc:  {:.4f}\".format(acc))\n",
    "f1 = np.mean(RF_metrics_arrat[:,1])\n",
    "print(\"RF macro:  {:.4f}\".format(f1))\n",
    "weighted = np.mean(RF_metrics_arrat[:,2])\n",
    "print(\"RF weighted:  {:.4f}\".format(weighted))\n",
    "\n",
    "print(RF_metrics_arrat[:,0].tolist())\n",
    "print(RF_metrics_arrat[:,1].tolist())\n",
    "print(RF_metrics_arrat[:,2].tolist())"
   ]
  },
  {
   "cell_type": "code",
   "execution_count": 469,
   "metadata": {
    "cell_style": "split",
    "hidden": true
   },
   "outputs": [
    {
     "name": "stdout",
     "output_type": "stream",
     "text": [
      "              precision    recall  f1-score   support\n",
      "\n",
      "           0     0.7075    0.5682    0.6303       264\n",
      "           1     0.7982    0.8791    0.8367       513\n",
      "\n",
      "    accuracy                         0.7735       777\n",
      "   macro avg     0.7529    0.7237    0.7335       777\n",
      "weighted avg     0.7674    0.7735    0.7666       777\n",
      "\n"
     ]
    }
   ],
   "source": [
    "print(classification_report(y_binary_test, iter_dic[0][1], digits=4))"
   ]
  },
  {
   "cell_type": "code",
   "execution_count": 491,
   "metadata": {
    "cell_style": "split",
    "code_folding": [
     0
    ],
    "hidden": true
   },
   "outputs": [
    {
     "name": "stdout",
     "output_type": "stream",
     "text": [
      "XGB acc:  0.7580\n",
      "XGB macro:  0.7442\n",
      "XGB weighted:  0.7633\n",
      "[0.7735]\n",
      "[0.7335]\n",
      "[0.7666]\n"
     ]
    }
   ],
   "source": [
    "# XGB\n",
    "XGB_metrics_arrat = np.array(XGB_metrics_list,dtype=float)\n",
    "acc = np.mean(XGB_metrics_arrat[:,0])\n",
    "print(\"XGB acc:  {:.4f}\".format(acc))\n",
    "f1 = np.mean(XGB_metrics_arrat[:,1])\n",
    "print(\"XGB macro:  {:.4f}\".format(f1))\n",
    "weighted = np.mean(XGB_metrics_arrat[:,2])\n",
    "print(\"XGB weighted:  {:.4f}\".format(weighted))\n",
    "\n",
    "print(RF_metrics_arrat[:,0].tolist())\n",
    "print(RF_metrics_arrat[:,1].tolist())\n",
    "print(RF_metrics_arrat[:,2].tolist())"
   ]
  },
  {
   "cell_type": "code",
   "execution_count": 492,
   "metadata": {
    "cell_style": "split",
    "hidden": true
   },
   "outputs": [
    {
     "name": "stdout",
     "output_type": "stream",
     "text": [
      "              precision    recall  f1-score   support\n",
      "\n",
      "           0     0.6145    0.7727    0.6846       264\n",
      "           1     0.8652    0.7505    0.8038       513\n",
      "\n",
      "    accuracy                         0.7580       777\n",
      "   macro avg     0.7398    0.7616    0.7442       777\n",
      "weighted avg     0.7800    0.7580    0.7633       777\n",
      "\n"
     ]
    }
   ],
   "source": [
    "print(classification_report(y_binary_test, iter_dic[0][2], digits=4))"
   ]
  },
  {
   "cell_type": "markdown",
   "metadata": {
    "heading_collapsed": true
   },
   "source": [
    "## 绘图"
   ]
  },
  {
   "cell_type": "code",
   "execution_count": 318,
   "metadata": {
    "cell_style": "split",
    "code_folding": [
     2
    ],
    "hidden": true
   },
   "outputs": [
    {
     "name": "stderr",
     "output_type": "stream",
     "text": [
      "100%|█| 3/3 [00:00<0\n"
     ]
    },
    {
     "data": {
      "image/png": "[encoded data removed]",
      "text/plain": [
       "<Figure size 360x216 with 1 Axes>"
      ]
     },
     "metadata": {
      "needs_background": "light"
     },
     "output_type": "display_data"
    }
   ],
   "source": [
    "plt.figure(figsize=(5,3))\n",
    "plt.plot([0, 1], [0, 1], linestyle='--')\n",
    "for key in tqdm(y_predict_proba_dic.keys(), ncols=20):\n",
    "    y_scores = [y_predict_proba_1[1] for y_predict_proba_1 in y_predict_proba_dic[key]]\n",
    "    fpr, tpr, _  =  roc_curve(y_binary_test, y_scores)\n",
    "    roc_auc = auc(fpr,tpr)\n",
    "    plt.plot(fpr, tpr, label=str(key) + ':node ROC curve (%0.4f)' % roc_auc)\n",
    "plt.xlabel('False Positive Rate')\n",
    "plt.ylabel('True Positive Rate')\n",
    "plt.title('Receiver operating characteristic example')\n",
    "plt.legend(loc=\"lower right\")\n",
    "plt.show()"
   ]
  },
  {
   "cell_type": "code",
   "execution_count": 728,
   "metadata": {
    "cell_style": "split",
    "code_folding": [
     2
    ],
    "hidden": true
   },
   "outputs": [
    {
     "name": "stderr",
     "output_type": "stream",
     "text": [
      "100%|█| 3/3 [00:00<0\n"
     ]
    },
    {
     "data": {
      "image/png": "[encoded data removed]",
      "text/plain": [
       "<Figure size 360x216 with 1 Axes>"
      ]
     },
     "metadata": {
      "needs_background": "light"
     },
     "output_type": "display_data"
    }
   ],
   "source": [
    "plt.figure(figsize=(5,3))\n",
    "plt.plot([0, 1], [0, 1], linestyle='--')\n",
    "for key in tqdm(y_predict_proba_dic.keys(), ncols=20):\n",
    "    y_scores = [y_predict_proba_1[1] for y_predict_proba_1 in y_predict_proba_dic[key]]\n",
    "    fpr, tpr, _  =  roc_curve(y_binary_test, y_scores)\n",
    "    roc_auc = auc(fpr,tpr)\n",
    "    plt.plot(fpr, tpr, label=str(key) + ':node ROC curve (%0.4f)' % roc_auc)\n",
    "plt.xlabel('False Positive Rate')\n",
    "plt.ylabel('True Positive Rate')\n",
    "plt.title('Receiver operating characteristic example')\n",
    "plt.legend(loc=\"lower right\")\n",
    "plt.show()"
   ]
  },
  {
   "cell_type": "code",
   "execution_count": 790,
   "metadata": {
    "cell_style": "split",
    "code_folding": [
     2
    ],
    "hidden": true
   },
   "outputs": [
    {
     "name": "stderr",
     "output_type": "stream",
     "text": [
      "100%|█| 3/3 [00:00<0\n"
     ]
    },
    {
     "data": {
      "image/png": "[encoded data removed]",
      "text/plain": [
       "<Figure size 360x216 with 1 Axes>"
      ]
     },
     "metadata": {
      "needs_background": "light"
     },
     "output_type": "display_data"
    }
   ],
   "source": [
    "plt.figure(figsize=(5,3))\n",
    "plt.plot([0, 1], [0, 1], linestyle='--')\n",
    "for key in tqdm(y_predict_proba_dic.keys(), ncols=20):\n",
    "    y_scores = [y_predict_proba_1[1] for y_predict_proba_1 in y_predict_proba_dic[key]]\n",
    "    fpr, tpr, _  =  roc_curve(y_binary_test, y_scores)\n",
    "    roc_auc = auc(fpr,tpr)\n",
    "    plt.plot(fpr, tpr, label=str(key) + ':node ROC curve (%0.4f)' % roc_auc)\n",
    "plt.xlabel('False Positive Rate')\n",
    "plt.ylabel('True Positive Rate')\n",
    "plt.title('Receiver operating characteristic example')\n",
    "plt.legend(loc=\"lower right\")\n",
    "plt.show()"
   ]
  },
  {
   "cell_type": "code",
   "execution_count": 326,
   "metadata": {
    "cell_style": "split",
    "code_folding": [
     2
    ],
    "hidden": true
   },
   "outputs": [
    {
     "name": "stderr",
     "output_type": "stream",
     "text": [
      "100%|█| 3/3 [00:00<0\n"
     ]
    },
    {
     "data": {
      "image/png": "[encoded data removed]",
      "text/plain": [
       "<Figure size 360x216 with 1 Axes>"
      ]
     },
     "metadata": {
      "needs_background": "light"
     },
     "output_type": "display_data"
    }
   ],
   "source": [
    "plt.figure(figsize=(5,3))\n",
    "plt.plot([0, 1], [0, 1], linestyle='--')\n",
    "for key in tqdm(y_predict_proba_dic.keys(), ncols=20):\n",
    "    y_scores = [y_predict_proba_1[1] for y_predict_proba_1 in y_predict_proba_dic[key]]\n",
    "    fpr, tpr, _  =  roc_curve(y_binary_test, y_scores)\n",
    "    roc_auc = auc(fpr,tpr)\n",
    "    plt.plot(fpr, tpr, label=str(key) + ':node ROC curve (%0.4f)' % roc_auc)\n",
    "plt.xlabel('False Positive Rate')\n",
    "plt.ylabel('True Positive Rate')\n",
    "plt.title('Receiver operating characteristic example')\n",
    "plt.legend(loc=\"lower right\")\n",
    "plt.show()"
   ]
  },
  {
   "cell_type": "code",
   "execution_count": 910,
   "metadata": {
    "cell_style": "split",
    "code_folding": [
     2
    ],
    "hidden": true
   },
   "outputs": [
    {
     "name": "stderr",
     "output_type": "stream",
     "text": [
      "100%|█| 3/3 [00:00<0\n"
     ]
    },
    {
     "data": {
      "image/png": "[encoded data removed]",
      "text/plain": [
       "<Figure size 360x216 with 1 Axes>"
      ]
     },
     "metadata": {
      "needs_background": "light"
     },
     "output_type": "display_data"
    }
   ],
   "source": [
    "plt.figure(figsize=(5,3))\n",
    "plt.plot([0, 1], [0, 1], linestyle='--')\n",
    "for key in tqdm(y_predict_proba_dic.keys(), ncols=20):\n",
    "    y_scores = [y_predict_proba_1[1] for y_predict_proba_1 in y_predict_proba_dic[key]]\n",
    "    fpr, tpr, _  =  roc_curve(y_binary_test, y_scores)\n",
    "    roc_auc = auc(fpr,tpr)\n",
    "    plt.plot(fpr, tpr, label=str(key) + ':node ROC curve (%0.4f)' % roc_auc)\n",
    "plt.xlabel('False Positive Rate')\n",
    "plt.ylabel('True Positive Rate')\n",
    "plt.title('Receiver operating characteristic example')\n",
    "plt.legend(loc=\"lower right\")\n",
    "plt.show()"
   ]
  },
  {
   "cell_type": "code",
   "execution_count": 992,
   "metadata": {
    "cell_style": "split",
    "code_folding": [
     2
    ],
    "hidden": true
   },
   "outputs": [
    {
     "name": "stderr",
     "output_type": "stream",
     "text": [
      "100%|█| 3/3 [00:00<0\n"
     ]
    },
    {
     "data": {
      "image/png": "[encoded data removed]",
      "text/plain": [
       "<Figure size 360x216 with 1 Axes>"
      ]
     },
     "metadata": {
      "needs_background": "light"
     },
     "output_type": "display_data"
    }
   ],
   "source": [
    "plt.figure(figsize=(5,3))\n",
    "plt.plot([0, 1], [0, 1], linestyle='--')\n",
    "for key in tqdm(y_predict_proba_dic.keys(), ncols=20):\n",
    "    y_scores = [y_predict_proba_1[1] for y_predict_proba_1 in y_predict_proba_dic[key]]\n",
    "    fpr, tpr, _  =  roc_curve(y_binary_test, y_scores)\n",
    "    roc_auc = auc(fpr,tpr)\n",
    "    plt.plot(fpr, tpr, label=str(key) + ':node ROC curve (%0.4f)' % roc_auc)\n",
    "plt.xlabel('False Positive Rate')\n",
    "plt.ylabel('True Positive Rate')\n",
    "plt.title('Receiver operating characteristic example')\n",
    "plt.legend(loc=\"lower right\")\n",
    "plt.show()"
   ]
  },
  {
   "cell_type": "code",
   "execution_count": 493,
   "metadata": {
    "cell_style": "split",
    "hidden": true
   },
   "outputs": [
    {
     "name": "stderr",
     "output_type": "stream",
     "text": [
      "100%|█| 3/3 [00:00<0\n"
     ]
    },
    {
     "data": {
      "image/png": "[encoded data removed]",
      "text/plain": [
       "<Figure size 360x216 with 1 Axes>"
      ]
     },
     "metadata": {
      "needs_background": "light"
     },
     "output_type": "display_data"
    }
   ],
   "source": [
    "plt.figure(figsize=(5,3))\n",
    "plt.plot([0, 1], [0, 1], linestyle='--')\n",
    "for key in tqdm(y_predict_proba_dic.keys(), ncols=20):\n",
    "    y_scores = [y_predict_proba_1[1] for y_predict_proba_1 in y_predict_proba_dic[key]]\n",
    "    fpr, tpr, _  =  roc_curve(y_binary_test, y_scores)\n",
    "    roc_auc = auc(fpr,tpr)\n",
    "    plt.plot(fpr, tpr, label=str(key) + ':node ROC curve (%0.4f)' % roc_auc)\n",
    "plt.xlabel('False Positive Rate')\n",
    "plt.ylabel('True Positive Rate')\n",
    "plt.title('Receiver operating characteristic example')\n",
    "plt.legend(loc=\"lower right\")\n",
    "plt.show()"
   ]
  },
  {
   "cell_type": "markdown",
   "metadata": {},
   "source": [
    "# 神经网络分类"
   ]
  },
  {
   "cell_type": "code",
   "execution_count": 196,
   "metadata": {
    "code_folding": [
     0
    ]
   },
   "outputs": [],
   "source": [
    "def plot_history(history):\n",
    "    acc = history.history['acc']\n",
    "    val_acc = history.history['val_acc']\n",
    "    loss = history.history['loss']\n",
    "    val_loss = history.history['val_loss']\n",
    "    x = range(1, len(acc) + 1)\n",
    "\n",
    "    plt.figure(figsize=(12, 5))\n",
    "    plt.subplot(1, 2, 1)\n",
    "    plt.plot(x, acc, 'b', label='Training acc')\n",
    "    plt.plot(x, val_acc, 'r', label='Validation acc')\n",
    "    plt.title('Training and validation accuracy')\n",
    "    plt.legend()\n",
    "    plt.subplot(1, 2, 2)\n",
    "    plt.plot(x, loss, 'b', label='Training loss')\n",
    "    plt.plot(x, val_loss, 'r', label='Validation loss')\n",
    "    plt.title('Training and validation loss')\n",
    "    plt.legend()\n",
    "    plt.show()"
   ]
  },
  {
   "cell_type": "code",
   "execution_count": 791,
   "metadata": {
    "code_folding": [
     0
    ]
   },
   "outputs": [],
   "source": [
    "def full_connect_network(n_cols):\n",
    "    # Add an Input Layer\n",
    "    input_layer = layers.Input((n_cols, ))\n",
    "\n",
    "    Dense_layer_1 = layers.Dense(152, activation=\"relu\")(input_layer)\n",
    "    Dense_layer_2 = layers.Dense(64, activation=\"relu\")(Dense_layer_1)\n",
    "    dropout_layer = layers.Dropout(0.35)(Dense_layer_2)\n",
    "    Dense_layer_3 = layers.Dense(2, activation='softmax')(dropout_layer)\n",
    "\n",
    "    model = models.Model(inputs=input_layer, outputs=Dense_layer_3)\n",
    "    model.compile(optimizer=optimizers.Adam(), loss='binary_crossentropy', metrics=['accuracy'])\n",
    "    # model.summary()\n",
    "\n",
    "    return model"
   ]
  },
  {
   "cell_type": "code",
   "execution_count": 912,
   "metadata": {
    "code_folding": []
   },
   "outputs": [],
   "source": [
    "def full_connect_network(n_cols):\n",
    "    # Add an Input Layer\n",
    "    input_layer = layers.Input((n_cols, ))\n",
    "\n",
    "    Dense_layer_1 = layers.Dense(80, activation=\"relu\")(input_layer)\n",
    "    Dense_layer_2 = layers.Dense(48, activation=\"relu\")(Dense_layer_1)\n",
    "    dropout_layer = layers.Dropout(0.4)(Dense_layer_2)\n",
    "    Dense_layer_3 = layers.Dense(2, activation='softmax')(dropout_layer)\n",
    "\n",
    "    model = models.Model(inputs=input_layer, outputs=Dense_layer_3)\n",
    "    model.compile(optimizer=optimizers.Adam(), loss='binary_crossentropy', metrics=['accuracy'])\n",
    "    # model.summary()\n",
    "\n",
    "    return model"
   ]
  },
  {
   "cell_type": "code",
   "execution_count": 415,
   "metadata": {
    "code_folding": [
     0
    ]
   },
   "outputs": [],
   "source": [
    "def full_lstm_connect_network(n_cols):\n",
    "    # Add an Input Layer\n",
    "    input_layer = layers.Input((n_cols, ))\n",
    "    \n",
    "    input_layer_1 = layers.Lambda(lambda input_layer:K.expand_dims(input_layer, axis=-1))(input_layer)\n",
    "    lstm_layer = layers.Bidirectional(LSTM(128, return_sequences=False))(input_layer_1)\n",
    "    Dropout_layer = layers.Dropout(0.4)(lstm_layer)\n",
    "    Dense_layer_1 = layers.Dense(72, activation=\"relu\")(Dropout_layer)\n",
    "    Dropout_layer = layers.Dropout(0.4)(Dense_layer_1)\n",
    "    Dense_layer_1 = layers.Dense(2, activation='softmax')(Dropout_layer)\n",
    "    \n",
    "    model = models.Model(inputs=input_layer, outputs=Dense_layer_1)\n",
    "    model.compile(optimizer=optimizers.Adam(), loss='binary_crossentropy', metrics=['accuracy'])    \n",
    "    # model.summary()\n",
    "    \n",
    "    return model"
   ]
  },
  {
   "cell_type": "code",
   "execution_count": 419,
   "metadata": {
    "code_folding": [
     0
    ]
   },
   "outputs": [],
   "source": [
    "def full_lstm_connect_network(n_cols):\n",
    "    # Add an Input Layer\n",
    "    input_layer = layers.Input((n_cols, ))\n",
    "    \n",
    "    input_layer_1 = layers.Lambda(lambda input_layer:K.expand_dims(input_layer, axis=-1))(input_layer)\n",
    "    lstm_layer = layers.Bidirectional(LSTM(128, return_sequences=False))(input_layer_1)\n",
    "    Dropout_layer = layers.Dropout(0.3)(lstm_layer)\n",
    "    Dense_layer_1 = layers.Dense(72, activation=\"relu\")(Dropout_layer)\n",
    "    Dropout_layer = layers.Dropout(0.4)(Dense_layer_1)\n",
    "    Dense_layer_1 = layers.Dense(2, activation='softmax')(Dropout_layer)\n",
    "    \n",
    "    model = models.Model(inputs=input_layer, outputs=Dense_layer_1)\n",
    "    model.compile(optimizer=optimizers.Adam(), loss='binary_crossentropy', metrics=['accuracy'])    \n",
    "    # model.summary()\n",
    "    \n",
    "    return model"
   ]
  },
  {
   "cell_type": "code",
   "execution_count": 423,
   "metadata": {
    "code_folding": [
     0
    ]
   },
   "outputs": [],
   "source": [
    "def full_lstm_connect_network(n_cols):\n",
    "    # Add an Input Layer\n",
    "    input_layer = layers.Input((n_cols, ))\n",
    "    \n",
    "    input_layer_1 = layers.Lambda(lambda input_layer:K.expand_dims(input_layer, axis=-1))(input_layer)\n",
    "    lstm_layer = layers.Bidirectional(LSTM(144, return_sequences=False))(input_layer_1)\n",
    "    Dropout_layer = layers.Dropout(0.4)(lstm_layer)\n",
    "    Dense_layer_1 = layers.Dense(72, activation=\"relu\")(Dropout_layer)\n",
    "    Dropout_layer = layers.Dropout(0.4)(Dense_layer_1)\n",
    "    Dense_layer_1 = layers.Dense(2, activation='softmax')(Dropout_layer)\n",
    "    \n",
    "    model = models.Model(inputs=input_layer, outputs=Dense_layer_1)\n",
    "    model.compile(optimizer=optimizers.Adam(), loss='binary_crossentropy', metrics=['accuracy'])    \n",
    "    # model.summary()\n",
    "    \n",
    "    return model"
   ]
  },
  {
   "cell_type": "code",
   "execution_count": 427,
   "metadata": {
    "code_folding": [
     0
    ]
   },
   "outputs": [],
   "source": [
    "def full_lstm_connect_network(n_cols):\n",
    "    # Add an Input Layer\n",
    "    input_layer = layers.Input((n_cols, ))\n",
    "    \n",
    "    input_layer_1 = layers.Lambda(lambda input_layer:K.expand_dims(input_layer, axis=-1))(input_layer)\n",
    "    lstm_layer = layers.Bidirectional(LSTM(144, return_sequences=False))(input_layer_1)\n",
    "    Dropout_layer = layers.Dropout(0.3)(lstm_layer)\n",
    "    Dense_layer_1 = layers.Dense(72, activation=\"relu\")(Dropout_layer)\n",
    "    Dropout_layer = layers.Dropout(0.4)(Dense_layer_1)\n",
    "    Dense_layer_1 = layers.Dense(2, activation='softmax')(Dropout_layer)\n",
    "    \n",
    "    model = models.Model(inputs=input_layer, outputs=Dense_layer_1)\n",
    "    model.compile(optimizer=optimizers.Adam(), loss='binary_crossentropy', metrics=['accuracy'])    \n",
    "    # model.summary()\n",
    "    \n",
    "    return model"
   ]
  },
  {
   "cell_type": "code",
   "execution_count": 278,
   "metadata": {
    "code_folding": [
     0
    ]
   },
   "outputs": [],
   "source": [
    "def full_lstm_connect_network(n_cols):\n",
    "    # Add an Input Layer\n",
    "    input_layer = layers.Input((n_cols, ))\n",
    "    \n",
    "    input_layer_1 = layers.Lambda(lambda input_layer:K.expand_dims(input_layer, axis=-1))(input_layer)\n",
    "    lstm_layer = layers.Bidirectional(LSTM(76, return_sequences=False))(input_layer_1)\n",
    "    dropout_layer = layers.Dropout(0.3)(lstm_layer)\n",
    "    Dense_layer_1 = layers.Dense(48, activation=\"relu\")(dropout_layer)\n",
    "    Dropout_layer = layers.Dropout(0.4)(Dense_layer_1)\n",
    "    Dense_layer_1 = layers.Dense(2, activation='softmax')(Dropout_layer)\n",
    "    \n",
    "    model = models.Model(inputs=input_layer, outputs=Dense_layer_1)\n",
    "    model.compile(optimizer=optimizers.Adam(), loss='binary_crossentropy', metrics=['accuracy'])    \n",
    "    # model.summary()\n",
    "    \n",
    "    return model"
   ]
  },
  {
   "cell_type": "code",
   "execution_count": 913,
   "metadata": {
    "code_folding": []
   },
   "outputs": [],
   "source": [
    "# 提前停止监视器设置为3，这意味着在连续3次运行后，模型的性能没有改进的话，训练将会被停止\n",
    "my_callbacks = [EarlyStopping(monitor='val_loss', mode='min', patience=10)]"
   ]
  },
  {
   "cell_type": "code",
   "execution_count": 914,
   "metadata": {
    "code_folding": [],
    "scrolled": true
   },
   "outputs": [
    {
     "name": "stderr",
     "output_type": "stream",
     "text": [
      "100%|███████████████████████████████████| 1/1 [00:10<00:00, 10.79s/it]\n"
     ]
    }
   ],
   "source": [
    "history_list = []\n",
    "model_list = []\n",
    "\n",
    "for i in tqdm(range(1), ncols=70):\n",
    "    model = full_connect_network(x_node_train.shape[1])\n",
    "    history = model.fit(x_node_train, y_category_train, \n",
    "                        validation_data=(x_node_valid, y_category_valid), \n",
    "                        verbose=0, epochs=100, batch_size=256, shuffle=False,\n",
    "                        callbacks=my_callbacks)\n",
    "    history_list.append(history)\n",
    "    model_list.append(model)"
   ]
  },
  {
   "cell_type": "code",
   "execution_count": 915,
   "metadata": {
    "code_folding": [
     10
    ]
   },
   "outputs": [
    {
     "name": "stderr",
     "output_type": "stream",
     "text": [
      "100%|███████████████████████████████████| 1/1 [00:00<00:00,  1.46it/s]\n"
     ]
    }
   ],
   "source": [
    "metrics_list = []\n",
    "roc_list = []\n",
    "\n",
    "for model in tqdm(model_list, ncols=70):\n",
    "    y_pred = model.predict(x_node_test, batch_size=256, verbose=0)\n",
    "    y_pred_proba = np.array(y_pred, dtype=float)\n",
    "    y_pred_proba = y_pred_proba[:,1]\n",
    "    fpr, tpr, _  =  roc_curve(y_binary_test, list(y_pred_proba))\n",
    "    roc_list.append(auc(fpr,tpr))\n",
    "\n",
    "    for i in range(len(y_pred)):\n",
    "        max_value=max(y_pred[i])\n",
    "        for j in range(len(y_pred[i])):\n",
    "            if max_value==y_pred[i][j]:\n",
    "                y_pred[i][j]=1\n",
    "            else:\n",
    "                y_pred[i][j]=0\n",
    "    report = classification_report(y_category_test, y_pred, digits=4)\n",
    "    p = re.compile('  |\\n', re.S)\n",
    "    report = p.sub(' ', report)\n",
    "    metrics_content = re.findall(\"([\\d]{1}\\.[\\d]{4})    777\", report)\n",
    "    metrics_list.append(metrics_content)"
   ]
  },
  {
   "cell_type": "markdown",
   "metadata": {
    "heading_collapsed": true
   },
   "source": [
    "## abstract"
   ]
  },
  {
   "cell_type": "code",
   "execution_count": 423,
   "metadata": {
    "cell_style": "split",
    "code_folding": [
     0
    ],
    "hidden": true,
    "scrolled": false
   },
   "outputs": [
    {
     "name": "stdout",
     "output_type": "stream",
     "text": [
      "NN acc:  0.6384\n",
      "NN macro:  0.4988\n",
      "NN weighted:  0.5836\n",
      "[0.6384]\n",
      "[0.4988]\n",
      "[0.5836]\n",
      "NN roc:  0.6093\n"
     ]
    }
   ],
   "source": [
    "# abstract\n",
    "metrics_arrat = np.array(metrics_list,dtype=float)\n",
    "acc = np.mean(metrics_arrat[:,0])\n",
    "print(\"NN acc:  {:.4f}\".format(acc))\n",
    "f1 = np.mean(metrics_arrat[:,1])\n",
    "print(\"NN macro:  {:.4f}\".format(f1))\n",
    "weighted = np.mean(metrics_arrat[:,2])\n",
    "print(\"NN weighted:  {:.4f}\".format(weighted))\n",
    "\n",
    "print(metrics_arrat[:,0].tolist())\n",
    "print(metrics_arrat[:,1].tolist())\n",
    "print(metrics_arrat[:,2].tolist())\n",
    "\n",
    "roc = np.mean(roc_list)\n",
    "print(\"NN roc:  {:.4f}\".format(roc))"
   ]
  },
  {
   "cell_type": "code",
   "execution_count": 424,
   "metadata": {
    "cell_style": "split",
    "hidden": true
   },
   "outputs": [
    {
     "name": "stdout",
     "output_type": "stream",
     "text": [
      "              precision    recall  f1-score   support\n",
      "\n",
      "           0     0.4175    0.1629    0.2343       264\n",
      "           1     0.6721    0.8830    0.7633       513\n",
      "\n",
      "   micro avg     0.6384    0.6384    0.6384       777\n",
      "   macro avg     0.5448    0.5230    0.4988       777\n",
      "weighted avg     0.5856    0.6384    0.5836       777\n",
      " samples avg     0.6384    0.6384    0.6384       777\n",
      "\n"
     ]
    }
   ],
   "source": [
    "print(classification_report(y_category_test, y_pred, digits=4))"
   ]
  },
  {
   "cell_type": "code",
   "execution_count": 425,
   "metadata": {
    "cell_style": "split",
    "hidden": true
   },
   "outputs": [
    {
     "data": {
      "image/png": "[encoded data removed]",
      "text/plain": [
       "<Figure size 864x360 with 2 Axes>"
      ]
     },
     "metadata": {
      "needs_background": "light"
     },
     "output_type": "display_data"
    }
   ],
   "source": [
    "plot_history(history_list[0])"
   ]
  },
  {
   "cell_type": "markdown",
   "metadata": {
    "heading_collapsed": true
   },
   "source": [
    "## claims"
   ]
  },
  {
   "cell_type": "code",
   "execution_count": 587,
   "metadata": {
    "cell_style": "split",
    "code_folding": [
     0
    ],
    "hidden": true
   },
   "outputs": [
    {
     "name": "stdout",
     "output_type": "stream",
     "text": [
      "NN acc:  0.6564\n",
      "NN macro:  0.5453\n",
      "NN weighted:  0.6173\n",
      "[0.6564]\n",
      "[0.5453]\n",
      "[0.6173]\n",
      "NN roc:  0.6150\n"
     ]
    }
   ],
   "source": [
    "# claims\n",
    "metrics_arrat = np.array(metrics_list,dtype=float)\n",
    "acc = np.mean(metrics_arrat[:,0])\n",
    "print(\"NN acc:  {:.4f}\".format(acc))\n",
    "f1 = np.mean(metrics_arrat[:,1])\n",
    "print(\"NN macro:  {:.4f}\".format(f1))\n",
    "weighted = np.mean(metrics_arrat[:,2])\n",
    "print(\"NN weighted:  {:.4f}\".format(weighted))\n",
    "\n",
    "print(metrics_arrat[:,0].tolist())\n",
    "print(metrics_arrat[:,1].tolist())\n",
    "print(metrics_arrat[:,2].tolist())\n",
    "\n",
    "roc = np.mean(roc_list)\n",
    "print(\"NN roc:  {:.4f}\".format(roc))"
   ]
  },
  {
   "cell_type": "code",
   "execution_count": 448,
   "metadata": {
    "cell_style": "split",
    "hidden": true
   },
   "outputs": [
    {
     "name": "stdout",
     "output_type": "stream",
     "text": [
      "              precision    recall  f1-score   support\n",
      "\n",
      "           0     0.5385    0.1856    0.2761       264\n",
      "           1     0.6866    0.9181    0.7857       513\n",
      "\n",
      "   micro avg     0.6692    0.6692    0.6692       777\n",
      "   macro avg     0.6125    0.5519    0.5309       777\n",
      "weighted avg     0.6363    0.6692    0.6125       777\n",
      " samples avg     0.6692    0.6692    0.6692       777\n",
      "\n"
     ]
    }
   ],
   "source": [
    "print(classification_report(y_category_test, y_pred, digits=4))"
   ]
  },
  {
   "cell_type": "code",
   "execution_count": 588,
   "metadata": {
    "cell_style": "split",
    "hidden": true
   },
   "outputs": [
    {
     "data": {
      "image/png": "[encoded data removed]",
      "text/plain": [
       "<Figure size 864x360 with 2 Axes>"
      ]
     },
     "metadata": {
      "needs_background": "light"
     },
     "output_type": "display_data"
    }
   ],
   "source": [
    "plot_history(history_list[0])"
   ]
  },
  {
   "cell_type": "markdown",
   "metadata": {
    "heading_collapsed": true
   },
   "source": [
    "## text_sum"
   ]
  },
  {
   "cell_type": "code",
   "execution_count": 795,
   "metadata": {
    "cell_style": "split",
    "code_folding": [
     0
    ],
    "hidden": true,
    "scrolled": true
   },
   "outputs": [
    {
     "name": "stdout",
     "output_type": "stream",
     "text": [
      "NN acc:  0.6551\n",
      "NN macro:  0.5459\n",
      "NN weighted:  0.6173\n",
      "[0.6551]\n",
      "[0.5459]\n",
      "[0.6173]\n",
      "NN roc:  0.6092\n"
     ]
    }
   ],
   "source": [
    "# sum\n",
    "metrics_arrat = np.array(metrics_list,dtype=float)\n",
    "acc = np.mean(metrics_arrat[:,0])\n",
    "print(\"NN acc:  {:.4f}\".format(acc))\n",
    "f1 = np.mean(metrics_arrat[:,1])\n",
    "print(\"NN macro:  {:.4f}\".format(f1))\n",
    "weighted = np.mean(metrics_arrat[:,2])\n",
    "print(\"NN weighted:  {:.4f}\".format(weighted))\n",
    "\n",
    "print(metrics_arrat[:,0].tolist())\n",
    "print(metrics_arrat[:,1].tolist())\n",
    "print(metrics_arrat[:,2].tolist())\n",
    "\n",
    "roc = np.mean(roc_list)\n",
    "print(\"NN roc:  {:.4f}\".format(roc))"
   ]
  },
  {
   "cell_type": "code",
   "execution_count": 796,
   "metadata": {
    "cell_style": "split",
    "hidden": true,
    "scrolled": true
   },
   "outputs": [
    {
     "name": "stdout",
     "output_type": "stream",
     "text": [
      "              precision    recall  f1-score   support\n",
      "\n",
      "           0     0.4848    0.2424    0.3232       264\n",
      "           1     0.6899    0.8674    0.7686       513\n",
      "\n",
      "   micro avg     0.6551    0.6551    0.6551       777\n",
      "   macro avg     0.5874    0.5549    0.5459       777\n",
      "weighted avg     0.6202    0.6551    0.6173       777\n",
      " samples avg     0.6551    0.6551    0.6551       777\n",
      "\n"
     ]
    }
   ],
   "source": [
    "print(classification_report(y_category_test, y_pred, digits=4))"
   ]
  },
  {
   "cell_type": "code",
   "execution_count": 797,
   "metadata": {
    "cell_style": "split",
    "hidden": true
   },
   "outputs": [
    {
     "data": {
      "image/png": "[encoded data removed]",
      "text/plain": [
       "<Figure size 864x360 with 2 Axes>"
      ]
     },
     "metadata": {
      "needs_background": "light"
     },
     "output_type": "display_data"
    }
   ],
   "source": [
    "plot_history(history_list[0])"
   ]
  },
  {
   "cell_type": "markdown",
   "metadata": {
    "heading_collapsed": true
   },
   "source": [
    "## fusion"
   ]
  },
  {
   "cell_type": "code",
   "execution_count": 244,
   "metadata": {
    "cell_style": "split",
    "code_folding": [
     0
    ],
    "hidden": true,
    "scrolled": true
   },
   "outputs": [
    {
     "name": "stdout",
     "output_type": "stream",
     "text": [
      "NN acc:  0.6662\n",
      "NN macro:  0.5493\n",
      "NN weighted:  0.6228\n",
      "[0.668, 0.6705, 0.6667, 0.6615, 0.6641]\n",
      "[0.5569, 0.5541, 0.5448, 0.5411, 0.5494]\n",
      "[0.628, 0.6271, 0.6203, 0.6164, 0.6223]\n",
      "NN roc:  0.6368\n"
     ]
    }
   ],
   "source": [
    "# fusion\n",
    "metrics_arrat = np.array(metrics_list,dtype=float)\n",
    "acc = np.mean(metrics_arrat[:,0])\n",
    "print(\"NN acc:  {:.4f}\".format(acc))\n",
    "f1 = np.mean(metrics_arrat[:,1])\n",
    "print(\"NN macro:  {:.4f}\".format(f1))\n",
    "weighted = np.mean(metrics_arrat[:,2])\n",
    "print(\"NN weighted:  {:.4f}\".format(weighted))\n",
    "\n",
    "print(metrics_arrat[:,0].tolist())\n",
    "print(metrics_arrat[:,1].tolist())\n",
    "print(metrics_arrat[:,2].tolist())\n",
    "\n",
    "roc = np.mean(roc_list)\n",
    "print(\"NN roc:  {:.4f}\".format(roc))"
   ]
  },
  {
   "cell_type": "code",
   "execution_count": null,
   "metadata": {
    "cell_style": "split",
    "hidden": true
   },
   "outputs": [],
   "source": [
    "print(classification_report(y_category_test, y_pred, digits=4))"
   ]
  },
  {
   "cell_type": "code",
   "execution_count": null,
   "metadata": {
    "cell_style": "split",
    "hidden": true
   },
   "outputs": [],
   "source": [
    "plot_history(history_list[0])"
   ]
  },
  {
   "cell_type": "markdown",
   "metadata": {},
   "source": [
    "## node"
   ]
  },
  {
   "cell_type": "code",
   "execution_count": 916,
   "metadata": {
    "cell_style": "split",
    "code_folding": [
     0
    ]
   },
   "outputs": [
    {
     "name": "stdout",
     "output_type": "stream",
     "text": [
      "NN acc:  0.7851\n",
      "NN macro:  0.7319\n",
      "NN weighted:  0.7702\n",
      "[0.7851]\n",
      "[0.7319]\n",
      "[0.7702]\n",
      "NN roc:  0.8463\n"
     ]
    }
   ],
   "source": [
    "# node\n",
    "metrics_arrat = np.array(metrics_list,dtype=float)\n",
    "acc = np.mean(metrics_arrat[:,0])\n",
    "print(\"NN acc:  {:.4f}\".format(acc))\n",
    "f1 = np.mean(metrics_arrat[:,1])\n",
    "print(\"NN macro:  {:.4f}\".format(f1))\n",
    "weighted = np.mean(metrics_arrat[:,2])\n",
    "print(\"NN weighted:  {:.4f}\".format(weighted))\n",
    "\n",
    "print(metrics_arrat[:,0].tolist())\n",
    "print(metrics_arrat[:,1].tolist())\n",
    "print(metrics_arrat[:,2].tolist())\n",
    "\n",
    "roc = np.mean(roc_list)\n",
    "print(\"NN roc:  {:.4f}\".format(roc))"
   ]
  },
  {
   "cell_type": "code",
   "execution_count": 917,
   "metadata": {
    "cell_style": "split"
   },
   "outputs": [
    {
     "name": "stdout",
     "output_type": "stream",
     "text": [
      "              precision    recall  f1-score   support\n",
      "\n",
      "           0     0.7904    0.5000    0.6125       264\n",
      "           1     0.7836    0.9318    0.8513       513\n",
      "\n",
      "   micro avg     0.7851    0.7851    0.7851       777\n",
      "   macro avg     0.7870    0.7159    0.7319       777\n",
      "weighted avg     0.7859    0.7851    0.7702       777\n",
      " samples avg     0.7851    0.7851    0.7851       777\n",
      "\n"
     ]
    }
   ],
   "source": [
    "print(classification_report(y_category_test, y_pred, digits=4))"
   ]
  },
  {
   "cell_type": "code",
   "execution_count": 918,
   "metadata": {
    "cell_style": "split"
   },
   "outputs": [
    {
     "data": {
      "image/png": "[encoded data removed]",
      "text/plain": [
       "<Figure size 864x360 with 2 Axes>"
      ]
     },
     "metadata": {
      "needs_background": "light"
     },
     "output_type": "display_data"
    }
   ],
   "source": [
    "plot_history(history_list[0])"
   ]
  },
  {
   "cell_type": "markdown",
   "metadata": {
    "heading_collapsed": true
   },
   "source": [
    "## node+text"
   ]
  },
  {
   "cell_type": "code",
   "execution_count": 396,
   "metadata": {
    "code_folding": [
     0
    ],
    "hidden": true,
    "scrolled": false
   },
   "outputs": [
    {
     "name": "stdout",
     "output_type": "stream",
     "text": [
      "NN acc:  0.7707\n",
      "NN macro:  0.7336\n",
      "NN weighted:  0.7654\n",
      "[0.7709, 0.7645, 0.7735, 0.7658, 0.7786]\n",
      "[0.737, 0.7293, 0.7347, 0.7263, 0.7408]\n",
      "[0.7673, 0.7606, 0.7672, 0.7596, 0.7725]\n",
      "NN roc:  0.8295\n",
      "[0.8287627739382125, 0.8331118199539251, 0.8307785456908263, 0.8281056175793018, 0.8265697914820722]\n"
     ]
    }
   ],
   "source": [
    "# node+text+Dense\n",
    "metrics_arrat = np.array(metrics_list,dtype=float)\n",
    "acc = np.mean(metrics_arrat[:,0])\n",
    "print(\"NN acc:  {:.4f}\".format(acc))\n",
    "f1 = np.mean(metrics_arrat[:,1])\n",
    "print(\"NN macro:  {:.4f}\".format(f1))\n",
    "weighted = np.mean(metrics_arrat[:,2])\n",
    "print(\"NN weighted:  {:.4f}\".format(weighted))\n",
    "\n",
    "print(metrics_arrat[:,0].tolist())\n",
    "print(metrics_arrat[:,1].tolist())\n",
    "print(metrics_arrat[:,2].tolist())\n",
    "\n",
    "roc = np.mean(roc_list)\n",
    "print(\"NN roc:  {:.4f}\".format(roc))\n",
    "print(roc_list)"
   ]
  },
  {
   "cell_type": "code",
   "execution_count": 333,
   "metadata": {
    "cell_style": "split",
    "hidden": true
   },
   "outputs": [
    {
     "name": "stdout",
     "output_type": "stream",
     "text": [
      "              precision    recall  f1-score   support\n",
      "\n",
      "           0     0.7005    0.5492    0.6157       264\n",
      "           1     0.7912    0.8791    0.8329       513\n",
      "\n",
      "   micro avg     0.7671    0.7671    0.7671       777\n",
      "   macro avg     0.7459    0.7142    0.7243       777\n",
      "weighted avg     0.7604    0.7671    0.7591       777\n",
      " samples avg     0.7671    0.7671    0.7671       777\n",
      "\n"
     ]
    }
   ],
   "source": [
    "print(classification_report(y_category_test, y_pred, digits=4))"
   ]
  },
  {
   "cell_type": "code",
   "execution_count": 334,
   "metadata": {
    "cell_style": "split",
    "hidden": true
   },
   "outputs": [
    {
     "data": {
      "image/png": "[encoded data removed]",
      "text/plain": [
       "<Figure size 864x360 with 2 Axes>"
      ]
     },
     "metadata": {
      "needs_background": "light"
     },
     "output_type": "display_data"
    }
   ],
   "source": [
    "plot_history(history_list[0])"
   ]
  },
  {
   "cell_type": "code",
   "execution_count": 418,
   "metadata": {
    "code_folding": [
     0
    ],
    "hidden": true
   },
   "outputs": [
    {
     "name": "stdout",
     "output_type": "stream",
     "text": [
      "NN acc:  0.7696\n",
      "NN macro:  0.7338\n",
      "NN weighted:  0.7651\n",
      "[0.7671, 0.7773, 0.7709, 0.7696, 0.7632]\n",
      "[0.7334, 0.743, 0.7353, 0.7341, 0.7233]\n",
      "[0.7638, 0.7731, 0.7664, 0.7652, 0.757]\n",
      "NN roc:  0.8303\n"
     ]
    }
   ],
   "source": [
    "# node+text+BiLSTM\n",
    "metrics_arrat = np.array(metrics_list,dtype=float)\n",
    "acc = np.mean(metrics_arrat[:,0])\n",
    "print(\"NN acc:  {:.4f}\".format(acc))\n",
    "f1 = np.mean(metrics_arrat[:,1])\n",
    "print(\"NN macro:  {:.4f}\".format(f1))\n",
    "weighted = np.mean(metrics_arrat[:,2])\n",
    "print(\"NN weighted:  {:.4f}\".format(weighted))\n",
    "\n",
    "print(metrics_arrat[:,0].tolist())\n",
    "print(metrics_arrat[:,1].tolist())\n",
    "print(metrics_arrat[:,2].tolist())\n",
    "\n",
    "roc = np.mean(roc_list)\n",
    "print(\"NN roc:  {:.4f}\".format(roc))"
   ]
  },
  {
   "cell_type": "code",
   "execution_count": 422,
   "metadata": {
    "code_folding": [
     0
    ],
    "hidden": true
   },
   "outputs": [
    {
     "name": "stdout",
     "output_type": "stream",
     "text": [
      "NN acc:  0.7704\n",
      "NN macro:  0.7302\n",
      "NN weighted:  0.7636\n",
      "[0.7683, 0.7735, 0.7696, 0.7722, 0.7683]\n",
      "[0.7305, 0.7341, 0.7293, 0.7371, 0.7199]\n",
      "[0.7629, 0.7669, 0.7628, 0.7679, 0.7573]\n",
      "NN roc:  0.8314\n"
     ]
    }
   ],
   "source": [
    "# node+text+BiLSTM\n",
    "metrics_arrat = np.array(metrics_list,dtype=float)\n",
    "acc = np.mean(metrics_arrat[:,0])\n",
    "print(\"NN acc:  {:.4f}\".format(acc))\n",
    "f1 = np.mean(metrics_arrat[:,1])\n",
    "print(\"NN macro:  {:.4f}\".format(f1))\n",
    "weighted = np.mean(metrics_arrat[:,2])\n",
    "print(\"NN weighted:  {:.4f}\".format(weighted))\n",
    "\n",
    "print(metrics_arrat[:,0].tolist())\n",
    "print(metrics_arrat[:,1].tolist())\n",
    "print(metrics_arrat[:,2].tolist())\n",
    "\n",
    "roc = np.mean(roc_list)\n",
    "print(\"NN roc:  {:.4f}\".format(roc))"
   ]
  },
  {
   "cell_type": "code",
   "execution_count": 426,
   "metadata": {
    "code_folding": [
     0
    ],
    "hidden": true,
    "scrolled": true
   },
   "outputs": [
    {
     "name": "stdout",
     "output_type": "stream",
     "text": [
      "NN acc:  0.7717\n",
      "NN macro:  0.7092\n",
      "NN weighted:  0.7523\n",
      "[0.7683, 0.7748, 0.7773, 0.7683, 0.7696]\n",
      "[0.7089, 0.7123, 0.7358, 0.694, 0.6952]\n",
      "[0.7511, 0.7553, 0.7694, 0.7423, 0.7435]\n",
      "NN roc:  0.8347\n"
     ]
    }
   ],
   "source": [
    "# node+text+BiLSTM\n",
    "metrics_arrat = np.array(metrics_list,dtype=float)\n",
    "acc = np.mean(metrics_arrat[:,0])\n",
    "print(\"NN acc:  {:.4f}\".format(acc))\n",
    "f1 = np.mean(metrics_arrat[:,1])\n",
    "print(\"NN macro:  {:.4f}\".format(f1))\n",
    "weighted = np.mean(metrics_arrat[:,2])\n",
    "print(\"NN weighted:  {:.4f}\".format(weighted))\n",
    "\n",
    "print(metrics_arrat[:,0].tolist())\n",
    "print(metrics_arrat[:,1].tolist())\n",
    "print(metrics_arrat[:,2].tolist())\n",
    "\n",
    "roc = np.mean(roc_list)\n",
    "print(\"NN roc:  {:.4f}\".format(roc))"
   ]
  },
  {
   "cell_type": "code",
   "execution_count": 430,
   "metadata": {
    "code_folding": [
     0
    ],
    "hidden": true
   },
   "outputs": [
    {
     "name": "stdout",
     "output_type": "stream",
     "text": [
      "NN acc:  0.7709\n",
      "NN macro:  0.7000\n",
      "NN weighted:  0.7467\n",
      "[0.7683, 0.7748, 0.7748, 0.7683, 0.7683]\n",
      "[0.695, 0.7114, 0.7059, 0.699, 0.6887]\n",
      "[0.7429, 0.7548, 0.7515, 0.7453, 0.7392]\n",
      "NN roc:  0.8347\n"
     ]
    }
   ],
   "source": [
    "# node+text+BiLSTM\n",
    "metrics_arrat = np.array(metrics_list,dtype=float)\n",
    "acc = np.mean(metrics_arrat[:,0])\n",
    "print(\"NN acc:  {:.4f}\".format(acc))\n",
    "f1 = np.mean(metrics_arrat[:,1])\n",
    "print(\"NN macro:  {:.4f}\".format(f1))\n",
    "weighted = np.mean(metrics_arrat[:,2])\n",
    "print(\"NN weighted:  {:.4f}\".format(weighted))\n",
    "\n",
    "print(metrics_arrat[:,0].tolist())\n",
    "print(metrics_arrat[:,1].tolist())\n",
    "print(metrics_arrat[:,2].tolist())\n",
    "\n",
    "roc = np.mean(roc_list)\n",
    "print(\"NN roc:  {:.4f}\".format(roc))"
   ]
  }
 ],
 "metadata": {
  "kernelspec": {
   "display_name": "Python 3",
   "language": "python",
   "name": "python3"
  },
  "language_info": {
   "codemirror_mode": {
    "name": "ipython",
    "version": 3
   },
   "file_extension": ".py",
   "mimetype": "text/x-python",
   "name": "python",
   "nbconvert_exporter": "python",
   "pygments_lexer": "ipython3",
   "version": "3.6.9"
  },
  "toc": {
   "base_numbering": 1,
   "nav_menu": {},
   "number_sections": true,
   "sideBar": true,
   "skip_h1_title": false,
   "title_cell": "Table of Contents",
   "title_sidebar": "Contents",
   "toc_cell": false,
   "toc_position": {
    "height": "calc(100% - 180px)",
    "left": "10px",
    "top": "150px",
    "width": "185px"
   },
   "toc_section_display": true,
   "toc_window_display": true
  },
  "varInspector": {
   "cols": {
    "lenName": 16,
    "lenType": 16,
    "lenVar": 40
   },
   "kernels_config": {
    "python": {
     "delete_cmd_postfix": "",
     "delete_cmd_prefix": "del ",
     "library": "var_list.py",
     "varRefreshCmd": "print(var_dic_list())"
    },
    "r": {
     "delete_cmd_postfix": ") ",
     "delete_cmd_prefix": "rm(",
     "library": "var_list.r",
     "varRefreshCmd": "cat(var_dic_list()) "
    }
   },
   "types_to_exclude": [
    "module",
    "function",
    "builtin_function_or_method",
    "instance",
    "_Feature"
   ],
   "window_display": false
  }
 },
 "nbformat": 4,
 "nbformat_minor": 2
}
