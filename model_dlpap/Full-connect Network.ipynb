{
 "cells": [
  {
   "cell_type": "code",
   "execution_count": 1,
   "metadata": {
    "ExecuteTime": {
     "end_time": "2020-04-18T06:47:42.389893Z",
     "start_time": "2020-04-18T06:47:41.390534Z"
    }
   },
   "outputs": [],
   "source": [
    "import pandas as pd\n",
    "import numpy as np\n",
    "import re\n",
    "import os\n",
    "from tqdm import tqdm\n",
    "import matplotlib.pyplot as plt\n",
    "from sklearn.decomposition import PCA"
   ]
  },
  {
   "cell_type": "code",
   "execution_count": 2,
   "metadata": {
    "ExecuteTime": {
     "end_time": "2020-04-18T06:47:43.288518Z",
     "start_time": "2020-04-18T06:47:43.245473Z"
    }
   },
   "outputs": [],
   "source": [
    "import xgboost\n",
    "from sklearn import preprocessing, linear_model, ensemble, metrics\n",
    "from sklearn.metrics import accuracy_score, average_precision_score\n",
    "from sklearn.metrics import precision_recall_curve, roc_curve, auc\n",
    "from sklearn.metrics import classification_report\n",
    "from sklearn.utils import class_weight"
   ]
  },
  {
   "cell_type": "code",
   "execution_count": 3,
   "metadata": {
    "ExecuteTime": {
     "end_time": "2020-04-18T06:47:45.543249Z",
     "start_time": "2020-04-18T06:47:44.239987Z"
    }
   },
   "outputs": [
    {
     "name": "stderr",
     "output_type": "stream",
     "text": [
      "Using TensorFlow backend.\n"
     ]
    }
   ],
   "source": [
    "import keras\n",
    "import tensorflow as tf\n",
    "from keras import backend as K\n",
    "from keras.preprocessing import text, sequence\n",
    "from keras.callbacks import EarlyStopping, ModelCheckpoint\n",
    "from keras import layers, models, optimizers\n",
    "from keras.layers import LSTM\n",
    "from keras.layers.merge import concatenate\n",
    "from keras.utils import to_categorical\n",
    "from keras.utils import np_utils"
   ]
  },
  {
   "cell_type": "markdown",
   "metadata": {
    "heading_collapsed": true
   },
   "source": [
    "# 准备文本"
   ]
  },
  {
   "cell_type": "markdown",
   "metadata": {
    "heading_collapsed": true,
    "hidden": true
   },
   "source": [
    "## abstract"
   ]
  },
  {
   "cell_type": "code",
   "execution_count": 4,
   "metadata": {
    "ExecuteTime": {
     "end_time": "2020-04-18T06:47:48.176121Z",
     "start_time": "2020-04-18T06:47:47.966108Z"
    },
    "hidden": true
   },
   "outputs": [],
   "source": [
    "abs_filepath = \"/home/hxjiang/Pythonworkspace/patent/sample3_G-06-F-17/textual/result/abstract/8/AbsModel-ep003-loss0.618-val_loss0.613.h5.xlsx\"\n",
    "abstract = pd.read_excel(abs_filepath, encoding='utf-8')"
   ]
  },
  {
   "cell_type": "code",
   "execution_count": 5,
   "metadata": {
    "hidden": true
   },
   "outputs": [
    {
     "data": {
      "text/plain": [
       "(7769, 72)"
      ]
     },
     "execution_count": 5,
     "metadata": {},
     "output_type": "execute_result"
    }
   ],
   "source": [
    "abstract.shape"
   ]
  },
  {
   "cell_type": "code",
   "execution_count": 6,
   "metadata": {
    "hidden": true
   },
   "outputs": [
    {
     "name": "stderr",
     "output_type": "stream",
     "text": [
      "/home/hxjiang/.local/lib/python3.6/site-packages/numpy/linalg/linalg.py:1543: RuntimeWarning: divide by zero encountered in true_divide\n",
      "  return s[..., 0]/s[..., -1]\n"
     ]
    },
    {
     "data": {
      "text/plain": [
       "inf"
      ]
     },
     "execution_count": 6,
     "metadata": {},
     "output_type": "execute_result"
    }
   ],
   "source": [
    "x_abs = abstract\n",
    "# 条件数在1附近是理想的，有文献表明超过15就说明存在共线性\n",
    "c = np.linalg.cond(x_abs, p=None)\n",
    "c"
   ]
  },
  {
   "cell_type": "markdown",
   "metadata": {
    "heading_collapsed": true,
    "hidden": true
   },
   "source": [
    "## claims"
   ]
  },
  {
   "cell_type": "code",
   "execution_count": 26,
   "metadata": {
    "hidden": true
   },
   "outputs": [],
   "source": [
    "claim_filepath = \"/home/hxjiang/Pythonworkspace/patent/sample3_G-06-F-17/textual/result/claims/2/2ClaimsModel-ep003-loss0.615-val_loss0.613.h5.xlsx\"\n",
    "claims = pd.read_excel(claim_filepath, encoding='utf-8')"
   ]
  },
  {
   "cell_type": "code",
   "execution_count": 27,
   "metadata": {
    "hidden": true
   },
   "outputs": [
    {
     "data": {
      "text/plain": [
       "(7769, 72)"
      ]
     },
     "execution_count": 27,
     "metadata": {},
     "output_type": "execute_result"
    }
   ],
   "source": [
    "claims.shape"
   ]
  },
  {
   "cell_type": "code",
   "execution_count": 28,
   "metadata": {
    "hidden": true
   },
   "outputs": [
    {
     "name": "stderr",
     "output_type": "stream",
     "text": [
      "/home/hxjiang/.local/lib/python3.6/site-packages/numpy/linalg/linalg.py:1543: RuntimeWarning: divide by zero encountered in true_divide\n",
      "  return s[..., 0]/s[..., -1]\n"
     ]
    },
    {
     "data": {
      "text/plain": [
       "inf"
      ]
     },
     "execution_count": 28,
     "metadata": {},
     "output_type": "execute_result"
    }
   ],
   "source": [
    "x_claims = claims\n",
    "# 条件数在1附近是理想的，有文献表明超过15就说明存在共线性\n",
    "c = np.linalg.cond(x_claims, p=None)\n",
    "c"
   ]
  },
  {
   "cell_type": "markdown",
   "metadata": {
    "heading_collapsed": true,
    "hidden": true
   },
   "source": [
    "## text_sum"
   ]
  },
  {
   "cell_type": "code",
   "execution_count": 29,
   "metadata": {
    "hidden": true
   },
   "outputs": [],
   "source": [
    "sum_feature = pd.concat([abstract,claims],  axis=1, ignore_index=True)"
   ]
  },
  {
   "cell_type": "code",
   "execution_count": 30,
   "metadata": {
    "hidden": true
   },
   "outputs": [],
   "source": [
    "text_filepath = \"/home/hxjiang/Pythonworkspace/patent/sample3_G-06-F-17/textual/result/fusion/11/11FusionModel-ep003-loss0.610-val_loss0.607.h5.xlsx\"\n",
    "sum_feature = pd.read_excel(text_filepath, encoding='utf-8')"
   ]
  },
  {
   "cell_type": "code",
   "execution_count": 31,
   "metadata": {
    "hidden": true,
    "scrolled": true
   },
   "outputs": [
    {
     "data": {
      "text/plain": [
       "(7769, 72)"
      ]
     },
     "execution_count": 31,
     "metadata": {},
     "output_type": "execute_result"
    }
   ],
   "source": [
    "sum_feature.shape"
   ]
  },
  {
   "cell_type": "code",
   "execution_count": 32,
   "metadata": {
    "hidden": true
   },
   "outputs": [
    {
     "data": {
      "text/plain": [
       "inf"
      ]
     },
     "execution_count": 32,
     "metadata": {},
     "output_type": "execute_result"
    }
   ],
   "source": [
    "x_text = sum_feature\n",
    "# 条件数在1附近是理想的，有文献表明超过15就说明存在共线性\n",
    "c = np.linalg.cond(x_text, p=None)\n",
    "c"
   ]
  },
  {
   "cell_type": "markdown",
   "metadata": {
    "heading_collapsed": true,
    "hidden": true
   },
   "source": [
    "## result"
   ]
  },
  {
   "cell_type": "code",
   "execution_count": 7,
   "metadata": {
    "hidden": true
   },
   "outputs": [],
   "source": [
    "data = pd.read_excel(\"/home/hxjiang/Pythonworkspace/patent/sample3_G-06-F-17/textual/result_2010.xlsx\", encoding='utf-8')"
   ]
  },
  {
   "cell_type": "code",
   "execution_count": 8,
   "metadata": {
    "hidden": true
   },
   "outputs": [],
   "source": [
    "result = data['result']"
   ]
  },
  {
   "cell_type": "code",
   "execution_count": 9,
   "metadata": {
    "hidden": true
   },
   "outputs": [
    {
     "data": {
      "text/plain": [
       "array([1.49346405, 0.75164474])"
      ]
     },
     "execution_count": 9,
     "metadata": {},
     "output_type": "execute_result"
    }
   ],
   "source": [
    "train_target = np_utils.to_categorical(data[['result']], 2)\n",
    "y_ints = [y.argmax() for y in train_target]\n",
    "cw = class_weight.compute_class_weight('balanced', np.unique(y_ints), y_ints)\n",
    "cw"
   ]
  },
  {
   "cell_type": "code",
   "execution_count": 10,
   "metadata": {
    "hidden": true
   },
   "outputs": [
    {
     "data": {
      "text/plain": [
       "(7769, 2)"
      ]
     },
     "execution_count": 10,
     "metadata": {},
     "output_type": "execute_result"
    }
   ],
   "source": [
    "train_target.shape"
   ]
  },
  {
   "cell_type": "markdown",
   "metadata": {
    "heading_collapsed": true,
    "hidden": true
   },
   "source": [
    "## node"
   ]
  },
  {
   "cell_type": "code",
   "execution_count": 398,
   "metadata": {
    "hidden": true
   },
   "outputs": [],
   "source": [
    "node_file = \"/home/hxjiang/Pythonworkspace/patent/sample3_G-06-F-17/ActiveHNE/data/0-3.xlsx\"\n",
    "node = pd.read_excel(node_file, encoding='utf-8', header=None)"
   ]
  },
  {
   "cell_type": "code",
   "execution_count": 399,
   "metadata": {
    "hidden": true
   },
   "outputs": [
    {
     "data": {
      "text/plain": [
       "(7769, 72)"
      ]
     },
     "execution_count": 399,
     "metadata": {},
     "output_type": "execute_result"
    }
   ],
   "source": [
    "node.shape"
   ]
  },
  {
   "cell_type": "code",
   "execution_count": 400,
   "metadata": {
    "hidden": true
   },
   "outputs": [
    {
     "data": {
      "text/plain": [
       "363.7637858159597"
      ]
     },
     "execution_count": 400,
     "metadata": {},
     "output_type": "execute_result"
    }
   ],
   "source": [
    "# 条件数在1附近是理想的，有文献表明超过15就说明存在共线性\n",
    "c = np.linalg.cond(node, p=None)\n",
    "c"
   ]
  },
  {
   "cell_type": "code",
   "execution_count": 401,
   "metadata": {
    "hidden": true
   },
   "outputs": [],
   "source": [
    "node = node/100"
   ]
  },
  {
   "cell_type": "markdown",
   "metadata": {
    "heading_collapsed": true,
    "hidden": true
   },
   "source": [
    "## node_text"
   ]
  },
  {
   "cell_type": "code",
   "execution_count": 402,
   "metadata": {
    "hidden": true
   },
   "outputs": [
    {
     "data": {
      "text/plain": [
       "(7769, 144)"
      ]
     },
     "execution_count": 402,
     "metadata": {},
     "output_type": "execute_result"
    }
   ],
   "source": [
    "node_text = pd.concat([sum_feature, node],  axis=1, ignore_index=True)\n",
    "node_text.shape"
   ]
  },
  {
   "cell_type": "code",
   "execution_count": 403,
   "metadata": {
    "hidden": true
   },
   "outputs": [
    {
     "name": "stdout",
     "output_type": "stream",
     "text": [
      "node_text= inf\n"
     ]
    },
    {
     "name": "stderr",
     "output_type": "stream",
     "text": [
      "/home/hxjiang/.local/lib/python3.6/site-packages/numpy/linalg/linalg.py:1543: RuntimeWarning: divide by zero encountered in true_divide\n",
      "  return s[..., 0]/s[..., -1]\n"
     ]
    }
   ],
   "source": [
    "node_text_c = np.linalg.cond(node_text, p=None)\n",
    "print(\"node_text= {:.4f}\".format(node_text_c))"
   ]
  },
  {
   "cell_type": "markdown",
   "metadata": {
    "heading_collapsed": true,
    "hidden": true
   },
   "source": [
    "## 归一化or标准化处理"
   ]
  },
  {
   "cell_type": "code",
   "execution_count": 23,
   "metadata": {
    "hidden": true
   },
   "outputs": [],
   "source": [
    "x_abs = preprocessing.scale(x_abs)\n",
    "# node_text = preprocessing.minmax_scale(node_text)"
   ]
  },
  {
   "cell_type": "code",
   "execution_count": 24,
   "metadata": {
    "hidden": true
   },
   "outputs": [],
   "source": [
    "x_claims = preprocessing.scale(x_claims)\n",
    "# node_text = preprocessing.minmax_scale(node_text)"
   ]
  },
  {
   "cell_type": "code",
   "execution_count": 248,
   "metadata": {
    "hidden": true
   },
   "outputs": [],
   "source": [
    "x_text = preprocessing.scale(x_text)\n",
    "# node_text = preprocessing.minmax_scale(node_text)"
   ]
  },
  {
   "cell_type": "code",
   "execution_count": 349,
   "metadata": {
    "hidden": true
   },
   "outputs": [],
   "source": [
    "node = preprocessing.scale(node)\n",
    "# node_text = preprocessing.minmax_scale(node_text)"
   ]
  },
  {
   "cell_type": "code",
   "execution_count": 293,
   "metadata": {
    "hidden": true
   },
   "outputs": [],
   "source": [
    "node_text = preprocessing.scale(node_text)\n",
    "# node_text = preprocessing.minmax_scale(node_text)"
   ]
  },
  {
   "cell_type": "markdown",
   "metadata": {
    "heading_collapsed": true
   },
   "source": [
    "# 划分训练集"
   ]
  },
  {
   "cell_type": "code",
   "execution_count": 11,
   "metadata": {
    "hidden": true
   },
   "outputs": [],
   "source": [
    "x_abs_train = x_abs[:6215]\n",
    "x_abs_valid = x_abs[6215:6992]\n",
    "x_abs_test = x_abs[6992:]"
   ]
  },
  {
   "cell_type": "code",
   "execution_count": 33,
   "metadata": {
    "hidden": true
   },
   "outputs": [],
   "source": [
    "x_claims_train = x_claims[:6215]\n",
    "x_claims_valid = x_claims[6215:6992]\n",
    "x_claims_test = x_claims[6992:]"
   ]
  },
  {
   "cell_type": "code",
   "execution_count": 34,
   "metadata": {
    "hidden": true
   },
   "outputs": [],
   "source": [
    "x_text_train = x_text[:6215]\n",
    "x_text_valid = x_text[6215:6992]\n",
    "x_text_test = x_text[6992:]"
   ]
  },
  {
   "cell_type": "code",
   "execution_count": 404,
   "metadata": {
    "hidden": true
   },
   "outputs": [],
   "source": [
    "x_node_train = node[:6215]\n",
    "x_node_valid = node[6215:6992]\n",
    "x_node_test = node[6992:]"
   ]
  },
  {
   "cell_type": "code",
   "execution_count": 405,
   "metadata": {
    "hidden": true
   },
   "outputs": [],
   "source": [
    "node_text_train = node_text[:6215]\n",
    "node_text_valid = node_text[6215:6992]\n",
    "node_text_test = node_text[6992:]"
   ]
  },
  {
   "cell_type": "code",
   "execution_count": 12,
   "metadata": {
    "hidden": true
   },
   "outputs": [],
   "source": [
    "y_binary_train = result[:6215]\n",
    "y_binary_valid = result[6215:6992]\n",
    "y_binary_test = result[6992:]\n",
    "\n",
    "y_category_train = train_target[:6215]\n",
    "y_category_valid = train_target[6215:6992]\n",
    "y_category_test = train_target[6992:]"
   ]
  },
  {
   "cell_type": "code",
   "execution_count": 13,
   "metadata": {
    "hidden": true
   },
   "outputs": [
    {
     "data": {
      "text/plain": [
       "1.9765325670498084"
      ]
     },
     "execution_count": 13,
     "metadata": {},
     "output_type": "execute_result"
    }
   ],
   "source": [
    "sum(y_category_train[:,1])/sum(y_category_train[:,0])"
   ]
  },
  {
   "cell_type": "markdown",
   "metadata": {},
   "source": [
    "# 机器学习分类"
   ]
  },
  {
   "cell_type": "code",
   "execution_count": 35,
   "metadata": {
    "code_folding": [
     0
    ]
   },
   "outputs": [],
   "source": [
    "def train_model(classifier, x_train, y_train, x_test, y_test):\n",
    "    classifier.fit(x_train, y_train)\n",
    "    \n",
    "    y_predict = classifier.predict(x_test)# 每一个x的预测值\n",
    "    y_predict_proba = classifier.predict_proba(x_test) # 预测分类的概率\n",
    "    \n",
    "    precision = metrics.precision_score(y_test, y_predict) # 精确率\n",
    "    recall = metrics.recall_score(y_test, y_predict) # 召回率\n",
    "    f1 = metrics.f1_score(y_test, y_predict) # f1\n",
    "    accuracy = metrics.accuracy_score(y_test, y_predict, normalize = True) # 准确率\n",
    "    \n",
    "    # print(\"accuracy: {:.4f} precision: {:.4f} recall: {:.4f} f1: {:.4f}\".format(accuracy,precision,recall,f1))\n",
    "    \n",
    "    return y_predict,y_predict_proba"
   ]
  },
  {
   "cell_type": "markdown",
   "metadata": {
    "heading_collapsed": true
   },
   "source": [
    "## abstract"
   ]
  },
  {
   "cell_type": "code",
   "execution_count": 573,
   "metadata": {
    "code_folding": [
     7
    ],
    "hidden": true
   },
   "outputs": [],
   "source": [
    "def marchine_learn(x_train, y_train, x_test, y_test):\n",
    "    classifier_list = [linear_model.LogisticRegression(random_state=0, penalty='l2', class_weight=\"balanced\", C=0.005, fit_intercept=True),\n",
    "                       ensemble.RandomForestClassifier(random_state=0, class_weight=\"balanced\", n_estimators=10), \n",
    "                       xgboost.XGBClassifier(random_state=0, scale_pos_weight=0.75/1.49, learning_rate=0.15, n_estimators=400)]\n",
    "\n",
    "    y_predict_proba_dic = {}\n",
    "    y_predict_list = []\n",
    "    for i, classifier in enumerate(tqdm(classifier_list, ncols=50)):\n",
    "        y_predict, y_predict_proba = train_model(\n",
    "            classifier, x_train, y_train, x_test, y_test)\n",
    "        # print(\"predictions:\", y_predict)\n",
    "        y_predict_proba_dic[i] = y_predict_proba\n",
    "        y_predict_list.append(y_predict)\n",
    "\n",
    "    return y_predict_list, y_predict_proba_dic"
   ]
  },
  {
   "cell_type": "code",
   "execution_count": 574,
   "metadata": {
    "code_folding": [
     1
    ],
    "hidden": true,
    "scrolled": false
   },
   "outputs": [
    {
     "name": "stderr",
     "output_type": "stream",
     "text": [
      "100%|███████████████| 3/3 [00:07<00:00,  2.36s/it]\n"
     ]
    }
   ],
   "source": [
    "iter_dic = {}\n",
    "for i in range(1):\n",
    "    y_predict_list, y_predict_proba_dic = marchine_learn(x_abs_train, y_binary_train, x_abs_test, y_binary_test)\n",
    "    iter_dic[i] = y_predict_list"
   ]
  },
  {
   "cell_type": "code",
   "execution_count": 575,
   "metadata": {
    "code_folding": [
     5
    ],
    "hidden": true
   },
   "outputs": [],
   "source": [
    "LR_metrics_list = []\n",
    "RF_metrics_list = []\n",
    "XGB_metrics_list = []\n",
    "\n",
    "for key, value in iter_dic.items():\n",
    "    for i in range(3):\n",
    "        report = classification_report(y_binary_test, iter_dic[key][i], digits=4)\n",
    "        p = re.compile('  |\\n', re.S)\n",
    "        report = p.sub(' ', report)\n",
    "        metrics_content = re.findall(\"([\\d]{1}\\.[\\d]{4})    777\", report)\n",
    "        if i == 0:\n",
    "            LR_metrics_list.append(metrics_content)\n",
    "        if i == 1:\n",
    "            RF_metrics_list.append(metrics_content)\n",
    "        if i == 2:\n",
    "            XGB_metrics_list.append(metrics_content)"
   ]
  },
  {
   "cell_type": "code",
   "execution_count": 576,
   "metadata": {
    "cell_style": "split",
    "code_folding": [
     0
    ],
    "hidden": true,
    "scrolled": true
   },
   "outputs": [
    {
     "name": "stdout",
     "output_type": "stream",
     "text": [
      "LR acc:  0.5972\n",
      "LR macro:  0.5840\n",
      "LR weighted:  0.6077\n",
      "[0.5972]\n",
      "[0.584]\n",
      "[0.6077]\n"
     ]
    }
   ],
   "source": [
    "# LR\n",
    "LR_metrics_arrat = np.array(LR_metrics_list, dtype=float)\n",
    "acc = np.mean(LR_metrics_arrat[:, 0])\n",
    "print(\"LR acc:  {:.4f}\".format(acc))\n",
    "f1 = np.mean(LR_metrics_arrat[:, 1])\n",
    "print(\"LR macro:  {:.4f}\".format(f1))\n",
    "weighted = np.mean(LR_metrics_arrat[:, 2])\n",
    "print(\"LR weighted:  {:.4f}\".format(weighted))\n",
    "\n",
    "print(LR_metrics_arrat[:, 0].tolist())\n",
    "print(LR_metrics_arrat[:, 1].tolist())\n",
    "print(LR_metrics_arrat[:, 2].tolist())"
   ]
  },
  {
   "cell_type": "code",
   "execution_count": 577,
   "metadata": {
    "cell_style": "split",
    "hidden": true
   },
   "outputs": [
    {
     "name": "stdout",
     "output_type": "stream",
     "text": [
      "              precision    recall  f1-score   support\n",
      "\n",
      "           0     0.4347    0.6174    0.5102       264\n",
      "           1     0.7488    0.5867    0.6579       513\n",
      "\n",
      "    accuracy                         0.5972       777\n",
      "   macro avg     0.5917    0.6021    0.5840       777\n",
      "weighted avg     0.6420    0.5972    0.6077       777\n",
      "\n"
     ]
    }
   ],
   "source": [
    "print(classification_report(y_binary_test, iter_dic[0][0], digits=4))"
   ]
  },
  {
   "cell_type": "code",
   "execution_count": 578,
   "metadata": {
    "cell_style": "split",
    "code_folding": [
     0
    ],
    "hidden": true,
    "scrolled": true
   },
   "outputs": [
    {
     "name": "stdout",
     "output_type": "stream",
     "text": [
      "RF acc:  0.6422\n",
      "RF macro:  0.5760\n",
      "RF weighted:  0.6297\n",
      "[0.6422]\n",
      "[0.576]\n",
      "[0.6297]\n"
     ]
    }
   ],
   "source": [
    "# RF\n",
    "RF_metrics_arrat = np.array(RF_metrics_list,dtype=float)\n",
    "acc = np.mean(RF_metrics_arrat[:,0])\n",
    "print(\"RF acc:  {:.4f}\".format(acc))\n",
    "f1 = np.mean(RF_metrics_arrat[:,1])\n",
    "print(\"RF macro:  {:.4f}\".format(f1))\n",
    "weighted = np.mean(RF_metrics_arrat[:,2])\n",
    "print(\"RF weighted:  {:.4f}\".format(weighted))\n",
    "\n",
    "print(RF_metrics_arrat[:,0].tolist())\n",
    "print(RF_metrics_arrat[:,1].tolist())\n",
    "print(RF_metrics_arrat[:,2].tolist())"
   ]
  },
  {
   "cell_type": "code",
   "execution_count": 579,
   "metadata": {
    "cell_style": "split",
    "hidden": true
   },
   "outputs": [
    {
     "name": "stdout",
     "output_type": "stream",
     "text": [
      "              precision    recall  f1-score   support\n",
      "\n",
      "           0     0.4660    0.3636    0.4085       264\n",
      "           1     0.7058    0.7856    0.7435       513\n",
      "\n",
      "    accuracy                         0.6422       777\n",
      "   macro avg     0.5859    0.5746    0.5760       777\n",
      "weighted avg     0.6243    0.6422    0.6297       777\n",
      "\n"
     ]
    }
   ],
   "source": [
    "print(classification_report(y_binary_test, iter_dic[0][1], digits=4))"
   ]
  },
  {
   "cell_type": "code",
   "execution_count": 580,
   "metadata": {
    "cell_style": "split",
    "code_folding": [
     0
    ],
    "hidden": true,
    "scrolled": true
   },
   "outputs": [
    {
     "name": "stdout",
     "output_type": "stream",
     "text": [
      "XGB acc:  0.6152\n",
      "XGB macro:  0.5614\n",
      "XGB weighted:  0.6106\n",
      "[0.6422]\n",
      "[0.576]\n",
      "[0.6297]\n"
     ]
    }
   ],
   "source": [
    "# XGB\n",
    "XGB_metrics_arrat = np.array(XGB_metrics_list,dtype=float)\n",
    "acc = np.mean(XGB_metrics_arrat[:,0])\n",
    "print(\"XGB acc:  {:.4f}\".format(acc))\n",
    "f1 = np.mean(XGB_metrics_arrat[:,1])\n",
    "print(\"XGB macro:  {:.4f}\".format(f1))\n",
    "weighted = np.mean(XGB_metrics_arrat[:,2])\n",
    "print(\"XGB weighted:  {:.4f}\".format(weighted))\n",
    "\n",
    "print(RF_metrics_arrat[:,0].tolist())\n",
    "print(RF_metrics_arrat[:,1].tolist())\n",
    "print(RF_metrics_arrat[:,2].tolist())"
   ]
  },
  {
   "cell_type": "code",
   "execution_count": 581,
   "metadata": {
    "cell_style": "split",
    "hidden": true
   },
   "outputs": [
    {
     "name": "stdout",
     "output_type": "stream",
     "text": [
      "              precision    recall  f1-score   support\n",
      "\n",
      "           0     0.4274    0.3902    0.4079       264\n",
      "           1     0.6996    0.7310    0.7150       513\n",
      "\n",
      "    accuracy                         0.6152       777\n",
      "   macro avg     0.5635    0.5606    0.5614       777\n",
      "weighted avg     0.6071    0.6152    0.6106       777\n",
      "\n"
     ]
    }
   ],
   "source": [
    "print(classification_report(y_binary_test, iter_dic[0][2], digits=4))"
   ]
  },
  {
   "cell_type": "markdown",
   "metadata": {
    "heading_collapsed": true
   },
   "source": [
    "## claims"
   ]
  },
  {
   "cell_type": "code",
   "execution_count": 758,
   "metadata": {
    "code_folding": [
     7
    ],
    "hidden": true
   },
   "outputs": [],
   "source": [
    "def marchine_learn(x_train, y_train, x_test, y_test):\n",
    "    classifier_list = [linear_model.LogisticRegression(random_state=0, penalty='l2', class_weight=\"balanced\", C=0.005, fit_intercept=False),\n",
    "                       ensemble.RandomForestClassifier(random_state=0, class_weight=\"balanced\", n_estimators=10), \n",
    "                       xgboost.XGBClassifier(random_state=0, scale_pos_weight=0.75/1.49, learning_rate=0.15, n_estimators=300)]\n",
    "\n",
    "    y_predict_proba_dic = {}\n",
    "    y_predict_list = []\n",
    "    for i, classifier in enumerate(tqdm(classifier_list, ncols=50)):\n",
    "        y_predict, y_predict_proba = train_model(\n",
    "            classifier, x_train, y_train, x_test, y_test)\n",
    "        # print(\"predictions:\", y_predict)\n",
    "        y_predict_proba_dic[i] = y_predict_proba\n",
    "        y_predict_list.append(y_predict)\n",
    "\n",
    "    return y_predict_list, y_predict_proba_dic"
   ]
  },
  {
   "cell_type": "code",
   "execution_count": 759,
   "metadata": {
    "hidden": true
   },
   "outputs": [
    {
     "name": "stderr",
     "output_type": "stream",
     "text": [
      "100%|███████████████| 3/3 [00:12<00:00,  4.08s/it]\n"
     ]
    }
   ],
   "source": [
    "iter_dic = {}\n",
    "for i in range(1):\n",
    "    y_predict_list, y_predict_proba_dic = marchine_learn(x_claims_train, y_binary_train, x_claims_test, y_binary_test)\n",
    "    iter_dic[i] = y_predict_list"
   ]
  },
  {
   "cell_type": "code",
   "execution_count": 760,
   "metadata": {
    "code_folding": [
     4
    ],
    "hidden": true
   },
   "outputs": [],
   "source": [
    "LR_metrics_list = []\n",
    "RF_metrics_list = []\n",
    "XGB_metrics_list = []\n",
    "\n",
    "for key, value in iter_dic.items():\n",
    "    for i in range(3):\n",
    "        report = classification_report(y_binary_test, iter_dic[key][i], digits=4)\n",
    "        p = re.compile('  |\\n', re.S)\n",
    "        report = p.sub(' ', report)\n",
    "        metrics_content = re.findall(\"([\\d]{1}\\.[\\d]{4})    777\", report)\n",
    "        if i == 0:\n",
    "            LR_metrics_list.append(metrics_content)\n",
    "        if i == 1:\n",
    "            RF_metrics_list.append(metrics_content)\n",
    "        if i == 2:\n",
    "            XGB_metrics_list.append(metrics_content)"
   ]
  },
  {
   "cell_type": "code",
   "execution_count": 586,
   "metadata": {
    "cell_style": "split",
    "code_folding": [
     0
    ],
    "hidden": true,
    "scrolled": true
   },
   "outputs": [
    {
     "name": "stdout",
     "output_type": "stream",
     "text": [
      "LR acc:  0.6306\n",
      "LR macro:  0.5917\n",
      "LR weighted:  0.6321\n",
      "[0.6306]\n",
      "[0.5917]\n",
      "[0.6321]\n"
     ]
    }
   ],
   "source": [
    "# LR\n",
    "LR_metrics_arrat = np.array(LR_metrics_list,dtype=float)\n",
    "acc = np.mean(LR_metrics_arrat[:,0])\n",
    "print(\"LR acc:  {:.4f}\".format(acc))\n",
    "f1 = np.mean(LR_metrics_arrat[:,1])\n",
    "print(\"LR macro:  {:.4f}\".format(f1))\n",
    "weighted = np.mean(LR_metrics_arrat[:,2])\n",
    "print(\"LR weighted:  {:.4f}\".format(weighted))\n",
    "\n",
    "print(LR_metrics_arrat[:,0].tolist())\n",
    "print(LR_metrics_arrat[:,1].tolist())\n",
    "print(LR_metrics_arrat[:,2].tolist())"
   ]
  },
  {
   "cell_type": "code",
   "execution_count": 587,
   "metadata": {
    "cell_style": "split",
    "hidden": true
   },
   "outputs": [
    {
     "name": "stdout",
     "output_type": "stream",
     "text": [
      "              precision    recall  f1-score   support\n",
      "\n",
      "           0     0.4579    0.4735    0.4655       264\n",
      "           1     0.7242    0.7115    0.7178       513\n",
      "\n",
      "    accuracy                         0.6306       777\n",
      "   macro avg     0.5910    0.5925    0.5917       777\n",
      "weighted avg     0.6337    0.6306    0.6321       777\n",
      "\n"
     ]
    }
   ],
   "source": [
    "print(classification_report(y_binary_test, iter_dic[0][0], digits=4))"
   ]
  },
  {
   "cell_type": "code",
   "execution_count": 588,
   "metadata": {
    "cell_style": "split",
    "code_folding": [
     0
    ],
    "hidden": true
   },
   "outputs": [
    {
     "name": "stdout",
     "output_type": "stream",
     "text": [
      "RF acc:  0.6268\n",
      "RF macro:  0.5639\n",
      "RF weighted:  0.6170\n",
      "[0.6268]\n",
      "[0.5639]\n",
      "[0.617]\n"
     ]
    }
   ],
   "source": [
    "# RF\n",
    "RF_metrics_arrat = np.array(RF_metrics_list,dtype=float)\n",
    "acc = np.mean(RF_metrics_arrat[:,0])\n",
    "print(\"RF acc:  {:.4f}\".format(acc))\n",
    "f1 = np.mean(RF_metrics_arrat[:,1])\n",
    "print(\"RF macro:  {:.4f}\".format(f1))\n",
    "weighted = np.mean(RF_metrics_arrat[:,2])\n",
    "print(\"RF weighted:  {:.4f}\".format(weighted))\n",
    "\n",
    "print(RF_metrics_arrat[:,0].tolist())\n",
    "print(RF_metrics_arrat[:,1].tolist())\n",
    "print(RF_metrics_arrat[:,2].tolist())"
   ]
  },
  {
   "cell_type": "code",
   "execution_count": 589,
   "metadata": {
    "cell_style": "split",
    "hidden": true
   },
   "outputs": [
    {
     "name": "stdout",
     "output_type": "stream",
     "text": [
      "              precision    recall  f1-score   support\n",
      "\n",
      "           0     0.4404    0.3636    0.3983       264\n",
      "           1     0.6995    0.7622    0.7295       513\n",
      "\n",
      "    accuracy                         0.6268       777\n",
      "   macro avg     0.5699    0.5629    0.5639       777\n",
      "weighted avg     0.6114    0.6268    0.6170       777\n",
      "\n"
     ]
    }
   ],
   "source": [
    "print(classification_report(y_binary_test, iter_dic[0][1], digits=4))"
   ]
  },
  {
   "cell_type": "code",
   "execution_count": 761,
   "metadata": {
    "cell_style": "split",
    "code_folding": [
     0
    ],
    "hidden": true,
    "scrolled": true
   },
   "outputs": [
    {
     "name": "stdout",
     "output_type": "stream",
     "text": [
      "XGB acc:  0.6036\n",
      "XGB macro:  0.5701\n",
      "XGB weighted:  0.6085\n",
      "[0.6873]\n",
      "[0.593]\n",
      "[0.6557]\n"
     ]
    }
   ],
   "source": [
    "# XGB\n",
    "XGB_metrics_arrat = np.array(XGB_metrics_list,dtype=float)\n",
    "acc = np.mean(XGB_metrics_arrat[:,0])\n",
    "print(\"XGB acc:  {:.4f}\".format(acc))\n",
    "f1 = np.mean(XGB_metrics_arrat[:,1])\n",
    "print(\"XGB macro:  {:.4f}\".format(f1))\n",
    "weighted = np.mean(XGB_metrics_arrat[:,2])\n",
    "print(\"XGB weighted:  {:.4f}\".format(weighted))\n",
    "\n",
    "print(RF_metrics_arrat[:,0].tolist())\n",
    "print(RF_metrics_arrat[:,1].tolist())\n",
    "print(RF_metrics_arrat[:,2].tolist())"
   ]
  },
  {
   "cell_type": "code",
   "execution_count": 762,
   "metadata": {
    "cell_style": "split",
    "hidden": true
   },
   "outputs": [
    {
     "name": "stdout",
     "output_type": "stream",
     "text": [
      "              precision    recall  f1-score   support\n",
      "\n",
      "           0     0.4257    0.4773    0.4500       264\n",
      "           1     0.7131    0.6686    0.6901       513\n",
      "\n",
      "    accuracy                         0.6036       777\n",
      "   macro avg     0.5694    0.5729    0.5701       777\n",
      "weighted avg     0.6154    0.6036    0.6085       777\n",
      "\n"
     ]
    }
   ],
   "source": [
    "print(classification_report(y_binary_test, iter_dic[0][2], digits=4))"
   ]
  },
  {
   "cell_type": "markdown",
   "metadata": {
    "heading_collapsed": true
   },
   "source": [
    "## text_sum"
   ]
  },
  {
   "cell_type": "code",
   "execution_count": 747,
   "metadata": {
    "code_folding": [
     7
    ],
    "hidden": true
   },
   "outputs": [],
   "source": [
    "def marchine_learn(x_train, y_train, x_test, y_test):\n",
    "    classifier_list = [linear_model.LogisticRegression(random_state=0, penalty='l2', class_weight=\"balanced\", C=0.01, fit_intercept=False),\n",
    "                       ensemble.RandomForestClassifier(random_state=0, class_weight=\"balanced\", n_estimators=140), \n",
    "                       xgboost.XGBClassifier(random_state=0, scale_pos_weight=0.75/1.49, learning_rate=0.1, n_estimators=300)]\n",
    "\n",
    "    y_predict_proba_dic = {}\n",
    "    y_predict_list = []\n",
    "    for i, classifier in enumerate(tqdm(classifier_list, ncols=50)):\n",
    "        y_predict, y_predict_proba = train_model(\n",
    "            classifier, x_train, y_train, x_test, y_test)\n",
    "        # print(\"predictions:\", y_predict)\n",
    "        y_predict_proba_dic[i] = y_predict_proba\n",
    "        y_predict_list.append(y_predict)\n",
    "\n",
    "    return y_predict_list, y_predict_proba_dic"
   ]
  },
  {
   "cell_type": "code",
   "execution_count": 748,
   "metadata": {
    "hidden": true
   },
   "outputs": [
    {
     "name": "stderr",
     "output_type": "stream",
     "text": [
      "100%|███████████████| 3/3 [00:09<00:00,  3.27s/it]\n"
     ]
    }
   ],
   "source": [
    "iter_dic = {}\n",
    "for i in range(1):\n",
    "    y_predict_list, y_predict_proba_dic = marchine_learn(x_text_train, y_binary_train, x_text_test, y_binary_test)\n",
    "    iter_dic[i] = y_predict_list"
   ]
  },
  {
   "cell_type": "code",
   "execution_count": 749,
   "metadata": {
    "code_folding": [
     4
    ],
    "hidden": true
   },
   "outputs": [],
   "source": [
    "LR_metrics_list = []\n",
    "RF_metrics_list = []\n",
    "XGB_metrics_list = []\n",
    "\n",
    "for key, value in iter_dic.items():\n",
    "    for i in range(3):\n",
    "        report = classification_report(y_binary_test, iter_dic[key][i], digits=4)\n",
    "        p = re.compile('  |\\n', re.S)\n",
    "        report = p.sub(' ', report)\n",
    "        metrics_content = re.findall(\"([\\d]{1}\\.[\\d]{4})    777\", report)\n",
    "        if i == 0:\n",
    "            LR_metrics_list.append(metrics_content)\n",
    "        if i == 1:\n",
    "            RF_metrics_list.append(metrics_content)\n",
    "        if i == 2:\n",
    "            XGB_metrics_list.append(metrics_content)"
   ]
  },
  {
   "cell_type": "code",
   "execution_count": 595,
   "metadata": {
    "cell_style": "split",
    "code_folding": [
     0
    ],
    "hidden": true,
    "scrolled": false
   },
   "outputs": [
    {
     "name": "stdout",
     "output_type": "stream",
     "text": [
      "LR acc:  0.6332\n",
      "LR macro:  0.6019\n",
      "LR weighted:  0.6377\n",
      "[0.6332]\n",
      "[0.6019]\n",
      "[0.6377]\n"
     ]
    }
   ],
   "source": [
    "# LR\n",
    "LR_metrics_arrat = np.array(LR_metrics_list,dtype=float)\n",
    "acc = np.mean(LR_metrics_arrat[:,0])\n",
    "print(\"LR acc:  {:.4f}\".format(acc))\n",
    "f1 = np.mean(LR_metrics_arrat[:,1])\n",
    "print(\"LR macro:  {:.4f}\".format(f1))\n",
    "weighted = np.mean(LR_metrics_arrat[:,2])\n",
    "print(\"LR weighted:  {:.4f}\".format(weighted))\n",
    "\n",
    "print(LR_metrics_arrat[:,0].tolist())\n",
    "print(LR_metrics_arrat[:,1].tolist())\n",
    "print(LR_metrics_arrat[:,2].tolist())"
   ]
  },
  {
   "cell_type": "code",
   "execution_count": 596,
   "metadata": {
    "cell_style": "split",
    "hidden": true
   },
   "outputs": [
    {
     "name": "stdout",
     "output_type": "stream",
     "text": [
      "              precision    recall  f1-score   support\n",
      "\n",
      "           0     0.4644    0.5189    0.4902       264\n",
      "           1     0.7365    0.6920    0.7136       513\n",
      "\n",
      "    accuracy                         0.6332       777\n",
      "   macro avg     0.6005    0.6055    0.6019       777\n",
      "weighted avg     0.6441    0.6332    0.6377       777\n",
      "\n"
     ]
    }
   ],
   "source": [
    "print(classification_report(y_binary_test, iter_dic[0][0], digits=4))"
   ]
  },
  {
   "cell_type": "code",
   "execution_count": 736,
   "metadata": {
    "cell_style": "split",
    "code_folding": [
     0
    ],
    "hidden": true
   },
   "outputs": [
    {
     "name": "stdout",
     "output_type": "stream",
     "text": [
      "RF acc:  0.6873\n",
      "RF macro:  0.5930\n",
      "RF weighted:  0.6557\n",
      "[0.6873]\n",
      "[0.593]\n",
      "[0.6557]\n"
     ]
    }
   ],
   "source": [
    "# RF\n",
    "RF_metrics_arrat = np.array(RF_metrics_list,dtype=float)\n",
    "acc = np.mean(RF_metrics_arrat[:,0])\n",
    "print(\"RF acc:  {:.4f}\".format(acc))\n",
    "f1 = np.mean(RF_metrics_arrat[:,1])\n",
    "print(\"RF macro:  {:.4f}\".format(f1))\n",
    "weighted = np.mean(RF_metrics_arrat[:,2])\n",
    "print(\"RF weighted:  {:.4f}\".format(weighted))\n",
    "\n",
    "print(RF_metrics_arrat[:,0].tolist())\n",
    "print(RF_metrics_arrat[:,1].tolist())\n",
    "print(RF_metrics_arrat[:,2].tolist())"
   ]
  },
  {
   "cell_type": "code",
   "execution_count": 737,
   "metadata": {
    "cell_style": "split",
    "hidden": true
   },
   "outputs": [
    {
     "name": "stdout",
     "output_type": "stream",
     "text": [
      "              precision    recall  f1-score   support\n",
      "\n",
      "           0     0.5755    0.3030    0.3970       264\n",
      "           1     0.7116    0.8850    0.7889       513\n",
      "\n",
      "    accuracy                         0.6873       777\n",
      "   macro avg     0.6436    0.5940    0.5930       777\n",
      "weighted avg     0.6654    0.6873    0.6557       777\n",
      "\n"
     ]
    }
   ],
   "source": [
    "print(classification_report(y_binary_test, iter_dic[0][1], digits=4))"
   ]
  },
  {
   "cell_type": "code",
   "execution_count": 750,
   "metadata": {
    "cell_style": "split",
    "code_folding": [
     0
    ],
    "hidden": true,
    "scrolled": false
   },
   "outputs": [
    {
     "name": "stdout",
     "output_type": "stream",
     "text": [
      "XGB acc:  0.6461\n",
      "XGB macro:  0.5975\n",
      "XGB weighted:  0.6423\n",
      "[0.6461]\n",
      "[0.5975]\n",
      "[0.6423]\n"
     ]
    }
   ],
   "source": [
    "# XGB\n",
    "XGB_metrics_arrat = np.array(XGB_metrics_list,dtype=float)\n",
    "acc = np.mean(XGB_metrics_arrat[:,0])\n",
    "print(\"XGB acc:  {:.4f}\".format(acc))\n",
    "f1 = np.mean(XGB_metrics_arrat[:,1])\n",
    "print(\"XGB macro:  {:.4f}\".format(f1))\n",
    "weighted = np.mean(XGB_metrics_arrat[:,2])\n",
    "print(\"XGB weighted:  {:.4f}\".format(weighted))\n",
    "\n",
    "print(XGB_metrics_arrat[:,0].tolist())\n",
    "print(XGB_metrics_arrat[:,1].tolist())\n",
    "print(XGB_metrics_arrat[:,2].tolist())"
   ]
  },
  {
   "cell_type": "code",
   "execution_count": 751,
   "metadata": {
    "cell_style": "split",
    "hidden": true
   },
   "outputs": [
    {
     "name": "stdout",
     "output_type": "stream",
     "text": [
      "              precision    recall  f1-score   support\n",
      "\n",
      "           0     0.4644    0.5189    0.4902       264\n",
      "           1     0.7365    0.6920    0.7136       513\n",
      "\n",
      "    accuracy                         0.6332       777\n",
      "   macro avg     0.6005    0.6055    0.6019       777\n",
      "weighted avg     0.6441    0.6332    0.6377       777\n",
      "\n"
     ]
    }
   ],
   "source": [
    "print(classification_report(y_binary_test, iter_dic[0][0], digits=4))"
   ]
  },
  {
   "cell_type": "markdown",
   "metadata": {
    "heading_collapsed": true
   },
   "source": [
    "## node"
   ]
  },
  {
   "cell_type": "code",
   "execution_count": 780,
   "metadata": {
    "code_folding": [
     7
    ],
    "hidden": true
   },
   "outputs": [],
   "source": [
    "def marchine_learn(x_train, y_train, x_test, y_test):\n",
    "    classifier_list = [linear_model.LogisticRegression(random_state=0, penalty='l2', max_iter=1300, class_weight=\"balanced\", C=0.5, fit_intercept=True),\n",
    "                       ensemble.RandomForestClassifier(random_state=0, class_weight=\"balanced\", n_estimators=10), \n",
    "                       xgboost.XGBClassifier(random_state=0, scale_pos_weight=0.75/1.49, learning_rate=0.15, n_estimators=400)]\n",
    "\n",
    "    y_predict_proba_dic = {}\n",
    "    y_predict_list = []\n",
    "    for i, classifier in enumerate(tqdm(classifier_list, ncols=50)):\n",
    "        y_predict, y_predict_proba = train_model(\n",
    "            classifier, x_train, y_train, x_test, y_test)\n",
    "        # print(\"predictions:\", y_predict)\n",
    "        y_predict_proba_dic[i] = y_predict_proba\n",
    "        y_predict_list.append(y_predict)\n",
    "\n",
    "    return y_predict_list, y_predict_proba_dic"
   ]
  },
  {
   "cell_type": "code",
   "execution_count": 781,
   "metadata": {
    "hidden": true,
    "scrolled": true
   },
   "outputs": [
    {
     "name": "stderr",
     "output_type": "stream",
     "text": [
      "100%|███████████████| 3/3 [00:28<00:00,  9.46s/it]\n"
     ]
    }
   ],
   "source": [
    "iter_dic = {}\n",
    "for i in range(1):\n",
    "    y_predict_list, y_predict_proba_dic = marchine_learn(x_node_train, y_binary_train, x_node_test, y_binary_test)\n",
    "    iter_dic[i] = y_predict_list"
   ]
  },
  {
   "cell_type": "code",
   "execution_count": 782,
   "metadata": {
    "code_folding": [
     4
    ],
    "hidden": true
   },
   "outputs": [],
   "source": [
    "LR_metrics_list = []\n",
    "RF_metrics_list = []\n",
    "XGB_metrics_list = []\n",
    "\n",
    "for key, value in iter_dic.items():\n",
    "    for i in range(3):\n",
    "        report = classification_report(y_binary_test, iter_dic[key][i], digits=4)\n",
    "        p = re.compile('  |\\n', re.S)\n",
    "        report = p.sub(' ', report)\n",
    "        metrics_content = re.findall(\"([\\d]{1}\\.[\\d]{4})    777\", report)\n",
    "        if i == 0:\n",
    "            LR_metrics_list.append(metrics_content)\n",
    "        if i == 1:\n",
    "            RF_metrics_list.append(metrics_content)\n",
    "        if i == 2:\n",
    "            XGB_metrics_list.append(metrics_content)"
   ]
  },
  {
   "cell_type": "code",
   "execution_count": 722,
   "metadata": {
    "cell_style": "split",
    "code_folding": [
     0
    ],
    "hidden": true,
    "scrolled": true
   },
   "outputs": [
    {
     "name": "stdout",
     "output_type": "stream",
     "text": [
      "LR acc:  0.7066\n",
      "LR macro:  0.7025\n",
      "LR weighted:  0.7136\n",
      "[0.7066]\n",
      "[0.7025]\n",
      "[0.7136]\n"
     ]
    }
   ],
   "source": [
    "# LR\n",
    "LR_metrics_arrat = np.array(LR_metrics_list,dtype=float)\n",
    "acc = np.mean(LR_metrics_arrat[:,0])\n",
    "print(\"LR acc:  {:.4f}\".format(acc))\n",
    "f1 = np.mean(LR_metrics_arrat[:,1])\n",
    "print(\"LR macro:  {:.4f}\".format(f1))\n",
    "weighted = np.mean(LR_metrics_arrat[:,2])\n",
    "print(\"LR weighted:  {:.4f}\".format(weighted))\n",
    "\n",
    "print(LR_metrics_arrat[:,0].tolist())\n",
    "print(LR_metrics_arrat[:,1].tolist())\n",
    "print(LR_metrics_arrat[:,2].tolist())"
   ]
  },
  {
   "cell_type": "code",
   "execution_count": 723,
   "metadata": {
    "cell_style": "split",
    "hidden": true
   },
   "outputs": [
    {
     "name": "stdout",
     "output_type": "stream",
     "text": [
      "              precision    recall  f1-score   support\n",
      "\n",
      "           0     0.5427    0.8674    0.6676       264\n",
      "           1     0.9014    0.6238    0.7373       513\n",
      "\n",
      "    accuracy                         0.7066       777\n",
      "   macro avg     0.7220    0.7456    0.7025       777\n",
      "weighted avg     0.7795    0.7066    0.7136       777\n",
      "\n"
     ]
    }
   ],
   "source": [
    "print(classification_report(y_binary_test, iter_dic[0][0], digits=4))"
   ]
  },
  {
   "cell_type": "code",
   "execution_count": 724,
   "metadata": {
    "cell_style": "split",
    "code_folding": [
     0
    ],
    "hidden": true
   },
   "outputs": [
    {
     "name": "stdout",
     "output_type": "stream",
     "text": [
      "RF acc:  0.7516\n",
      "RF macro:  0.7197\n",
      "RF weighted:  0.7500\n",
      "[0.7516]\n",
      "[0.7197]\n",
      "[0.75]\n"
     ]
    }
   ],
   "source": [
    "# RF\n",
    "RF_metrics_arrat = np.array(RF_metrics_list,dtype=float)\n",
    "acc = np.mean(RF_metrics_arrat[:,0])\n",
    "print(\"RF acc:  {:.4f}\".format(acc))\n",
    "f1 = np.mean(RF_metrics_arrat[:,1])\n",
    "print(\"RF macro:  {:.4f}\".format(f1))\n",
    "weighted = np.mean(RF_metrics_arrat[:,2])\n",
    "print(\"RF weighted:  {:.4f}\".format(weighted))\n",
    "\n",
    "print(RF_metrics_arrat[:,0].tolist())\n",
    "print(RF_metrics_arrat[:,1].tolist())\n",
    "print(RF_metrics_arrat[:,2].tolist())"
   ]
  },
  {
   "cell_type": "code",
   "execution_count": 725,
   "metadata": {
    "cell_style": "split",
    "hidden": true
   },
   "outputs": [
    {
     "name": "stdout",
     "output_type": "stream",
     "text": [
      "              precision    recall  f1-score   support\n",
      "\n",
      "           0     0.6414    0.6098    0.6252       264\n",
      "           1     0.8042    0.8246    0.8142       513\n",
      "\n",
      "    accuracy                         0.7516       777\n",
      "   macro avg     0.7228    0.7172    0.7197       777\n",
      "weighted avg     0.7489    0.7516    0.7500       777\n",
      "\n"
     ]
    }
   ],
   "source": [
    "print(classification_report(y_binary_test, iter_dic[0][1], digits=4))"
   ]
  },
  {
   "cell_type": "code",
   "execution_count": 783,
   "metadata": {
    "cell_style": "split",
    "code_folding": [
     0
    ],
    "hidden": true
   },
   "outputs": [
    {
     "name": "stdout",
     "output_type": "stream",
     "text": [
      "XGB acc:  0.7375\n",
      "XGB macro:  0.7110\n",
      "XGB weighted:  0.7390\n",
      "[0.6873]\n",
      "[0.593]\n",
      "[0.6557]\n"
     ]
    }
   ],
   "source": [
    "# XGB\n",
    "XGB_metrics_arrat = np.array(XGB_metrics_list,dtype=float)\n",
    "acc = np.mean(XGB_metrics_arrat[:,0])\n",
    "print(\"XGB acc:  {:.4f}\".format(acc))\n",
    "f1 = np.mean(XGB_metrics_arrat[:,1])\n",
    "print(\"XGB macro:  {:.4f}\".format(f1))\n",
    "weighted = np.mean(XGB_metrics_arrat[:,2])\n",
    "print(\"XGB weighted:  {:.4f}\".format(weighted))\n",
    "\n",
    "print(RF_metrics_arrat[:,0].tolist())\n",
    "print(RF_metrics_arrat[:,1].tolist())\n",
    "print(RF_metrics_arrat[:,2].tolist())"
   ]
  },
  {
   "cell_type": "code",
   "execution_count": 784,
   "metadata": {
    "cell_style": "split",
    "hidden": true
   },
   "outputs": [
    {
     "name": "stdout",
     "output_type": "stream",
     "text": [
      "              precision    recall  f1-score   support\n",
      "\n",
      "           0     0.6079    0.6402    0.6236       264\n",
      "           1     0.8096    0.7875    0.7984       513\n",
      "\n",
      "    accuracy                         0.7375       777\n",
      "   macro avg     0.7088    0.7138    0.7110       777\n",
      "weighted avg     0.7411    0.7375    0.7390       777\n",
      "\n"
     ]
    }
   ],
   "source": [
    "print(classification_report(y_binary_test, iter_dic[0][2], digits=4))"
   ]
  },
  {
   "cell_type": "markdown",
   "metadata": {
    "heading_collapsed": true
   },
   "source": [
    "## node_text"
   ]
  },
  {
   "cell_type": "code",
   "execution_count": 769,
   "metadata": {
    "code_folding": [],
    "hidden": true
   },
   "outputs": [],
   "source": [
    "def marchine_learn(x_train, y_train, x_test, y_test):\n",
    "    classifier_list = [linear_model.LogisticRegression(random_state=0, max_iter=1500, penalty='l2', class_weight=\"balanced\", C=1, fit_intercept=True),\n",
    "                       ensemble.RandomForestClassifier(random_state=0, class_weight=\"balanced\", n_estimators=200), \n",
    "                       xgboost.XGBClassifier(random_state=0, scale_pos_weight=0.75/1.49, learning_rate=0.1, n_estimators=300)]\n",
    "\n",
    "    y_predict_proba_dic = {}\n",
    "    y_predict_list = []\n",
    "    for i, classifier in enumerate(tqdm(classifier_list, ncols=50)):\n",
    "        y_predict, y_predict_proba = train_model(\n",
    "            classifier, x_train, y_train, x_test, y_test)\n",
    "        # print(\"predictions:\", y_predict)\n",
    "        y_predict_proba_dic[i] = y_predict_proba\n",
    "        y_predict_list.append(y_predict)\n",
    "\n",
    "    return y_predict_list, y_predict_proba_dic"
   ]
  },
  {
   "cell_type": "code",
   "execution_count": 770,
   "metadata": {
    "hidden": true
   },
   "outputs": [
    {
     "name": "stderr",
     "output_type": "stream",
     "text": [
      "100%|███████████████| 3/3 [00:16<00:00,  5.40s/it]\n"
     ]
    }
   ],
   "source": [
    "iter_dic = {}\n",
    "for i in range(1):\n",
    "    y_predict_list, y_predict_proba_dic = marchine_learn(node_text_train, y_binary_train, node_text_test, y_binary_test)\n",
    "    iter_dic[i] = y_predict_list"
   ]
  },
  {
   "cell_type": "code",
   "execution_count": 771,
   "metadata": {
    "code_folding": [
     4
    ],
    "hidden": true
   },
   "outputs": [],
   "source": [
    "LR_metrics_list = []\n",
    "RF_metrics_list = []\n",
    "XGB_metrics_list = []\n",
    "\n",
    "for key, value in iter_dic.items():\n",
    "    for i in range(3):\n",
    "        report = classification_report(y_binary_test, iter_dic[key][i], digits=4)\n",
    "        p = re.compile('  |\\n', re.S)\n",
    "        report = p.sub(' ', report)\n",
    "        metrics_content = re.findall(\"([\\d]{1}\\.[\\d]{4})    777\", report)\n",
    "        if i == 0:\n",
    "            LR_metrics_list.append(metrics_content)\n",
    "        if i == 1:\n",
    "            RF_metrics_list.append(metrics_content)\n",
    "        if i == 2:\n",
    "            XGB_metrics_list.append(metrics_content)"
   ]
  },
  {
   "cell_type": "code",
   "execution_count": 683,
   "metadata": {
    "cell_style": "split",
    "code_folding": [
     0
    ],
    "hidden": true
   },
   "outputs": [
    {
     "name": "stdout",
     "output_type": "stream",
     "text": [
      "LR acc:  0.7439\n",
      "LR macro:  0.7325\n",
      "LR weighted:  0.7502\n",
      "[0.7439]\n",
      "[0.7325]\n",
      "[0.7502]\n"
     ]
    }
   ],
   "source": [
    "# LR\n",
    "LR_metrics_arrat = np.array(LR_metrics_list,dtype=float)\n",
    "acc = np.mean(LR_metrics_arrat[:,0])\n",
    "print(\"LR acc:  {:.4f}\".format(acc))\n",
    "f1 = np.mean(LR_metrics_arrat[:,1])\n",
    "print(\"LR macro:  {:.4f}\".format(f1))\n",
    "weighted = np.mean(LR_metrics_arrat[:,2])\n",
    "print(\"LR weighted:  {:.4f}\".format(weighted))\n",
    "\n",
    "print(LR_metrics_arrat[:,0].tolist())\n",
    "print(LR_metrics_arrat[:,1].tolist())\n",
    "print(LR_metrics_arrat[:,2].tolist())"
   ]
  },
  {
   "cell_type": "code",
   "execution_count": 684,
   "metadata": {
    "cell_style": "split",
    "hidden": true
   },
   "outputs": [
    {
     "name": "stdout",
     "output_type": "stream",
     "text": [
      "              precision    recall  f1-score   support\n",
      "\n",
      "           0     0.5921    0.7917    0.6775       264\n",
      "           1     0.8703    0.7193    0.7876       513\n",
      "\n",
      "    accuracy                         0.7439       777\n",
      "   macro avg     0.7312    0.7555    0.7325       777\n",
      "weighted avg     0.7758    0.7439    0.7502       777\n",
      "\n"
     ]
    }
   ],
   "source": [
    "print(classification_report(y_binary_test, iter_dic[0][0], digits=4))"
   ]
  },
  {
   "cell_type": "code",
   "execution_count": 695,
   "metadata": {
    "cell_style": "split",
    "code_folding": [
     0
    ],
    "hidden": true
   },
   "outputs": [
    {
     "name": "stdout",
     "output_type": "stream",
     "text": [
      "RF acc:  0.7761\n",
      "RF macro:  0.7359\n",
      "RF weighted:  0.7689\n",
      "[0.7761]\n",
      "[0.7359]\n",
      "[0.7689]\n"
     ]
    }
   ],
   "source": [
    "# RF\n",
    "RF_metrics_arrat = np.array(RF_metrics_list,dtype=float)\n",
    "acc = np.mean(RF_metrics_arrat[:,0])\n",
    "print(\"RF acc:  {:.4f}\".format(acc))\n",
    "f1 = np.mean(RF_metrics_arrat[:,1])\n",
    "print(\"RF macro:  {:.4f}\".format(f1))\n",
    "weighted = np.mean(RF_metrics_arrat[:,2])\n",
    "print(\"RF weighted:  {:.4f}\".format(weighted))\n",
    "\n",
    "print(RF_metrics_arrat[:,0].tolist())\n",
    "print(RF_metrics_arrat[:,1].tolist())\n",
    "print(RF_metrics_arrat[:,2].tolist())"
   ]
  },
  {
   "cell_type": "code",
   "execution_count": 696,
   "metadata": {
    "cell_style": "split",
    "hidden": true
   },
   "outputs": [
    {
     "name": "stdout",
     "output_type": "stream",
     "text": [
      "              precision    recall  f1-score   support\n",
      "\n",
      "           0     0.7143    0.5682    0.6329       264\n",
      "           1     0.7989    0.8830    0.8389       513\n",
      "\n",
      "    accuracy                         0.7761       777\n",
      "   macro avg     0.7566    0.7256    0.7359       777\n",
      "weighted avg     0.7702    0.7761    0.7689       777\n",
      "\n"
     ]
    }
   ],
   "source": [
    "print(classification_report(y_binary_test, iter_dic[0][1], digits=4))"
   ]
  },
  {
   "cell_type": "code",
   "execution_count": 772,
   "metadata": {
    "cell_style": "split",
    "code_folding": [
     0
    ],
    "hidden": true,
    "scrolled": true
   },
   "outputs": [
    {
     "name": "stdout",
     "output_type": "stream",
     "text": [
      "XGB acc:  0.7709\n",
      "XGB macro:  0.7437\n",
      "XGB weighted:  0.7705\n",
      "[0.6873]\n",
      "[0.593]\n",
      "[0.6557]\n"
     ]
    }
   ],
   "source": [
    "# XGB\n",
    "XGB_metrics_arrat = np.array(XGB_metrics_list,dtype=float)\n",
    "acc = np.mean(XGB_metrics_arrat[:,0])\n",
    "print(\"XGB acc:  {:.4f}\".format(acc))\n",
    "f1 = np.mean(XGB_metrics_arrat[:,1])\n",
    "print(\"XGB macro:  {:.4f}\".format(f1))\n",
    "weighted = np.mean(XGB_metrics_arrat[:,2])\n",
    "print(\"XGB weighted:  {:.4f}\".format(weighted))\n",
    "\n",
    "print(RF_metrics_arrat[:,0].tolist())\n",
    "print(RF_metrics_arrat[:,1].tolist())\n",
    "print(RF_metrics_arrat[:,2].tolist())"
   ]
  },
  {
   "cell_type": "code",
   "execution_count": 773,
   "metadata": {
    "cell_style": "split",
    "hidden": true
   },
   "outputs": [
    {
     "name": "stdout",
     "output_type": "stream",
     "text": [
      "              precision    recall  f1-score   support\n",
      "\n",
      "           0     0.6654    0.6553    0.6603       264\n",
      "           1     0.8240    0.8304    0.8272       513\n",
      "\n",
      "    accuracy                         0.7709       777\n",
      "   macro avg     0.7447    0.7429    0.7437       777\n",
      "weighted avg     0.7701    0.7709    0.7705       777\n",
      "\n"
     ]
    }
   ],
   "source": [
    "print(classification_report(y_binary_test, iter_dic[0][2], digits=4))"
   ]
  },
  {
   "cell_type": "markdown",
   "metadata": {
    "heading_collapsed": true
   },
   "source": [
    "## 绘图"
   ]
  },
  {
   "cell_type": "code",
   "execution_count": 582,
   "metadata": {
    "cell_style": "split",
    "code_folding": [
     2
    ],
    "hidden": true
   },
   "outputs": [
    {
     "name": "stderr",
     "output_type": "stream",
     "text": [
      "100%|█| 3/3 [00:00<0\n"
     ]
    },
    {
     "data": {
      "image/png": "[encoded data removed]",
      "text/plain": [
       "<Figure size 360x216 with 1 Axes>"
      ]
     },
     "metadata": {
      "needs_background": "light"
     },
     "output_type": "display_data"
    }
   ],
   "source": [
    "plt.figure(figsize=(5,3))\n",
    "plt.plot([0, 1], [0, 1], linestyle='--')\n",
    "for key in tqdm(y_predict_proba_dic.keys(), ncols=20):\n",
    "    y_scores = [y_predict_proba_1[1] for y_predict_proba_1 in y_predict_proba_dic[key]]\n",
    "    fpr, tpr, _  =  roc_curve(y_binary_test, y_scores)\n",
    "    roc_auc = auc(fpr,tpr)\n",
    "    plt.plot(fpr, tpr, label=str(key) + ':node ROC curve (%0.4f)' % roc_auc)\n",
    "plt.xlabel('False Positive Rate')\n",
    "plt.ylabel('True Positive Rate')\n",
    "plt.title('Receiver operating characteristic example')\n",
    "plt.legend(loc=\"lower right\")\n",
    "plt.show()"
   ]
  },
  {
   "cell_type": "code",
   "execution_count": 757,
   "metadata": {
    "cell_style": "split",
    "code_folding": [
     2
    ],
    "hidden": true
   },
   "outputs": [
    {
     "name": "stderr",
     "output_type": "stream",
     "text": [
      "100%|█| 3/3 [00:00<0\n"
     ]
    },
    {
     "data": {
      "image/png": "[encoded data removed]",
      "text/plain": [
       "<Figure size 360x216 with 1 Axes>"
      ]
     },
     "metadata": {
      "needs_background": "light"
     },
     "output_type": "display_data"
    }
   ],
   "source": [
    "plt.figure(figsize=(5,3))\n",
    "plt.plot([0, 1], [0, 1], linestyle='--')\n",
    "for key in tqdm(y_predict_proba_dic.keys(), ncols=20):\n",
    "    y_scores = [y_predict_proba_1[1] for y_predict_proba_1 in y_predict_proba_dic[key]]\n",
    "    fpr, tpr, _  =  roc_curve(y_binary_test, y_scores)\n",
    "    roc_auc = auc(fpr,tpr)\n",
    "    plt.plot(fpr, tpr, label=str(key) + ':node ROC curve (%0.4f)' % roc_auc)\n",
    "plt.xlabel('False Positive Rate')\n",
    "plt.ylabel('True Positive Rate')\n",
    "plt.title('Receiver operating characteristic example')\n",
    "plt.legend(loc=\"lower right\")\n",
    "plt.show()"
   ]
  },
  {
   "cell_type": "code",
   "execution_count": 746,
   "metadata": {
    "cell_style": "split",
    "code_folding": [
     2
    ],
    "hidden": true
   },
   "outputs": [
    {
     "name": "stderr",
     "output_type": "stream",
     "text": [
      "100%|█| 3/3 [00:00<0\n"
     ]
    },
    {
     "data": {
      "image/png": "[encoded data removed]",
      "text/plain": [
       "<Figure size 360x216 with 1 Axes>"
      ]
     },
     "metadata": {
      "needs_background": "light"
     },
     "output_type": "display_data"
    }
   ],
   "source": [
    "plt.figure(figsize=(5,3))\n",
    "plt.plot([0, 1], [0, 1], linestyle='--')\n",
    "for key in tqdm(y_predict_proba_dic.keys(), ncols=20):\n",
    "    y_scores = [y_predict_proba_1[1] for y_predict_proba_1 in y_predict_proba_dic[key]]\n",
    "    fpr, tpr, _  =  roc_curve(y_binary_test, y_scores)\n",
    "    roc_auc = auc(fpr,tpr)\n",
    "    plt.plot(fpr, tpr, label=str(key) + ':node ROC curve (%0.4f)' % roc_auc)\n",
    "plt.xlabel('False Positive Rate')\n",
    "plt.ylabel('True Positive Rate')\n",
    "plt.title('Receiver operating characteristic example')\n",
    "plt.legend(loc=\"lower right\")\n",
    "plt.show()"
   ]
  },
  {
   "cell_type": "code",
   "execution_count": 726,
   "metadata": {
    "cell_style": "split",
    "code_folding": [
     2
    ],
    "hidden": true
   },
   "outputs": [
    {
     "name": "stderr",
     "output_type": "stream",
     "text": [
      "100%|█| 3/3 [00:00<0\n"
     ]
    },
    {
     "data": {
      "image/png": "[encoded data removed]",
      "text/plain": [
       "<Figure size 360x216 with 1 Axes>"
      ]
     },
     "metadata": {
      "needs_background": "light"
     },
     "output_type": "display_data"
    }
   ],
   "source": [
    "plt.figure(figsize=(5,3))\n",
    "plt.plot([0, 1], [0, 1], linestyle='--')\n",
    "for key in tqdm(y_predict_proba_dic.keys(), ncols=20):\n",
    "    y_scores = [y_predict_proba_1[1] for y_predict_proba_1 in y_predict_proba_dic[key]]\n",
    "    fpr, tpr, _  =  roc_curve(y_binary_test, y_scores)\n",
    "    roc_auc = auc(fpr,tpr)\n",
    "    plt.plot(fpr, tpr, label=str(key) + ':node ROC curve (%0.4f)' % roc_auc)\n",
    "plt.xlabel('False Positive Rate')\n",
    "plt.ylabel('True Positive Rate')\n",
    "plt.title('Receiver operating characteristic example')\n",
    "plt.legend(loc=\"lower right\")\n",
    "plt.show()"
   ]
  },
  {
   "cell_type": "code",
   "execution_count": 774,
   "metadata": {
    "cell_style": "split",
    "hidden": true
   },
   "outputs": [
    {
     "name": "stderr",
     "output_type": "stream",
     "text": [
      "100%|█| 3/3 [00:00<0\n"
     ]
    },
    {
     "data": {
      "image/png": "[encoded data removed]",
      "text/plain": [
       "<Figure size 360x216 with 1 Axes>"
      ]
     },
     "metadata": {
      "needs_background": "light"
     },
     "output_type": "display_data"
    }
   ],
   "source": [
    "plt.figure(figsize=(5,3))\n",
    "plt.plot([0, 1], [0, 1], linestyle='--')\n",
    "for key in tqdm(y_predict_proba_dic.keys(), ncols=20):\n",
    "    y_scores = [y_predict_proba_1[1] for y_predict_proba_1 in y_predict_proba_dic[key]]\n",
    "    fpr, tpr, _  =  roc_curve(y_binary_test, y_scores)\n",
    "    roc_auc = auc(fpr,tpr)\n",
    "    plt.plot(fpr, tpr, label=str(key) + ':node ROC curve (%0.4f)' % roc_auc)\n",
    "plt.xlabel('False Positive Rate')\n",
    "plt.ylabel('True Positive Rate')\n",
    "plt.title('Receiver operating characteristic example')\n",
    "plt.legend(loc=\"lower right\")\n",
    "plt.show()"
   ]
  },
  {
   "cell_type": "code",
   "execution_count": 633,
   "metadata": {
    "cell_style": "split",
    "hidden": true
   },
   "outputs": [
    {
     "name": "stderr",
     "output_type": "stream",
     "text": [
      "100%|█| 3/3 [00:00<0\n"
     ]
    },
    {
     "data": {
      "image/png": "[encoded data removed]",
      "text/plain": [
       "<Figure size 360x216 with 1 Axes>"
      ]
     },
     "metadata": {
      "needs_background": "light"
     },
     "output_type": "display_data"
    }
   ],
   "source": [
    "plt.figure(figsize=(5,3))\n",
    "plt.plot([0, 1], [0, 1], linestyle='--')\n",
    "for key in tqdm(y_predict_proba_dic.keys(), ncols=20):\n",
    "    y_scores = [y_predict_proba_1[1] for y_predict_proba_1 in y_predict_proba_dic[key]]\n",
    "    fpr, tpr, _  =  roc_curve(y_binary_test, y_scores)\n",
    "    roc_auc = auc(fpr,tpr)\n",
    "    plt.plot(fpr, tpr, label=str(key) + ':node ROC curve (%0.4f)' % roc_auc)\n",
    "plt.xlabel('False Positive Rate')\n",
    "plt.ylabel('True Positive Rate')\n",
    "plt.title('Receiver operating characteristic example')\n",
    "plt.legend(loc=\"lower right\")\n",
    "plt.show()"
   ]
  },
  {
   "cell_type": "markdown",
   "metadata": {
    "heading_collapsed": true
   },
   "source": [
    "# 神经网络分类"
   ]
  },
  {
   "cell_type": "code",
   "execution_count": 37,
   "metadata": {
    "code_folding": [
     0
    ],
    "hidden": true
   },
   "outputs": [],
   "source": [
    "def plot_history(history):\n",
    "    acc = history.history['acc']\n",
    "    val_acc = history.history['val_acc']\n",
    "    loss = history.history['loss']\n",
    "    val_loss = history.history['val_loss']\n",
    "    x = range(1, len(acc) + 1)\n",
    "\n",
    "    plt.figure(figsize=(12, 5))\n",
    "    plt.subplot(1, 2, 1)\n",
    "    plt.plot(x, acc, 'b', label='Training acc')\n",
    "    plt.plot(x, val_acc, 'r', label='Validation acc')\n",
    "    plt.title('Training and validation accuracy')\n",
    "    plt.legend()\n",
    "    plt.subplot(1, 2, 2)\n",
    "    plt.plot(x, loss, 'b', label='Training loss')\n",
    "    plt.plot(x, val_loss, 'r', label='Validation loss')\n",
    "    plt.title('Training and validation loss')\n",
    "    plt.legend()\n",
    "    plt.show()"
   ]
  },
  {
   "cell_type": "code",
   "execution_count": 453,
   "metadata": {
    "code_folding": [
     0
    ],
    "hidden": true
   },
   "outputs": [],
   "source": [
    "def full_connect_network(n_cols):\n",
    "    # Add an Input Layer\n",
    "    input_layer = layers.Input((n_cols, ))\n",
    "\n",
    "    Dense_layer_1 = layers.Dense(152, activation=\"relu\")(input_layer)\n",
    "    Dense_layer_2 = layers.Dense(64, activation=\"relu\")(Dense_layer_1)\n",
    "    dropout_layer = layers.Dropout(0.35)(Dense_layer_2)\n",
    "    Dense_layer_3 = layers.Dense(2, activation='softmax')(dropout_layer)\n",
    "\n",
    "    model = models.Model(inputs=input_layer, outputs=Dense_layer_3)\n",
    "    model.compile(optimizer=optimizers.Adam(), loss='binary_crossentropy', metrics=['accuracy'])\n",
    "    # model.summary()\n",
    "\n",
    "    return model"
   ]
  },
  {
   "cell_type": "code",
   "execution_count": 406,
   "metadata": {
    "code_folding": [
     0
    ],
    "hidden": true
   },
   "outputs": [],
   "source": [
    "def full_connect_network(n_cols):\n",
    "    # Add an Input Layer\n",
    "    input_layer = layers.Input((n_cols, ))\n",
    "\n",
    "    Dense_layer_1 = layers.Dense(80, activation=\"relu\")(input_layer)\n",
    "    Dense_layer_2 = layers.Dense(48, activation=\"relu\")(Dense_layer_1)\n",
    "    dropout_layer = layers.Dropout(0.4)(Dense_layer_2)\n",
    "    Dense_layer_3 = layers.Dense(2, activation='softmax')(dropout_layer)\n",
    "\n",
    "    model = models.Model(inputs=input_layer, outputs=Dense_layer_3)\n",
    "    model.compile(optimizer=optimizers.Adam(), loss='binary_crossentropy', metrics=['accuracy'])\n",
    "    # model.summary()\n",
    "\n",
    "    return model"
   ]
  },
  {
   "cell_type": "code",
   "execution_count": 415,
   "metadata": {
    "code_folding": [
     0
    ],
    "hidden": true
   },
   "outputs": [],
   "source": [
    "def full_lstm_connect_network(n_cols):\n",
    "    # Add an Input Layer\n",
    "    input_layer = layers.Input((n_cols, ))\n",
    "    \n",
    "    input_layer_1 = layers.Lambda(lambda input_layer:K.expand_dims(input_layer, axis=-1))(input_layer)\n",
    "    lstm_layer = layers.Bidirectional(LSTM(128, return_sequences=False))(input_layer_1)\n",
    "    Dropout_layer = layers.Dropout(0.4)(lstm_layer)\n",
    "    Dense_layer_1 = layers.Dense(72, activation=\"relu\")(Dropout_layer)\n",
    "    Dropout_layer = layers.Dropout(0.4)(Dense_layer_1)\n",
    "    Dense_layer_1 = layers.Dense(2, activation='softmax')(Dropout_layer)\n",
    "    \n",
    "    model = models.Model(inputs=input_layer, outputs=Dense_layer_1)\n",
    "    model.compile(optimizer=optimizers.Adam(), loss='binary_crossentropy', metrics=['accuracy'])    \n",
    "    # model.summary()\n",
    "    \n",
    "    return model"
   ]
  },
  {
   "cell_type": "code",
   "execution_count": 419,
   "metadata": {
    "code_folding": [
     0
    ],
    "hidden": true
   },
   "outputs": [],
   "source": [
    "def full_lstm_connect_network(n_cols):\n",
    "    # Add an Input Layer\n",
    "    input_layer = layers.Input((n_cols, ))\n",
    "    \n",
    "    input_layer_1 = layers.Lambda(lambda input_layer:K.expand_dims(input_layer, axis=-1))(input_layer)\n",
    "    lstm_layer = layers.Bidirectional(LSTM(128, return_sequences=False))(input_layer_1)\n",
    "    Dropout_layer = layers.Dropout(0.3)(lstm_layer)\n",
    "    Dense_layer_1 = layers.Dense(72, activation=\"relu\")(Dropout_layer)\n",
    "    Dropout_layer = layers.Dropout(0.4)(Dense_layer_1)\n",
    "    Dense_layer_1 = layers.Dense(2, activation='softmax')(Dropout_layer)\n",
    "    \n",
    "    model = models.Model(inputs=input_layer, outputs=Dense_layer_1)\n",
    "    model.compile(optimizer=optimizers.Adam(), loss='binary_crossentropy', metrics=['accuracy'])    \n",
    "    # model.summary()\n",
    "    \n",
    "    return model"
   ]
  },
  {
   "cell_type": "code",
   "execution_count": 423,
   "metadata": {
    "code_folding": [
     0
    ],
    "hidden": true
   },
   "outputs": [],
   "source": [
    "def full_lstm_connect_network(n_cols):\n",
    "    # Add an Input Layer\n",
    "    input_layer = layers.Input((n_cols, ))\n",
    "    \n",
    "    input_layer_1 = layers.Lambda(lambda input_layer:K.expand_dims(input_layer, axis=-1))(input_layer)\n",
    "    lstm_layer = layers.Bidirectional(LSTM(144, return_sequences=False))(input_layer_1)\n",
    "    Dropout_layer = layers.Dropout(0.4)(lstm_layer)\n",
    "    Dense_layer_1 = layers.Dense(72, activation=\"relu\")(Dropout_layer)\n",
    "    Dropout_layer = layers.Dropout(0.4)(Dense_layer_1)\n",
    "    Dense_layer_1 = layers.Dense(2, activation='softmax')(Dropout_layer)\n",
    "    \n",
    "    model = models.Model(inputs=input_layer, outputs=Dense_layer_1)\n",
    "    model.compile(optimizer=optimizers.Adam(), loss='binary_crossentropy', metrics=['accuracy'])    \n",
    "    # model.summary()\n",
    "    \n",
    "    return model"
   ]
  },
  {
   "cell_type": "code",
   "execution_count": 427,
   "metadata": {
    "code_folding": [
     0
    ],
    "hidden": true
   },
   "outputs": [],
   "source": [
    "def full_lstm_connect_network(n_cols):\n",
    "    # Add an Input Layer\n",
    "    input_layer = layers.Input((n_cols, ))\n",
    "    \n",
    "    input_layer_1 = layers.Lambda(lambda input_layer:K.expand_dims(input_layer, axis=-1))(input_layer)\n",
    "    lstm_layer = layers.Bidirectional(LSTM(144, return_sequences=False))(input_layer_1)\n",
    "    Dropout_layer = layers.Dropout(0.3)(lstm_layer)\n",
    "    Dense_layer_1 = layers.Dense(72, activation=\"relu\")(Dropout_layer)\n",
    "    Dropout_layer = layers.Dropout(0.4)(Dense_layer_1)\n",
    "    Dense_layer_1 = layers.Dense(2, activation='softmax')(Dropout_layer)\n",
    "    \n",
    "    model = models.Model(inputs=input_layer, outputs=Dense_layer_1)\n",
    "    model.compile(optimizer=optimizers.Adam(), loss='binary_crossentropy', metrics=['accuracy'])    \n",
    "    # model.summary()\n",
    "    \n",
    "    return model"
   ]
  },
  {
   "cell_type": "code",
   "execution_count": 278,
   "metadata": {
    "code_folding": [
     0
    ],
    "hidden": true
   },
   "outputs": [],
   "source": [
    "def full_lstm_connect_network(n_cols):\n",
    "    # Add an Input Layer\n",
    "    input_layer = layers.Input((n_cols, ))\n",
    "    \n",
    "    input_layer_1 = layers.Lambda(lambda input_layer:K.expand_dims(input_layer, axis=-1))(input_layer)\n",
    "    lstm_layer = layers.Bidirectional(LSTM(76, return_sequences=False))(input_layer_1)\n",
    "    dropout_layer = layers.Dropout(0.3)(lstm_layer)\n",
    "    Dense_layer_1 = layers.Dense(48, activation=\"relu\")(dropout_layer)\n",
    "    Dropout_layer = layers.Dropout(0.4)(Dense_layer_1)\n",
    "    Dense_layer_1 = layers.Dense(2, activation='softmax')(Dropout_layer)\n",
    "    \n",
    "    model = models.Model(inputs=input_layer, outputs=Dense_layer_1)\n",
    "    model.compile(optimizer=optimizers.Adam(), loss='binary_crossentropy', metrics=['accuracy'])    \n",
    "    # model.summary()\n",
    "    \n",
    "    return model"
   ]
  },
  {
   "cell_type": "code",
   "execution_count": 454,
   "metadata": {
    "code_folding": [],
    "hidden": true
   },
   "outputs": [],
   "source": [
    "# 提前停止监视器设置为3，这意味着在连续3次运行后，模型的性能没有改进的话，训练将会被停止\n",
    "my_callbacks = [EarlyStopping(monitor='val_loss', mode='min', patience=5)]"
   ]
  },
  {
   "cell_type": "code",
   "execution_count": 456,
   "metadata": {
    "code_folding": [],
    "hidden": true,
    "scrolled": true
   },
   "outputs": [
    {
     "name": "stderr",
     "output_type": "stream",
     "text": [
      "\r",
      "  0%|                                           | 0/1 [00:00<?, ?it/s]"
     ]
    },
    {
     "name": "stdout",
     "output_type": "stream",
     "text": [
      "Train on 6215 samples, validate on 777 samples\n",
      "Epoch 1/100\n",
      "6215/6215 [==============================] - 57s 9ms/step - loss: 0.6440 - acc: 0.6428 - val_loss: 0.6460 - val_acc: 0.6486\n",
      "Epoch 2/100\n",
      "6215/6215 [==============================] - 0s 48us/step - loss: 0.6052 - acc: 0.6743 - val_loss: 0.6477 - val_acc: 0.6435\n",
      "Epoch 3/100\n",
      "6215/6215 [==============================] - 0s 49us/step - loss: 0.5929 - acc: 0.6891 - val_loss: 0.6508 - val_acc: 0.6461\n",
      "Epoch 4/100\n",
      "6215/6215 [==============================] - 0s 53us/step - loss: 0.5863 - acc: 0.6867 - val_loss: 0.6468 - val_acc: 0.6461\n",
      "Epoch 5/100\n",
      "6215/6215 [==============================] - 0s 50us/step - loss: 0.5840 - acc: 0.6932 - val_loss: 0.6478 - val_acc: 0.6499\n",
      "Epoch 6/100\n",
      "6215/6215 [==============================] - 0s 50us/step - loss: 0.5806 - acc: 0.6904 - val_loss: 0.6462 - val_acc: 0.6474\n"
     ]
    },
    {
     "name": "stderr",
     "output_type": "stream",
     "text": [
      "100%|███████████████████████████████████| 1/1 [00:58<00:00, 58.98s/it]\n"
     ]
    }
   ],
   "source": [
    "history_list = []\n",
    "model_list = []\n",
    "\n",
    "for i in tqdm(range(1), ncols=70):\n",
    "    model = full_connect_network(x_abs_train.shape[1])\n",
    "    history = model.fit(x_abs_train, y_category_train, \n",
    "                        validation_data=(x_abs_valid, y_category_valid), \n",
    "                        verbose=1, epochs=100, batch_size=256, shuffle=False,\n",
    "                        callbacks=my_callbacks)\n",
    "    history_list.append(history)\n",
    "    model_list.append(model)"
   ]
  },
  {
   "cell_type": "code",
   "execution_count": 457,
   "metadata": {
    "code_folding": [
     3
    ],
    "hidden": true
   },
   "outputs": [
    {
     "name": "stderr",
     "output_type": "stream",
     "text": [
      "100%|███████████████████████████████████| 1/1 [00:21<00:00, 21.64s/it]\n"
     ]
    }
   ],
   "source": [
    "metrics_list = []\n",
    "roc_list = []\n",
    "\n",
    "for model in tqdm(model_list, ncols=70):\n",
    "    y_pred = model.predict(x_abs_test, batch_size=256, verbose=0)\n",
    "    y_pred_proba = np.array(y_pred, dtype=float)\n",
    "    y_pred_proba = y_pred_proba[:,1]\n",
    "    fpr, tpr, _  =  roc_curve(y_binary_test, list(y_pred_proba))\n",
    "    roc_list.append(auc(fpr,tpr))\n",
    "\n",
    "    for i in range(len(y_pred)):\n",
    "        max_value=max(y_pred[i])\n",
    "        for j in range(len(y_pred[i])):\n",
    "            if max_value==y_pred[i][j]:\n",
    "                y_pred[i][j]=1\n",
    "            else:\n",
    "                y_pred[i][j]=0\n",
    "    report = classification_report(y_category_test, y_pred, digits=4)\n",
    "    p = re.compile('  |\\n', re.S)\n",
    "    report = p.sub(' ', report)\n",
    "    metrics_content = re.findall(\"([\\d]{1}\\.[\\d]{4})    777\", report)\n",
    "    metrics_list.append(metrics_content)"
   ]
  },
  {
   "cell_type": "markdown",
   "metadata": {
    "hidden": true
   },
   "source": [
    "## abstract"
   ]
  },
  {
   "cell_type": "code",
   "execution_count": 156,
   "metadata": {
    "cell_style": "split",
    "code_folding": [
     0
    ],
    "hidden": true,
    "scrolled": false
   },
   "outputs": [
    {
     "name": "stdout",
     "output_type": "stream",
     "text": [
      "NN acc:  0.6533\n",
      "NN macro:  0.5323\n",
      "NN weighted:  0.6085\n",
      "[0.6641, 0.6474, 0.6525, 0.6474, 0.6551]\n",
      "[0.543, 0.5278, 0.5379, 0.5228, 0.5299]\n",
      "[0.6184, 0.6039, 0.6116, 0.6009, 0.6076]\n",
      "NN roc:  0.6080\n"
     ]
    }
   ],
   "source": [
    "# abstract\n",
    "metrics_arrat = np.array(metrics_list,dtype=float)\n",
    "acc = np.mean(metrics_arrat[:,0])\n",
    "print(\"NN acc:  {:.4f}\".format(acc))\n",
    "f1 = np.mean(metrics_arrat[:,1])\n",
    "print(\"NN macro:  {:.4f}\".format(f1))\n",
    "weighted = np.mean(metrics_arrat[:,2])\n",
    "print(\"NN weighted:  {:.4f}\".format(weighted))\n",
    "\n",
    "print(metrics_arrat[:,0].tolist())\n",
    "print(metrics_arrat[:,1].tolist())\n",
    "print(metrics_arrat[:,2].tolist())\n",
    "\n",
    "roc = np.mean(roc_list)\n",
    "print(\"NN roc:  {:.4f}\".format(roc))"
   ]
  },
  {
   "cell_type": "code",
   "execution_count": 458,
   "metadata": {
    "cell_style": "split",
    "code_folding": [
     0
    ],
    "hidden": true
   },
   "outputs": [
    {
     "name": "stdout",
     "output_type": "stream",
     "text": [
      "NN acc:  0.6564\n",
      "NN macro:  0.5220\n",
      "NN weighted:  0.6032\n",
      "[0.6564]\n",
      "[0.522]\n",
      "[0.6032]\n",
      "NN roc:  0.6073\n"
     ]
    }
   ],
   "source": [
    "# abstract\n",
    "metrics_arrat = np.array(metrics_list,dtype=float)\n",
    "acc = np.mean(metrics_arrat[:,0])\n",
    "print(\"NN acc:  {:.4f}\".format(acc))\n",
    "f1 = np.mean(metrics_arrat[:,1])\n",
    "print(\"NN macro:  {:.4f}\".format(f1))\n",
    "weighted = np.mean(metrics_arrat[:,2])\n",
    "print(\"NN weighted:  {:.4f}\".format(weighted))\n",
    "\n",
    "print(metrics_arrat[:,0].tolist())\n",
    "print(metrics_arrat[:,1].tolist())\n",
    "print(metrics_arrat[:,2].tolist())\n",
    "\n",
    "roc = np.mean(roc_list)\n",
    "print(\"NN roc:  {:.4f}\".format(roc))"
   ]
  },
  {
   "cell_type": "code",
   "execution_count": 459,
   "metadata": {
    "cell_style": "split",
    "hidden": true
   },
   "outputs": [
    {
     "name": "stdout",
     "output_type": "stream",
     "text": [
      "              precision    recall  f1-score   support\n",
      "\n",
      "           0     0.4851    0.1856    0.2685       264\n",
      "           1     0.6820    0.8986    0.7754       513\n",
      "\n",
      "   micro avg     0.6564    0.6564    0.6564       777\n",
      "   macro avg     0.5836    0.5421    0.5220       777\n",
      "weighted avg     0.6151    0.6564    0.6032       777\n",
      " samples avg     0.6564    0.6564    0.6564       777\n",
      "\n"
     ]
    }
   ],
   "source": [
    "print(classification_report(y_category_test, y_pred, digits=4))"
   ]
  },
  {
   "cell_type": "code",
   "execution_count": 460,
   "metadata": {
    "cell_style": "split",
    "hidden": true
   },
   "outputs": [
    {
     "data": {
      "image/png": "[encoded data removed]",
      "text/plain": [
       "<Figure size 864x360 with 2 Axes>"
      ]
     },
     "metadata": {
      "needs_background": "light"
     },
     "output_type": "display_data"
    }
   ],
   "source": [
    "plot_history(history_list[0])"
   ]
  },
  {
   "cell_type": "markdown",
   "metadata": {
    "heading_collapsed": true,
    "hidden": true
   },
   "source": [
    "## claims"
   ]
  },
  {
   "cell_type": "code",
   "execution_count": 160,
   "metadata": {
    "code_folding": [
     0
    ],
    "hidden": true
   },
   "outputs": [
    {
     "name": "stdout",
     "output_type": "stream",
     "text": [
      "NN acc:  0.6502\n",
      "NN macro:  0.5569\n",
      "NN weighted:  0.6220\n",
      "[0.6474, 0.6589, 0.6512, 0.6409, 0.6525]\n",
      "[0.5503, 0.5683, 0.5662, 0.5414, 0.5582]\n",
      "[0.6172, 0.6317, 0.6277, 0.6099, 0.6236]\n",
      "NN roc:  0.6172\n"
     ]
    }
   ],
   "source": [
    "# claims\n",
    "metrics_arrat = np.array(metrics_list,dtype=float)\n",
    "acc = np.mean(metrics_arrat[:,0])\n",
    "print(\"NN acc:  {:.4f}\".format(acc))\n",
    "f1 = np.mean(metrics_arrat[:,1])\n",
    "print(\"NN macro:  {:.4f}\".format(f1))\n",
    "weighted = np.mean(metrics_arrat[:,2])\n",
    "print(\"NN weighted:  {:.4f}\".format(weighted))\n",
    "\n",
    "print(metrics_arrat[:,0].tolist())\n",
    "print(metrics_arrat[:,1].tolist())\n",
    "print(metrics_arrat[:,2].tolist())\n",
    "\n",
    "roc = np.mean(roc_list)\n",
    "print(\"NN roc:  {:.4f}\".format(roc))"
   ]
  },
  {
   "cell_type": "code",
   "execution_count": 162,
   "metadata": {
    "cell_style": "split",
    "hidden": true
   },
   "outputs": [
    {
     "name": "stdout",
     "output_type": "stream",
     "text": [
      "              precision    recall  f1-score   support\n",
      "\n",
      "           0     0.4805    0.2803    0.3541       264\n",
      "           1     0.6950    0.8441    0.7623       513\n",
      "\n",
      "   micro avg     0.6525    0.6525    0.6525       777\n",
      "   macro avg     0.5878    0.5622    0.5582       777\n",
      "weighted avg     0.6221    0.6525    0.6236       777\n",
      " samples avg     0.6525    0.6525    0.6525       777\n",
      "\n"
     ]
    }
   ],
   "source": [
    "print(classification_report(y_category_test, y_pred, digits=4))"
   ]
  },
  {
   "cell_type": "code",
   "execution_count": 163,
   "metadata": {
    "cell_style": "split",
    "hidden": true
   },
   "outputs": [
    {
     "data": {
      "image/png": "[encoded data removed]",
      "text/plain": [
       "<Figure size 864x360 with 2 Axes>"
      ]
     },
     "metadata": {
      "needs_background": "light"
     },
     "output_type": "display_data"
    }
   ],
   "source": [
    "plot_history(history_list[0])"
   ]
  },
  {
   "cell_type": "markdown",
   "metadata": {
    "heading_collapsed": true,
    "hidden": true
   },
   "source": [
    "## text_sum"
   ]
  },
  {
   "cell_type": "code",
   "execution_count": 193,
   "metadata": {
    "code_folding": [
     0
    ],
    "hidden": true,
    "scrolled": true
   },
   "outputs": [
    {
     "name": "stdout",
     "output_type": "stream",
     "text": [
      "NN acc:  0.6731\n",
      "NN macro:  0.5724\n",
      "NN weighted:  0.6389\n",
      "[0.6692, 0.6834, 0.6744, 0.6654, 0.6731]\n",
      "[0.5762, 0.5832, 0.572, 0.5595, 0.571]\n",
      "[0.6399, 0.6487, 0.6391, 0.6287, 0.6381]\n",
      "NN roc:  0.6329\n"
     ]
    }
   ],
   "source": [
    "# train+Dense\n",
    "metrics_arrat = np.array(metrics_list,dtype=float)\n",
    "acc = np.mean(metrics_arrat[:,0])\n",
    "print(\"NN acc:  {:.4f}\".format(acc))\n",
    "f1 = np.mean(metrics_arrat[:,1])\n",
    "print(\"NN macro:  {:.4f}\".format(f1))\n",
    "weighted = np.mean(metrics_arrat[:,2])\n",
    "print(\"NN weighted:  {:.4f}\".format(weighted))\n",
    "\n",
    "print(metrics_arrat[:,0].tolist())\n",
    "print(metrics_arrat[:,1].tolist())\n",
    "print(metrics_arrat[:,2].tolist())\n",
    "\n",
    "roc = np.mean(roc_list)\n",
    "print(\"NN roc:  {:.4f}\".format(roc))"
   ]
  },
  {
   "cell_type": "code",
   "execution_count": 233,
   "metadata": {
    "cell_style": "split",
    "hidden": true,
    "scrolled": true
   },
   "outputs": [
    {
     "name": "stdout",
     "output_type": "stream",
     "text": [
      "              precision    recall  f1-score   support\n",
      "\n",
      "           0     0.5130    0.2235    0.3113       264\n",
      "           1     0.6903    0.8908    0.7779       513\n",
      "\n",
      "   micro avg     0.6641    0.6641    0.6641       777\n",
      "   macro avg     0.6017    0.5572    0.5446       777\n",
      "weighted avg     0.6301    0.6641    0.6194       777\n",
      " samples avg     0.6641    0.6641    0.6641       777\n",
      "\n"
     ]
    }
   ],
   "source": [
    "print(classification_report(y_category_test, y_pred, digits=4))"
   ]
  },
  {
   "cell_type": "code",
   "execution_count": 234,
   "metadata": {
    "cell_style": "split",
    "hidden": true
   },
   "outputs": [
    {
     "data": {
      "image/png": "[encoded data removed]",
      "text/plain": [
       "<Figure size 864x360 with 2 Axes>"
      ]
     },
     "metadata": {
      "needs_background": "light"
     },
     "output_type": "display_data"
    }
   ],
   "source": [
    "plot_history(history_list[0])"
   ]
  },
  {
   "cell_type": "code",
   "execution_count": 244,
   "metadata": {
    "code_folding": [
     0
    ],
    "hidden": true,
    "scrolled": true
   },
   "outputs": [
    {
     "name": "stdout",
     "output_type": "stream",
     "text": [
      "NN acc:  0.6662\n",
      "NN macro:  0.5493\n",
      "NN weighted:  0.6228\n",
      "[0.668, 0.6705, 0.6667, 0.6615, 0.6641]\n",
      "[0.5569, 0.5541, 0.5448, 0.5411, 0.5494]\n",
      "[0.628, 0.6271, 0.6203, 0.6164, 0.6223]\n",
      "NN roc:  0.6368\n"
     ]
    }
   ],
   "source": [
    "# train+BiLSTM\n",
    "metrics_arrat = np.array(metrics_list,dtype=float)\n",
    "acc = np.mean(metrics_arrat[:,0])\n",
    "print(\"NN acc:  {:.4f}\".format(acc))\n",
    "f1 = np.mean(metrics_arrat[:,1])\n",
    "print(\"NN macro:  {:.4f}\".format(f1))\n",
    "weighted = np.mean(metrics_arrat[:,2])\n",
    "print(\"NN weighted:  {:.4f}\".format(weighted))\n",
    "\n",
    "print(metrics_arrat[:,0].tolist())\n",
    "print(metrics_arrat[:,1].tolist())\n",
    "print(metrics_arrat[:,2].tolist())\n",
    "\n",
    "roc = np.mean(roc_list)\n",
    "print(\"NN roc:  {:.4f}\".format(roc))"
   ]
  },
  {
   "cell_type": "code",
   "execution_count": 273,
   "metadata": {
    "code_folding": [
     0
    ],
    "hidden": true
   },
   "outputs": [
    {
     "name": "stdout",
     "output_type": "stream",
     "text": [
      "NN acc:  0.6510\n",
      "NN macro:  0.5635\n",
      "NN weighted:  0.6261\n",
      "[0.6435, 0.6551, 0.6564, 0.6577, 0.6422]\n",
      "[0.5566, 0.5641, 0.5676, 0.5686, 0.5605]\n",
      "[0.6195, 0.6279, 0.6304, 0.6314, 0.6212]\n",
      "NN roc:  0.6165\n"
     ]
    }
   ],
   "source": [
    "# 拼接+Dense\n",
    "metrics_arrat = np.array(metrics_list,dtype=float)\n",
    "acc = np.mean(metrics_arrat[:,0])\n",
    "print(\"NN acc:  {:.4f}\".format(acc))\n",
    "f1 = np.mean(metrics_arrat[:,1])\n",
    "print(\"NN macro:  {:.4f}\".format(f1))\n",
    "weighted = np.mean(metrics_arrat[:,2])\n",
    "print(\"NN weighted:  {:.4f}\".format(weighted))\n",
    "\n",
    "print(metrics_arrat[:,0].tolist())\n",
    "print(metrics_arrat[:,1].tolist())\n",
    "print(metrics_arrat[:,2].tolist())\n",
    "\n",
    "roc = np.mean(roc_list)\n",
    "print(\"NN roc:  {:.4f}\".format(roc))"
   ]
  },
  {
   "cell_type": "code",
   "execution_count": 282,
   "metadata": {
    "code_folding": [
     0
    ],
    "hidden": true
   },
   "outputs": [
    {
     "name": "stdout",
     "output_type": "stream",
     "text": [
      "NN acc:  0.6502\n",
      "NN macro:  0.5590\n",
      "NN weighted:  0.6232\n",
      "[0.6486, 0.6538, 0.6499, 0.6512, 0.6474]\n",
      "[0.5526, 0.5657, 0.5652, 0.5532, 0.5582]\n",
      "[0.619, 0.6284, 0.6267, 0.6202, 0.6218]\n",
      "NN roc:  0.6331\n"
     ]
    }
   ],
   "source": [
    "# 拼接+BiLSTM\n",
    "metrics_arrat = np.array(metrics_list,dtype=float)\n",
    "acc = np.mean(metrics_arrat[:,0])\n",
    "print(\"NN acc:  {:.4f}\".format(acc))\n",
    "f1 = np.mean(metrics_arrat[:,1])\n",
    "print(\"NN macro:  {:.4f}\".format(f1))\n",
    "weighted = np.mean(metrics_arrat[:,2])\n",
    "print(\"NN weighted:  {:.4f}\".format(weighted))\n",
    "\n",
    "print(metrics_arrat[:,0].tolist())\n",
    "print(metrics_arrat[:,1].tolist())\n",
    "print(metrics_arrat[:,2].tolist())\n",
    "\n",
    "roc = np.mean(roc_list)\n",
    "print(\"NN roc:  {:.4f}\".format(roc))"
   ]
  },
  {
   "cell_type": "markdown",
   "metadata": {
    "heading_collapsed": true,
    "hidden": true
   },
   "source": [
    "## node"
   ]
  },
  {
   "cell_type": "code",
   "execution_count": 414,
   "metadata": {
    "code_folding": [
     0
    ],
    "hidden": true
   },
   "outputs": [
    {
     "name": "stdout",
     "output_type": "stream",
     "text": [
      "NN acc:  0.7714\n",
      "NN macro:  0.7041\n",
      "NN weighted:  0.7493\n",
      "[0.7735, 0.7709, 0.7696, 0.7671, 0.7761]\n",
      "[0.7129, 0.7087, 0.7039, 0.6831, 0.7118]\n",
      "[0.7552, 0.7519, 0.7486, 0.7353, 0.7554]\n",
      "NN roc:  0.8343\n"
     ]
    }
   ],
   "source": [
    "# node\n",
    "metrics_arrat = np.array(metrics_list,dtype=float)\n",
    "acc = np.mean(metrics_arrat[:,0])\n",
    "print(\"NN acc:  {:.4f}\".format(acc))\n",
    "f1 = np.mean(metrics_arrat[:,1])\n",
    "print(\"NN macro:  {:.4f}\".format(f1))\n",
    "weighted = np.mean(metrics_arrat[:,2])\n",
    "print(\"NN weighted:  {:.4f}\".format(weighted))\n",
    "\n",
    "print(metrics_arrat[:,0].tolist())\n",
    "print(metrics_arrat[:,1].tolist())\n",
    "print(metrics_arrat[:,2].tolist())\n",
    "\n",
    "roc = np.mean(roc_list)\n",
    "print(\"NN roc:  {:.4f}\".format(roc))"
   ]
  },
  {
   "cell_type": "code",
   "execution_count": 358,
   "metadata": {
    "cell_style": "split",
    "hidden": true
   },
   "outputs": [
    {
     "name": "stdout",
     "output_type": "stream",
     "text": [
      "              precision    recall  f1-score   support\n",
      "\n",
      "           0     0.7692    0.4545    0.5714       264\n",
      "           1     0.7681    0.9298    0.8413       513\n",
      "\n",
      "   micro avg     0.7683    0.7683    0.7683       777\n",
      "   macro avg     0.7687    0.6922    0.7063       777\n",
      "weighted avg     0.7685    0.7683    0.7496       777\n",
      " samples avg     0.7683    0.7683    0.7683       777\n",
      "\n"
     ]
    }
   ],
   "source": [
    "print(classification_report(y_category_test, y_pred, digits=4))"
   ]
  },
  {
   "cell_type": "code",
   "execution_count": 359,
   "metadata": {
    "cell_style": "split",
    "hidden": true
   },
   "outputs": [
    {
     "data": {
      "image/png": "[encoded data removed]",
      "text/plain": [
       "<Figure size 864x360 with 2 Axes>"
      ]
     },
     "metadata": {
      "needs_background": "light"
     },
     "output_type": "display_data"
    }
   ],
   "source": [
    "plot_history(history_list[0])"
   ]
  },
  {
   "cell_type": "markdown",
   "metadata": {
    "hidden": true
   },
   "source": [
    "## node+text"
   ]
  },
  {
   "cell_type": "code",
   "execution_count": 396,
   "metadata": {
    "code_folding": [
     0
    ],
    "hidden": true,
    "scrolled": false
   },
   "outputs": [
    {
     "name": "stdout",
     "output_type": "stream",
     "text": [
      "NN acc:  0.7707\n",
      "NN macro:  0.7336\n",
      "NN weighted:  0.7654\n",
      "[0.7709, 0.7645, 0.7735, 0.7658, 0.7786]\n",
      "[0.737, 0.7293, 0.7347, 0.7263, 0.7408]\n",
      "[0.7673, 0.7606, 0.7672, 0.7596, 0.7725]\n",
      "NN roc:  0.8295\n",
      "[0.8287627739382125, 0.8331118199539251, 0.8307785456908263, 0.8281056175793018, 0.8265697914820722]\n"
     ]
    }
   ],
   "source": [
    "# node+text+Dense\n",
    "metrics_arrat = np.array(metrics_list,dtype=float)\n",
    "acc = np.mean(metrics_arrat[:,0])\n",
    "print(\"NN acc:  {:.4f}\".format(acc))\n",
    "f1 = np.mean(metrics_arrat[:,1])\n",
    "print(\"NN macro:  {:.4f}\".format(f1))\n",
    "weighted = np.mean(metrics_arrat[:,2])\n",
    "print(\"NN weighted:  {:.4f}\".format(weighted))\n",
    "\n",
    "print(metrics_arrat[:,0].tolist())\n",
    "print(metrics_arrat[:,1].tolist())\n",
    "print(metrics_arrat[:,2].tolist())\n",
    "\n",
    "roc = np.mean(roc_list)\n",
    "print(\"NN roc:  {:.4f}\".format(roc))\n",
    "print(roc_list)"
   ]
  },
  {
   "cell_type": "code",
   "execution_count": 333,
   "metadata": {
    "cell_style": "split",
    "hidden": true
   },
   "outputs": [
    {
     "name": "stdout",
     "output_type": "stream",
     "text": [
      "              precision    recall  f1-score   support\n",
      "\n",
      "           0     0.7005    0.5492    0.6157       264\n",
      "           1     0.7912    0.8791    0.8329       513\n",
      "\n",
      "   micro avg     0.7671    0.7671    0.7671       777\n",
      "   macro avg     0.7459    0.7142    0.7243       777\n",
      "weighted avg     0.7604    0.7671    0.7591       777\n",
      " samples avg     0.7671    0.7671    0.7671       777\n",
      "\n"
     ]
    }
   ],
   "source": [
    "print(classification_report(y_category_test, y_pred, digits=4))"
   ]
  },
  {
   "cell_type": "code",
   "execution_count": 334,
   "metadata": {
    "cell_style": "split",
    "hidden": true
   },
   "outputs": [
    {
     "data": {
      "image/png": "[encoded data removed]",
      "text/plain": [
       "<Figure size 864x360 with 2 Axes>"
      ]
     },
     "metadata": {
      "needs_background": "light"
     },
     "output_type": "display_data"
    }
   ],
   "source": [
    "plot_history(history_list[0])"
   ]
  },
  {
   "cell_type": "code",
   "execution_count": 418,
   "metadata": {
    "code_folding": [
     0
    ],
    "hidden": true
   },
   "outputs": [
    {
     "name": "stdout",
     "output_type": "stream",
     "text": [
      "NN acc:  0.7696\n",
      "NN macro:  0.7338\n",
      "NN weighted:  0.7651\n",
      "[0.7671, 0.7773, 0.7709, 0.7696, 0.7632]\n",
      "[0.7334, 0.743, 0.7353, 0.7341, 0.7233]\n",
      "[0.7638, 0.7731, 0.7664, 0.7652, 0.757]\n",
      "NN roc:  0.8303\n"
     ]
    }
   ],
   "source": [
    "# node+text+BiLSTM\n",
    "metrics_arrat = np.array(metrics_list,dtype=float)\n",
    "acc = np.mean(metrics_arrat[:,0])\n",
    "print(\"NN acc:  {:.4f}\".format(acc))\n",
    "f1 = np.mean(metrics_arrat[:,1])\n",
    "print(\"NN macro:  {:.4f}\".format(f1))\n",
    "weighted = np.mean(metrics_arrat[:,2])\n",
    "print(\"NN weighted:  {:.4f}\".format(weighted))\n",
    "\n",
    "print(metrics_arrat[:,0].tolist())\n",
    "print(metrics_arrat[:,1].tolist())\n",
    "print(metrics_arrat[:,2].tolist())\n",
    "\n",
    "roc = np.mean(roc_list)\n",
    "print(\"NN roc:  {:.4f}\".format(roc))"
   ]
  },
  {
   "cell_type": "code",
   "execution_count": 422,
   "metadata": {
    "code_folding": [
     0
    ],
    "hidden": true
   },
   "outputs": [
    {
     "name": "stdout",
     "output_type": "stream",
     "text": [
      "NN acc:  0.7704\n",
      "NN macro:  0.7302\n",
      "NN weighted:  0.7636\n",
      "[0.7683, 0.7735, 0.7696, 0.7722, 0.7683]\n",
      "[0.7305, 0.7341, 0.7293, 0.7371, 0.7199]\n",
      "[0.7629, 0.7669, 0.7628, 0.7679, 0.7573]\n",
      "NN roc:  0.8314\n"
     ]
    }
   ],
   "source": [
    "# node+text+BiLSTM\n",
    "metrics_arrat = np.array(metrics_list,dtype=float)\n",
    "acc = np.mean(metrics_arrat[:,0])\n",
    "print(\"NN acc:  {:.4f}\".format(acc))\n",
    "f1 = np.mean(metrics_arrat[:,1])\n",
    "print(\"NN macro:  {:.4f}\".format(f1))\n",
    "weighted = np.mean(metrics_arrat[:,2])\n",
    "print(\"NN weighted:  {:.4f}\".format(weighted))\n",
    "\n",
    "print(metrics_arrat[:,0].tolist())\n",
    "print(metrics_arrat[:,1].tolist())\n",
    "print(metrics_arrat[:,2].tolist())\n",
    "\n",
    "roc = np.mean(roc_list)\n",
    "print(\"NN roc:  {:.4f}\".format(roc))"
   ]
  },
  {
   "cell_type": "code",
   "execution_count": 426,
   "metadata": {
    "code_folding": [
     0
    ],
    "hidden": true,
    "scrolled": true
   },
   "outputs": [
    {
     "name": "stdout",
     "output_type": "stream",
     "text": [
      "NN acc:  0.7717\n",
      "NN macro:  0.7092\n",
      "NN weighted:  0.7523\n",
      "[0.7683, 0.7748, 0.7773, 0.7683, 0.7696]\n",
      "[0.7089, 0.7123, 0.7358, 0.694, 0.6952]\n",
      "[0.7511, 0.7553, 0.7694, 0.7423, 0.7435]\n",
      "NN roc:  0.8347\n"
     ]
    }
   ],
   "source": [
    "# node+text+BiLSTM\n",
    "metrics_arrat = np.array(metrics_list,dtype=float)\n",
    "acc = np.mean(metrics_arrat[:,0])\n",
    "print(\"NN acc:  {:.4f}\".format(acc))\n",
    "f1 = np.mean(metrics_arrat[:,1])\n",
    "print(\"NN macro:  {:.4f}\".format(f1))\n",
    "weighted = np.mean(metrics_arrat[:,2])\n",
    "print(\"NN weighted:  {:.4f}\".format(weighted))\n",
    "\n",
    "print(metrics_arrat[:,0].tolist())\n",
    "print(metrics_arrat[:,1].tolist())\n",
    "print(metrics_arrat[:,2].tolist())\n",
    "\n",
    "roc = np.mean(roc_list)\n",
    "print(\"NN roc:  {:.4f}\".format(roc))"
   ]
  },
  {
   "cell_type": "code",
   "execution_count": 430,
   "metadata": {
    "code_folding": [
     0
    ],
    "hidden": true
   },
   "outputs": [
    {
     "name": "stdout",
     "output_type": "stream",
     "text": [
      "NN acc:  0.7709\n",
      "NN macro:  0.7000\n",
      "NN weighted:  0.7467\n",
      "[0.7683, 0.7748, 0.7748, 0.7683, 0.7683]\n",
      "[0.695, 0.7114, 0.7059, 0.699, 0.6887]\n",
      "[0.7429, 0.7548, 0.7515, 0.7453, 0.7392]\n",
      "NN roc:  0.8347\n"
     ]
    }
   ],
   "source": [
    "# node+text+BiLSTM\n",
    "metrics_arrat = np.array(metrics_list,dtype=float)\n",
    "acc = np.mean(metrics_arrat[:,0])\n",
    "print(\"NN acc:  {:.4f}\".format(acc))\n",
    "f1 = np.mean(metrics_arrat[:,1])\n",
    "print(\"NN macro:  {:.4f}\".format(f1))\n",
    "weighted = np.mean(metrics_arrat[:,2])\n",
    "print(\"NN weighted:  {:.4f}\".format(weighted))\n",
    "\n",
    "print(metrics_arrat[:,0].tolist())\n",
    "print(metrics_arrat[:,1].tolist())\n",
    "print(metrics_arrat[:,2].tolist())\n",
    "\n",
    "roc = np.mean(roc_list)\n",
    "print(\"NN roc:  {:.4f}\".format(roc))"
   ]
  }
 ],
 "metadata": {
  "kernelspec": {
   "display_name": "Python 3",
   "language": "python",
   "name": "python3"
  },
  "language_info": {
   "codemirror_mode": {
    "name": "ipython",
    "version": 3
   },
   "file_extension": ".py",
   "mimetype": "text/x-python",
   "name": "python",
   "nbconvert_exporter": "python",
   "pygments_lexer": "ipython3",
   "version": "3.6.9"
  },
  "toc": {
   "base_numbering": 1,
   "nav_menu": {},
   "number_sections": true,
   "sideBar": true,
   "skip_h1_title": false,
   "title_cell": "Table of Contents",
   "title_sidebar": "Contents",
   "toc_cell": false,
   "toc_position": {
    "height": "calc(100% - 180px)",
    "left": "10px",
    "top": "150px",
    "width": "185px"
   },
   "toc_section_display": true,
   "toc_window_display": true
  },
  "varInspector": {
   "cols": {
    "lenName": 16,
    "lenType": 16,
    "lenVar": 40
   },
   "kernels_config": {
    "python": {
     "delete_cmd_postfix": "",
     "delete_cmd_prefix": "del ",
     "library": "var_list.py",
     "varRefreshCmd": "print(var_dic_list())"
    },
    "r": {
     "delete_cmd_postfix": ") ",
     "delete_cmd_prefix": "rm(",
     "library": "var_list.r",
     "varRefreshCmd": "cat(var_dic_list()) "
    }
   },
   "types_to_exclude": [
    "module",
    "function",
    "builtin_function_or_method",
    "instance",
    "_Feature"
   ],
   "window_display": false
  }
 },
 "nbformat": 4,
 "nbformat_minor": 2
}
