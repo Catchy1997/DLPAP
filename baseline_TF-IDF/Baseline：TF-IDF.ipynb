{
 "cells": [
  {
   "cell_type": "code",
   "execution_count": 71,
   "metadata": {},
   "outputs": [],
   "source": [
    "import pandas as pd\n",
    "import numpy as np\n",
    "import re\n",
    "import os\n",
    "from tqdm import tqdm\n",
    "import matplotlib.pyplot as plt\n",
    "from sklearn.decomposition import PCA"
   ]
  },
  {
   "cell_type": "code",
   "execution_count": 72,
   "metadata": {},
   "outputs": [],
   "source": [
    "import xgboost\n",
    "from sklearn import preprocessing, linear_model, ensemble, metrics\n",
    "from sklearn.metrics import accuracy_score, average_precision_score\n",
    "from sklearn.metrics import precision_recall_curve, roc_curve, auc\n",
    "from sklearn.metrics import classification_report\n",
    "from sklearn.utils import class_weight"
   ]
  },
  {
   "cell_type": "code",
   "execution_count": 73,
   "metadata": {
    "scrolled": true
   },
   "outputs": [],
   "source": [
    "import keras\n",
    "import tensorflow as tf\n",
    "from keras import backend as K\n",
    "from keras.preprocessing import text, sequence\n",
    "from keras.callbacks import EarlyStopping\n",
    "from keras import layers, models, optimizers\n",
    "from keras.layers import LSTM\n",
    "from keras.layers.merge import concatenate\n",
    "from keras.utils import to_categorical\n",
    "from keras.utils import np_utils"
   ]
  },
  {
   "cell_type": "markdown",
   "metadata": {},
   "source": [
    "# 准备数据"
   ]
  },
  {
   "cell_type": "markdown",
   "metadata": {
    "heading_collapsed": true
   },
   "source": [
    "## abstract"
   ]
  },
  {
   "cell_type": "code",
   "execution_count": 32,
   "metadata": {
    "hidden": true
   },
   "outputs": [],
   "source": [
    "abs_filepath = \"/home/hxjiang/Pythonworkspace/patent/sample20000/abstract_TF-IDF_300d.xlsx\"\n",
    "abstract = pd.read_excel(abs_filepath, encoding='utf-8')"
   ]
  },
  {
   "cell_type": "code",
   "execution_count": 33,
   "metadata": {
    "hidden": true
   },
   "outputs": [
    {
     "data": {
      "text/plain": [
       "(20000, 72)"
      ]
     },
     "execution_count": 33,
     "metadata": {},
     "output_type": "execute_result"
    }
   ],
   "source": [
    "abstract.shape"
   ]
  },
  {
   "cell_type": "code",
   "execution_count": 34,
   "metadata": {
    "hidden": true
   },
   "outputs": [
    {
     "data": {
      "text/plain": [
       "5.8317819064543635"
      ]
     },
     "execution_count": 34,
     "metadata": {},
     "output_type": "execute_result"
    }
   ],
   "source": [
    "x_abs = abstract\n",
    "# 条件数在1附近是理想的，有文献表明超过15就说明存在共线性\n",
    "c = np.linalg.cond(x_abs, p=None)\n",
    "c"
   ]
  },
  {
   "cell_type": "markdown",
   "metadata": {
    "heading_collapsed": true
   },
   "source": [
    "## claims"
   ]
  },
  {
   "cell_type": "code",
   "execution_count": 35,
   "metadata": {
    "hidden": true
   },
   "outputs": [],
   "source": [
    "claim_filepath = \"/home/hxjiang/Pythonworkspace/patent/sample20000/claims_TF-IDF_300d.xlsx\"\n",
    "claims = pd.read_excel(claim_filepath, encoding='utf-8')"
   ]
  },
  {
   "cell_type": "code",
   "execution_count": 36,
   "metadata": {
    "hidden": true
   },
   "outputs": [
    {
     "data": {
      "text/plain": [
       "(20000, 72)"
      ]
     },
     "execution_count": 36,
     "metadata": {},
     "output_type": "execute_result"
    }
   ],
   "source": [
    "claims.shape"
   ]
  },
  {
   "cell_type": "code",
   "execution_count": 37,
   "metadata": {
    "hidden": true
   },
   "outputs": [
    {
     "data": {
      "text/plain": [
       "13.88022844483786"
      ]
     },
     "execution_count": 37,
     "metadata": {},
     "output_type": "execute_result"
    }
   ],
   "source": [
    "x_claims = claims\n",
    "# 条件数在1附近是理想的，有文献表明超过15就说明存在共线性\n",
    "c = np.linalg.cond(x_claims, p=None)\n",
    "c"
   ]
  },
  {
   "cell_type": "markdown",
   "metadata": {
    "heading_collapsed": true
   },
   "source": [
    "## text_sum"
   ]
  },
  {
   "cell_type": "code",
   "execution_count": 38,
   "metadata": {
    "hidden": true
   },
   "outputs": [
    {
     "data": {
      "text/plain": [
       "(20000, 144)"
      ]
     },
     "execution_count": 38,
     "metadata": {},
     "output_type": "execute_result"
    }
   ],
   "source": [
    "sum_feature = pd.concat([abstract,claims],  axis=1, ignore_index=True)\n",
    "sum_feature.shape"
   ]
  },
  {
   "cell_type": "code",
   "execution_count": 39,
   "metadata": {
    "hidden": true
   },
   "outputs": [
    {
     "data": {
      "text/plain": [
       "17.245966619124523"
      ]
     },
     "execution_count": 39,
     "metadata": {},
     "output_type": "execute_result"
    }
   ],
   "source": [
    "x_text = sum_feature\n",
    "# 条件数在1附近是理想的，有文献表明超过15就说明存在共线性\n",
    "c = np.linalg.cond(x_text, p=None)\n",
    "c"
   ]
  },
  {
   "cell_type": "markdown",
   "metadata": {
    "heading_collapsed": true
   },
   "source": [
    "## result"
   ]
  },
  {
   "cell_type": "code",
   "execution_count": 12,
   "metadata": {
    "hidden": true
   },
   "outputs": [],
   "source": [
    "data = pd.read_excel(\"/home/hxjiang/Pythonworkspace/patent/sample20000/sample.xlsx\", encoding='utf-8')"
   ]
  },
  {
   "cell_type": "code",
   "execution_count": 13,
   "metadata": {
    "hidden": true
   },
   "outputs": [],
   "source": [
    "result = data['result']"
   ]
  },
  {
   "cell_type": "code",
   "execution_count": 14,
   "metadata": {
    "hidden": true
   },
   "outputs": [
    {
     "data": {
      "text/plain": [
       "array([1., 1.])"
      ]
     },
     "execution_count": 14,
     "metadata": {},
     "output_type": "execute_result"
    }
   ],
   "source": [
    "train_target = np_utils.to_categorical(data[['result']], 2)"
   ]
  },
  {
   "cell_type": "code",
   "execution_count": 15,
   "metadata": {
    "hidden": true
   },
   "outputs": [
    {
     "data": {
      "text/plain": [
       "(20000, 2)"
      ]
     },
     "execution_count": 15,
     "metadata": {},
     "output_type": "execute_result"
    }
   ],
   "source": [
    "train_target.shape"
   ]
  },
  {
   "cell_type": "markdown",
   "metadata": {
    "heading_collapsed": true
   },
   "source": [
    "# PCA降维"
   ]
  },
  {
   "cell_type": "code",
   "execution_count": 74,
   "metadata": {
    "collapsed": true,
    "hidden": true
   },
   "outputs": [],
   "source": [
    "pca = PCA(0.95)\n",
    "x = pca.fit_transform(x)\n",
    "x.shape"
   ]
  },
  {
   "cell_type": "code",
   "execution_count": 77,
   "metadata": {
    "hidden": true
   },
   "outputs": [
    {
     "data": {
      "text/plain": [
       "array([0.23741834, 0.16370374, 0.11579571, 0.06891193, 0.05665438,\n",
       "       0.03903511, 0.03543255, 0.03433684, 0.02892042, 0.02292958,\n",
       "       0.01830412, 0.01523005, 0.01480394, 0.01303235, 0.01152857,\n",
       "       0.01149545, 0.0093153 , 0.00872506, 0.00738233, 0.00675595,\n",
       "       0.00570286, 0.0055471 , 0.00527014, 0.00510093, 0.00456021,\n",
       "       0.00394785, 0.00379775])"
      ]
     },
     "execution_count": 77,
     "metadata": {},
     "output_type": "execute_result"
    }
   ],
   "source": [
    "pca.explained_variance_ratio_"
   ]
  },
  {
   "cell_type": "markdown",
   "metadata": {
    "heading_collapsed": true
   },
   "source": [
    "# 划分训练集"
   ]
  },
  {
   "cell_type": "code",
   "execution_count": 40,
   "metadata": {
    "hidden": true
   },
   "outputs": [],
   "source": [
    "num0 = int(len(train_target)*0.1)\n",
    "num2 = int(len(train_target)*0.9)\n",
    "\n",
    "x_abs_train = x_abs[:num2]\n",
    "x_abs_test = x_abs[num2:]\n",
    "\n",
    "x_claims_train = x_claims[:num2]\n",
    "x_claims_test = x_claims[num2:]\n",
    "\n",
    "x_text_train = x_text[:num2]\n",
    "x_text_test = x_text[num2:]"
   ]
  },
  {
   "cell_type": "code",
   "execution_count": 17,
   "metadata": {
    "hidden": true
   },
   "outputs": [],
   "source": [
    "y_binary_train = result[:num2]\n",
    "y_binary_test = result[num2:]\n",
    "\n",
    "y_category_train = train_target[:num2]\n",
    "y_category_test = train_target[num2:]"
   ]
  },
  {
   "cell_type": "markdown",
   "metadata": {
    "heading_collapsed": true
   },
   "source": [
    "# 机器学习分类"
   ]
  },
  {
   "cell_type": "code",
   "execution_count": 31,
   "metadata": {
    "code_folding": [
     0
    ],
    "hidden": true
   },
   "outputs": [],
   "source": [
    "def train_model(classifier, x_train, y_train, x_test, y_test):\n",
    "    classifier.fit(x_train, y_train)\n",
    "    \n",
    "    y_predict = classifier.predict(x_test)# 每一个x的预测值\n",
    "    y_predict_proba = classifier.predict_proba(x_test) # 预测分类的概率\n",
    "    \n",
    "    precision = metrics.precision_score(y_test, y_predict) # 精确率\n",
    "    recall = metrics.recall_score(y_test, y_predict) # 召回率\n",
    "    f1 = metrics.f1_score(y_test, y_predict) # f1\n",
    "    accuracy = metrics.accuracy_score(y_test, y_predict, normalize = True) # 准确率\n",
    "    \n",
    "    # print(\"accuracy: {:.4f} precision: {:.4f} recall: {:.4f} f1: {:.4f}\".format(accuracy,precision,recall,f1))\n",
    "    \n",
    "    return y_predict,y_predict_proba"
   ]
  },
  {
   "cell_type": "markdown",
   "metadata": {
    "heading_collapsed": true,
    "hidden": true
   },
   "source": [
    "## abstract"
   ]
  },
  {
   "cell_type": "code",
   "execution_count": 458,
   "metadata": {
    "code_folding": [
     0
    ],
    "hidden": true
   },
   "outputs": [],
   "source": [
    "def marchine_learn(x_train, y_train, x_test, y_test):\n",
    "    classifier_list = [linear_model.LogisticRegression(random_state=0, class_weight=\"balanced\", penalty='l2', C=0.005, fit_intercept=True), \n",
    "                       ensemble.RandomForestClassifier(random_state=0, class_weight=\"balanced\", n_estimators=10), \n",
    "                       xgboost.XGBClassifier(random_state=0, scale_pos_weight=0.75/1.49, learning_rate=0.15, n_estimators=400)]\n",
    "\n",
    "    y_predict_proba_dic = {}\n",
    "    y_predict_list = []\n",
    "    for i, classifier in enumerate(tqdm(classifier_list, ncols=50)):\n",
    "        y_predict, y_predict_proba = train_model(\n",
    "            classifier, x_train, y_train, x_test, y_test)\n",
    "        # print(\"predictions:\", y_predict)\n",
    "        y_predict_proba_dic[i] = y_predict_proba\n",
    "        y_predict_list.append(y_predict)\n",
    "\n",
    "    return y_predict_list, y_predict_proba_dic"
   ]
  },
  {
   "cell_type": "code",
   "execution_count": 481,
   "metadata": {
    "hidden": true,
    "scrolled": true
   },
   "outputs": [
    {
     "name": "stderr",
     "output_type": "stream",
     "text": [
      "100%|███████████████| 3/3 [00:15<00:00,  5.11s/it]\n"
     ]
    }
   ],
   "source": [
    "iter_dic = {}\n",
    "for i in range(1):\n",
    "    y_predict_list, y_predict_proba_dic = marchine_learn(x_abs_train, y_binary_train, x_abs_test, y_binary_test)\n",
    "    iter_dic[i] = y_predict_list"
   ]
  },
  {
   "cell_type": "code",
   "execution_count": 482,
   "metadata": {
    "code_folding": [
     5
    ],
    "hidden": true
   },
   "outputs": [],
   "source": [
    "LR_metrics_list = []\n",
    "RF_metrics_list = []\n",
    "XGB_metrics_list = []\n",
    "\n",
    "for key, value in iter_dic.items():\n",
    "    for i in range(3):\n",
    "        report = classification_report(y_binary_test, iter_dic[key][i], digits=4)\n",
    "        p = re.compile('  |\\n', re.S)\n",
    "        report = p.sub(' ', report)\n",
    "        metrics_content = re.findall(\"([\\d]{1}\\.[\\d]{4})    777\", report)\n",
    "        if i == 0:\n",
    "            LR_metrics_list.append(metrics_content)\n",
    "        if i == 1:\n",
    "            RF_metrics_list.append(metrics_content)\n",
    "        if i == 2:\n",
    "            XGB_metrics_list.append(metrics_content)"
   ]
  },
  {
   "cell_type": "code",
   "execution_count": 415,
   "metadata": {
    "cell_style": "split",
    "code_folding": [
     0
    ],
    "hidden": true
   },
   "outputs": [
    {
     "name": "stdout",
     "output_type": "stream",
     "text": [
      "LR acc:  0.5946\n",
      "LR macro:  0.5766\n",
      "LR weighted:  0.6046\n",
      "[0.5946]\n",
      "[0.5766]\n",
      "[0.6046]\n"
     ]
    }
   ],
   "source": [
    "# LR\n",
    "LR_metrics_arrat = np.array(LR_metrics_list,dtype=float)\n",
    "acc = np.mean(LR_metrics_arrat[:,0])\n",
    "print(\"LR acc:  {:.4f}\".format(acc))\n",
    "f1 = np.mean(LR_metrics_arrat[:,1])\n",
    "print(\"LR macro:  {:.4f}\".format(f1))\n",
    "weighted = np.mean(LR_metrics_arrat[:,2])\n",
    "print(\"LR weighted:  {:.4f}\".format(weighted))\n",
    "\n",
    "print(LR_metrics_arrat[:,0].tolist())\n",
    "print(LR_metrics_arrat[:,1].tolist())\n",
    "print(LR_metrics_arrat[:,2].tolist())"
   ]
  },
  {
   "cell_type": "code",
   "execution_count": 416,
   "metadata": {
    "cell_style": "split",
    "hidden": true
   },
   "outputs": [
    {
     "name": "stdout",
     "output_type": "stream",
     "text": [
      "              precision    recall  f1-score   support\n",
      "\n",
      "           0     0.4278    0.5720    0.4895       264\n",
      "           1     0.7335    0.6062    0.6638       513\n",
      "\n",
      "    accuracy                         0.5946       777\n",
      "   macro avg     0.5806    0.5891    0.5766       777\n",
      "weighted avg     0.6296    0.5946    0.6046       777\n",
      "\n"
     ]
    }
   ],
   "source": [
    "print(classification_report(y_binary_test, iter_dic[0][0], digits=4))"
   ]
  },
  {
   "cell_type": "code",
   "execution_count": 417,
   "metadata": {
    "cell_style": "split",
    "code_folding": [
     0
    ],
    "hidden": true
   },
   "outputs": [
    {
     "name": "stdout",
     "output_type": "stream",
     "text": [
      "RF acc:  0.5946\n",
      "RF macro:  0.5213\n",
      "RF weighted:  0.5813\n",
      "[0.5946]\n",
      "[0.5213]\n",
      "[0.5813]\n"
     ]
    }
   ],
   "source": [
    "# RF\n",
    "RF_metrics_arrat = np.array(RF_metrics_list,dtype=float)\n",
    "acc = np.mean(RF_metrics_arrat[:,0])\n",
    "print(\"RF acc:  {:.4f}\".format(acc))\n",
    "f1 = np.mean(RF_metrics_arrat[:,1])\n",
    "print(\"RF macro:  {:.4f}\".format(f1))\n",
    "weighted = np.mean(RF_metrics_arrat[:,2])\n",
    "print(\"RF weighted:  {:.4f}\".format(weighted))\n",
    "\n",
    "print(RF_metrics_arrat[:,0].tolist())\n",
    "print(RF_metrics_arrat[:,1].tolist())\n",
    "print(RF_metrics_arrat[:,2].tolist())"
   ]
  },
  {
   "cell_type": "code",
   "execution_count": 418,
   "metadata": {
    "cell_style": "split",
    "hidden": true
   },
   "outputs": [
    {
     "name": "stdout",
     "output_type": "stream",
     "text": [
      "              precision    recall  f1-score   support\n",
      "\n",
      "           0     0.3780    0.2992    0.3340       264\n",
      "           1     0.6743    0.7466    0.7086       513\n",
      "\n",
      "    accuracy                         0.5946       777\n",
      "   macro avg     0.5261    0.5229    0.5213       777\n",
      "weighted avg     0.5736    0.5946    0.5813       777\n",
      "\n"
     ]
    }
   ],
   "source": [
    "print(classification_report(y_binary_test, iter_dic[0][1], digits=4))"
   ]
  },
  {
   "cell_type": "code",
   "execution_count": 461,
   "metadata": {
    "cell_style": "split",
    "code_folding": [
     0
    ],
    "hidden": true
   },
   "outputs": [
    {
     "name": "stdout",
     "output_type": "stream",
     "text": [
      "XGB acc:  0.5933\n",
      "XGB macro:  0.5341\n",
      "XGB weighted:  0.5873\n",
      "[0.5946]\n",
      "[0.5213]\n",
      "[0.5813]\n"
     ]
    }
   ],
   "source": [
    "# XGB\n",
    "XGB_metrics_arrat = np.array(XGB_metrics_list,dtype=float)\n",
    "acc = np.mean(XGB_metrics_arrat[:,0])\n",
    "print(\"XGB acc:  {:.4f}\".format(acc))\n",
    "f1 = np.mean(XGB_metrics_arrat[:,1])\n",
    "print(\"XGB macro:  {:.4f}\".format(f1))\n",
    "weighted = np.mean(XGB_metrics_arrat[:,2])\n",
    "print(\"XGB weighted:  {:.4f}\".format(weighted))\n",
    "\n",
    "print(RF_metrics_arrat[:,0].tolist())\n",
    "print(RF_metrics_arrat[:,1].tolist())\n",
    "print(RF_metrics_arrat[:,2].tolist())"
   ]
  },
  {
   "cell_type": "code",
   "execution_count": 462,
   "metadata": {
    "cell_style": "split",
    "hidden": true
   },
   "outputs": [
    {
     "name": "stdout",
     "output_type": "stream",
     "text": [
      "              precision    recall  f1-score   support\n",
      "\n",
      "           0     0.3898    0.3485    0.3680       264\n",
      "           1     0.6821    0.7193    0.7002       513\n",
      "\n",
      "    accuracy                         0.5933       777\n",
      "   macro avg     0.5360    0.5339    0.5341       777\n",
      "weighted avg     0.5828    0.5933    0.5873       777\n",
      "\n"
     ]
    }
   ],
   "source": [
    "print(classification_report(y_binary_test, iter_dic[0][2], digits=4))"
   ]
  },
  {
   "cell_type": "markdown",
   "metadata": {
    "heading_collapsed": true,
    "hidden": true
   },
   "source": [
    "## claims"
   ]
  },
  {
   "cell_type": "code",
   "execution_count": 533,
   "metadata": {
    "code_folding": [
     7
    ],
    "hidden": true
   },
   "outputs": [],
   "source": [
    "def marchine_learn(x_train, y_train, x_test, y_test):\n",
    "    classifier_list = [linear_model.LogisticRegression(random_state=0, class_weight=\"balanced\", penalty='l2', C=0.01, fit_intercept=True), \n",
    "                       ensemble.RandomForestClassifier(random_state=0, class_weight=\"balanced\", n_estimators=10), \n",
    "                       xgboost.XGBClassifier(random_state=0, scale_pos_weight=0.75/1.49, learning_rate=0.15, n_estimators=400)]\n",
    "\n",
    "    y_predict_proba_dic = {}\n",
    "    y_predict_list = []\n",
    "    for i, classifier in enumerate(tqdm(classifier_list, ncols=50)):\n",
    "        y_predict, y_predict_proba = train_model(\n",
    "            classifier, x_train, y_train, x_test, y_test)\n",
    "        # print(\"predictions:\", y_predict)\n",
    "        y_predict_proba_dic[i] = y_predict_proba\n",
    "        y_predict_list.append(y_predict)\n",
    "\n",
    "    return y_predict_list, y_predict_proba_dic"
   ]
  },
  {
   "cell_type": "code",
   "execution_count": 534,
   "metadata": {
    "hidden": true
   },
   "outputs": [
    {
     "name": "stderr",
     "output_type": "stream",
     "text": [
      "100%|███████████████| 3/3 [00:23<00:00,  7.85s/it]\n"
     ]
    }
   ],
   "source": [
    "iter_dic = {}\n",
    "for i in range(1):\n",
    "    y_predict_list, y_predict_proba_dic = marchine_learn(x_claims_train, y_binary_train, x_claims_test, y_binary_test)\n",
    "    iter_dic[i] = y_predict_list"
   ]
  },
  {
   "cell_type": "code",
   "execution_count": 535,
   "metadata": {
    "code_folding": [
     4
    ],
    "hidden": true
   },
   "outputs": [],
   "source": [
    "LR_metrics_list = []\n",
    "RF_metrics_list = []\n",
    "XGB_metrics_list = []\n",
    "\n",
    "for key, value in iter_dic.items():\n",
    "    for i in range(3):\n",
    "        report = classification_report(y_binary_test, iter_dic[key][i], digits=4)\n",
    "        p = re.compile('  |\\n', re.S)\n",
    "        report = p.sub(' ', report)\n",
    "        metrics_content = re.findall(\"([\\d]{1}\\.[\\d]{4})    777\", report)\n",
    "        if i == 0:\n",
    "            LR_metrics_list.append(metrics_content)\n",
    "        if i == 1:\n",
    "            RF_metrics_list.append(metrics_content)\n",
    "        if i == 2:\n",
    "            XGB_metrics_list.append(metrics_content)"
   ]
  },
  {
   "cell_type": "code",
   "execution_count": 536,
   "metadata": {
    "cell_style": "split",
    "code_folding": [
     0
    ],
    "hidden": true
   },
   "outputs": [
    {
     "name": "stdout",
     "output_type": "stream",
     "text": [
      "LR acc:  0.6088\n",
      "LR macro:  0.5912\n",
      "LR weighted:  0.6183\n",
      "[0.6088]\n",
      "[0.5912]\n",
      "[0.6183]\n"
     ]
    }
   ],
   "source": [
    "# LR\n",
    "LR_metrics_arrat = np.array(LR_metrics_list,dtype=float)\n",
    "acc = np.mean(LR_metrics_arrat[:,0])\n",
    "print(\"LR acc:  {:.4f}\".format(acc))\n",
    "f1 = np.mean(LR_metrics_arrat[:,1])\n",
    "print(\"LR macro:  {:.4f}\".format(f1))\n",
    "weighted = np.mean(LR_metrics_arrat[:,2])\n",
    "print(\"LR weighted:  {:.4f}\".format(weighted))\n",
    "\n",
    "print(LR_metrics_arrat[:,0].tolist())\n",
    "print(LR_metrics_arrat[:,1].tolist())\n",
    "print(LR_metrics_arrat[:,2].tolist())"
   ]
  },
  {
   "cell_type": "code",
   "execution_count": 537,
   "metadata": {
    "cell_style": "split",
    "hidden": true
   },
   "outputs": [
    {
     "name": "stdout",
     "output_type": "stream",
     "text": [
      "              precision    recall  f1-score   support\n",
      "\n",
      "           0     0.4432    0.5909    0.5065       264\n",
      "           1     0.7459    0.6179    0.6759       513\n",
      "\n",
      "    accuracy                         0.6088       777\n",
      "   macro avg     0.5945    0.6044    0.5912       777\n",
      "weighted avg     0.6430    0.6088    0.6183       777\n",
      "\n"
     ]
    }
   ],
   "source": [
    "print(classification_report(y_binary_test, iter_dic[0][0], digits=4))"
   ]
  },
  {
   "cell_type": "code",
   "execution_count": 468,
   "metadata": {
    "cell_style": "split",
    "code_folding": [
     0
    ],
    "hidden": true,
    "scrolled": true
   },
   "outputs": [
    {
     "name": "stdout",
     "output_type": "stream",
     "text": [
      "RF acc:  0.6332\n",
      "RF macro:  0.5560\n",
      "RF weighted:  0.6153\n",
      "[0.6332]\n",
      "[0.556]\n",
      "[0.6153]\n"
     ]
    }
   ],
   "source": [
    "# RF\n",
    "RF_metrics_arrat = np.array(RF_metrics_list,dtype=float)\n",
    "acc = np.mean(RF_metrics_arrat[:,0])\n",
    "print(\"RF acc:  {:.4f}\".format(acc))\n",
    "f1 = np.mean(RF_metrics_arrat[:,1])\n",
    "print(\"RF macro:  {:.4f}\".format(f1))\n",
    "weighted = np.mean(RF_metrics_arrat[:,2])\n",
    "print(\"RF weighted:  {:.4f}\".format(weighted))\n",
    "\n",
    "print(RF_metrics_arrat[:,0].tolist())\n",
    "print(RF_metrics_arrat[:,1].tolist())\n",
    "print(RF_metrics_arrat[:,2].tolist())"
   ]
  },
  {
   "cell_type": "code",
   "execution_count": 469,
   "metadata": {
    "cell_style": "split",
    "hidden": true
   },
   "outputs": [
    {
     "name": "stdout",
     "output_type": "stream",
     "text": [
      "              precision    recall  f1-score   support\n",
      "\n",
      "           0     0.4444    0.3182    0.3709       264\n",
      "           1     0.6939    0.7953    0.7411       513\n",
      "\n",
      "    accuracy                         0.6332       777\n",
      "   macro avg     0.5692    0.5568    0.5560       777\n",
      "weighted avg     0.6091    0.6332    0.6153       777\n",
      "\n"
     ]
    }
   ],
   "source": [
    "print(classification_report(y_binary_test, iter_dic[0][1], digits=4))"
   ]
  },
  {
   "cell_type": "code",
   "execution_count": 470,
   "metadata": {
    "cell_style": "split",
    "code_folding": [
     0
    ],
    "hidden": true
   },
   "outputs": [
    {
     "name": "stdout",
     "output_type": "stream",
     "text": [
      "XGB acc:  0.6332\n",
      "XGB macro:  0.5594\n",
      "XGB weighted:  0.6172\n",
      "[0.6332]\n",
      "[0.556]\n",
      "[0.6153]\n"
     ]
    }
   ],
   "source": [
    "# XGB\n",
    "XGB_metrics_arrat = np.array(XGB_metrics_list,dtype=float)\n",
    "acc = np.mean(XGB_metrics_arrat[:,0])\n",
    "print(\"XGB acc:  {:.4f}\".format(acc))\n",
    "f1 = np.mean(XGB_metrics_arrat[:,1])\n",
    "print(\"XGB macro:  {:.4f}\".format(f1))\n",
    "weighted = np.mean(XGB_metrics_arrat[:,2])\n",
    "print(\"XGB weighted:  {:.4f}\".format(weighted))\n",
    "\n",
    "print(RF_metrics_arrat[:,0].tolist())\n",
    "print(RF_metrics_arrat[:,1].tolist())\n",
    "print(RF_metrics_arrat[:,2].tolist())"
   ]
  },
  {
   "cell_type": "code",
   "execution_count": 471,
   "metadata": {
    "cell_style": "split",
    "hidden": true
   },
   "outputs": [
    {
     "name": "stdout",
     "output_type": "stream",
     "text": [
      "              precision    recall  f1-score   support\n",
      "\n",
      "           0     0.4462    0.3295    0.3791       264\n",
      "           1     0.6959    0.7895    0.7397       513\n",
      "\n",
      "    accuracy                         0.6332       777\n",
      "   macro avg     0.5710    0.5595    0.5594       777\n",
      "weighted avg     0.6110    0.6332    0.6172       777\n",
      "\n"
     ]
    }
   ],
   "source": [
    "print(classification_report(y_binary_test, iter_dic[0][2], digits=4))"
   ]
  },
  {
   "cell_type": "markdown",
   "metadata": {
    "heading_collapsed": true,
    "hidden": true
   },
   "source": [
    "## text_sum"
   ]
  },
  {
   "cell_type": "code",
   "execution_count": 549,
   "metadata": {
    "code_folding": [
     7
    ],
    "hidden": true
   },
   "outputs": [],
   "source": [
    "def marchine_learn(x_train, y_train, x_test, y_test):\n",
    "    classifier_list = [linear_model.LogisticRegression(random_state=0, class_weight=\"balanced\", penalty='l2', C=0.03, fit_intercept=True), \n",
    "                       ensemble.RandomForestClassifier(random_state=0, class_weight=\"balanced\", n_estimators=200), \n",
    "                       xgboost.XGBClassifier(random_state=0, scale_pos_weight=0.75/1.49, learning_rate=0.15, n_estimators=400)]\n",
    "\n",
    "    y_predict_proba_dic = {}\n",
    "    y_predict_list = []\n",
    "    for i, classifier in enumerate(tqdm(classifier_list, ncols=50)):\n",
    "        y_predict, y_predict_proba = train_model(\n",
    "            classifier, x_train, y_train, x_test, y_test)\n",
    "        # print(\"predictions:\", y_predict)\n",
    "        y_predict_proba_dic[i] = y_predict_proba\n",
    "        y_predict_list.append(y_predict)\n",
    "\n",
    "    return y_predict_list, y_predict_proba_dic"
   ]
  },
  {
   "cell_type": "code",
   "execution_count": 550,
   "metadata": {
    "hidden": true
   },
   "outputs": [
    {
     "name": "stderr",
     "output_type": "stream",
     "text": [
      "100%|███████████████| 3/3 [02:07<00:00, 42.51s/it]\n"
     ]
    }
   ],
   "source": [
    "iter_dic = {}\n",
    "for i in range(1):\n",
    "    y_predict_list, y_predict_proba_dic = marchine_learn(x_text_train, y_binary_train, x_text_test, y_binary_test)\n",
    "    iter_dic[i] = y_predict_list"
   ]
  },
  {
   "cell_type": "code",
   "execution_count": 551,
   "metadata": {
    "code_folding": [
     4
    ],
    "hidden": true
   },
   "outputs": [],
   "source": [
    "LR_metrics_list = []\n",
    "RF_metrics_list = []\n",
    "XGB_metrics_list = []\n",
    "\n",
    "for key, value in iter_dic.items():\n",
    "    for i in range(3):\n",
    "        report = classification_report(y_binary_test, iter_dic[key][i], digits=4)\n",
    "        p = re.compile('  |\\n', re.S)\n",
    "        report = p.sub(' ', report)\n",
    "        metrics_content = re.findall(\"([\\d]{1}\\.[\\d]{4})    777\", report)\n",
    "        if i == 0:\n",
    "            LR_metrics_list.append(metrics_content)\n",
    "        if i == 1:\n",
    "            RF_metrics_list.append(metrics_content)\n",
    "        if i == 2:\n",
    "            XGB_metrics_list.append(metrics_content)"
   ]
  },
  {
   "cell_type": "code",
   "execution_count": 546,
   "metadata": {
    "cell_style": "split",
    "code_folding": [
     0
    ],
    "hidden": true
   },
   "outputs": [
    {
     "name": "stdout",
     "output_type": "stream",
     "text": [
      "LR acc:  0.6139\n",
      "LR macro:  0.5966\n",
      "LR weighted:  0.6234\n",
      "[0.6139]\n",
      "[0.5966]\n",
      "[0.6234]\n"
     ]
    }
   ],
   "source": [
    "# LR\n",
    "LR_metrics_arrat = np.array(LR_metrics_list,dtype=float)\n",
    "acc = np.mean(LR_metrics_arrat[:,0])\n",
    "print(\"LR acc:  {:.4f}\".format(acc))\n",
    "f1 = np.mean(LR_metrics_arrat[:,1])\n",
    "print(\"LR macro:  {:.4f}\".format(f1))\n",
    "weighted = np.mean(LR_metrics_arrat[:,2])\n",
    "print(\"LR weighted:  {:.4f}\".format(weighted))\n",
    "\n",
    "print(LR_metrics_arrat[:,0].tolist())\n",
    "print(LR_metrics_arrat[:,1].tolist())\n",
    "print(LR_metrics_arrat[:,2].tolist())"
   ]
  },
  {
   "cell_type": "code",
   "execution_count": 547,
   "metadata": {
    "cell_style": "split",
    "hidden": true
   },
   "outputs": [
    {
     "name": "stdout",
     "output_type": "stream",
     "text": [
      "              precision    recall  f1-score   support\n",
      "\n",
      "           0     0.4489    0.5985    0.5130       264\n",
      "           1     0.7506    0.6218    0.6802       513\n",
      "\n",
      "    accuracy                         0.6139       777\n",
      "   macro avg     0.5997    0.6102    0.5966       777\n",
      "weighted avg     0.6481    0.6139    0.6234       777\n",
      "\n"
     ]
    }
   ],
   "source": [
    "print(classification_report(y_binary_test, iter_dic[0][0], digits=4))"
   ]
  },
  {
   "cell_type": "code",
   "execution_count": 552,
   "metadata": {
    "cell_style": "split",
    "code_folding": [
     0
    ],
    "hidden": true
   },
   "outputs": [
    {
     "name": "stdout",
     "output_type": "stream",
     "text": [
      "RF acc:  0.6705\n",
      "RF macro:  0.4658\n",
      "RF weighted:  0.5718\n",
      "[0.6705]\n",
      "[0.4658]\n",
      "[0.5718]\n"
     ]
    }
   ],
   "source": [
    "# RF\n",
    "RF_metrics_arrat = np.array(RF_metrics_list,dtype=float)\n",
    "acc = np.mean(RF_metrics_arrat[:,0])\n",
    "print(\"RF acc:  {:.4f}\".format(acc))\n",
    "f1 = np.mean(RF_metrics_arrat[:,1])\n",
    "print(\"RF macro:  {:.4f}\".format(f1))\n",
    "weighted = np.mean(RF_metrics_arrat[:,2])\n",
    "print(\"RF weighted:  {:.4f}\".format(weighted))\n",
    "\n",
    "print(RF_metrics_arrat[:,0].tolist())\n",
    "print(RF_metrics_arrat[:,1].tolist())\n",
    "print(RF_metrics_arrat[:,2].tolist())"
   ]
  },
  {
   "cell_type": "code",
   "execution_count": 553,
   "metadata": {
    "cell_style": "split",
    "hidden": true
   },
   "outputs": [
    {
     "name": "stdout",
     "output_type": "stream",
     "text": [
      "              precision    recall  f1-score   support\n",
      "\n",
      "           0     0.6250    0.0758    0.1351       264\n",
      "           1     0.6725    0.9766    0.7965       513\n",
      "\n",
      "    accuracy                         0.6705       777\n",
      "   macro avg     0.6487    0.5262    0.4658       777\n",
      "weighted avg     0.6563    0.6705    0.5718       777\n",
      "\n"
     ]
    }
   ],
   "source": [
    "print(classification_report(y_binary_test, iter_dic[0][1], digits=4))"
   ]
  },
  {
   "cell_type": "code",
   "execution_count": 478,
   "metadata": {
    "cell_style": "split",
    "code_folding": [
     0
    ],
    "hidden": true
   },
   "outputs": [
    {
     "name": "stdout",
     "output_type": "stream",
     "text": [
      "XGB acc:  0.6551\n",
      "XGB macro:  0.5775\n",
      "XGB weighted:  0.6355\n",
      "[0.6242]\n",
      "[0.5409]\n",
      "[0.6036]\n"
     ]
    }
   ],
   "source": [
    "# XGB\n",
    "XGB_metrics_arrat = np.array(XGB_metrics_list,dtype=float)\n",
    "acc = np.mean(XGB_metrics_arrat[:,0])\n",
    "print(\"XGB acc:  {:.4f}\".format(acc))\n",
    "f1 = np.mean(XGB_metrics_arrat[:,1])\n",
    "print(\"XGB macro:  {:.4f}\".format(f1))\n",
    "weighted = np.mean(XGB_metrics_arrat[:,2])\n",
    "print(\"XGB weighted:  {:.4f}\".format(weighted))\n",
    "\n",
    "print(RF_metrics_arrat[:,0].tolist())\n",
    "print(RF_metrics_arrat[:,1].tolist())\n",
    "print(RF_metrics_arrat[:,2].tolist())"
   ]
  },
  {
   "cell_type": "code",
   "execution_count": 479,
   "metadata": {
    "cell_style": "split",
    "hidden": true
   },
   "outputs": [
    {
     "name": "stdout",
     "output_type": "stream",
     "text": [
      "              precision    recall  f1-score   support\n",
      "\n",
      "           0     0.4889    0.3333    0.3964       264\n",
      "           1     0.7052    0.8207    0.7586       513\n",
      "\n",
      "    accuracy                         0.6551       777\n",
      "   macro avg     0.5970    0.5770    0.5775       777\n",
      "weighted avg     0.6317    0.6551    0.6355       777\n",
      "\n"
     ]
    }
   ],
   "source": [
    "print(classification_report(y_binary_test, iter_dic[0][2], digits=4))"
   ]
  },
  {
   "cell_type": "markdown",
   "metadata": {
    "heading_collapsed": true,
    "hidden": true
   },
   "source": [
    "## 绘图"
   ]
  },
  {
   "cell_type": "code",
   "execution_count": 463,
   "metadata": {
    "cell_style": "split",
    "code_folding": [
     2
    ],
    "hidden": true,
    "scrolled": false
   },
   "outputs": [
    {
     "name": "stderr",
     "output_type": "stream",
     "text": [
      "100%|█| 3/3 [00:00<0\n"
     ]
    },
    {
     "data": {
      "image/png": "[encoded data removed]",
      "text/plain": [
       "<Figure size 360x216 with 1 Axes>"
      ]
     },
     "metadata": {
      "needs_background": "light"
     },
     "output_type": "display_data"
    }
   ],
   "source": [
    "plt.figure(figsize=(5,3))\n",
    "plt.plot([0, 1], [0, 1], linestyle='--')\n",
    "for key in tqdm(y_predict_proba_dic.keys(), ncols=20):\n",
    "    y_scores = [y_predict_proba_1[1] for y_predict_proba_1 in y_predict_proba_dic[key]]\n",
    "    fpr, tpr, _  =  roc_curve(y_binary_test, y_scores)\n",
    "    roc_auc = auc(fpr,tpr)\n",
    "    plt.plot(fpr, tpr, label=str(key) + ':node ROC curve (%0.4f)' % roc_auc)\n",
    "plt.xlabel('False Positive Rate')\n",
    "plt.ylabel('True Positive Rate')\n",
    "plt.title('Receiver operating characteristic example')\n",
    "plt.legend(loc=\"lower right\")\n",
    "plt.show()"
   ]
  },
  {
   "cell_type": "code",
   "execution_count": 538,
   "metadata": {
    "cell_style": "split",
    "code_folding": [
     2
    ],
    "hidden": true
   },
   "outputs": [
    {
     "name": "stderr",
     "output_type": "stream",
     "text": [
      "100%|█| 3/3 [00:00<0\n"
     ]
    },
    {
     "data": {
      "image/png": "[encoded data removed]",
      "text/plain": [
       "<Figure size 360x216 with 1 Axes>"
      ]
     },
     "metadata": {
      "needs_background": "light"
     },
     "output_type": "display_data"
    }
   ],
   "source": [
    "plt.figure(figsize=(5,3))\n",
    "plt.plot([0, 1], [0, 1], linestyle='--')\n",
    "for key in tqdm(y_predict_proba_dic.keys(), ncols=20):\n",
    "    y_scores = [y_predict_proba_1[1] for y_predict_proba_1 in y_predict_proba_dic[key]]\n",
    "    fpr, tpr, _  =  roc_curve(y_binary_test, y_scores)\n",
    "    roc_auc = auc(fpr,tpr)\n",
    "    plt.plot(fpr, tpr, label=str(key) + ':node ROC curve (%0.4f)' % roc_auc)\n",
    "plt.xlabel('False Positive Rate')\n",
    "plt.ylabel('True Positive Rate')\n",
    "plt.title('Receiver operating characteristic example')\n",
    "plt.legend(loc=\"lower right\")\n",
    "plt.show()"
   ]
  },
  {
   "cell_type": "code",
   "execution_count": 548,
   "metadata": {
    "cell_style": "split",
    "code_folding": [
     2
    ],
    "hidden": true
   },
   "outputs": [
    {
     "name": "stderr",
     "output_type": "stream",
     "text": [
      "100%|█| 3/3 [00:00<0\n"
     ]
    },
    {
     "data": {
      "image/png": "[encoded data removed]",
      "text/plain": [
       "<Figure size 360x216 with 1 Axes>"
      ]
     },
     "metadata": {
      "needs_background": "light"
     },
     "output_type": "display_data"
    }
   ],
   "source": [
    "plt.figure(figsize=(5,3))\n",
    "plt.plot([0, 1], [0, 1], linestyle='--')\n",
    "for key in tqdm(y_predict_proba_dic.keys(), ncols=20):\n",
    "    y_scores = [y_predict_proba_1[1] for y_predict_proba_1 in y_predict_proba_dic[key]]\n",
    "    fpr, tpr, _  =  roc_curve(y_binary_test, y_scores)\n",
    "    roc_auc = auc(fpr,tpr)\n",
    "    plt.plot(fpr, tpr, label=str(key) + ':node ROC curve (%0.4f)' % roc_auc)\n",
    "plt.xlabel('False Positive Rate')\n",
    "plt.ylabel('True Positive Rate')\n",
    "plt.title('Receiver operating characteristic example')\n",
    "plt.legend(loc=\"lower right\")\n",
    "plt.show()"
   ]
  },
  {
   "cell_type": "markdown",
   "metadata": {},
   "source": [
    "# 神经网络分类"
   ]
  },
  {
   "cell_type": "code",
   "execution_count": 19,
   "metadata": {
    "code_folding": [
     0
    ]
   },
   "outputs": [],
   "source": [
    "def plot_history(history):\n",
    "    acc = history.history['acc']\n",
    "    val_acc = history.history['val_acc']\n",
    "    loss = history.history['loss']\n",
    "    val_loss = history.history['val_loss']\n",
    "    x = range(1, len(acc) + 1)\n",
    "\n",
    "    plt.figure(figsize=(12, 5))\n",
    "    plt.subplot(1, 2, 1)\n",
    "    plt.plot(x, acc, 'b', label='Training acc')\n",
    "    plt.plot(x, val_acc, 'r', label='Validation acc')\n",
    "    plt.title('Training and validation accuracy')\n",
    "    plt.legend()\n",
    "    plt.subplot(1, 2, 2)\n",
    "    plt.plot(x, loss, 'b', label='Training loss')\n",
    "    plt.plot(x, val_loss, 'r', label='Validation loss')\n",
    "    plt.title('Training and validation loss')\n",
    "    plt.legend()\n",
    "    plt.show()"
   ]
  },
  {
   "cell_type": "code",
   "execution_count": 20,
   "metadata": {},
   "outputs": [],
   "source": [
    "# 提前停止监视器设置为3，这意味着在连续3次运行后，模型的性能没有改进的话，训练将会被停止\n",
    "my_callbacks = [EarlyStopping(monitor='val_loss', mode='min', patience=10)]"
   ]
  },
  {
   "cell_type": "markdown",
   "metadata": {
    "heading_collapsed": true
   },
   "source": [
    "## abstract"
   ]
  },
  {
   "cell_type": "code",
   "execution_count": 41,
   "metadata": {
    "code_folding": [
     0
    ],
    "hidden": true
   },
   "outputs": [],
   "source": [
    "def full_connect_network(n_cols):\n",
    "    # Add an Input Layer\n",
    "    input_layer = layers.Input((n_cols, ))\n",
    "\n",
    "    Dense_layer_1 = layers.Dense(72, activation=\"tanh\")(input_layer)\n",
    "    dropout_layer = layers.Dropout(0.9)(Dense_layer_1)\n",
    "    Dense_layer_2 = layers.Dense(32, activation=\"tanh\")(dropout_layer)\n",
    "    dropout_layer = layers.Dropout(0.25)(Dense_layer_2)\n",
    "    Dense_layer_3 = layers.Dense(2, activation='softmax')(dropout_layer)\n",
    "\n",
    "    model = models.Model(inputs=input_layer, outputs=Dense_layer_3)\n",
    "    model.compile(optimizer=optimizers.Adadelta(lr=0.1), loss='categorical_crossentropy', metrics=['accuracy'])\n",
    "    # model.summary()\n",
    "\n",
    "    return model"
   ]
  },
  {
   "cell_type": "code",
   "execution_count": 47,
   "metadata": {
    "code_folding": [
     5
    ],
    "hidden": true,
    "scrolled": true
   },
   "outputs": [
    {
     "name": "stderr",
     "output_type": "stream",
     "text": [
      "100%|█████████████████████████████████| 10/10 [06:41<00:00, 40.13s/it]\n"
     ]
    }
   ],
   "source": [
    "history_list = []\n",
    "model_list = []\n",
    "\n",
    "for i in tqdm(range(10), ncols=70):\n",
    "    model = full_connect_network(x_abs_train.shape[1])\n",
    "    history = model.fit(x_abs_train, y_category_train, \n",
    "                        validation_split=0.11, \n",
    "                        verbose=0, epochs=100, batch_size=128, shuffle=True,\n",
    "                        callbacks=my_callbacks)\n",
    "    history_list.append(history)\n",
    "    model_list.append(model)"
   ]
  },
  {
   "cell_type": "code",
   "execution_count": 48,
   "metadata": {
    "code_folding": [
     3
    ],
    "hidden": true
   },
   "outputs": [
    {
     "name": "stderr",
     "output_type": "stream",
     "text": [
      "100%|█████████████████████████████████| 10/10 [00:02<00:00,  3.54it/s]\n"
     ]
    }
   ],
   "source": [
    "metrics_list = []\n",
    "roc_list = []\n",
    "\n",
    "for model in tqdm(model_list, ncols=70):\n",
    "    y_pred = model.predict(x_abs_test, batch_size=128, verbose=0)\n",
    "    y_pred_proba = np.array(y_pred, dtype=float)\n",
    "    y_pred_proba = y_pred_proba[:,1]\n",
    "    fpr, tpr, _  =  roc_curve(y_binary_test, list(y_pred_proba))\n",
    "    roc_list.append(auc(fpr,tpr))\n",
    "\n",
    "    for i in range(len(y_pred)):\n",
    "        max_value=max(y_pred[i])\n",
    "        for j in range(len(y_pred[i])):\n",
    "            if max_value==y_pred[i][j]:\n",
    "                y_pred[i][j]=1\n",
    "            else:\n",
    "                y_pred[i][j]=0\n",
    "    report = classification_report(y_category_test, y_pred, digits=4)\n",
    "    p = re.compile('  |\\n', re.S)\n",
    "    report = p.sub(' ', report)\n",
    "    metrics_content = re.findall(\"([\\d]{1}\\.[\\d]{4})   \"+str(num0), report)\n",
    "    metrics_list.append(metrics_content)"
   ]
  },
  {
   "cell_type": "code",
   "execution_count": 49,
   "metadata": {
    "cell_style": "split",
    "code_folding": [
     0
    ],
    "hidden": true,
    "scrolled": true
   },
   "outputs": [
    {
     "name": "stdout",
     "output_type": "stream",
     "text": [
      "acc mean:  0.5559\n",
      "acc max:  0.5665\n",
      "f1 mean:  0.5558\n",
      "f1 max:  0.5664\n",
      "auc mean:  0.5769\n",
      "auc max:  0.5799\n"
     ]
    }
   ],
   "source": [
    "# sum\n",
    "metrics_arrat = np.array(metrics_list,dtype=float)\n",
    "print(\"acc mean:  {:.4f}\".format(np.mean(metrics_arrat[:,0])))\n",
    "print(\"acc max:  {:.4f}\".format(np.max(metrics_arrat[:,0])))\n",
    "\n",
    "print(\"f1 mean:  {:.4f}\".format(np.mean(metrics_arrat[:,1])))\n",
    "print(\"f1 max:  {:.4f}\".format(np.max(metrics_arrat[:,1])))\n",
    "\n",
    "# print(metrics_arrat[:,0].tolist())\n",
    "# print(metrics_arrat[:,1].tolist())\n",
    "# print(metrics_arrat[:,2].tolist())\n",
    "\n",
    "print(\"auc mean:  {:.4f}\".format(np.mean(roc_list)))\n",
    "print(\"auc max:  {:.4f}\".format(np.max(roc_list)))"
   ]
  },
  {
   "cell_type": "code",
   "execution_count": 45,
   "metadata": {
    "cell_style": "split",
    "hidden": true
   },
   "outputs": [
    {
     "name": "stdout",
     "output_type": "stream",
     "text": [
      "              precision    recall  f1-score   support\n",
      "\n",
      "           0     0.5821    0.5322    0.5560      1026\n",
      "           1     0.5480    0.5975    0.5717       974\n",
      "\n",
      "   micro avg     0.5640    0.5640    0.5640      2000\n",
      "   macro avg     0.5651    0.5648    0.5639      2000\n",
      "weighted avg     0.5655    0.5640    0.5637      2000\n",
      " samples avg     0.5640    0.5640    0.5640      2000\n",
      "\n"
     ]
    }
   ],
   "source": [
    "print(classification_report(y_category_test, y_pred, digits=4))"
   ]
  },
  {
   "cell_type": "code",
   "execution_count": 46,
   "metadata": {
    "cell_style": "split",
    "hidden": true
   },
   "outputs": [
    {
     "data": {
      "image/png": "[encoded data removed]",
      "text/plain": [
       "<Figure size 864x360 with 2 Axes>"
      ]
     },
     "metadata": {
      "needs_background": "light"
     },
     "output_type": "display_data"
    }
   ],
   "source": [
    "plot_history(history_list[0])"
   ]
  },
  {
   "cell_type": "markdown",
   "metadata": {
    "heading_collapsed": true
   },
   "source": [
    "## claims"
   ]
  },
  {
   "cell_type": "code",
   "execution_count": 52,
   "metadata": {
    "code_folding": [
     0
    ],
    "hidden": true
   },
   "outputs": [],
   "source": [
    "def full_connect_network(n_cols):\n",
    "    # Add an Input Layer\n",
    "    input_layer = layers.Input((n_cols, ))\n",
    "\n",
    "    Dense_layer_1 = layers.Dense(72, activation=\"tanh\")(input_layer)\n",
    "    dropout_layer = layers.Dropout(0.9)(Dense_layer_1)\n",
    "    Dense_layer_2 = layers.Dense(32, activation=\"tanh\")(dropout_layer)\n",
    "    dropout_layer = layers.Dropout(0.9)(Dense_layer_2)\n",
    "    Dense_layer_3 = layers.Dense(2, activation='softmax')(dropout_layer)\n",
    "\n",
    "    model = models.Model(inputs=input_layer, outputs=Dense_layer_3)\n",
    "    model.compile(optimizer=optimizers.Adadelta(lr=1), loss='categorical_crossentropy', metrics=['accuracy'])\n",
    "    # model.summary()\n",
    "\n",
    "    return model"
   ]
  },
  {
   "cell_type": "code",
   "execution_count": 65,
   "metadata": {
    "code_folding": [
     5
    ],
    "hidden": true
   },
   "outputs": [
    {
     "name": "stderr",
     "output_type": "stream",
     "text": [
      "100%|█████████████████████████████████| 10/10 [02:42<00:00, 16.29s/it]\n"
     ]
    }
   ],
   "source": [
    "history_list = []\n",
    "model_list = []\n",
    "\n",
    "for i in tqdm(range(10), ncols=70):\n",
    "    model = full_connect_network(x_claims_train.shape[1])\n",
    "    history = model.fit(x_claims_train, y_category_train, \n",
    "                        validation_split=0.11, \n",
    "                        verbose=0, epochs=100, batch_size=128, shuffle=True,\n",
    "                        callbacks=my_callbacks)\n",
    "    history_list.append(history)\n",
    "    model_list.append(model)"
   ]
  },
  {
   "cell_type": "code",
   "execution_count": 66,
   "metadata": {
    "code_folding": [
     3
    ],
    "hidden": true
   },
   "outputs": [
    {
     "name": "stderr",
     "output_type": "stream",
     "text": [
      "100%|█████████████████████████████████| 10/10 [00:06<00:00,  1.61it/s]\n"
     ]
    }
   ],
   "source": [
    "metrics_list = []\n",
    "roc_list = []\n",
    "\n",
    "for model in tqdm(model_list, ncols=70):\n",
    "    y_pred = model.predict(x_claims_test, batch_size=128, verbose=0)\n",
    "    y_pred_proba = np.array(y_pred, dtype=float)\n",
    "    y_pred_proba = y_pred_proba[:,1]\n",
    "    fpr, tpr, _  =  roc_curve(y_binary_test, list(y_pred_proba))\n",
    "    roc_list.append(auc(fpr,tpr))\n",
    "\n",
    "    for i in range(len(y_pred)):\n",
    "        max_value=max(y_pred[i])\n",
    "        for j in range(len(y_pred[i])):\n",
    "            if max_value==y_pred[i][j]:\n",
    "                y_pred[i][j]=1\n",
    "            else:\n",
    "                y_pred[i][j]=0\n",
    "    report = classification_report(y_category_test, y_pred, digits=4)\n",
    "    p = re.compile('  |\\n', re.S)\n",
    "    report = p.sub(' ', report)\n",
    "    metrics_content = re.findall(\"([\\d]{1}\\.[\\d]{4})   \"+str(num0), report)\n",
    "    metrics_list.append(metrics_content)"
   ]
  },
  {
   "cell_type": "code",
   "execution_count": 67,
   "metadata": {
    "cell_style": "split",
    "code_folding": [
     0
    ],
    "hidden": true
   },
   "outputs": [
    {
     "name": "stdout",
     "output_type": "stream",
     "text": [
      "acc mean:  0.5637\n",
      "acc max:  0.5780\n",
      "f1 mean:  0.5634\n",
      "f1 max:  0.5776\n",
      "auc mean:  0.5861\n",
      "auc max:  0.6000\n"
     ]
    }
   ],
   "source": [
    "# sum\n",
    "metrics_arrat = np.array(metrics_list,dtype=float)\n",
    "print(\"acc mean:  {:.4f}\".format(np.mean(metrics_arrat[:,0])))\n",
    "print(\"acc max:  {:.4f}\".format(np.max(metrics_arrat[:,0])))\n",
    "\n",
    "print(\"f1 mean:  {:.4f}\".format(np.mean(metrics_arrat[:,1])))\n",
    "print(\"f1 max:  {:.4f}\".format(np.max(metrics_arrat[:,1])))\n",
    "\n",
    "# print(metrics_arrat[:,0].tolist())\n",
    "# print(metrics_arrat[:,1].tolist())\n",
    "# print(metrics_arrat[:,2].tolist())\n",
    "\n",
    "print(\"auc mean:  {:.4f}\".format(np.mean(roc_list)))\n",
    "print(\"auc max:  {:.4f}\".format(np.max(roc_list)))"
   ]
  },
  {
   "cell_type": "code",
   "execution_count": 56,
   "metadata": {
    "cell_style": "split",
    "hidden": true
   },
   "outputs": [
    {
     "name": "stdout",
     "output_type": "stream",
     "text": [
      "              precision    recall  f1-score   support\n",
      "\n",
      "           0     0.5846    0.6062    0.5952      1026\n",
      "           1     0.5684    0.5462    0.5571       974\n",
      "\n",
      "   micro avg     0.5770    0.5770    0.5770      2000\n",
      "   macro avg     0.5765    0.5762    0.5761      2000\n",
      "weighted avg     0.5767    0.5770    0.5766      2000\n",
      " samples avg     0.5770    0.5770    0.5770      2000\n",
      "\n"
     ]
    }
   ],
   "source": [
    "print(classification_report(y_category_test, y_pred, digits=4))"
   ]
  },
  {
   "cell_type": "code",
   "execution_count": 57,
   "metadata": {
    "cell_style": "split",
    "hidden": true
   },
   "outputs": [
    {
     "data": {
      "image/png": "[encoded data removed]",
      "text/plain": [
       "<Figure size 864x360 with 2 Axes>"
      ]
     },
     "metadata": {
      "needs_background": "light"
     },
     "output_type": "display_data"
    }
   ],
   "source": [
    "plot_history(history_list[0])"
   ]
  },
  {
   "cell_type": "markdown",
   "metadata": {
    "heading_collapsed": true
   },
   "source": [
    "## text_sum"
   ]
  },
  {
   "cell_type": "code",
   "execution_count": 58,
   "metadata": {
    "code_folding": [
     0
    ],
    "hidden": true
   },
   "outputs": [],
   "source": [
    "def full_connect_network(n_cols):\n",
    "    # Add an Input Layer\n",
    "    input_layer = layers.Input((n_cols, ))\n",
    "\n",
    "    Dense_layer_1 = layers.Dense(148, activation=\"tanh\")(input_layer)\n",
    "    dropout_layer = layers.Dropout(0.9)(Dense_layer_1)\n",
    "    Dense_layer_2 = layers.Dense(36, activation=\"tanh\")(dropout_layer)\n",
    "    dropout_layer = layers.Dropout(0.9)(Dense_layer_2)\n",
    "    Dense_layer_3 = layers.Dense(2, activation='softmax')(dropout_layer)\n",
    "\n",
    "    model = models.Model(inputs=input_layer, outputs=Dense_layer_3)\n",
    "    model.compile(optimizer=optimizers.Adadelta(lr=0.1), loss='categorical_crossentropy', metrics=['accuracy'])\n",
    "    # model.summary()\n",
    "\n",
    "    return model"
   ]
  },
  {
   "cell_type": "code",
   "execution_count": 68,
   "metadata": {
    "code_folding": [
     3
    ],
    "hidden": true
   },
   "outputs": [
    {
     "name": "stderr",
     "output_type": "stream",
     "text": [
      "100%|█████████████████████████████████| 10/10 [02:59<00:00, 17.98s/it]\n"
     ]
    }
   ],
   "source": [
    "history_list = []\n",
    "model_list = []\n",
    "\n",
    "for i in tqdm(range(10), ncols=70):\n",
    "    model = full_connect_network(x_text_train.shape[1])\n",
    "    history = model.fit(x_text_train, y_category_train, \n",
    "                        validation_split=0.11, \n",
    "                        verbose=0, epochs=100, batch_size=128, shuffle=True,\n",
    "                        callbacks=my_callbacks)\n",
    "    history_list.append(history)\n",
    "    model_list.append(model)"
   ]
  },
  {
   "cell_type": "code",
   "execution_count": 69,
   "metadata": {
    "code_folding": [
     3
    ],
    "hidden": true
   },
   "outputs": [
    {
     "name": "stderr",
     "output_type": "stream",
     "text": [
      "100%|█████████████████████████████████| 10/10 [00:08<00:00,  1.14it/s]\n"
     ]
    }
   ],
   "source": [
    "metrics_list = []\n",
    "roc_list = []\n",
    "\n",
    "for model in tqdm(model_list, ncols=70):\n",
    "    y_pred = model.predict(x_text_test, batch_size=128, verbose=0)\n",
    "    y_pred_proba = np.array(y_pred, dtype=float)\n",
    "    y_pred_proba = y_pred_proba[:,1]\n",
    "    fpr, tpr, _  =  roc_curve(y_binary_test, list(y_pred_proba))\n",
    "    roc_list.append(auc(fpr,tpr))\n",
    "\n",
    "    for i in range(len(y_pred)):\n",
    "        max_value=max(y_pred[i])\n",
    "        for j in range(len(y_pred[i])):\n",
    "            if max_value==y_pred[i][j]:\n",
    "                y_pred[i][j]=1\n",
    "            else:\n",
    "                y_pred[i][j]=0\n",
    "    report = classification_report(y_category_test, y_pred, digits=4)\n",
    "    p = re.compile('  |\\n', re.S)\n",
    "    report = p.sub(' ', report)\n",
    "    metrics_content = re.findall(\"([\\d]{1}\\.[\\d]{4})   \"+str(num0), report)\n",
    "    metrics_list.append(metrics_content)"
   ]
  },
  {
   "cell_type": "code",
   "execution_count": 70,
   "metadata": {
    "cell_style": "split",
    "code_folding": [
     0
    ],
    "hidden": true
   },
   "outputs": [
    {
     "name": "stdout",
     "output_type": "stream",
     "text": [
      "acc mean:  0.5603\n",
      "acc max:  0.5715\n",
      "f1 mean:  0.5592\n",
      "f1 max:  0.5709\n",
      "auc mean:  0.5869\n",
      "auc max:  0.5965\n"
     ]
    }
   ],
   "source": [
    "# sum\n",
    "metrics_arrat = np.array(metrics_list,dtype=float)\n",
    "print(\"acc mean:  {:.4f}\".format(np.mean(metrics_arrat[:,0])))\n",
    "print(\"acc max:  {:.4f}\".format(np.max(metrics_arrat[:,0])))\n",
    "\n",
    "print(\"f1 mean:  {:.4f}\".format(np.mean(metrics_arrat[:,1])))\n",
    "print(\"f1 max:  {:.4f}\".format(np.max(metrics_arrat[:,1])))\n",
    "\n",
    "# print(metrics_arrat[:,0].tolist())\n",
    "# print(metrics_arrat[:,1].tolist())\n",
    "# print(metrics_arrat[:,2].tolist())\n",
    "\n",
    "print(\"auc mean:  {:.4f}\".format(np.mean(roc_list)))\n",
    "print(\"auc max:  {:.4f}\".format(np.max(roc_list)))"
   ]
  },
  {
   "cell_type": "code",
   "execution_count": 63,
   "metadata": {
    "cell_style": "split",
    "hidden": true
   },
   "outputs": [
    {
     "name": "stdout",
     "output_type": "stream",
     "text": [
      "              precision    recall  f1-score   support\n",
      "\n",
      "           0     0.5889    0.5292    0.5575      1026\n",
      "           1     0.5519    0.6109    0.5799       974\n",
      "\n",
      "   micro avg     0.5690    0.5690    0.5690      2000\n",
      "   macro avg     0.5704    0.5701    0.5687      2000\n",
      "weighted avg     0.5709    0.5690    0.5684      2000\n",
      " samples avg     0.5690    0.5690    0.5690      2000\n",
      "\n"
     ]
    }
   ],
   "source": [
    "print(classification_report(y_category_test, y_pred, digits=4))"
   ]
  },
  {
   "cell_type": "code",
   "execution_count": 64,
   "metadata": {
    "cell_style": "split",
    "hidden": true
   },
   "outputs": [
    {
     "data": {
      "image/png": "[encoded data removed]",
      "text/plain": [
       "<Figure size 864x360 with 2 Axes>"
      ]
     },
     "metadata": {
      "needs_background": "light"
     },
     "output_type": "display_data"
    }
   ],
   "source": [
    "plot_history(history_list[0])"
   ]
  },
  {
   "cell_type": "code",
   "execution_count": null,
   "metadata": {
    "hidden": true
   },
   "outputs": [],
   "source": []
  }
 ],
 "metadata": {
  "kernelspec": {
   "display_name": "Python 3",
   "language": "python",
   "name": "python3"
  },
  "language_info": {
   "codemirror_mode": {
    "name": "ipython",
    "version": 3
   },
   "file_extension": ".py",
   "mimetype": "text/x-python",
   "name": "python",
   "nbconvert_exporter": "python",
   "pygments_lexer": "ipython3",
   "version": "3.6.9"
  },
  "toc": {
   "base_numbering": 1,
   "nav_menu": {},
   "number_sections": true,
   "sideBar": true,
   "skip_h1_title": false,
   "title_cell": "Table of Contents",
   "title_sidebar": "Contents",
   "toc_cell": false,
   "toc_position": {
    "height": "calc(100% - 180px)",
    "left": "10px",
    "top": "150px",
    "width": "165px"
   },
   "toc_section_display": true,
   "toc_window_display": true
  },
  "varInspector": {
   "cols": {
    "lenName": 16,
    "lenType": 16,
    "lenVar": 40
   },
   "kernels_config": {
    "python": {
     "delete_cmd_postfix": "",
     "delete_cmd_prefix": "del ",
     "library": "var_list.py",
     "varRefreshCmd": "print(var_dic_list())"
    },
    "r": {
     "delete_cmd_postfix": ") ",
     "delete_cmd_prefix": "rm(",
     "library": "var_list.r",
     "varRefreshCmd": "cat(var_dic_list()) "
    }
   },
   "types_to_exclude": [
    "module",
    "function",
    "builtin_function_or_method",
    "instance",
    "_Feature"
   ],
   "window_display": false
  }
 },
 "nbformat": 4,
 "nbformat_minor": 2
}
