{
 "cells": [
  {
   "cell_type": "code",
   "execution_count": 1,
   "metadata": {
    "collapsed": true
   },
   "outputs": [],
   "source": [
    "import pandas as pd\n",
    "import numpy as np\n",
    "from tqdm import trange,tqdm\n",
    "from sklearn.model_selection import train_test_split\n",
    "\n",
    "import re,os\n",
    "import random"
   ]
  },
  {
   "cell_type": "code",
   "execution_count": 300,
   "metadata": {
    "collapsed": true
   },
   "outputs": [],
   "source": [
    "sample_num = 20000"
   ]
  },
  {
   "cell_type": "markdown",
   "metadata": {},
   "source": [
    "# patent_dic.txt & label.txt"
   ]
  },
  {
   "cell_type": "markdown",
   "metadata": {},
   "source": [
    "## 2012 patent"
   ]
  },
  {
   "cell_type": "code",
   "execution_count": 301,
   "metadata": {
    "collapsed": true
   },
   "outputs": [],
   "source": [
    "patent_raw = pd.read_excel(\"E:/Pythonworkspace/patent/process_data/sample\"+str(sample_num)+\"/sample.xlsx\", encoding='utf-8')"
   ]
  },
  {
   "cell_type": "code",
   "execution_count": 302,
   "metadata": {},
   "outputs": [
    {
     "data": {
      "text/plain": [
       "20000"
      ]
     },
     "execution_count": 302,
     "metadata": {},
     "output_type": "execute_result"
    }
   ],
   "source": [
    "len(patent_raw)"
   ]
  },
  {
   "cell_type": "code",
   "execution_count": 303,
   "metadata": {
    "collapsed": true
   },
   "outputs": [],
   "source": [
    "df_patent_raw = pd.DataFrame({'application_id':patent_raw['application_id'],'result':patent_raw['result']})"
   ]
  },
  {
   "cell_type": "markdown",
   "metadata": {},
   "source": [
    "## 2012 parent"
   ]
  },
  {
   "cell_type": "code",
   "execution_count": 304,
   "metadata": {
    "collapsed": true
   },
   "outputs": [],
   "source": [
    "patent_parent = pd.read_csv(\"E:/Pythonworkspace/patent/process_data/sample\"+str(sample_num)+\"/network/parent.csv\", encoding='utf-8')"
   ]
  },
  {
   "cell_type": "code",
   "execution_count": 305,
   "metadata": {
    "collapsed": true
   },
   "outputs": [],
   "source": [
    "parent_result = [0 for i in range(len(patent_parent))]\n",
    "df_patent_parent = pd.DataFrame({'application_id':patent_parent['parent_id'],'result':parent_result})"
   ]
  },
  {
   "cell_type": "code",
   "execution_count": 306,
   "metadata": {},
   "outputs": [
    {
     "data": {
      "text/plain": [
       "7971"
      ]
     },
     "execution_count": 306,
     "metadata": {},
     "output_type": "execute_result"
    }
   ],
   "source": [
    "df_patent_parent = df_patent_parent.drop_duplicates()\n",
    "len(df_patent_parent)"
   ]
  },
  {
   "cell_type": "markdown",
   "metadata": {},
   "source": [
    "## dynamic years"
   ]
  },
  {
   "cell_type": "code",
   "execution_count": 307,
   "metadata": {
    "collapsed": true
   },
   "outputs": [],
   "source": [
    "start_year = \"2011\"\n",
    "end_year = \"2011\"\n",
    "\n",
    "path_file = \"E:/Pythonworkspace/patent/process_data/sample\" + str(sample_num) + \"/network/\"\n",
    "network_path = path_file + start_year + \"-\" + end_year"
   ]
  },
  {
   "cell_type": "markdown",
   "metadata": {},
   "source": [
    "### inventor before"
   ]
  },
  {
   "cell_type": "code",
   "execution_count": 308,
   "metadata": {},
   "outputs": [
    {
     "data": {
      "text/plain": [
       "30872"
      ]
     },
     "execution_count": 308,
     "metadata": {},
     "output_type": "execute_result"
    }
   ],
   "source": [
    "inventor_patent_file = network_path + \"/I-P-label.csv\"\n",
    "df_inventor_patent = pd.read_csv(inventor_patent_file, encoding='utf-8')\n",
    "len(df_inventor_patent)"
   ]
  },
  {
   "cell_type": "markdown",
   "metadata": {},
   "source": [
    "### assignee before"
   ]
  },
  {
   "cell_type": "code",
   "execution_count": 309,
   "metadata": {},
   "outputs": [
    {
     "data": {
      "text/plain": [
       "125017"
      ]
     },
     "execution_count": 309,
     "metadata": {},
     "output_type": "execute_result"
    }
   ],
   "source": [
    "assignee_patent_file = network_path + \"/A-P-label.csv\"\n",
    "df_assignee_patent = pd.read_csv(assignee_patent_file, encoding='utf-8')\n",
    "len(df_assignee_patent)"
   ]
  },
  {
   "cell_type": "markdown",
   "metadata": {},
   "source": [
    "## concat and drop_duplicates"
   ]
  },
  {
   "cell_type": "code",
   "execution_count": 310,
   "metadata": {},
   "outputs": [
    {
     "data": {
      "text/plain": [
       "166201"
      ]
     },
     "execution_count": 310,
     "metadata": {},
     "output_type": "execute_result"
    }
   ],
   "source": [
    "df_1 = pd.concat([df_patent_raw,df_patent_parent], axis=0)\n",
    "df_1 = df_1.drop_duplicates(subset=['application_id'], keep='first')\n",
    "df_2 = pd.concat([df_inventor_patent,df_assignee_patent], axis=0)\n",
    "df_2 = df_2.drop_duplicates(subset=['application_id'], keep='first')\n",
    "df = pd.concat([df_1,df_2], axis=0)\n",
    "df = df.drop_duplicates(subset=['application_id'], keep='first')\n",
    "len(df)"
   ]
  },
  {
   "cell_type": "markdown",
   "metadata": {},
   "source": [
    "## patent_dic.csv"
   ]
  },
  {
   "cell_type": "code",
   "execution_count": 311,
   "metadata": {
    "collapsed": true
   },
   "outputs": [],
   "source": [
    "index_raw = [i for i in range(len(df))]\n",
    "patent_dic = pd.DataFrame({'index':index_raw,'application_id':df['application_id']})"
   ]
  },
  {
   "cell_type": "code",
   "execution_count": 833,
   "metadata": {
    "collapsed": true
   },
   "outputs": [],
   "source": [
    "patent_dic_file = network_path + \"/patent_dic.csv\"\n",
    "patent_dic.to_csv(patent_dic_file, mode='a', header=0, index=False, sep=',')"
   ]
  },
  {
   "cell_type": "markdown",
   "metadata": {
    "heading_collapsed": true
   },
   "source": [
    "## patent_label.xlsx"
   ]
  },
  {
   "cell_type": "code",
   "execution_count": 834,
   "metadata": {
    "collapsed": true,
    "hidden": true
   },
   "outputs": [],
   "source": [
    "patent_label = pd.DataFrame({'index':index_raw,'result':df['result']})"
   ]
  },
  {
   "cell_type": "code",
   "execution_count": 835,
   "metadata": {
    "collapsed": true,
    "hidden": true
   },
   "outputs": [],
   "source": [
    "patent_label_file = network_path + \"/patent_label.csv\"\n",
    "patent_label.to_csv(patent_label_file, mode='a', header=0, index=False, sep=',')"
   ]
  },
  {
   "cell_type": "markdown",
   "metadata": {},
   "source": [
    "# inventor_dic.txt"
   ]
  },
  {
   "cell_type": "code",
   "execution_count": 312,
   "metadata": {
    "collapsed": true
   },
   "outputs": [],
   "source": [
    "inventor_file = path_file + \"PI+.xlsx\"\n",
    "inventor = pd.read_excel(inventor_file, encoding='utf-8')"
   ]
  },
  {
   "cell_type": "code",
   "execution_count": 313,
   "metadata": {},
   "outputs": [
    {
     "data": {
      "text/plain": [
       "50112"
      ]
     },
     "execution_count": 313,
     "metadata": {},
     "output_type": "execute_result"
    }
   ],
   "source": [
    "inventor_name = inventor['name'].tolist()\n",
    "inventor_list = set(inventor_name)\n",
    "inventor_list = list(inventor_list)\n",
    "len(inventor_list)"
   ]
  },
  {
   "cell_type": "code",
   "execution_count": 314,
   "metadata": {
    "collapsed": true
   },
   "outputs": [],
   "source": [
    "inventor_index = [i for i in range(len(df), len(df)+len(inventor_list))]\n",
    "df_inventor = pd.DataFrame({'index':inventor_index,'application_id':inventor_list})"
   ]
  },
  {
   "cell_type": "code",
   "execution_count": 842,
   "metadata": {
    "collapsed": true
   },
   "outputs": [],
   "source": [
    "df_inventor.to_csv(network_path + \"/inventor_dic.csv\", mode='a', header=0, index=False, sep=',')"
   ]
  },
  {
   "cell_type": "markdown",
   "metadata": {},
   "source": [
    "# assignee.txt"
   ]
  },
  {
   "cell_type": "code",
   "execution_count": 315,
   "metadata": {
    "collapsed": true
   },
   "outputs": [],
   "source": [
    "assignee_file = path_file + \"PA.xlsx\"\n",
    "assignee = pd.read_excel(assignee_file, encoding='utf-8')"
   ]
  },
  {
   "cell_type": "code",
   "execution_count": 316,
   "metadata": {},
   "outputs": [
    {
     "data": {
      "text/plain": [
       "6611"
      ]
     },
     "execution_count": 316,
     "metadata": {},
     "output_type": "execute_result"
    }
   ],
   "source": [
    "assignee_name = assignee['name'].tolist()\n",
    "assignee_list = set(assignee_name)\n",
    "assignee_list = list(assignee_list)\n",
    "len(assignee_list)"
   ]
  },
  {
   "cell_type": "code",
   "execution_count": 317,
   "metadata": {
    "collapsed": true
   },
   "outputs": [],
   "source": [
    "assignee_index = [i for i in range(len(df)+len(inventor_list), len(df)+len(inventor_list)+len(assignee_list))]\n",
    "df_assignee = pd.DataFrame({'index':assignee_index,'application_id':assignee_list})"
   ]
  },
  {
   "cell_type": "code",
   "execution_count": 849,
   "metadata": {
    "collapsed": true
   },
   "outputs": [],
   "source": [
    "df_assignee.to_csv(network_path + \"/assignee_dic.csv\", mode='a', header=0, index=False, sep=',')"
   ]
  },
  {
   "cell_type": "markdown",
   "metadata": {},
   "source": [
    "# 建立字典"
   ]
  },
  {
   "cell_type": "markdown",
   "metadata": {},
   "source": [
    "## 建立assignee字典"
   ]
  },
  {
   "cell_type": "code",
   "execution_count": 318,
   "metadata": {},
   "outputs": [
    {
     "name": "stderr",
     "output_type": "stream",
     "text": [
      "100%|████████████████| 6611/6611 [00:00<00:00, 14763.23it/s]\n"
     ]
    }
   ],
   "source": [
    "assigne_dic = {}\n",
    "\n",
    "for i in tqdm(range(len(df_assignee)), ncols=60):\n",
    "    if not df_assignee['application_id'][i] in assigne_dic:\n",
    "        assigne_dic[df_assignee['application_id'][i]] = df_assignee['index'][i]"
   ]
  },
  {
   "cell_type": "markdown",
   "metadata": {},
   "source": [
    "## 建立patent字典"
   ]
  },
  {
   "cell_type": "code",
   "execution_count": 320,
   "metadata": {
    "scrolled": true
   },
   "outputs": [
    {
     "name": "stderr",
     "output_type": "stream",
     "text": [
      "100%|████████████| 166201/166201 [00:10<00:00, 16205.88it/s]\n"
     ]
    }
   ],
   "source": [
    "patent_index_dic = {}\n",
    "\n",
    "for i in tqdm(range(len(patent_dic)), ncols=60):\n",
    "    if not patent_dic['application_id'].iloc[i] in patent_index_dic:\n",
    "        patent_index_dic[str(patent_dic['application_id'].iloc[i])] = patent_dic['index'].iloc[i]"
   ]
  },
  {
   "cell_type": "markdown",
   "metadata": {},
   "source": [
    "## 建立inventor字典"
   ]
  },
  {
   "cell_type": "code",
   "execution_count": 319,
   "metadata": {
    "scrolled": true
   },
   "outputs": [
    {
     "name": "stderr",
     "output_type": "stream",
     "text": [
      "100%|██████████████| 50112/50112 [00:02<00:00, 17314.29it/s]\n"
     ]
    }
   ],
   "source": [
    "inventor_dic = {}\n",
    "\n",
    "for i in tqdm(range(len(df_inventor)), ncols=60):\n",
    "    if not df_inventor['application_id'][i] in inventor_dic:\n",
    "        inventor_dic[df_inventor['application_id'][i]] = df_inventor['index'][i]"
   ]
  },
  {
   "cell_type": "markdown",
   "metadata": {},
   "source": [
    "# PP.txt"
   ]
  },
  {
   "cell_type": "code",
   "execution_count": 321,
   "metadata": {
    "collapsed": true
   },
   "outputs": [],
   "source": [
    "parent = pd.read_csv(path_file + \"parent.csv\", encoding='utf-8')"
   ]
  },
  {
   "cell_type": "code",
   "execution_count": 322,
   "metadata": {},
   "outputs": [
    {
     "name": "stderr",
     "output_type": "stream",
     "text": [
      "100%|██████| 8770/8770 [00:00<00:00, 24840.27it/s]\n"
     ]
    }
   ],
   "source": [
    "application_id_index_list = []\n",
    "parent_id_index_list = []\n",
    "\n",
    "for i in trange(len(parent), ncols=50):\n",
    "    application_id = parent['application_id'][i]\n",
    "    application_id_index_list.append(patent_index_dic[str(application_id)])\n",
    "    parent_id = parent['parent_id'][i]\n",
    "    parent_id_index_list.append(patent_index_dic[str(parent_id)])"
   ]
  },
  {
   "cell_type": "code",
   "execution_count": 323,
   "metadata": {},
   "outputs": [
    {
     "data": {
      "text/plain": [
       "8770"
      ]
     },
     "execution_count": 323,
     "metadata": {},
     "output_type": "execute_result"
    }
   ],
   "source": [
    "len(application_id_index_list)"
   ]
  },
  {
   "cell_type": "code",
   "execution_count": 46,
   "metadata": {
    "collapsed": true
   },
   "outputs": [],
   "source": [
    "parent_patent = pd.DataFrame( {'application_id': application_id_index_list,'parent_id': parent_id_index_list})\n",
    "parent_patent.to_csv(network_path + \"/PP.csv\", mode='a', header=0, index=False, sep=',')"
   ]
  },
  {
   "cell_type": "markdown",
   "metadata": {},
   "source": [
    "# PA.txt"
   ]
  },
  {
   "cell_type": "markdown",
   "metadata": {},
   "source": [
    "## PA"
   ]
  },
  {
   "cell_type": "code",
   "execution_count": 324,
   "metadata": {},
   "outputs": [
    {
     "name": "stderr",
     "output_type": "stream",
     "text": [
      "100%|████| 14005/14005 [00:00<00:00, 23404.22it/s]\n"
     ]
    }
   ],
   "source": [
    "PA = assignee\n",
    "application_id_index_list = []\n",
    "name_index_list = []\n",
    "\n",
    "for i in trange(len(PA), ncols=50):\n",
    "    application_id = PA['application_id'][i]\n",
    "    application_id_index_list.append(patent_index_dic[str(application_id)])\n",
    "    name = PA['name'][i]\n",
    "    name_index_list.append(assigne_dic[name])"
   ]
  },
  {
   "cell_type": "code",
   "execution_count": 325,
   "metadata": {},
   "outputs": [
    {
     "data": {
      "text/plain": [
       "14005"
      ]
     },
     "execution_count": 325,
     "metadata": {},
     "output_type": "execute_result"
    }
   ],
   "source": [
    "len(application_id_index_list)"
   ]
  },
  {
   "cell_type": "code",
   "execution_count": 867,
   "metadata": {
    "collapsed": true
   },
   "outputs": [],
   "source": [
    "new_PA = pd.DataFrame( {'application_id': application_id_index_list,'name': name_index_list} )\n",
    "new_PA.to_csv(network_path + \"/PA.csv\", mode='a', header=0, index=False, sep=',')"
   ]
  },
  {
   "cell_type": "markdown",
   "metadata": {},
   "source": [
    "## A-GP"
   ]
  },
  {
   "cell_type": "code",
   "execution_count": 326,
   "metadata": {
    "collapsed": true
   },
   "outputs": [],
   "source": [
    "A_GP_file = network_path + \"/A-P-\"+ start_year + \"-\" + end_year +\".xlsx\"\n",
    "A_GP = pd.read_excel(A_GP_file, encoding='utf-8')"
   ]
  },
  {
   "cell_type": "code",
   "execution_count": 327,
   "metadata": {
    "scrolled": true
   },
   "outputs": [
    {
     "name": "stderr",
     "output_type": "stream",
     "text": [
      "100%|██| 125032/125032 [00:04<00:00, 25621.61it/s]\n"
     ]
    }
   ],
   "source": [
    "application_id_index_list = []\n",
    "name_index_list = []\n",
    "\n",
    "for i in trange(len(A_GP), ncols=50):\n",
    "    application_id = A_GP['application_id'][i]\n",
    "    application_id_index_list.append(patent_index_dic[str(application_id)])\n",
    "    name = A_GP['name'][i]\n",
    "    name_index_list.append(assigne_dic[name])"
   ]
  },
  {
   "cell_type": "code",
   "execution_count": 328,
   "metadata": {
    "scrolled": true
   },
   "outputs": [
    {
     "data": {
      "text/plain": [
       "125032"
      ]
     },
     "execution_count": 328,
     "metadata": {},
     "output_type": "execute_result"
    }
   ],
   "source": [
    "len(application_id_index_list)"
   ]
  },
  {
   "cell_type": "code",
   "execution_count": 871,
   "metadata": {
    "collapsed": true
   },
   "outputs": [],
   "source": [
    "new_A_GP = pd.DataFrame( {'application_id': application_id_index_list,'name': name_index_list} )\n",
    "new_A_GP.to_csv(network_path + \"/PA.csv\", mode='a', header=0, index=False, sep=',')"
   ]
  },
  {
   "cell_type": "markdown",
   "metadata": {},
   "source": [
    "# PI.txt"
   ]
  },
  {
   "cell_type": "markdown",
   "metadata": {},
   "source": [
    "## PI"
   ]
  },
  {
   "cell_type": "code",
   "execution_count": 329,
   "metadata": {},
   "outputs": [
    {
     "name": "stderr",
     "output_type": "stream",
     "text": [
      "100%|████| 53824/53824 [00:02<00:00, 25360.90it/s]\n"
     ]
    }
   ],
   "source": [
    "PI = inventor\n",
    "application_id_index_list = []\n",
    "name_index_list = []\n",
    "\n",
    "for i in trange(len(PI), ncols=50):\n",
    "    application_id = PI['application_id'][i]\n",
    "    application_id_index_list.append(patent_index_dic[str(application_id)])\n",
    "    name = PI['name'][i]\n",
    "    name_index_list.append(inventor_dic[name])"
   ]
  },
  {
   "cell_type": "code",
   "execution_count": 330,
   "metadata": {},
   "outputs": [
    {
     "data": {
      "text/plain": [
       "53824"
      ]
     },
     "execution_count": 330,
     "metadata": {},
     "output_type": "execute_result"
    }
   ],
   "source": [
    "len(application_id_index_list)"
   ]
  },
  {
   "cell_type": "code",
   "execution_count": 875,
   "metadata": {
    "collapsed": true
   },
   "outputs": [],
   "source": [
    "new_PI = pd.DataFrame( {'application_id': application_id_index_list,'name': name_index_list} )\n",
    "new_PI.to_csv(network_path + \"/PI.csv\", mode='a', header=0, index=False, sep=',')"
   ]
  },
  {
   "cell_type": "markdown",
   "metadata": {},
   "source": [
    "## I-GP"
   ]
  },
  {
   "cell_type": "code",
   "execution_count": 331,
   "metadata": {
    "collapsed": true
   },
   "outputs": [],
   "source": [
    "I_GP_file = network_path + \"/I-P-\"+ start_year + \"-\" + end_year +\".xlsx\"\n",
    "I_GP = pd.read_excel(I_GP_file, encoding='utf-8')"
   ]
  },
  {
   "cell_type": "code",
   "execution_count": 332,
   "metadata": {
    "scrolled": true
   },
   "outputs": [
    {
     "name": "stderr",
     "output_type": "stream",
     "text": [
      "100%|████| 53019/53019 [00:02<00:00, 25906.87it/s]\n"
     ]
    }
   ],
   "source": [
    "application_id_index_list = []\n",
    "name_index_list = []\n",
    "\n",
    "for i in trange(len(I_GP), ncols=50):\n",
    "    application_id = I_GP['application_id'][i]\n",
    "    application_id_index_list.append(patent_index_dic[str(application_id)])\n",
    "    name = I_GP['name'][i]\n",
    "    name_index_list.append(inventor_dic[name])"
   ]
  },
  {
   "cell_type": "code",
   "execution_count": 333,
   "metadata": {},
   "outputs": [
    {
     "data": {
      "text/plain": [
       "53019"
      ]
     },
     "execution_count": 333,
     "metadata": {},
     "output_type": "execute_result"
    }
   ],
   "source": [
    "len(application_id_index_list)"
   ]
  },
  {
   "cell_type": "code",
   "execution_count": 879,
   "metadata": {
    "collapsed": true
   },
   "outputs": [],
   "source": [
    "new_I_GP = pd.DataFrame( {'application_id': application_id_index_list,'name': name_index_list} )\n",
    "new_I_GP.to_csv(network_path + \"/PI.csv\", mode='a', header=0, index=False, sep=',')"
   ]
  },
  {
   "cell_type": "markdown",
   "metadata": {
    "heading_collapsed": true
   },
   "source": [
    "# train&test"
   ]
  },
  {
   "cell_type": "code",
   "execution_count": 880,
   "metadata": {
    "hidden": true,
    "scrolled": true
   },
   "outputs": [
    {
     "data": {
      "text/html": [
       "<div>\n",
       "<style>\n",
       "    .dataframe thead tr:only-child th {\n",
       "        text-align: right;\n",
       "    }\n",
       "\n",
       "    .dataframe thead th {\n",
       "        text-align: left;\n",
       "    }\n",
       "\n",
       "    .dataframe tbody tr th {\n",
       "        vertical-align: top;\n",
       "    }\n",
       "</style>\n",
       "<table border=\"1\" class=\"dataframe\">\n",
       "  <thead>\n",
       "    <tr style=\"text-align: right;\">\n",
       "      <th></th>\n",
       "      <th>index</th>\n",
       "      <th>result</th>\n",
       "    </tr>\n",
       "  </thead>\n",
       "  <tbody>\n",
       "    <tr>\n",
       "      <th>3887</th>\n",
       "      <td>0</td>\n",
       "      <td>0</td>\n",
       "    </tr>\n",
       "    <tr>\n",
       "      <th>1795</th>\n",
       "      <td>1</td>\n",
       "      <td>1</td>\n",
       "    </tr>\n",
       "  </tbody>\n",
       "</table>\n",
       "</div>"
      ],
      "text/plain": [
       "      index  result\n",
       "3887      0       0\n",
       "1795      1       1"
      ]
     },
     "execution_count": 880,
     "metadata": {},
     "output_type": "execute_result"
    }
   ],
   "source": [
    "patent_label.head(2)"
   ]
  },
  {
   "cell_type": "code",
   "execution_count": 881,
   "metadata": {
    "hidden": true,
    "scrolled": false
   },
   "outputs": [
    {
     "data": {
      "text/plain": [
       "166201"
      ]
     },
     "execution_count": 881,
     "metadata": {},
     "output_type": "execute_result"
    }
   ],
   "source": [
    "len(patent_label)"
   ]
  },
  {
   "cell_type": "code",
   "execution_count": 882,
   "metadata": {
    "hidden": true,
    "scrolled": true
   },
   "outputs": [
    {
     "name": "stderr",
     "output_type": "stream",
     "text": [
      "\n",
      "  0%|                                | 0/10 [00:00<?, ?it/s]\u001b[A\n",
      " 10%|██▍                     | 1/10 [00:00<00:05,  1.79it/s]\u001b[A\n",
      " 20%|████▊                   | 2/10 [00:00<00:03,  2.11it/s]\u001b[A\n",
      " 30%|███████▏                | 3/10 [00:01<00:02,  2.60it/s]\u001b[A\n",
      " 40%|█████████▌              | 4/10 [00:01<00:01,  3.09it/s]\u001b[A\n",
      " 50%|████████████            | 5/10 [00:01<00:01,  3.53it/s]\u001b[A\n",
      " 60%|██████████████▍         | 6/10 [00:01<00:01,  3.80it/s]\u001b[A\n",
      " 70%|████████████████▊       | 7/10 [00:01<00:00,  4.04it/s]\u001b[A\n",
      " 80%|███████████████████▏    | 8/10 [00:02<00:00,  4.23it/s]\u001b[A\n",
      " 90%|█████████████████████▌  | 9/10 [00:02<00:00,  4.64it/s]\u001b[A\n",
      "100%|███████████████████████| 10/10 [00:02<00:00,  4.22it/s]\u001b[A\n"
     ]
    }
   ],
   "source": [
    "# 划分训练集\n",
    "for i in tqdm(range(10), ncols=60):\n",
    "    X_train, X_test, y_train, y_test = train_test_split(patent_label['index'].values.tolist(), patent_label['result'].values.tolist(), test_size=0.5,random_state=i)\n",
    "    \n",
    "    p = re.compile(r',|\\[|\\]', re.S)\n",
    "    X_train_text = p.sub('', str(X_train))\n",
    "    X_test_text = p.sub('', str(X_test))\n",
    "    \n",
    "    with open(network_path + \"/paper_label_train_idx.txt\", 'a') as f:\n",
    "        f.write(X_train_text)\n",
    "        f.write('\\n')\n",
    "    with open(network_path + \"/paper_label_test_idx.txt\", 'a') as f:\n",
    "        f.write(X_test_text)\n",
    "        f.write('\\n')"
   ]
  },
  {
   "cell_type": "markdown",
   "metadata": {
    "collapsed": true
   },
   "source": [
    "# PP补充citations"
   ]
  },
  {
   "cell_type": "markdown",
   "metadata": {},
   "source": [
    "## for prior patent"
   ]
  },
  {
   "cell_type": "markdown",
   "metadata": {
    "heading_collapsed": true
   },
   "source": [
    "### appID_to_patentID"
   ]
  },
  {
   "cell_type": "code",
   "execution_count": 60,
   "metadata": {
    "collapsed": true,
    "hidden": true
   },
   "outputs": [],
   "source": [
    "sum_2011 = pd.read_excel(\"E:/Pythonworkspace/patent/patent_data/GrantedSum/2011.xlsx\", encoding='utf-8')\n",
    "sum_2010 = pd.read_excel(\"E:/Pythonworkspace/patent/patent_data/GrantedSum/2010.xlsx\", encoding='utf-8')\n",
    "sum_2009 = pd.read_excel(\"E:/Pythonworkspace/patent/patent_data/GrantedSum/2009.xlsx\", encoding='utf-8')\n",
    "sum_2008 = pd.read_excel(\"E:/Pythonworkspace/patent/patent_data/GrantedSum/2008.xlsx\", encoding='utf-8')\n",
    "sum_2007 = pd.read_excel(\"E:/Pythonworkspace/patent/patent_data/GrantedSum/2007.xlsx\", encoding='utf-8')\n",
    "sum_2006 = pd.read_excel(\"E:/Pythonworkspace/patent/patent_data/GrantedSum/2006.xlsx\", encoding='utf-8')\n",
    "sum_2005 = pd.read_excel(\"E:/Pythonworkspace/patent/patent_data/GrantedSum/2005.xlsx\", encoding='utf-8')\n",
    "sum_2004 = pd.read_excel(\"E:/Pythonworkspace/patent/patent_data/GrantedSum/2004.xlsx\", encoding='utf-8')\n",
    "sum_2003 = pd.read_excel(\"E:/Pythonworkspace/patent/patent_data/GrantedSum/2003.xlsx\", encoding='utf-8')\n",
    "sum_2002 = pd.read_excel(\"E:/Pythonworkspace/patent/patent_data/GrantedSum/2002.xlsx\", encoding='utf-8')\n",
    "sum_2001 = pd.read_excel(\"E:/Pythonworkspace/patent/patent_data/GrantedSum/2001.xlsx\", encoding='utf-8')"
   ]
  },
  {
   "cell_type": "code",
   "execution_count": 66,
   "metadata": {
    "hidden": true
   },
   "outputs": [
    {
     "data": {
      "text/plain": [
       "109283"
      ]
     },
     "execution_count": 66,
     "metadata": {},
     "output_type": "execute_result"
    }
   ],
   "source": [
    "patent_label_file = network_path + \"/patent_dic.csv\"\n",
    "patent_label = pd.read_csv(patent_label_file, encoding='utf-8', header=None)\n",
    "len(patent_label)"
   ]
  },
  {
   "cell_type": "code",
   "execution_count": 72,
   "metadata": {
    "hidden": true
   },
   "outputs": [
    {
     "data": {
      "text/plain": [
       "104283"
      ]
     },
     "execution_count": 72,
     "metadata": {},
     "output_type": "execute_result"
    }
   ],
   "source": [
    "prior_patent = patent_label.iloc[sample_num:]\n",
    "len(prior_patent)"
   ]
  },
  {
   "cell_type": "code",
   "execution_count": 102,
   "metadata": {
    "code_folding": [],
    "hidden": true
   },
   "outputs": [
    {
     "name": "stderr",
     "output_type": "stream",
     "text": [
      "100%|█████| 104283/104283 [18:21<00:00, 94.64it/s]\n"
     ]
    }
   ],
   "source": [
    "citations_file = network_path + \"/appID_to_patentID.csv\"\n",
    "for index in tqdm(range(len(prior_patent)), ncols=50):\n",
    "    try:\n",
    "        application_id = int(prior_patent[0].iloc[index])\n",
    "        for year in range(2001, 2012):\n",
    "            if year == 2001:\n",
    "                patent_id_year = sum_2001[sum_2001['application_id']==application_id]\n",
    "            if year == 2002:\n",
    "                patent_id_year = sum_2001[sum_2001['application_id']==application_id]\n",
    "            if year == 2003:\n",
    "                patent_id_year = sum_2001[sum_2001['application_id']==application_id]\n",
    "            if year == 2004:\n",
    "                patent_id_year = sum_2001[sum_2001['application_id']==application_id]\n",
    "            if year == 2005:\n",
    "                patent_id_year = sum_2001[sum_2001['application_id']==application_id]\n",
    "            if year == 2006:\n",
    "                patent_id_year = sum_2006[sum_2006['application_id']==application_id]\n",
    "            if year == 2007:\n",
    "                patent_id_year = sum_2007[sum_2007['application_id']==application_id]\n",
    "            if year == 2008:\n",
    "                patent_id_year = sum_2008[sum_2008['application_id']==application_id]\n",
    "            if year == 2009:\n",
    "                patent_id_year = sum_2009[sum_2009['application_id']==application_id]\n",
    "            if year == 2010:\n",
    "                patent_id_year = sum_2010[sum_2010['application_id']==application_id]\n",
    "            if year == 2011:\n",
    "                patent_id_year = sum_2011[sum_2011['application_id']==application_id]\n",
    "            if len(patent_id_year)>0:\n",
    "                patent_id = patent_id_year['patent_id'].values[0]            \n",
    "\n",
    "                df = pd.DataFrame({'application_id':[application_id],'patent_id':[patent_id]})\n",
    "                if os.path.exists(citations_file):\n",
    "                    df.to_csv(citations_file, header=0, mode='a', index=False, sep=',')\n",
    "                else:\n",
    "                    df.to_csv(citations_file, mode='a', index=False, sep=',')\n",
    "\n",
    "                break\n",
    "    except:\n",
    "        pass"
   ]
  },
  {
   "cell_type": "markdown",
   "metadata": {
    "heading_collapsed": true
   },
   "source": [
    "### get citations"
   ]
  },
  {
   "cell_type": "code",
   "execution_count": 74,
   "metadata": {
    "collapsed": true,
    "hidden": true
   },
   "outputs": [],
   "source": [
    "citations_file = network_path + \"/appID_to_patentID.csv\"\n",
    "appID_to_patentID = pd.read_csv(citations_file, encoding='utf-8')"
   ]
  },
  {
   "cell_type": "code",
   "execution_count": 75,
   "metadata": {
    "collapsed": true,
    "hidden": true
   },
   "outputs": [],
   "source": [
    "patent_id_list = appID_to_patentID['patent_id'].values.tolist()\n",
    "patent_id_list = set(patent_id_list)"
   ]
  },
  {
   "cell_type": "code",
   "execution_count": 76,
   "metadata": {
    "collapsed": true,
    "hidden": true
   },
   "outputs": [],
   "source": [
    "year_list = [\"2019\", \"2018\", \"2017\", \"2016\", \"2015\", \"2014\", \"2013\", \"2012\", \"2011\", \"2010\", \n",
    "             \"2009\", \"2008\", \"2007\", \"2006\", \"2005\", \"2004\", \"2003\", \"2002\", \"2001\"]"
   ]
  },
  {
   "cell_type": "code",
   "execution_count": 77,
   "metadata": {
    "hidden": true
   },
   "outputs": [
    {
     "name": "stderr",
     "output_type": "stream",
     "text": [
      "100%|███████████████| 30722/30722 [00:08<00:00, 3697.10it/s]\n",
      "100%|█████████████| 223041/223041 [00:56<00:00, 3970.63it/s]\n",
      "100%|█████████████| 505777/505777 [01:56<00:00, 4334.97it/s]\n",
      "100%|█████████████| 743729/743729 [02:42<00:00, 4575.80it/s]\n",
      "100%|███████████| 1015673/1015673 [03:52<00:00, 4364.05it/s]\n",
      "100%|███████████| 1383891/1383891 [05:58<00:00, 3860.94it/s]\n",
      "100%|███████████| 1658838/1658838 [10:24<00:00, 2655.89it/s]\n",
      "100%|███████████| 1842212/1842212 [19:04<00:00, 1609.78it/s]\n",
      "100%|███████████| 1947569/1947569 [24:28<00:00, 1326.46it/s]\n",
      "100%|███████████| 2288785/2288785 [20:52<00:00, 1827.82it/s]\n",
      "100%|███████████| 2007221/2007221 [09:01<00:00, 3709.42it/s]\n",
      "100%|███████████| 2162815/2162815 [07:53<00:00, 4572.41it/s]\n",
      "100%|███████████| 2473710/2473710 [10:04<00:00, 4093.19it/s]\n",
      "100%|███████████| 3013330/3013330 [11:55<00:00, 4213.51it/s]\n",
      "100%|███████████| 2629386/2629386 [11:15<00:00, 3892.62it/s]\n",
      "100%|███████████| 3443016/3443016 [15:02<00:00, 3816.58it/s]\n",
      "100%|███████████| 4015612/4015612 [21:54<00:00, 3054.37it/s]\n",
      "100%|███████████| 4171231/4171231 [21:41<00:00, 3204.77it/s]\n",
      "100%|███████████| 4627298/4627298 [24:23<00:00, 3161.21it/s]\n"
     ]
    }
   ],
   "source": [
    "save_file = network_path + \"/citation.csv\"\n",
    "for year in year_list:\n",
    "    citations_by_year = pd.read_csv(\"E:/Pythonworkspace/patent/process_data/citations/\"+year+\".csv\", encoding='utf-8')\n",
    "    for index in tqdm(range(len(citations_by_year)), ncols=60):    \n",
    "        patent_id_1 = citations_by_year.iloc[index]['citation_id']\n",
    "        patent_id_2 = citations_by_year.iloc[index]['patent_id']\n",
    "        if patent_id_1 in patent_id_list:\n",
    "            if patent_id_2 in patent_id_list:\n",
    "                patent_id_1 = appID_to_patentID[appID_to_patentID['patent_id']==patent_id_1]\n",
    "                application_id_1 = patent_id_1['application_id'].values[0]\n",
    "                patent_id_2 = appID_to_patentID[appID_to_patentID['patent_id']==patent_id_2]\n",
    "                application_id_2 = patent_id_2['application_id'].values[0]\n",
    "\n",
    "                df = pd.DataFrame({'application_id_1':[application_id_1],'application_id_2':[application_id_2]})\n",
    "                if os.path.exists(save_file):\n",
    "                    df.to_csv(save_file, header=0, mode='a', index=False, sep=',')\n",
    "                else:\n",
    "                    df.to_csv(save_file, mode='a', index=False, sep=',')"
   ]
  },
  {
   "cell_type": "markdown",
   "metadata": {},
   "source": [
    "### 将appID转成index"
   ]
  },
  {
   "cell_type": "code",
   "execution_count": 334,
   "metadata": {},
   "outputs": [
    {
     "name": "stderr",
     "output_type": "stream",
     "text": [
      "100%|████████| 9452/9452 [00:16<00:00, 588.97it/s]\n"
     ]
    }
   ],
   "source": [
    "citation = pd.read_csv(network_path + \"/citation.csv\", encoding='utf-8')\n",
    "\n",
    "count = 0\n",
    "for index in tqdm(range(len(citation)), ncols=50):\n",
    "    application_id_1 = citation.iloc[index]['application_id_1']\n",
    "    application_id_1 = str(application_id_1)\n",
    "    application_id_2 = citation.iloc[index]['application_id_2']\n",
    "    application_id_2 = str(application_id_2)\n",
    "    \n",
    "    if application_id_1 in patent_index_dic.keys():\n",
    "        if application_id_2 in patent_index_dic.keys():\n",
    "            count = count + 1\n",
    "            application_index_1 = patent_index_dic[application_id_1]\n",
    "            application_index_2 = patent_index_dic[application_id_2]\n",
    "            \n",
    "            citations_patent = pd.DataFrame( {'application_id': [application_index_1],'parent_id': [application_index_2]})\n",
    "            citations_patent.to_csv(network_path + \"/PP.csv\", mode='a', header=0, index=False, sep=',')"
   ]
  },
  {
   "cell_type": "code",
   "execution_count": 335,
   "metadata": {},
   "outputs": [
    {
     "data": {
      "text/plain": [
       "9452"
      ]
     },
     "execution_count": 335,
     "metadata": {},
     "output_type": "execute_result"
    }
   ],
   "source": [
    "count"
   ]
  },
  {
   "cell_type": "markdown",
   "metadata": {},
   "source": [
    "## for application"
   ]
  },
  {
   "cell_type": "markdown",
   "metadata": {
    "heading_collapsed": true
   },
   "source": [
    "### appID_to_location"
   ]
  },
  {
   "cell_type": "code",
   "execution_count": 218,
   "metadata": {
    "collapsed": true,
    "hidden": true
   },
   "outputs": [],
   "source": [
    "sample_file = \"E:/Pythonworkspace/patent/process_data/sample\" + str(sample_num) + \"/sample.xlsx\"\n",
    "sample = pd.read_excel(sample_file, encoding='utf-8')"
   ]
  },
  {
   "cell_type": "code",
   "execution_count": 219,
   "metadata": {
    "collapsed": true,
    "hidden": true
   },
   "outputs": [],
   "source": [
    "application_id_list = sample['application_id'].values.tolist()\n",
    "application_id_list = set(application_id_list)"
   ]
  },
  {
   "cell_type": "code",
   "execution_count": 220,
   "metadata": {
    "collapsed": true,
    "hidden": true,
    "scrolled": true
   },
   "outputs": [],
   "source": [
    "citations_by_year = pd.read_csv(\"E:/Pythonworkspace/patent/process_data/citations_app/2012_appID.csv\", encoding='utf-8')"
   ]
  },
  {
   "cell_type": "code",
   "execution_count": 221,
   "metadata": {
    "hidden": true
   },
   "outputs": [
    {
     "data": {
      "text/plain": [
       "177895"
      ]
     },
     "execution_count": 221,
     "metadata": {},
     "output_type": "execute_result"
    }
   ],
   "source": [
    "len(citations_by_year)"
   ]
  },
  {
   "cell_type": "code",
   "execution_count": 222,
   "metadata": {
    "hidden": true
   },
   "outputs": [
    {
     "name": "stderr",
     "output_type": "stream",
     "text": [
      "100%|███████████████████████| 177895/177895 [00:31<00:00, 5695.30it/s]\n"
     ]
    }
   ],
   "source": [
    "filepath = path_file + \"citations_app.csv\"\n",
    "for index in tqdm(range(len(citations_by_year)), ncols=70):\n",
    "    application_id = citations_by_year['application_id'].iloc[index]\n",
    "    if application_id in application_id_list:\n",
    "        patent_id = citations_by_year['patent_id'].iloc[index]\n",
    "        dataframe = pd.DataFrame({'application_id':[application_id],'patent_id':[patent_id]})\n",
    "        if os.path.exists(filepath):\n",
    "            dataframe.to_csv(filepath, header=0, mode='a', index=False, sep=',')\n",
    "        else:\n",
    "            dataframe.to_csv(filepath, mode='a', index=False, sep=',')"
   ]
  },
  {
   "cell_type": "markdown",
   "metadata": {},
   "source": [
    "### 将patent_id对应到application_id"
   ]
  },
  {
   "cell_type": "code",
   "execution_count": 336,
   "metadata": {},
   "outputs": [],
   "source": [
    "citations_file = network_path + \"/appID_to_patentID.csv\"\n",
    "appID_to_patentID = pd.read_csv(citations_file, encoding='utf-8')\n",
    "sample_citation = pd.read_csv(path_file + \"citations_app.csv\", encoding='utf-8')"
   ]
  },
  {
   "cell_type": "code",
   "execution_count": 337,
   "metadata": {
    "scrolled": true
   },
   "outputs": [
    {
     "name": "stderr",
     "output_type": "stream",
     "text": [
      "100%|███████| 10838/10838 [01:49<00:00, 98.74it/s]\n"
     ]
    }
   ],
   "source": [
    "application_id_list = []\n",
    "cited_id_list = []\n",
    "\n",
    "for index in tqdm(range(len(sample_citation)), ncols=50):\n",
    "    application_id = sample_citation['application_id'].iloc[index]\n",
    "    patent_id = sample_citation['patent_id'].iloc[index]\n",
    "    if len(appID_to_patentID[appID_to_patentID['patent_id']==patent_id]) > 0:\n",
    "        cited_id = appID_to_patentID[appID_to_patentID['patent_id']==patent_id]['application_id'].values\n",
    "        application_id_list.append(application_id)\n",
    "        cited_id_list.append(cited_id)"
   ]
  },
  {
   "cell_type": "markdown",
   "metadata": {},
   "source": [
    "### 将appl_id转为index"
   ]
  },
  {
   "cell_type": "code",
   "execution_count": 338,
   "metadata": {
    "scrolled": true
   },
   "outputs": [
    {
     "name": "stderr",
     "output_type": "stream",
     "text": [
      "100%|██████████| 154/154 [00:00<00:00, 622.63it/s]\n"
     ]
    }
   ],
   "source": [
    "count = 0\n",
    "for i in tqdm(range(len(application_id_list)), ncols=50):\n",
    "    application_id = str(application_id_list[i])\n",
    "    cited_id = str(cited_id_list[i][0])\n",
    "    \n",
    "    if cited_id in patent_index_dic.keys():\n",
    "        cited_index = patent_index_dic[cited_id]\n",
    "        if application_id in patent_index_dic.keys():\n",
    "            count = count + 1\n",
    "            application_index = patent_index_dic[application_id]\n",
    "            \n",
    "            citations_patent = pd.DataFrame( {'application_id': [application_index],'parent_id': [cited_index]})\n",
    "            citations_patent.to_csv(network_path + \"/PP.csv\", mode='a', header=0, index=False, sep=',')"
   ]
  },
  {
   "cell_type": "code",
   "execution_count": 339,
   "metadata": {},
   "outputs": [
    {
     "data": {
      "text/plain": [
       "154"
      ]
     },
     "execution_count": 339,
     "metadata": {},
     "output_type": "execute_result"
    }
   ],
   "source": [
    "count"
   ]
  },
  {
   "cell_type": "code",
   "execution_count": null,
   "metadata": {
    "collapsed": true
   },
   "outputs": [],
   "source": []
  }
 ],
 "metadata": {
  "kernelspec": {
   "display_name": "Python 3",
   "language": "python",
   "name": "python3"
  },
  "language_info": {
   "codemirror_mode": {
    "name": "ipython",
    "version": 3
   },
   "file_extension": ".py",
   "mimetype": "text/x-python",
   "name": "python",
   "nbconvert_exporter": "python",
   "pygments_lexer": "ipython3",
   "version": "3.6.3"
  },
  "toc": {
   "base_numbering": 1,
   "nav_menu": {},
   "number_sections": true,
   "sideBar": true,
   "skip_h1_title": false,
   "title_cell": "Table of Contents",
   "title_sidebar": "Contents",
   "toc_cell": false,
   "toc_position": {
    "height": "calc(100% - 180px)",
    "left": "10px",
    "top": "150px",
    "width": "273px"
   },
   "toc_section_display": true,
   "toc_window_display": true
  },
  "varInspector": {
   "cols": {
    "lenName": 16,
    "lenType": 16,
    "lenVar": 40
   },
   "kernels_config": {
    "python": {
     "delete_cmd_postfix": "",
     "delete_cmd_prefix": "del ",
     "library": "var_list.py",
     "varRefreshCmd": "print(var_dic_list())"
    },
    "r": {
     "delete_cmd_postfix": ") ",
     "delete_cmd_prefix": "rm(",
     "library": "var_list.r",
     "varRefreshCmd": "cat(var_dic_list()) "
    }
   },
   "types_to_exclude": [
    "module",
    "function",
    "builtin_function_or_method",
    "instance",
    "_Feature"
   ],
   "window_display": false
  }
 },
 "nbformat": 4,
 "nbformat_minor": 2
}
