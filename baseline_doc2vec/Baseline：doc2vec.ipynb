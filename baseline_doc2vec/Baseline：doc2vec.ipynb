{
 "cells": [
  {
   "cell_type": "code",
   "execution_count": 1,
   "metadata": {},
   "outputs": [],
   "source": [
    "import pandas as pd\n",
    "import numpy as np\n",
    "import re\n",
    "import os\n",
    "from tqdm import tqdm\n",
    "import matplotlib.pyplot as plt\n",
    "from sklearn.decomposition import PCA"
   ]
  },
  {
   "cell_type": "code",
   "execution_count": 2,
   "metadata": {},
   "outputs": [],
   "source": [
    "import xgboost\n",
    "from sklearn import preprocessing, linear_model, ensemble, metrics\n",
    "from sklearn.metrics import accuracy_score, average_precision_score\n",
    "from sklearn.metrics import precision_recall_curve, roc_curve, auc\n",
    "from sklearn.metrics import classification_report\n",
    "from sklearn.utils import class_weight"
   ]
  },
  {
   "cell_type": "code",
   "execution_count": 5,
   "metadata": {
    "scrolled": true
   },
   "outputs": [],
   "source": [
    "import keras\n",
    "import tensorflow as tf\n",
    "from keras import backend as K\n",
    "from keras.preprocessing import text, sequence\n",
    "from keras.callbacks import EarlyStopping\n",
    "from keras import layers, models, optimizers\n",
    "from keras.layers import LSTM\n",
    "from keras.layers.merge import concatenate\n",
    "from keras.utils import to_categorical\n",
    "from keras.utils import np_utils"
   ]
  },
  {
   "cell_type": "markdown",
   "metadata": {},
   "source": [
    "# 准备数据"
   ]
  },
  {
   "cell_type": "markdown",
   "metadata": {
    "heading_collapsed": true
   },
   "source": [
    "## abstract"
   ]
  },
  {
   "cell_type": "code",
   "execution_count": 8,
   "metadata": {
    "hidden": true
   },
   "outputs": [],
   "source": [
    "abs_filepath = \"/home/hxjiang/Pythonworkspace/patent/sample20000/abstract_doc2vec.csv\"\n",
    "abstract = pd.read_csv(abs_filepath, encoding='utf-8')"
   ]
  },
  {
   "cell_type": "code",
   "execution_count": 9,
   "metadata": {
    "hidden": true
   },
   "outputs": [
    {
     "data": {
      "text/plain": [
       "(20000, 72)"
      ]
     },
     "execution_count": 9,
     "metadata": {},
     "output_type": "execute_result"
    }
   ],
   "source": [
    "abstract.shape"
   ]
  },
  {
   "cell_type": "code",
   "execution_count": 10,
   "metadata": {
    "hidden": true
   },
   "outputs": [
    {
     "data": {
      "text/plain": [
       "1313.274423927077"
      ]
     },
     "execution_count": 10,
     "metadata": {},
     "output_type": "execute_result"
    }
   ],
   "source": [
    "x_abs = abstract\n",
    "# 条件数在1附近是理想的，有文献表明超过15就说明存在共线性\n",
    "c = np.linalg.cond(x_abs, p=None)\n",
    "c"
   ]
  },
  {
   "cell_type": "markdown",
   "metadata": {
    "heading_collapsed": true
   },
   "source": [
    "## claims"
   ]
  },
  {
   "cell_type": "code",
   "execution_count": 11,
   "metadata": {
    "hidden": true
   },
   "outputs": [],
   "source": [
    "claim_filepath = \"/home/hxjiang/Pythonworkspace/patent/sample20000/claims_doc2vec.csv\"\n",
    "claims = pd.read_csv(claim_filepath, encoding='utf-8')"
   ]
  },
  {
   "cell_type": "code",
   "execution_count": 12,
   "metadata": {
    "hidden": true
   },
   "outputs": [
    {
     "data": {
      "text/plain": [
       "(20000, 72)"
      ]
     },
     "execution_count": 12,
     "metadata": {},
     "output_type": "execute_result"
    }
   ],
   "source": [
    "claims.shape"
   ]
  },
  {
   "cell_type": "code",
   "execution_count": 13,
   "metadata": {
    "hidden": true
   },
   "outputs": [
    {
     "data": {
      "text/plain": [
       "3206.2647229441227"
      ]
     },
     "execution_count": 13,
     "metadata": {},
     "output_type": "execute_result"
    }
   ],
   "source": [
    "x_claims = claims\n",
    "# 条件数在1附近是理想的，有文献表明超过15就说明存在共线性\n",
    "c = np.linalg.cond(x_claims, p=None)\n",
    "c"
   ]
  },
  {
   "cell_type": "markdown",
   "metadata": {
    "heading_collapsed": true
   },
   "source": [
    "## text_sum"
   ]
  },
  {
   "cell_type": "code",
   "execution_count": 14,
   "metadata": {
    "hidden": true
   },
   "outputs": [
    {
     "data": {
      "text/plain": [
       "(20000, 144)"
      ]
     },
     "execution_count": 14,
     "metadata": {},
     "output_type": "execute_result"
    }
   ],
   "source": [
    "sum_feature = pd.concat([abstract,claims],  axis=1, ignore_index=True)\n",
    "sum_feature.shape"
   ]
  },
  {
   "cell_type": "code",
   "execution_count": 15,
   "metadata": {
    "hidden": true
   },
   "outputs": [
    {
     "data": {
      "text/plain": [
       "8514.163245025684"
      ]
     },
     "execution_count": 15,
     "metadata": {},
     "output_type": "execute_result"
    }
   ],
   "source": [
    "x_text = sum_feature\n",
    "# 条件数在1附近是理想的，有文献表明超过15就说明存在共线性\n",
    "c = np.linalg.cond(x_text, p=None)\n",
    "c"
   ]
  },
  {
   "cell_type": "markdown",
   "metadata": {
    "heading_collapsed": true
   },
   "source": [
    "## result"
   ]
  },
  {
   "cell_type": "code",
   "execution_count": 16,
   "metadata": {
    "hidden": true
   },
   "outputs": [],
   "source": [
    "data = pd.read_excel(\"/home/hxjiang/Pythonworkspace/patent/sample20000/sample.xlsx\", encoding='utf-8')"
   ]
  },
  {
   "cell_type": "code",
   "execution_count": 17,
   "metadata": {
    "hidden": true
   },
   "outputs": [],
   "source": [
    "result = data['result']"
   ]
  },
  {
   "cell_type": "code",
   "execution_count": 18,
   "metadata": {
    "hidden": true
   },
   "outputs": [
    {
     "data": {
      "text/plain": [
       "array([1., 1.])"
      ]
     },
     "execution_count": 18,
     "metadata": {},
     "output_type": "execute_result"
    }
   ],
   "source": [
    "train_target = np_utils.to_categorical(data[['result']], 2)\n",
    "y_ints = [y.argmax() for y in train_target]\n",
    "cw = class_weight.compute_class_weight('balanced', np.unique(y_ints), y_ints)\n",
    "cw"
   ]
  },
  {
   "cell_type": "code",
   "execution_count": 19,
   "metadata": {
    "hidden": true
   },
   "outputs": [
    {
     "data": {
      "text/plain": [
       "(20000, 2)"
      ]
     },
     "execution_count": 19,
     "metadata": {},
     "output_type": "execute_result"
    }
   ],
   "source": [
    "train_target.shape"
   ]
  },
  {
   "cell_type": "markdown",
   "metadata": {
    "heading_collapsed": true
   },
   "source": [
    "# PCA降维"
   ]
  },
  {
   "cell_type": "code",
   "execution_count": 74,
   "metadata": {
    "collapsed": true,
    "hidden": true
   },
   "outputs": [],
   "source": [
    "pca = PCA(0.95)\n",
    "x = pca.fit_transform(x)\n",
    "x.shape"
   ]
  },
  {
   "cell_type": "code",
   "execution_count": 77,
   "metadata": {
    "hidden": true
   },
   "outputs": [
    {
     "data": {
      "text/plain": [
       "array([0.23741834, 0.16370374, 0.11579571, 0.06891193, 0.05665438,\n",
       "       0.03903511, 0.03543255, 0.03433684, 0.02892042, 0.02292958,\n",
       "       0.01830412, 0.01523005, 0.01480394, 0.01303235, 0.01152857,\n",
       "       0.01149545, 0.0093153 , 0.00872506, 0.00738233, 0.00675595,\n",
       "       0.00570286, 0.0055471 , 0.00527014, 0.00510093, 0.00456021,\n",
       "       0.00394785, 0.00379775])"
      ]
     },
     "execution_count": 77,
     "metadata": {},
     "output_type": "execute_result"
    }
   ],
   "source": [
    "pca.explained_variance_ratio_"
   ]
  },
  {
   "cell_type": "markdown",
   "metadata": {
    "heading_collapsed": true
   },
   "source": [
    "# 划分训练集"
   ]
  },
  {
   "cell_type": "code",
   "execution_count": 20,
   "metadata": {
    "hidden": true
   },
   "outputs": [],
   "source": [
    "num0 = int(len(train_target)*0.1)\n",
    "num2 = int(len(train_target)*0.9)\n",
    "\n",
    "x_abs_train = x_abs[:num2]\n",
    "x_abs_test = x_abs[num2:]\n",
    "\n",
    "x_claims_train = x_claims[:num2]\n",
    "x_claims_test = x_claims[num2:]\n",
    "\n",
    "x_text_train = x_text[:num2]\n",
    "x_text_test = x_text[num2:]"
   ]
  },
  {
   "cell_type": "code",
   "execution_count": 21,
   "metadata": {
    "hidden": true
   },
   "outputs": [],
   "source": [
    "y_binary_train = result[:num2]\n",
    "y_binary_test = result[num2:]\n",
    "\n",
    "y_category_train = train_target[:num2]\n",
    "y_category_test = train_target[num2:]"
   ]
  },
  {
   "cell_type": "code",
   "execution_count": 18,
   "metadata": {
    "hidden": true
   },
   "outputs": [
    {
     "data": {
      "text/plain": [
       "1.9765325670498084"
      ]
     },
     "execution_count": 18,
     "metadata": {},
     "output_type": "execute_result"
    }
   ],
   "source": [
    "sum(y_category_train[:,1])/sum(y_category_train[:,0])"
   ]
  },
  {
   "cell_type": "markdown",
   "metadata": {
    "heading_collapsed": true
   },
   "source": [
    "# 机器学习分类"
   ]
  },
  {
   "cell_type": "code",
   "execution_count": 19,
   "metadata": {
    "code_folding": [
     0
    ],
    "hidden": true
   },
   "outputs": [],
   "source": [
    "def train_model(classifier, x_train, y_train, x_test, y_test):\n",
    "    classifier.fit(x_train, y_train)\n",
    "    \n",
    "    y_predict = classifier.predict(x_test)# 每一个x的预测值\n",
    "    y_predict_proba = classifier.predict_proba(x_test) # 预测分类的概率\n",
    "    \n",
    "    precision = metrics.precision_score(y_test, y_predict) # 精确率\n",
    "    recall = metrics.recall_score(y_test, y_predict) # 召回率\n",
    "    f1 = metrics.f1_score(y_test, y_predict) # f1\n",
    "    accuracy = metrics.accuracy_score(y_test, y_predict, normalize = True) # 准确率\n",
    "    \n",
    "    # print(\"accuracy: {:.4f} precision: {:.4f} recall: {:.4f} f1: {:.4f}\".format(accuracy,precision,recall,f1))\n",
    "    \n",
    "    return y_predict,y_predict_proba"
   ]
  },
  {
   "cell_type": "markdown",
   "metadata": {
    "heading_collapsed": true,
    "hidden": true
   },
   "source": [
    "## abstract"
   ]
  },
  {
   "cell_type": "code",
   "execution_count": 425,
   "metadata": {
    "code_folding": [
     7
    ],
    "hidden": true
   },
   "outputs": [],
   "source": [
    "def marchine_learn(x_train, y_train, x_test, y_test):\n",
    "    classifier_list = [linear_model.LogisticRegression(random_state=0, max_iter=1200, penalty='l2', class_weight=\"balanced\", C=0.05, fit_intercept=False), \n",
    "                       ensemble.RandomForestClassifier(random_state=0, class_weight=\"balanced\", n_estimators=10, criterion='entropy'), \n",
    "                       xgboost.XGBClassifier(random_state=0, scale_pos_weight=0.75/1.49, learning_rate=0.1, n_estimators=20)]\n",
    "\n",
    "    y_predict_proba_dic = {}\n",
    "    y_predict_list = []\n",
    "    for i, classifier in enumerate(tqdm(classifier_list, ncols=50)):\n",
    "        y_predict, y_predict_proba = train_model(\n",
    "            classifier, x_train, y_train, x_test, y_test)\n",
    "        # print(\"predictions:\", y_predict)\n",
    "        y_predict_proba_dic[i] = y_predict_proba\n",
    "        y_predict_list.append(y_predict)\n",
    "\n",
    "    return y_predict_list, y_predict_proba_dic"
   ]
  },
  {
   "cell_type": "code",
   "execution_count": 426,
   "metadata": {
    "hidden": true,
    "scrolled": true
   },
   "outputs": [
    {
     "name": "stderr",
     "output_type": "stream",
     "text": [
      "100%|███████████████| 3/3 [00:08<00:00,  2.78s/it]\n"
     ]
    }
   ],
   "source": [
    "iter_dic = {}\n",
    "for i in range(1):\n",
    "    y_predict_list, y_predict_proba_dic = marchine_learn(x_abs_train, y_binary_train, x_abs_test, y_binary_test)\n",
    "    iter_dic[i] = y_predict_list"
   ]
  },
  {
   "cell_type": "code",
   "execution_count": 427,
   "metadata": {
    "code_folding": [
     5
    ],
    "hidden": true
   },
   "outputs": [],
   "source": [
    "LR_metrics_list = []\n",
    "RF_metrics_list = []\n",
    "XGB_metrics_list = []\n",
    "\n",
    "for key, value in iter_dic.items():\n",
    "    for i in range(3):\n",
    "        report = classification_report(y_binary_test, iter_dic[key][i], digits=4)\n",
    "        p = re.compile('  |\\n', re.S)\n",
    "        report = p.sub(' ', report)\n",
    "        metrics_content = re.findall(\"([\\d]{1}\\.[\\d]{4})    777\", report)\n",
    "        if i == 0:\n",
    "            LR_metrics_list.append(metrics_content)\n",
    "        if i == 1:\n",
    "            RF_metrics_list.append(metrics_content)\n",
    "        if i == 2:\n",
    "            XGB_metrics_list.append(metrics_content)"
   ]
  },
  {
   "cell_type": "code",
   "execution_count": 428,
   "metadata": {
    "cell_style": "split",
    "code_folding": [
     0
    ],
    "hidden": true,
    "scrolled": false
   },
   "outputs": [
    {
     "name": "stdout",
     "output_type": "stream",
     "text": [
      "LR acc:  0.5212\n",
      "LR macro:  0.4992\n",
      "LR weighted:  0.5329\n",
      "[0.5212]\n",
      "[0.4992]\n",
      "[0.5329]\n"
     ]
    }
   ],
   "source": [
    "# LR\n",
    "LR_metrics_arrat = np.array(LR_metrics_list,dtype=float)\n",
    "acc = np.mean(LR_metrics_arrat[:,0])\n",
    "print(\"LR acc:  {:.4f}\".format(acc))\n",
    "f1 = np.mean(LR_metrics_arrat[:,1])\n",
    "print(\"LR macro:  {:.4f}\".format(f1))\n",
    "weighted = np.mean(LR_metrics_arrat[:,2])\n",
    "print(\"LR weighted:  {:.4f}\".format(weighted))\n",
    "\n",
    "print(LR_metrics_arrat[:,0].tolist())\n",
    "print(LR_metrics_arrat[:,1].tolist())\n",
    "print(LR_metrics_arrat[:,2].tolist())"
   ]
  },
  {
   "cell_type": "code",
   "execution_count": 429,
   "metadata": {
    "cell_style": "split",
    "hidden": true
   },
   "outputs": [
    {
     "name": "stdout",
     "output_type": "stream",
     "text": [
      "              precision    recall  f1-score   support\n",
      "\n",
      "           0     0.3457    0.4583    0.3941       264\n",
      "           1     0.6651    0.5536    0.6043       513\n",
      "\n",
      "    accuracy                         0.5212       777\n",
      "   macro avg     0.5054    0.5060    0.4992       777\n",
      "weighted avg     0.5566    0.5212    0.5329       777\n",
      "\n"
     ]
    }
   ],
   "source": [
    "print(classification_report(y_binary_test, iter_dic[0][0], digits=4))"
   ]
  },
  {
   "cell_type": "code",
   "execution_count": 367,
   "metadata": {
    "cell_style": "split",
    "code_folding": [
     0
    ],
    "hidden": true,
    "scrolled": true
   },
   "outputs": [
    {
     "name": "stdout",
     "output_type": "stream",
     "text": [
      "RF acc:  0.6036\n",
      "RF macro:  0.5090\n",
      "RF weighted:  0.5781\n",
      "[0.6036]\n",
      "[0.509]\n",
      "[0.5781]\n"
     ]
    }
   ],
   "source": [
    "# RF\n",
    "RF_metrics_arrat = np.array(RF_metrics_list,dtype=float)\n",
    "acc = np.mean(RF_metrics_arrat[:,0])\n",
    "print(\"RF acc:  {:.4f}\".format(acc))\n",
    "f1 = np.mean(RF_metrics_arrat[:,1])\n",
    "print(\"RF macro:  {:.4f}\".format(f1))\n",
    "weighted = np.mean(RF_metrics_arrat[:,2])\n",
    "print(\"RF weighted:  {:.4f}\".format(weighted))\n",
    "\n",
    "print(RF_metrics_arrat[:,0].tolist())\n",
    "print(RF_metrics_arrat[:,1].tolist())\n",
    "print(RF_metrics_arrat[:,2].tolist())"
   ]
  },
  {
   "cell_type": "code",
   "execution_count": 368,
   "metadata": {
    "cell_style": "split",
    "hidden": true
   },
   "outputs": [
    {
     "name": "stdout",
     "output_type": "stream",
     "text": [
      "              precision    recall  f1-score   support\n",
      "\n",
      "           0     0.3721    0.2424    0.2936       264\n",
      "           1     0.6694    0.7895    0.7245       513\n",
      "\n",
      "    accuracy                         0.6036       777\n",
      "   macro avg     0.5208    0.5159    0.5090       777\n",
      "weighted avg     0.5684    0.6036    0.5781       777\n",
      "\n"
     ]
    }
   ],
   "source": [
    "print(classification_report(y_binary_test, iter_dic[0][1], digits=4))"
   ]
  },
  {
   "cell_type": "code",
   "execution_count": 369,
   "metadata": {
    "cell_style": "split",
    "code_folding": [
     0
    ],
    "hidden": true
   },
   "outputs": [
    {
     "name": "stdout",
     "output_type": "stream",
     "text": [
      "XGB acc:  0.5573\n",
      "XGB macro:  0.5127\n",
      "XGB weighted:  0.5599\n",
      "[0.6036]\n",
      "[0.509]\n",
      "[0.5781]\n"
     ]
    }
   ],
   "source": [
    "# XGB\n",
    "XGB_metrics_arrat = np.array(XGB_metrics_list,dtype=float)\n",
    "acc = np.mean(XGB_metrics_arrat[:,0])\n",
    "print(\"XGB acc:  {:.4f}\".format(acc))\n",
    "f1 = np.mean(XGB_metrics_arrat[:,1])\n",
    "print(\"XGB macro:  {:.4f}\".format(f1))\n",
    "weighted = np.mean(XGB_metrics_arrat[:,2])\n",
    "print(\"XGB weighted:  {:.4f}\".format(weighted))\n",
    "\n",
    "print(RF_metrics_arrat[:,0].tolist())\n",
    "print(RF_metrics_arrat[:,1].tolist())\n",
    "print(RF_metrics_arrat[:,2].tolist())"
   ]
  },
  {
   "cell_type": "code",
   "execution_count": 370,
   "metadata": {
    "cell_style": "split",
    "hidden": true
   },
   "outputs": [
    {
     "name": "stdout",
     "output_type": "stream",
     "text": [
      "              precision    recall  f1-score   support\n",
      "\n",
      "           0     0.3561    0.3750    0.3653       264\n",
      "           1     0.6693    0.6511    0.6601       513\n",
      "\n",
      "    accuracy                         0.5573       777\n",
      "   macro avg     0.5127    0.5130    0.5127       777\n",
      "weighted avg     0.5629    0.5573    0.5599       777\n",
      "\n"
     ]
    }
   ],
   "source": [
    "print(classification_report(y_binary_test, iter_dic[0][2], digits=4))"
   ]
  },
  {
   "cell_type": "markdown",
   "metadata": {
    "code_folding": [],
    "heading_collapsed": true,
    "hidden": true
   },
   "source": [
    "## claims"
   ]
  },
  {
   "cell_type": "code",
   "execution_count": 437,
   "metadata": {
    "code_folding": [
     7
    ],
    "hidden": true
   },
   "outputs": [],
   "source": [
    "def marchine_learn(x_train, y_train, x_test, y_test):\n",
    "    classifier_list = [linear_model.LogisticRegression(random_state=0, max_iter=1500, penalty='l2', class_weight=\"balanced\", C=0.01, fit_intercept=False), \n",
    "                       ensemble.RandomForestClassifier(random_state=0, class_weight=\"balanced\", n_estimators=10, criterion='entropy'), \n",
    "                       xgboost.XGBClassifier(random_state=0, scale_pos_weight=0.75/1.49, learning_rate=0.1, n_estimators=20)]\n",
    "\n",
    "    y_predict_proba_dic = {}\n",
    "    y_predict_list = []\n",
    "    for i, classifier in enumerate(tqdm(classifier_list, ncols=50)):\n",
    "        y_predict, y_predict_proba = train_model(\n",
    "            classifier, x_train, y_train, x_test, y_test)\n",
    "        # print(\"predictions:\", y_predict)\n",
    "        y_predict_proba_dic[i] = y_predict_proba\n",
    "        y_predict_list.append(y_predict)\n",
    "\n",
    "    return y_predict_list, y_predict_proba_dic"
   ]
  },
  {
   "cell_type": "code",
   "execution_count": 438,
   "metadata": {
    "hidden": true,
    "scrolled": true
   },
   "outputs": [
    {
     "name": "stderr",
     "output_type": "stream",
     "text": [
      "100%|███████████████| 3/3 [00:05<00:00,  1.90s/it]\n"
     ]
    }
   ],
   "source": [
    "iter_dic = {}\n",
    "for i in range(1):\n",
    "    y_predict_list, y_predict_proba_dic = marchine_learn(x_claims_train, y_binary_train, x_claims_test, y_binary_test)\n",
    "    iter_dic[i] = y_predict_list"
   ]
  },
  {
   "cell_type": "code",
   "execution_count": 439,
   "metadata": {
    "code_folding": [
     4
    ],
    "hidden": true
   },
   "outputs": [],
   "source": [
    "LR_metrics_list = []\n",
    "RF_metrics_list = []\n",
    "XGB_metrics_list = []\n",
    "\n",
    "for key, value in iter_dic.items():\n",
    "    for i in range(3):\n",
    "        report = classification_report(y_binary_test, iter_dic[key][i], digits=4)\n",
    "        p = re.compile('  |\\n', re.S)\n",
    "        report = p.sub(' ', report)\n",
    "        metrics_content = re.findall(\"([\\d]{1}\\.[\\d]{4})    777\", report)\n",
    "        if i == 0:\n",
    "            LR_metrics_list.append(metrics_content)\n",
    "        if i == 1:\n",
    "            RF_metrics_list.append(metrics_content)\n",
    "        if i == 2:\n",
    "            XGB_metrics_list.append(metrics_content)"
   ]
  },
  {
   "cell_type": "code",
   "execution_count": 440,
   "metadata": {
    "cell_style": "split",
    "code_folding": [
     0
    ],
    "hidden": true
   },
   "outputs": [
    {
     "name": "stdout",
     "output_type": "stream",
     "text": [
      "LR acc:  0.5650\n",
      "LR macro:  0.5068\n",
      "LR weighted:  0.5611\n",
      "[0.565]\n",
      "[0.5068]\n",
      "[0.5611]\n"
     ]
    }
   ],
   "source": [
    "# LR\n",
    "LR_metrics_arrat = np.array(LR_metrics_list,dtype=float)\n",
    "acc = np.mean(LR_metrics_arrat[:,0])\n",
    "print(\"LR acc:  {:.4f}\".format(acc))\n",
    "f1 = np.mean(LR_metrics_arrat[:,1])\n",
    "print(\"LR macro:  {:.4f}\".format(f1))\n",
    "weighted = np.mean(LR_metrics_arrat[:,2])\n",
    "print(\"LR weighted:  {:.4f}\".format(weighted))\n",
    "\n",
    "print(LR_metrics_arrat[:,0].tolist())\n",
    "print(LR_metrics_arrat[:,1].tolist())\n",
    "print(LR_metrics_arrat[:,2].tolist())"
   ]
  },
  {
   "cell_type": "code",
   "execution_count": 441,
   "metadata": {
    "cell_style": "split",
    "hidden": true
   },
   "outputs": [
    {
     "name": "stdout",
     "output_type": "stream",
     "text": [
      "              precision    recall  f1-score   support\n",
      "\n",
      "           0     0.3496    0.3258    0.3373       264\n",
      "           1     0.6648    0.6881    0.6762       513\n",
      "\n",
      "    accuracy                         0.5650       777\n",
      "   macro avg     0.5072    0.5069    0.5068       777\n",
      "weighted avg     0.5577    0.5650    0.5611       777\n",
      "\n"
     ]
    }
   ],
   "source": [
    "print(classification_report(y_binary_test, iter_dic[0][0], digits=4))"
   ]
  },
  {
   "cell_type": "code",
   "execution_count": 329,
   "metadata": {
    "cell_style": "split",
    "code_folding": [
     0
    ],
    "hidden": true
   },
   "outputs": [
    {
     "name": "stdout",
     "output_type": "stream",
     "text": [
      "RF acc:  0.5856\n",
      "RF macro:  0.4896\n",
      "RF weighted:  0.5605\n",
      "[0.5856]\n",
      "[0.4896]\n",
      "[0.5605]\n"
     ]
    }
   ],
   "source": [
    "# RF\n",
    "RF_metrics_arrat = np.array(RF_metrics_list,dtype=float)\n",
    "acc = np.mean(RF_metrics_arrat[:,0])\n",
    "print(\"RF acc:  {:.4f}\".format(acc))\n",
    "f1 = np.mean(RF_metrics_arrat[:,1])\n",
    "print(\"RF macro:  {:.4f}\".format(f1))\n",
    "weighted = np.mean(RF_metrics_arrat[:,2])\n",
    "print(\"RF weighted:  {:.4f}\".format(weighted))\n",
    "\n",
    "print(RF_metrics_arrat[:,0].tolist())\n",
    "print(RF_metrics_arrat[:,1].tolist())\n",
    "print(RF_metrics_arrat[:,2].tolist())"
   ]
  },
  {
   "cell_type": "code",
   "execution_count": 330,
   "metadata": {
    "cell_style": "split",
    "hidden": true
   },
   "outputs": [
    {
     "name": "stdout",
     "output_type": "stream",
     "text": [
      "              precision    recall  f1-score   support\n",
      "\n",
      "           0     0.3352    0.2235    0.2682       264\n",
      "           1     0.6589    0.7719    0.7110       513\n",
      "\n",
      "    accuracy                         0.5856       777\n",
      "   macro avg     0.4971    0.4977    0.4896       777\n",
      "weighted avg     0.5489    0.5856    0.5605       777\n",
      "\n"
     ]
    }
   ],
   "source": [
    "print(classification_report(y_binary_test, iter_dic[0][1], digits=4))"
   ]
  },
  {
   "cell_type": "code",
   "execution_count": 331,
   "metadata": {
    "cell_style": "split",
    "code_folding": [
     0
    ],
    "hidden": true
   },
   "outputs": [
    {
     "name": "stdout",
     "output_type": "stream",
     "text": [
      "XGB acc:  0.5444\n",
      "XGB macro:  0.5059\n",
      "XGB weighted:  0.5501\n",
      "[0.5856]\n",
      "[0.4896]\n",
      "[0.5605]\n"
     ]
    }
   ],
   "source": [
    "# XGB\n",
    "XGB_metrics_arrat = np.array(XGB_metrics_list,dtype=float)\n",
    "acc = np.mean(XGB_metrics_arrat[:,0])\n",
    "print(\"XGB acc:  {:.4f}\".format(acc))\n",
    "f1 = np.mean(XGB_metrics_arrat[:,1])\n",
    "print(\"XGB macro:  {:.4f}\".format(f1))\n",
    "weighted = np.mean(XGB_metrics_arrat[:,2])\n",
    "print(\"XGB weighted:  {:.4f}\".format(weighted))\n",
    "\n",
    "print(RF_metrics_arrat[:,0].tolist())\n",
    "print(RF_metrics_arrat[:,1].tolist())\n",
    "print(RF_metrics_arrat[:,2].tolist())"
   ]
  },
  {
   "cell_type": "code",
   "execution_count": 332,
   "metadata": {
    "cell_style": "split",
    "hidden": true
   },
   "outputs": [
    {
     "name": "stdout",
     "output_type": "stream",
     "text": [
      "              precision    recall  f1-score   support\n",
      "\n",
      "           0     0.3480    0.3902    0.3679       264\n",
      "           1     0.6653    0.6238    0.6439       513\n",
      "\n",
      "    accuracy                         0.5444       777\n",
      "   macro avg     0.5066    0.5070    0.5059       777\n",
      "weighted avg     0.5575    0.5444    0.5501       777\n",
      "\n"
     ]
    }
   ],
   "source": [
    "print(classification_report(y_binary_test, iter_dic[0][2], digits=4))"
   ]
  },
  {
   "cell_type": "markdown",
   "metadata": {
    "hidden": true
   },
   "source": [
    "## text_sum"
   ]
  },
  {
   "cell_type": "code",
   "execution_count": 511,
   "metadata": {
    "code_folding": [],
    "hidden": true
   },
   "outputs": [],
   "source": [
    "def marchine_learn(x_train, y_train, x_test, y_test):\n",
    "    classifier_list = [linear_model.LogisticRegression(random_state=0, max_iter=5000, penalty='l2', class_weight=\"balanced\", C=0.001, fit_intercept=False), \n",
    "                       ensemble.RandomForestClassifier(random_state=0, class_weight=\"balanced\", n_estimators=10, criterion='entropy'), \n",
    "                       xgboost.XGBClassifier(random_state=0, scale_pos_weight=0.75/1.49, learning_rate=0.1, n_estimators=20)]\n",
    "\n",
    "    y_predict_proba_dic = {}\n",
    "    y_predict_list = []\n",
    "    for i, classifier in enumerate(tqdm(classifier_list, ncols=50)):\n",
    "        y_predict, y_predict_proba = train_model(\n",
    "            classifier, x_train, y_train, x_test, y_test)\n",
    "        # print(\"predictions:\", y_predict)\n",
    "        y_predict_proba_dic[i] = y_predict_proba\n",
    "        y_predict_list.append(y_predict)\n",
    "\n",
    "    return y_predict_list, y_predict_proba_dic"
   ]
  },
  {
   "cell_type": "code",
   "execution_count": 512,
   "metadata": {
    "hidden": true
   },
   "outputs": [
    {
     "name": "stderr",
     "output_type": "stream",
     "text": [
      "100%|███████████████| 3/3 [00:14<00:00,  4.96s/it]\n"
     ]
    }
   ],
   "source": [
    "iter_dic = {}\n",
    "for i in range(1):\n",
    "    y_predict_list, y_predict_proba_dic = marchine_learn(x_text_train, y_binary_train, x_text_test, y_binary_test)\n",
    "    iter_dic[i] = y_predict_list"
   ]
  },
  {
   "cell_type": "code",
   "execution_count": 513,
   "metadata": {
    "code_folding": [
     4
    ],
    "hidden": true
   },
   "outputs": [],
   "source": [
    "LR_metrics_list = []\n",
    "RF_metrics_list = []\n",
    "XGB_metrics_list = []\n",
    "\n",
    "for key, value in iter_dic.items():\n",
    "    for i in range(3):\n",
    "        report = classification_report(y_binary_test, iter_dic[key][i], digits=4)\n",
    "        p = re.compile('  |\\n', re.S)\n",
    "        report = p.sub(' ', report)\n",
    "        metrics_content = re.findall(\"([\\d]{1}\\.[\\d]{4})    777\", report)\n",
    "        if i == 0:\n",
    "            LR_metrics_list.append(metrics_content)\n",
    "        if i == 1:\n",
    "            RF_metrics_list.append(metrics_content)\n",
    "        if i == 2:\n",
    "            XGB_metrics_list.append(metrics_content)"
   ]
  },
  {
   "cell_type": "code",
   "execution_count": 490,
   "metadata": {
    "cell_style": "split",
    "code_folding": [
     0
    ],
    "hidden": true
   },
   "outputs": [
    {
     "name": "stdout",
     "output_type": "stream",
     "text": [
      "LR acc:  0.5650\n",
      "LR macro:  0.5267\n",
      "LR weighted:  0.5698\n",
      "[0.565]\n",
      "[0.5267]\n",
      "[0.5698]\n"
     ]
    }
   ],
   "source": [
    "# LR\n",
    "LR_metrics_arrat = np.array(LR_metrics_list,dtype=float)\n",
    "acc = np.mean(LR_metrics_arrat[:,0])\n",
    "print(\"LR acc:  {:.4f}\".format(acc))\n",
    "f1 = np.mean(LR_metrics_arrat[:,1])\n",
    "print(\"LR macro:  {:.4f}\".format(f1))\n",
    "weighted = np.mean(LR_metrics_arrat[:,2])\n",
    "print(\"LR weighted:  {:.4f}\".format(weighted))\n",
    "\n",
    "print(LR_metrics_arrat[:,0].tolist())\n",
    "print(LR_metrics_arrat[:,1].tolist())\n",
    "print(LR_metrics_arrat[:,2].tolist())"
   ]
  },
  {
   "cell_type": "code",
   "execution_count": 491,
   "metadata": {
    "cell_style": "split",
    "hidden": true
   },
   "outputs": [
    {
     "name": "stdout",
     "output_type": "stream",
     "text": [
      "              precision    recall  f1-score   support\n",
      "\n",
      "           0     0.3733    0.4129    0.3921       264\n",
      "           1     0.6804    0.6433    0.6613       513\n",
      "\n",
      "    accuracy                         0.5650       777\n",
      "   macro avg     0.5269    0.5281    0.5267       777\n",
      "weighted avg     0.5761    0.5650    0.5698       777\n",
      "\n"
     ]
    }
   ],
   "source": [
    "print(classification_report(y_binary_test, iter_dic[0][0], digits=4))"
   ]
  },
  {
   "cell_type": "code",
   "execution_count": 510,
   "metadata": {
    "cell_style": "split",
    "code_folding": [
     0
    ],
    "hidden": true
   },
   "outputs": [
    {
     "name": "stdout",
     "output_type": "stream",
     "text": [
      "RF acc:  0.6229\n",
      "RF macro:  0.4496\n",
      "RF weighted:  0.5486\n",
      "[0.6229]\n",
      "[0.4496]\n",
      "[0.5486]\n"
     ]
    }
   ],
   "source": [
    "# RF\n",
    "RF_metrics_arrat = np.array(RF_metrics_list,dtype=float)\n",
    "acc = np.mean(RF_metrics_arrat[:,0])\n",
    "print(\"RF acc:  {:.4f}\".format(acc))\n",
    "f1 = np.mean(RF_metrics_arrat[:,1])\n",
    "print(\"RF macro:  {:.4f}\".format(f1))\n",
    "weighted = np.mean(RF_metrics_arrat[:,2])\n",
    "print(\"RF weighted:  {:.4f}\".format(weighted))\n",
    "\n",
    "print(RF_metrics_arrat[:,0].tolist())\n",
    "print(RF_metrics_arrat[:,1].tolist())\n",
    "print(RF_metrics_arrat[:,2].tolist())"
   ]
  },
  {
   "cell_type": "code",
   "execution_count": 506,
   "metadata": {
    "cell_style": "split",
    "hidden": true
   },
   "outputs": [
    {
     "name": "stdout",
     "output_type": "stream",
     "text": [
      "              precision    recall  f1-score   support\n",
      "\n",
      "           0     0.3559    0.0795    0.1300       264\n",
      "           1     0.6616    0.9259    0.7717       513\n",
      "\n",
      "    accuracy                         0.6384       777\n",
      "   macro avg     0.5087    0.5027    0.4509       777\n",
      "weighted avg     0.5577    0.6384    0.5537       777\n",
      "\n"
     ]
    }
   ],
   "source": [
    "print(classification_report(y_binary_test, iter_dic[0][1], digits=4))"
   ]
  },
  {
   "cell_type": "code",
   "execution_count": 494,
   "metadata": {
    "cell_style": "split",
    "code_folding": [
     0
    ],
    "hidden": true
   },
   "outputs": [
    {
     "name": "stdout",
     "output_type": "stream",
     "text": [
      "XGB acc:  0.5444\n",
      "XGB macro:  0.4932\n",
      "XGB weighted:  0.5448\n",
      "[0.592]\n",
      "[0.4995]\n",
      "[0.5685]\n"
     ]
    }
   ],
   "source": [
    "# XGB\n",
    "XGB_metrics_arrat = np.array(XGB_metrics_list,dtype=float)\n",
    "acc = np.mean(XGB_metrics_arrat[:,0])\n",
    "print(\"XGB acc:  {:.4f}\".format(acc))\n",
    "f1 = np.mean(XGB_metrics_arrat[:,1])\n",
    "print(\"XGB macro:  {:.4f}\".format(f1))\n",
    "weighted = np.mean(XGB_metrics_arrat[:,2])\n",
    "print(\"XGB weighted:  {:.4f}\".format(weighted))\n",
    "\n",
    "print(RF_metrics_arrat[:,0].tolist())\n",
    "print(RF_metrics_arrat[:,1].tolist())\n",
    "print(RF_metrics_arrat[:,2].tolist())"
   ]
  },
  {
   "cell_type": "code",
   "execution_count": 495,
   "metadata": {
    "cell_style": "split",
    "hidden": true
   },
   "outputs": [
    {
     "name": "stdout",
     "output_type": "stream",
     "text": [
      "              precision    recall  f1-score   support\n",
      "\n",
      "           0     0.3308    0.3333    0.3321       264\n",
      "           1     0.6556    0.6530    0.6543       513\n",
      "\n",
      "    accuracy                         0.5444       777\n",
      "   macro avg     0.4932    0.4932    0.4932       777\n",
      "weighted avg     0.5452    0.5444    0.5448       777\n",
      "\n"
     ]
    }
   ],
   "source": [
    "print(classification_report(y_binary_test, iter_dic[0][2], digits=4))"
   ]
  },
  {
   "cell_type": "markdown",
   "metadata": {
    "heading_collapsed": true,
    "hidden": true
   },
   "source": [
    "## 绘图"
   ]
  },
  {
   "cell_type": "code",
   "execution_count": 430,
   "metadata": {
    "cell_style": "split",
    "code_folding": [
     2
    ],
    "hidden": true,
    "scrolled": true
   },
   "outputs": [
    {
     "name": "stderr",
     "output_type": "stream",
     "text": [
      "100%|█| 3/3 [00:00<0\n"
     ]
    },
    {
     "data": {
      "image/png": "[encoded data removed]",
      "text/plain": [
       "<Figure size 360x216 with 1 Axes>"
      ]
     },
     "metadata": {
      "needs_background": "light"
     },
     "output_type": "display_data"
    }
   ],
   "source": [
    "plt.figure(figsize=(5,3))\n",
    "plt.plot([0, 1], [0, 1], linestyle='--')\n",
    "for key in tqdm(y_predict_proba_dic.keys(), ncols=20):\n",
    "    y_scores = [y_predict_proba_1[1] for y_predict_proba_1 in y_predict_proba_dic[key]]\n",
    "    fpr, tpr, _  =  roc_curve(y_binary_test, y_scores)\n",
    "    roc_auc = auc(fpr,tpr)\n",
    "    plt.plot(fpr, tpr, label=str(key) + ':node ROC curve (%0.4f)' % roc_auc)\n",
    "plt.xlabel('False Positive Rate')\n",
    "plt.ylabel('True Positive Rate')\n",
    "plt.title('Receiver operating characteristic example')\n",
    "plt.legend(loc=\"lower right\")\n",
    "plt.show()"
   ]
  },
  {
   "cell_type": "code",
   "execution_count": 442,
   "metadata": {
    "cell_style": "split",
    "code_folding": [
     2
    ],
    "hidden": true,
    "scrolled": true
   },
   "outputs": [
    {
     "name": "stderr",
     "output_type": "stream",
     "text": [
      "100%|█| 3/3 [00:00<0\n"
     ]
    },
    {
     "data": {
      "image/png": "[encoded data removed]",
      "text/plain": [
       "<Figure size 360x216 with 1 Axes>"
      ]
     },
     "metadata": {
      "needs_background": "light"
     },
     "output_type": "display_data"
    }
   ],
   "source": [
    "plt.figure(figsize=(5,3))\n",
    "plt.plot([0, 1], [0, 1], linestyle='--')\n",
    "for key in tqdm(y_predict_proba_dic.keys(), ncols=20):\n",
    "    y_scores = [y_predict_proba_1[1] for y_predict_proba_1 in y_predict_proba_dic[key]]\n",
    "    fpr, tpr, _  =  roc_curve(y_binary_test, y_scores)\n",
    "    roc_auc = auc(fpr,tpr)\n",
    "    plt.plot(fpr, tpr, label=str(key) + ':node ROC curve (%0.4f)' % roc_auc)\n",
    "plt.xlabel('False Positive Rate')\n",
    "plt.ylabel('True Positive Rate')\n",
    "plt.title('Receiver operating characteristic example')\n",
    "plt.legend(loc=\"lower right\")\n",
    "plt.show()"
   ]
  },
  {
   "cell_type": "code",
   "execution_count": 496,
   "metadata": {
    "cell_style": "split",
    "code_folding": [
     2
    ],
    "hidden": true
   },
   "outputs": [
    {
     "name": "stderr",
     "output_type": "stream",
     "text": [
      "100%|█| 3/3 [00:00<0\n"
     ]
    },
    {
     "data": {
      "image/png": "[encoded data removed]",
      "text/plain": [
       "<Figure size 360x216 with 1 Axes>"
      ]
     },
     "metadata": {
      "needs_background": "light"
     },
     "output_type": "display_data"
    }
   ],
   "source": [
    "plt.figure(figsize=(5,3))\n",
    "plt.plot([0, 1], [0, 1], linestyle='--')\n",
    "for key in tqdm(y_predict_proba_dic.keys(), ncols=20):\n",
    "    y_scores = [y_predict_proba_1[1] for y_predict_proba_1 in y_predict_proba_dic[key]]\n",
    "    fpr, tpr, _  =  roc_curve(y_binary_test, y_scores)\n",
    "    roc_auc = auc(fpr,tpr)\n",
    "    plt.plot(fpr, tpr, label=str(key) + ':node ROC curve (%0.4f)' % roc_auc)\n",
    "plt.xlabel('False Positive Rate')\n",
    "plt.ylabel('True Positive Rate')\n",
    "plt.title('Receiver operating characteristic example')\n",
    "plt.legend(loc=\"lower right\")\n",
    "plt.show()"
   ]
  },
  {
   "cell_type": "markdown",
   "metadata": {},
   "source": [
    "# 神经网络分类"
   ]
  },
  {
   "cell_type": "code",
   "execution_count": 24,
   "metadata": {
    "code_folding": [
     0
    ]
   },
   "outputs": [],
   "source": [
    "def plot_history(history):\n",
    "    acc = history.history['acc']\n",
    "    val_acc = history.history['val_acc']\n",
    "    loss = history.history['loss']\n",
    "    val_loss = history.history['val_loss']\n",
    "    x = range(1, len(acc) + 1)\n",
    "\n",
    "    plt.figure(figsize=(12, 5))\n",
    "    plt.subplot(1, 2, 1)\n",
    "    plt.plot(x, acc, 'b', label='Training acc')\n",
    "    plt.plot(x, val_acc, 'r', label='Validation acc')\n",
    "    plt.title('Training and validation accuracy')\n",
    "    plt.legend()\n",
    "    plt.subplot(1, 2, 2)\n",
    "    plt.plot(x, loss, 'b', label='Training loss')\n",
    "    plt.plot(x, val_loss, 'r', label='Validation loss')\n",
    "    plt.title('Training and validation loss')\n",
    "    plt.legend()\n",
    "    plt.show()"
   ]
  },
  {
   "cell_type": "code",
   "execution_count": 25,
   "metadata": {
    "scrolled": true
   },
   "outputs": [],
   "source": [
    "# 提前停止监视器设置为3，这意味着在连续3次运行后，模型的性能没有改进的话，训练将会被停止\n",
    "my_callbacks = [EarlyStopping(monitor='val_loss', mode='min', patience=10)]"
   ]
  },
  {
   "cell_type": "markdown",
   "metadata": {
    "heading_collapsed": true
   },
   "source": [
    "## abstract"
   ]
  },
  {
   "cell_type": "code",
   "execution_count": 93,
   "metadata": {
    "code_folding": [
     0
    ],
    "hidden": true
   },
   "outputs": [],
   "source": [
    "def full_connect_network(n_cols):\n",
    "    # Add an Input Layer\n",
    "    input_layer = layers.Input((n_cols, ))\n",
    "\n",
    "    Dense_layer_1 = layers.Dense(72, activation=\"relu\")(input_layer)\n",
    "    dropout_layer = layers.Dropout(0.1)(Dense_layer_1)\n",
    "    Dense_layer_2 = layers.Dense(32, activation=\"relu\")(dropout_layer)\n",
    "    dropout_layer = layers.Dropout(0.1)(Dense_layer_2)\n",
    "    Dense_layer_3 = layers.Dense(2, activation='softmax')(dropout_layer)\n",
    "\n",
    "    model = models.Model(inputs=input_layer, outputs=Dense_layer_3)\n",
    "    model.compile(optimizer=optimizers.Adadelta(lr=0.1), loss='categorical_crossentropy', metrics=['accuracy'])\n",
    "    # model.summary()\n",
    "\n",
    "    return model"
   ]
  },
  {
   "cell_type": "code",
   "execution_count": 89,
   "metadata": {
    "code_folding": [
     3
    ],
    "hidden": true,
    "scrolled": true
   },
   "outputs": [
    {
     "name": "stderr",
     "output_type": "stream",
     "text": [
      "100%|███████████████████████████████████| 1/1 [00:12<00:00, 12.05s/it]\n"
     ]
    }
   ],
   "source": [
    "history_list = []\n",
    "model_list = []\n",
    "\n",
    "for i in tqdm(range(1), ncols=70):\n",
    "    model = full_connect_network(x_abs_train.shape[1])\n",
    "    history = model.fit(x_abs_train, y_category_train, \n",
    "                        validation_split=0.11, \n",
    "                        verbose=0, epochs=100, batch_size=128, shuffle=True,\n",
    "                        callbacks=my_callbacks)\n",
    "    history_list.append(history)\n",
    "    model_list.append(model)"
   ]
  },
  {
   "cell_type": "code",
   "execution_count": 90,
   "metadata": {
    "code_folding": [
     3
    ],
    "hidden": true,
    "scrolled": true
   },
   "outputs": [
    {
     "name": "stderr",
     "output_type": "stream",
     "text": [
      "100%|███████████████████████████████████| 1/1 [00:00<00:00,  3.41it/s]\n"
     ]
    }
   ],
   "source": [
    "metrics_list = []\n",
    "roc_list = []\n",
    "\n",
    "for model in tqdm(model_list, ncols=70):\n",
    "    y_pred = model.predict(x_abs_test, batch_size=128, verbose=0)\n",
    "    y_pred_proba = np.array(y_pred, dtype=float)\n",
    "    y_pred_proba = y_pred_proba[:,1]\n",
    "    fpr, tpr, _  =  roc_curve(y_binary_test, list(y_pred_proba))\n",
    "    roc_list.append(auc(fpr,tpr))\n",
    "\n",
    "    for i in range(len(y_pred)):\n",
    "        max_value=max(y_pred[i])\n",
    "        for j in range(len(y_pred[i])):\n",
    "            if max_value==y_pred[i][j]:\n",
    "                y_pred[i][j]=1\n",
    "            else:\n",
    "                y_pred[i][j]=0\n",
    "    report = classification_report(y_category_test, y_pred, digits=4)\n",
    "    p = re.compile('  |\\n', re.S)\n",
    "    report = p.sub(' ', report)\n",
    "    metrics_content = re.findall(\"([\\d]{1}\\.[\\d]{4})   \"+str(num0), report)\n",
    "    metrics_list.append(metrics_content)"
   ]
  },
  {
   "cell_type": "code",
   "execution_count": 91,
   "metadata": {
    "cell_style": "split",
    "code_folding": [
     0
    ],
    "hidden": true
   },
   "outputs": [
    {
     "name": "stdout",
     "output_type": "stream",
     "text": [
      "acc mean:  0.5150\n",
      "acc max:  0.5150\n",
      "f1 mean:  0.5132\n",
      "f1 max:  0.5132\n",
      "auc mean:  0.5172\n",
      "auc max:  0.5172\n"
     ]
    }
   ],
   "source": [
    "# sum\n",
    "metrics_arrat = np.array(metrics_list,dtype=float)\n",
    "print(\"acc mean:  {:.4f}\".format(np.mean(metrics_arrat[:,0])))\n",
    "print(\"acc max:  {:.4f}\".format(np.max(metrics_arrat[:,0])))\n",
    "\n",
    "print(\"f1 mean:  {:.4f}\".format(np.mean(metrics_arrat[:,1])))\n",
    "print(\"f1 max:  {:.4f}\".format(np.max(metrics_arrat[:,1])))\n",
    "\n",
    "# print(metrics_arrat[:,0].tolist())\n",
    "# print(metrics_arrat[:,1].tolist())\n",
    "# print(metrics_arrat[:,2].tolist())\n",
    "\n",
    "print(\"auc mean:  {:.4f}\".format(np.mean(roc_list)))\n",
    "print(\"auc max:  {:.4f}\".format(np.max(roc_list)))"
   ]
  },
  {
   "cell_type": "code",
   "execution_count": 86,
   "metadata": {
    "cell_style": "split",
    "hidden": true
   },
   "outputs": [
    {
     "name": "stdout",
     "output_type": "stream",
     "text": [
      "              precision    recall  f1-score   support\n",
      "\n",
      "           0     0.5348    0.4493    0.4883      1026\n",
      "           1     0.5035    0.5883    0.5426       974\n",
      "\n",
      "   micro avg     0.5170    0.5170    0.5170      2000\n",
      "   macro avg     0.5192    0.5188    0.5155      2000\n",
      "weighted avg     0.5196    0.5170    0.5148      2000\n",
      " samples avg     0.5170    0.5170    0.5170      2000\n",
      "\n"
     ]
    }
   ],
   "source": [
    "print(classification_report(y_category_test, y_pred, digits=4))"
   ]
  },
  {
   "cell_type": "code",
   "execution_count": 92,
   "metadata": {
    "cell_style": "split",
    "hidden": true
   },
   "outputs": [
    {
     "data": {
      "image/png": "[encoded data removed]",
      "text/plain": [
       "<Figure size 864x360 with 2 Axes>"
      ]
     },
     "metadata": {
      "needs_background": "light"
     },
     "output_type": "display_data"
    }
   ],
   "source": [
    "plot_history(history_list[0])"
   ]
  },
  {
   "cell_type": "markdown",
   "metadata": {
    "heading_collapsed": true
   },
   "source": [
    "## claims"
   ]
  },
  {
   "cell_type": "code",
   "execution_count": 99,
   "metadata": {
    "code_folding": [],
    "hidden": true
   },
   "outputs": [],
   "source": [
    "def full_connect_network(n_cols):\n",
    "    # Add an Input Layer\n",
    "    input_layer = layers.Input((n_cols, ))\n",
    "\n",
    "    Dense_layer_1 = layers.Dense(72, activation=\"tanh\")(input_layer)\n",
    "    dropout_layer = layers.Dropout(0.9)(Dense_layer_1)\n",
    "    Dense_layer_2 = layers.Dense(32, activation=\"tanh\")(dropout_layer)\n",
    "    dropout_layer = layers.Dropout(0.9)(Dense_layer_2)\n",
    "    Dense_layer_3 = layers.Dense(2, activation='softmax')(dropout_layer)\n",
    "\n",
    "    model = models.Model(inputs=input_layer, outputs=Dense_layer_3)\n",
    "    model.compile(optimizer=optimizers.Adadelta(lr=0.1), loss='categorical_crossentropy', metrics=['accuracy'])\n",
    "    # model.summary()\n",
    "\n",
    "    return model"
   ]
  },
  {
   "cell_type": "code",
   "execution_count": 100,
   "metadata": {
    "code_folding": [
     3
    ],
    "hidden": true
   },
   "outputs": [
    {
     "name": "stderr",
     "output_type": "stream",
     "text": [
      "100%|███████████████████████████████████| 1/1 [00:17<00:00, 17.98s/it]\n"
     ]
    }
   ],
   "source": [
    "history_list = []\n",
    "model_list = []\n",
    "\n",
    "for i in tqdm(range(1), ncols=70):\n",
    "    model = full_connect_network(x_claims_train.shape[1])\n",
    "    history = model.fit(x_claims_train, y_category_train, \n",
    "                        validation_split=0.11, \n",
    "                        verbose=0, epochs=100, batch_size=128, shuffle=True,\n",
    "                        callbacks=my_callbacks)\n",
    "    history_list.append(history)\n",
    "    model_list.append(model)"
   ]
  },
  {
   "cell_type": "code",
   "execution_count": 101,
   "metadata": {
    "code_folding": [
     3
    ],
    "hidden": true
   },
   "outputs": [
    {
     "name": "stderr",
     "output_type": "stream",
     "text": [
      "100%|███████████████████████████████████| 1/1 [00:00<00:00,  2.57it/s]\n"
     ]
    }
   ],
   "source": [
    "metrics_list = []\n",
    "roc_list = []\n",
    "\n",
    "for model in tqdm(model_list, ncols=70):\n",
    "    y_pred = model.predict(x_claims_test, batch_size=128, verbose=0)\n",
    "    y_pred_proba = np.array(y_pred, dtype=float)\n",
    "    y_pred_proba = y_pred_proba[:,1]\n",
    "    fpr, tpr, _  =  roc_curve(y_binary_test, list(y_pred_proba))\n",
    "    roc_list.append(auc(fpr,tpr))\n",
    "\n",
    "    for i in range(len(y_pred)):\n",
    "        max_value=max(y_pred[i])\n",
    "        for j in range(len(y_pred[i])):\n",
    "            if max_value==y_pred[i][j]:\n",
    "                y_pred[i][j]=1\n",
    "            else:\n",
    "                y_pred[i][j]=0\n",
    "    report = classification_report(y_category_test, y_pred, digits=4)\n",
    "    p = re.compile('  |\\n', re.S)\n",
    "    report = p.sub(' ', report)\n",
    "    metrics_content = re.findall(\"([\\d]{1}\\.[\\d]{4})   \"+str(num0), report)\n",
    "    metrics_list.append(metrics_content)"
   ]
  },
  {
   "cell_type": "code",
   "execution_count": 102,
   "metadata": {
    "cell_style": "split",
    "code_folding": [
     0
    ],
    "hidden": true
   },
   "outputs": [
    {
     "name": "stdout",
     "output_type": "stream",
     "text": [
      "acc mean:  0.4945\n",
      "acc max:  0.4945\n",
      "f1 mean:  0.4120\n",
      "f1 max:  0.4120\n",
      "auc mean:  0.4981\n",
      "auc max:  0.4981\n"
     ]
    }
   ],
   "source": [
    "# sum\n",
    "metrics_arrat = np.array(metrics_list,dtype=float)\n",
    "print(\"acc mean:  {:.4f}\".format(np.mean(metrics_arrat[:,0])))\n",
    "print(\"acc max:  {:.4f}\".format(np.max(metrics_arrat[:,0])))\n",
    "\n",
    "print(\"f1 mean:  {:.4f}\".format(np.mean(metrics_arrat[:,1])))\n",
    "print(\"f1 max:  {:.4f}\".format(np.max(metrics_arrat[:,1])))\n",
    "\n",
    "# print(metrics_arrat[:,0].tolist())\n",
    "# print(metrics_arrat[:,1].tolist())\n",
    "# print(metrics_arrat[:,2].tolist())\n",
    "\n",
    "print(\"auc mean:  {:.4f}\".format(np.mean(roc_list)))\n",
    "print(\"auc max:  {:.4f}\".format(np.max(roc_list)))"
   ]
  },
  {
   "cell_type": "code",
   "execution_count": 103,
   "metadata": {
    "cell_style": "split",
    "hidden": true
   },
   "outputs": [
    {
     "name": "stdout",
     "output_type": "stream",
     "text": [
      "              precision    recall  f1-score   support\n",
      "\n",
      "           0     0.5333    0.1170    0.1918      1026\n",
      "           1     0.4896    0.8922    0.6322       974\n",
      "\n",
      "   micro avg     0.4945    0.4945    0.4945      2000\n",
      "   macro avg     0.5115    0.5046    0.4120      2000\n",
      "weighted avg     0.5120    0.4945    0.4063      2000\n",
      " samples avg     0.4945    0.4945    0.4945      2000\n",
      "\n"
     ]
    }
   ],
   "source": [
    "print(classification_report(y_category_test, y_pred, digits=4))"
   ]
  },
  {
   "cell_type": "code",
   "execution_count": 104,
   "metadata": {
    "cell_style": "split",
    "hidden": true
   },
   "outputs": [
    {
     "data": {
      "image/png": "[encoded data removed]",
      "text/plain": [
       "<Figure size 864x360 with 2 Axes>"
      ]
     },
     "metadata": {
      "needs_background": "light"
     },
     "output_type": "display_data"
    }
   ],
   "source": [
    "plot_history(history_list[0])"
   ]
  },
  {
   "cell_type": "markdown",
   "metadata": {},
   "source": [
    "## text sum"
   ]
  },
  {
   "cell_type": "code",
   "execution_count": 181,
   "metadata": {
    "code_folding": []
   },
   "outputs": [],
   "source": [
    "def full_connect_network(n_cols):\n",
    "    # Add an Input Layer\n",
    "    input_layer = layers.Input((n_cols, ))\n",
    "\n",
    "    Dense_layer_1 = layers.Dense(148, activation=\"tanh\")(input_layer)\n",
    "    normalize_layer = layers.BatchNormalization(momentum=0.8, epsilon=1e-06)(Dense_layer_1)\n",
    "    dropout_layer = layers.Dropout(0.6)(normalize_layer)\n",
    "    Dense_layer_2 = layers.Dense(36, activation=\"tanh\")(dropout_layer)\n",
    "    dropout_layer = layers.Dropout(0.6)(Dense_layer_2)\n",
    "    Dense_layer_3 = layers.Dense(2, activation='softmax')(dropout_layer)\n",
    "\n",
    "    model = models.Model(inputs=input_layer, outputs=Dense_layer_3)\n",
    "    model.compile(optimizer=optimizers.Adadelta(lr=0.1), loss='categorical_crossentropy', metrics=['accuracy'])\n",
    "    # model.summary()\n",
    "\n",
    "    return model"
   ]
  },
  {
   "cell_type": "code",
   "execution_count": 182,
   "metadata": {
    "code_folding": [
     3
    ]
   },
   "outputs": [
    {
     "name": "stderr",
     "output_type": "stream",
     "text": [
      "100%|█████████████████████████████████| 10/10 [07:40<00:00, 46.06s/it]\n"
     ]
    }
   ],
   "source": [
    "history_list = []\n",
    "model_list = []\n",
    "\n",
    "for i in tqdm(range(10), ncols=70):\n",
    "    model = full_connect_network(x_text_train.shape[1])\n",
    "    history = model.fit(x_text_train, y_category_train, \n",
    "                        validation_split=0.11, \n",
    "                        verbose=0, epochs=100, batch_size=128, shuffle=True,\n",
    "                        callbacks=my_callbacks)\n",
    "    history_list.append(history)\n",
    "    model_list.append(model)"
   ]
  },
  {
   "cell_type": "code",
   "execution_count": 183,
   "metadata": {
    "code_folding": [
     3
    ]
   },
   "outputs": [
    {
     "name": "stderr",
     "output_type": "stream",
     "text": [
      "100%|█████████████████████████████████| 10/10 [00:19<00:00,  1.99s/it]\n"
     ]
    }
   ],
   "source": [
    "metrics_list = []\n",
    "roc_list = []\n",
    "\n",
    "for model in tqdm(model_list, ncols=70):\n",
    "    y_pred = model.predict(x_text_test, batch_size=128, verbose=0)\n",
    "    y_pred_proba = np.array(y_pred, dtype=float)\n",
    "    y_pred_proba = y_pred_proba[:,1]\n",
    "    fpr, tpr, _  =  roc_curve(y_binary_test, list(y_pred_proba))\n",
    "    roc_list.append(auc(fpr,tpr))\n",
    "\n",
    "    for i in range(len(y_pred)):\n",
    "        max_value=max(y_pred[i])\n",
    "        for j in range(len(y_pred[i])):\n",
    "            if max_value==y_pred[i][j]:\n",
    "                y_pred[i][j]=1\n",
    "            else:\n",
    "                y_pred[i][j]=0\n",
    "    report = classification_report(y_category_test, y_pred, digits=4)\n",
    "    p = re.compile('  |\\n', re.S)\n",
    "    report = p.sub(' ', report)\n",
    "    metrics_content = re.findall(\"([\\d]{1}\\.[\\d]{4})   \"+str(num0), report)\n",
    "    metrics_list.append(metrics_content)"
   ]
  },
  {
   "cell_type": "code",
   "execution_count": 184,
   "metadata": {
    "cell_style": "split",
    "code_folding": [
     0
    ],
    "scrolled": true
   },
   "outputs": [
    {
     "name": "stdout",
     "output_type": "stream",
     "text": [
      "acc mean:  0.5212\n",
      "acc max:  0.5320\n",
      "f1 mean:  0.5189\n",
      "f1 max:  0.5308\n",
      "auc mean:  0.5328\n",
      "auc max:  0.5418\n"
     ]
    }
   ],
   "source": [
    "# sum\n",
    "metrics_arrat = np.array(metrics_list,dtype=float)\n",
    "print(\"acc mean:  {:.4f}\".format(np.mean(metrics_arrat[:,0])))\n",
    "print(\"acc max:  {:.4f}\".format(np.max(metrics_arrat[:,0])))\n",
    "\n",
    "print(\"f1 mean:  {:.4f}\".format(np.mean(metrics_arrat[:,1])))\n",
    "print(\"f1 max:  {:.4f}\".format(np.max(metrics_arrat[:,1])))\n",
    "\n",
    "# print(metrics_arrat[:,0].tolist())\n",
    "# print(metrics_arrat[:,1].tolist())\n",
    "# print(metrics_arrat[:,2].tolist())\n",
    "\n",
    "print(\"auc mean:  {:.4f}\".format(np.mean(roc_list)))\n",
    "print(\"auc max:  {:.4f}\".format(np.max(roc_list)))"
   ]
  },
  {
   "cell_type": "code",
   "execution_count": 155,
   "metadata": {
    "cell_style": "split"
   },
   "outputs": [
    {
     "name": "stdout",
     "output_type": "stream",
     "text": [
      "              precision    recall  f1-score   support\n",
      "\n",
      "           0     0.5433    0.5809    0.5615      1026\n",
      "           1     0.5238    0.4856    0.5040       974\n",
      "\n",
      "   micro avg     0.5345    0.5345    0.5345      2000\n",
      "   macro avg     0.5336    0.5333    0.5327      2000\n",
      "weighted avg     0.5338    0.5345    0.5335      2000\n",
      " samples avg     0.5345    0.5345    0.5345      2000\n",
      "\n"
     ]
    }
   ],
   "source": [
    "print(classification_report(y_category_test, y_pred, digits=4))"
   ]
  },
  {
   "cell_type": "code",
   "execution_count": 185,
   "metadata": {
    "cell_style": "split"
   },
   "outputs": [
    {
     "data": {
      "image/png": "[encoded data removed]",
      "text/plain": [
       "<Figure size 864x360 with 2 Axes>"
      ]
     },
     "metadata": {
      "needs_background": "light"
     },
     "output_type": "display_data"
    }
   ],
   "source": [
    "plot_history(history_list[0])"
   ]
  },
  {
   "cell_type": "code",
   "execution_count": null,
   "metadata": {},
   "outputs": [],
   "source": []
  }
 ],
 "metadata": {
  "kernelspec": {
   "display_name": "Python 3",
   "language": "python",
   "name": "python3"
  },
  "language_info": {
   "codemirror_mode": {
    "name": "ipython",
    "version": 3
   },
   "file_extension": ".py",
   "mimetype": "text/x-python",
   "name": "python",
   "nbconvert_exporter": "python",
   "pygments_lexer": "ipython3",
   "version": "3.6.9"
  },
  "toc": {
   "base_numbering": 1,
   "nav_menu": {},
   "number_sections": true,
   "sideBar": true,
   "skip_h1_title": false,
   "title_cell": "Table of Contents",
   "title_sidebar": "Contents",
   "toc_cell": false,
   "toc_position": {
    "height": "calc(100% - 180px)",
    "left": "10px",
    "top": "150px",
    "width": "165px"
   },
   "toc_section_display": true,
   "toc_window_display": true
  },
  "varInspector": {
   "cols": {
    "lenName": 16,
    "lenType": 16,
    "lenVar": 40
   },
   "kernels_config": {
    "python": {
     "delete_cmd_postfix": "",
     "delete_cmd_prefix": "del ",
     "library": "var_list.py",
     "varRefreshCmd": "print(var_dic_list())"
    },
    "r": {
     "delete_cmd_postfix": ") ",
     "delete_cmd_prefix": "rm(",
     "library": "var_list.r",
     "varRefreshCmd": "cat(var_dic_list()) "
    }
   },
   "types_to_exclude": [
    "module",
    "function",
    "builtin_function_or_method",
    "instance",
    "_Feature"
   ],
   "window_display": false
  }
 },
 "nbformat": 4,
 "nbformat_minor": 2
}
